{
 "cells": [
  {
   "cell_type": "markdown",
   "metadata": {},
   "source": [
    "https://www.kaggle.com/sudalairajkumar/simple-exploration-baseline-santander-value\n",
    "\n",
    "https://medium.com/@pushkarmandot/https-medium-com-pushkarmandot-what-is-lightgbm-how-to-implement-it-how-to-fine-tune-the-parameters-60347819b7fc"
   ]
  },
  {
   "cell_type": "code",
   "execution_count": 1,
   "metadata": {},
   "outputs": [],
   "source": [
    "import os\n",
    "import re\n",
    "import pandas as pd\n",
    "import numpy as np\n",
    "from sklearn.model_selection import train_test_split\n",
    "\n",
    "import matplotlib.pyplot as plt\n",
    "import seaborn as sns\n",
    "%matplotlib inline"
   ]
  },
  {
   "cell_type": "code",
   "execution_count": 2,
   "metadata": {},
   "outputs": [],
   "source": [
    "from sklearn.linear_model import LinearRegression\n",
    "from sklearn.ensemble import RandomForestRegressor"
   ]
  },
  {
   "cell_type": "code",
   "execution_count": 29,
   "metadata": {},
   "outputs": [
    {
     "name": "stdout",
     "output_type": "stream",
     "text": [
      "(4459, 4993)\n"
     ]
    }
   ],
   "source": [
    "labeled = pd.read_csv(r'../data/train.csv')\n",
    "print(labeled.shape)"
   ]
  },
  {
   "cell_type": "code",
   "execution_count": 4,
   "metadata": {
    "scrolled": true
   },
   "outputs": [
    {
     "data": {
      "text/plain": [
       "Index(['ID', 'target', '48df886f9', '0deb4b6a8', '34b15f335', 'a8cb14b00',\n",
       "       '2f0771a37', '30347e683', 'd08d1fbe3', '6ee66e115',\n",
       "       ...\n",
       "       '3ecc09859', '9281abeea', '8675bec0b', '3a13ed79a', 'f677d4d13',\n",
       "       '71b203550', '137efaa80', 'fb36b89d9', '7e293fbaf', '9fc776466'],\n",
       "      dtype='object', length=4993)"
      ]
     },
     "execution_count": 4,
     "metadata": {},
     "output_type": "execute_result"
    }
   ],
   "source": [
    "labeled.columns"
   ]
  },
  {
   "cell_type": "markdown",
   "metadata": {},
   "source": [
    "### Take a look at the Y distribution\n",
    "- Might want to take log of right-skewed money values (non-neg; log(Y)~normal => good for linear regression)"
   ]
  },
  {
   "cell_type": "code",
   "execution_count": 5,
   "metadata": {},
   "outputs": [
    {
     "data": {
      "text/plain": [
       "Text(0.5,1,'Target Histogram')"
      ]
     },
     "execution_count": 5,
     "metadata": {},
     "output_type": "execute_result"
    },
    {
     "data": {
      "image/png": "[encoded data removed]",
      "text/plain": [
       "<matplotlib.figure.Figure at 0x1916e64a208>"
      ]
     },
     "metadata": {},
     "output_type": "display_data"
    }
   ],
   "source": [
    "labeled['target'].hist(bins=100)\n",
    "plt.title(\"Target Histogram\")"
   ]
  },
  {
   "cell_type": "code",
   "execution_count": 6,
   "metadata": {},
   "outputs": [
    {
     "data": {
      "text/plain": [
       "Text(0.5,1,'Log Target Histogram')"
      ]
     },
     "execution_count": 6,
     "metadata": {},
     "output_type": "execute_result"
    },
    {
     "data": {
      "image/png": "[encoded data removed]",
      "text/plain": [
       "<matplotlib.figure.Figure at 0x2043b212cf8>"
      ]
     },
     "metadata": {},
     "output_type": "display_data"
    }
   ],
   "source": [
    "labeled['target'].map(np.log).hist(bins=100)\n",
    "plt.title('Log Target Histogram')"
   ]
  },
  {
   "cell_type": "markdown",
   "metadata": {},
   "source": [
    "### Take a look at X\n",
    "- missing values?\n",
    "- data types?\n",
    "- constants?"
   ]
  },
  {
   "cell_type": "code",
   "execution_count": 7,
   "metadata": {},
   "outputs": [
    {
     "data": {
      "text/html": [
       "<div>\n",
       "<style scoped>\n",
       "    .dataframe tbody tr th:only-of-type {\n",
       "        vertical-align: middle;\n",
       "    }\n",
       "\n",
       "    .dataframe tbody tr th {\n",
       "        vertical-align: top;\n",
       "    }\n",
       "\n",
       "    .dataframe thead th {\n",
       "        text-align: right;\n",
       "    }\n",
       "</style>\n",
       "<table border=\"1\" class=\"dataframe\">\n",
       "  <thead>\n",
       "    <tr style=\"text-align: right;\">\n",
       "      <th></th>\n",
       "      <th>col</th>\n",
       "      <th>NAs</th>\n",
       "    </tr>\n",
       "  </thead>\n",
       "  <tbody>\n",
       "  </tbody>\n",
       "</table>\n",
       "</div>"
      ],
      "text/plain": [
       "Empty DataFrame\n",
       "Columns: [col, NAs]\n",
       "Index: []"
      ]
     },
     "execution_count": 7,
     "metadata": {},
     "output_type": "execute_result"
    }
   ],
   "source": [
    "missing_df = labeled.isnull().sum(axis=0).reset_index()\n",
    "missing_df.columns=['col','NAs']\n",
    "missing_df[missing_df.NAs!=0]"
   ]
  },
  {
   "cell_type": "code",
   "execution_count": 8,
   "metadata": {},
   "outputs": [
    {
     "data": {
      "text/html": [
       "<div>\n",
       "<style scoped>\n",
       "    .dataframe tbody tr th:only-of-type {\n",
       "        vertical-align: middle;\n",
       "    }\n",
       "\n",
       "    .dataframe tbody tr th {\n",
       "        vertical-align: top;\n",
       "    }\n",
       "\n",
       "    .dataframe thead th {\n",
       "        text-align: right;\n",
       "    }\n",
       "</style>\n",
       "<table border=\"1\" class=\"dataframe\">\n",
       "  <thead>\n",
       "    <tr style=\"text-align: right;\">\n",
       "      <th></th>\n",
       "      <th>index</th>\n",
       "    </tr>\n",
       "    <tr>\n",
       "      <th>0</th>\n",
       "      <th></th>\n",
       "    </tr>\n",
       "  </thead>\n",
       "  <tbody>\n",
       "    <tr>\n",
       "      <th>int64</th>\n",
       "      <td>3147</td>\n",
       "    </tr>\n",
       "    <tr>\n",
       "      <th>float64</th>\n",
       "      <td>1845</td>\n",
       "    </tr>\n",
       "    <tr>\n",
       "      <th>object</th>\n",
       "      <td>1</td>\n",
       "    </tr>\n",
       "  </tbody>\n",
       "</table>\n",
       "</div>"
      ],
      "text/plain": [
       "         index\n",
       "0             \n",
       "int64     3147\n",
       "float64   1845\n",
       "object       1"
      ]
     },
     "execution_count": 8,
     "metadata": {},
     "output_type": "execute_result"
    }
   ],
   "source": [
    "dtype_df = labeled.dtypes.reset_index()\n",
    "dtype_df.groupby(0).count() # all numeric"
   ]
  },
  {
   "cell_type": "code",
   "execution_count": 6,
   "metadata": {},
   "outputs": [
    {
     "data": {
      "text/plain": [
       "256"
      ]
     },
     "execution_count": 6,
     "metadata": {},
     "output_type": "execute_result"
    }
   ],
   "source": [
    "constant_df = labeled.nunique().reset_index()\n",
    "constant_df.columns = ['col','unique_vals']\n",
    "len(constant_df[constant_df.unique_vals==1])"
   ]
  },
  {
   "cell_type": "code",
   "execution_count": 7,
   "metadata": {},
   "outputs": [
    {
     "data": {
      "text/plain": [
       "256"
      ]
     },
     "execution_count": 7,
     "metadata": {},
     "output_type": "execute_result"
    }
   ],
   "source": [
    "const_col = list(constant_df[constant_df.unique_vals==1].col.values)\n",
    "len(const_col)"
   ]
  },
  {
   "cell_type": "markdown",
   "metadata": {},
   "source": [
    "with open(r'../input/drop_cols.txt',\"w\") as f:\n",
    "    for col in const_col:\n",
    "        f.write(col+\",\")"
   ]
  },
  {
   "cell_type": "code",
   "execution_count": null,
   "metadata": {},
   "outputs": [],
   "source": []
  },
  {
   "cell_type": "markdown",
   "metadata": {},
   "source": [
    "#### Linear model - correlation of features with log(Y)"
   ]
  },
  {
   "cell_type": "code",
   "execution_count": 30,
   "metadata": {},
   "outputs": [
    {
     "name": "stdout",
     "output_type": "stream",
     "text": [
      "(4459, 4737)\n"
     ]
    }
   ],
   "source": [
    "labeled.drop(labels=const_col,axis=1,inplace=True)\n",
    "print(labeled.shape)"
   ]
  },
  {
   "cell_type": "code",
   "execution_count": 40,
   "metadata": {},
   "outputs": [
    {
     "name": "stdout",
     "output_type": "stream",
     "text": [
      "0.010188021496986742\n",
      "-0.093486991854408\n"
     ]
    }
   ],
   "source": [
    "print(labeled[['target','48df886f9']].corr().values[0,1])\n",
    "print(np.log(labeled[['target','48df886f9']]+1).corr().values[0,1])"
   ]
  },
  {
   "cell_type": "code",
   "execution_count": 32,
   "metadata": {},
   "outputs": [
    {
     "name": "stdout",
     "output_type": "stream",
     "text": [
      "Wall time: 8.85 s\n"
     ]
    }
   ],
   "source": [
    "%%time\n",
    "feature_dict={}\n",
    "for feature in labeled.columns[2:]:\n",
    "    feature_dict[feature] = [labeled[['target',feature]].corr().values[0,1],\n",
    "                             np.log(labeled[['target',feature]]+1).corr().values[0,1]]"
   ]
  },
  {
   "cell_type": "code",
   "execution_count": 33,
   "metadata": {},
   "outputs": [],
   "source": [
    "feat_corr_df = pd.DataFrame.from_dict(feature_dict, orient='index').reset_index()\n",
    "feat_corr_df.columns = ['feat','corr','corr_log']\n",
    "feat_corr_df['corr_abs'] = feat_corr_df['corr'].map(np.abs)\n",
    "feat_corr_df['corr_log_abs'] = feat_corr_df['corr_log'].map(np.abs)"
   ]
  },
  {
   "cell_type": "code",
   "execution_count": 35,
   "metadata": {},
   "outputs": [
    {
     "data": {
      "text/html": [
       "<div>\n",
       "<style scoped>\n",
       "    .dataframe tbody tr th:only-of-type {\n",
       "        vertical-align: middle;\n",
       "    }\n",
       "\n",
       "    .dataframe tbody tr th {\n",
       "        vertical-align: top;\n",
       "    }\n",
       "\n",
       "    .dataframe thead th {\n",
       "        text-align: right;\n",
       "    }\n",
       "</style>\n",
       "<table border=\"1\" class=\"dataframe\">\n",
       "  <thead>\n",
       "    <tr style=\"text-align: right;\">\n",
       "      <th></th>\n",
       "      <th>feat</th>\n",
       "      <th>corr</th>\n",
       "      <th>corr_log</th>\n",
       "      <th>corr_abs</th>\n",
       "      <th>corr_log_abs</th>\n",
       "    </tr>\n",
       "  </thead>\n",
       "  <tbody>\n",
       "    <tr>\n",
       "      <th>4476</th>\n",
       "      <td>555f18bd3</td>\n",
       "      <td>0.273379</td>\n",
       "      <td>0.080247</td>\n",
       "      <td>0.273379</td>\n",
       "      <td>0.080247</td>\n",
       "    </tr>\n",
       "    <tr>\n",
       "      <th>2617</th>\n",
       "      <td>9fd594eec</td>\n",
       "      <td>0.270019</td>\n",
       "      <td>0.070267</td>\n",
       "      <td>0.270019</td>\n",
       "      <td>0.070267</td>\n",
       "    </tr>\n",
       "    <tr>\n",
       "      <th>2342</th>\n",
       "      <td>5bc7ab64f</td>\n",
       "      <td>0.267858</td>\n",
       "      <td>0.058510</td>\n",
       "      <td>0.267858</td>\n",
       "      <td>0.058510</td>\n",
       "    </tr>\n",
       "    <tr>\n",
       "      <th>3337</th>\n",
       "      <td>cbbc9c431</td>\n",
       "      <td>0.265005</td>\n",
       "      <td>0.065838</td>\n",
       "      <td>0.265005</td>\n",
       "      <td>0.065838</td>\n",
       "    </tr>\n",
       "    <tr>\n",
       "      <th>4135</th>\n",
       "      <td>f190486d6</td>\n",
       "      <td>0.263821</td>\n",
       "      <td>0.087129</td>\n",
       "      <td>0.263821</td>\n",
       "      <td>0.087129</td>\n",
       "    </tr>\n",
       "    <tr>\n",
       "      <th>4707</th>\n",
       "      <td>6b119d8ce</td>\n",
       "      <td>0.258290</td>\n",
       "      <td>0.049317</td>\n",
       "      <td>0.258290</td>\n",
       "      <td>0.049317</td>\n",
       "    </tr>\n",
       "    <tr>\n",
       "      <th>4190</th>\n",
       "      <td>f74e8f13d</td>\n",
       "      <td>0.257238</td>\n",
       "      <td>0.001771</td>\n",
       "      <td>0.257238</td>\n",
       "      <td>0.001771</td>\n",
       "    </tr>\n",
       "    <tr>\n",
       "      <th>570</th>\n",
       "      <td>ac30af84a</td>\n",
       "      <td>0.256292</td>\n",
       "      <td>0.069327</td>\n",
       "      <td>0.256292</td>\n",
       "      <td>0.069327</td>\n",
       "    </tr>\n",
       "    <tr>\n",
       "      <th>537</th>\n",
       "      <td>26fc93eb7</td>\n",
       "      <td>0.255186</td>\n",
       "      <td>0.019419</td>\n",
       "      <td>0.255186</td>\n",
       "      <td>0.019419</td>\n",
       "    </tr>\n",
       "    <tr>\n",
       "      <th>2378</th>\n",
       "      <td>58e2e02e6</td>\n",
       "      <td>0.254984</td>\n",
       "      <td>0.075589</td>\n",
       "      <td>0.254984</td>\n",
       "      <td>0.075589</td>\n",
       "    </tr>\n",
       "    <tr>\n",
       "      <th>4163</th>\n",
       "      <td>429687d5a</td>\n",
       "      <td>0.254169</td>\n",
       "      <td>0.057742</td>\n",
       "      <td>0.254169</td>\n",
       "      <td>0.057742</td>\n",
       "    </tr>\n",
       "    <tr>\n",
       "      <th>3706</th>\n",
       "      <td>e8d9394a0</td>\n",
       "      <td>0.253266</td>\n",
       "      <td>0.067792</td>\n",
       "      <td>0.253266</td>\n",
       "      <td>0.067792</td>\n",
       "    </tr>\n",
       "    <tr>\n",
       "      <th>834</th>\n",
       "      <td>6eef030c1</td>\n",
       "      <td>0.252917</td>\n",
       "      <td>0.052829</td>\n",
       "      <td>0.252917</td>\n",
       "      <td>0.052829</td>\n",
       "    </tr>\n",
       "    <tr>\n",
       "      <th>1240</th>\n",
       "      <td>f3cf9341c</td>\n",
       "      <td>0.252583</td>\n",
       "      <td>0.088785</td>\n",
       "      <td>0.252583</td>\n",
       "      <td>0.088785</td>\n",
       "    </tr>\n",
       "    <tr>\n",
       "      <th>1228</th>\n",
       "      <td>e4159c59e</td>\n",
       "      <td>0.252386</td>\n",
       "      <td>0.076395</td>\n",
       "      <td>0.252386</td>\n",
       "      <td>0.076395</td>\n",
       "    </tr>\n",
       "    <tr>\n",
       "      <th>3024</th>\n",
       "      <td>ba4ceabc5</td>\n",
       "      <td>0.252356</td>\n",
       "      <td>0.079590</td>\n",
       "      <td>0.252356</td>\n",
       "      <td>0.079590</td>\n",
       "    </tr>\n",
       "    <tr>\n",
       "      <th>1495</th>\n",
       "      <td>51707c671</td>\n",
       "      <td>0.251966</td>\n",
       "      <td>0.066257</td>\n",
       "      <td>0.251966</td>\n",
       "      <td>0.066257</td>\n",
       "    </tr>\n",
       "    <tr>\n",
       "      <th>4348</th>\n",
       "      <td>1702b5bf0</td>\n",
       "      <td>0.251361</td>\n",
       "      <td>0.030790</td>\n",
       "      <td>0.251361</td>\n",
       "      <td>0.030790</td>\n",
       "    </tr>\n",
       "    <tr>\n",
       "      <th>1261</th>\n",
       "      <td>38e6f8d32</td>\n",
       "      <td>0.251044</td>\n",
       "      <td>0.074436</td>\n",
       "      <td>0.251044</td>\n",
       "      <td>0.074436</td>\n",
       "    </tr>\n",
       "    <tr>\n",
       "      <th>2717</th>\n",
       "      <td>f296082ec</td>\n",
       "      <td>0.250598</td>\n",
       "      <td>0.060510</td>\n",
       "      <td>0.250598</td>\n",
       "      <td>0.060510</td>\n",
       "    </tr>\n",
       "  </tbody>\n",
       "</table>\n",
       "</div>"
      ],
      "text/plain": [
       "           feat      corr  corr_log  corr_abs  corr_log_abs\n",
       "4476  555f18bd3  0.273379  0.080247  0.273379      0.080247\n",
       "2617  9fd594eec  0.270019  0.070267  0.270019      0.070267\n",
       "2342  5bc7ab64f  0.267858  0.058510  0.267858      0.058510\n",
       "3337  cbbc9c431  0.265005  0.065838  0.265005      0.065838\n",
       "4135  f190486d6  0.263821  0.087129  0.263821      0.087129\n",
       "4707  6b119d8ce  0.258290  0.049317  0.258290      0.049317\n",
       "4190  f74e8f13d  0.257238  0.001771  0.257238      0.001771\n",
       "570   ac30af84a  0.256292  0.069327  0.256292      0.069327\n",
       "537   26fc93eb7  0.255186  0.019419  0.255186      0.019419\n",
       "2378  58e2e02e6  0.254984  0.075589  0.254984      0.075589\n",
       "4163  429687d5a  0.254169  0.057742  0.254169      0.057742\n",
       "3706  e8d9394a0  0.253266  0.067792  0.253266      0.067792\n",
       "834   6eef030c1  0.252917  0.052829  0.252917      0.052829\n",
       "1240  f3cf9341c  0.252583  0.088785  0.252583      0.088785\n",
       "1228  e4159c59e  0.252386  0.076395  0.252386      0.076395\n",
       "3024  ba4ceabc5  0.252356  0.079590  0.252356      0.079590\n",
       "1495  51707c671  0.251966  0.066257  0.251966      0.066257\n",
       "4348  1702b5bf0  0.251361  0.030790  0.251361      0.030790\n",
       "1261  38e6f8d32  0.251044  0.074436  0.251044      0.074436\n",
       "2717  f296082ec  0.250598  0.060510  0.250598      0.060510"
      ]
     },
     "execution_count": 35,
     "metadata": {},
     "output_type": "execute_result"
    }
   ],
   "source": [
    "feat_corr_df.sort_values('corr_abs',ascending=False)[:20]"
   ]
  },
  {
   "cell_type": "code",
   "execution_count": 14,
   "metadata": {},
   "outputs": [
    {
     "data": {
      "text/plain": [
       "<matplotlib.axes._subplots.AxesSubplot at 0x1916eb9a0b8>"
      ]
     },
     "execution_count": 14,
     "metadata": {},
     "output_type": "execute_result"
    },
    {
     "data": {
      "image/png": "[encoded data removed]",
      "text/plain": [
       "<matplotlib.figure.Figure at 0x1916eb1e0b8>"
      ]
     },
     "metadata": {},
     "output_type": "display_data"
    }
   ],
   "source": [
    "labeled['555f18bd3'].hist(bins=100)"
   ]
  },
  {
   "cell_type": "code",
   "execution_count": 15,
   "metadata": {},
   "outputs": [
    {
     "data": {
      "text/plain": [
       "324"
      ]
     },
     "execution_count": 15,
     "metadata": {},
     "output_type": "execute_result"
    }
   ],
   "source": [
    "(labeled['555f18bd3']!=0).sum() # ok, very sparse"
   ]
  },
  {
   "cell_type": "code",
   "execution_count": 16,
   "metadata": {},
   "outputs": [
    {
     "name": "stdout",
     "output_type": "stream",
     "text": [
      "Wall time: 1.35 s\n"
     ]
    }
   ],
   "source": [
    "%%time\n",
    "feature_sparse_dict={}\n",
    "for feature in labeled.columns[2:]:\n",
    "    feature_sparse_dict[feature] = (labeled[feature]!=0).sum()"
   ]
  },
  {
   "cell_type": "code",
   "execution_count": 36,
   "metadata": {},
   "outputs": [
    {
     "name": "stdout",
     "output_type": "stream",
     "text": [
      "count    4736.000000\n",
      "mean      148.768581\n",
      "std       225.664966\n",
      "min         1.000000\n",
      "25%        15.000000\n",
      "50%        70.500000\n",
      "75%       180.000000\n",
      "max      4459.000000\n",
      "Name: values, dtype: float64\n"
     ]
    },
    {
     "data": {
      "text/html": [
       "<div>\n",
       "<style scoped>\n",
       "    .dataframe tbody tr th:only-of-type {\n",
       "        vertical-align: middle;\n",
       "    }\n",
       "\n",
       "    .dataframe tbody tr th {\n",
       "        vertical-align: top;\n",
       "    }\n",
       "\n",
       "    .dataframe thead th {\n",
       "        text-align: right;\n",
       "    }\n",
       "</style>\n",
       "<table border=\"1\" class=\"dataframe\">\n",
       "  <thead>\n",
       "    <tr style=\"text-align: right;\">\n",
       "      <th></th>\n",
       "      <th>feat</th>\n",
       "      <th>values</th>\n",
       "    </tr>\n",
       "  </thead>\n",
       "  <tbody>\n",
       "    <tr>\n",
       "      <th>4735</th>\n",
       "      <td>log_target</td>\n",
       "      <td>4459</td>\n",
       "    </tr>\n",
       "    <tr>\n",
       "      <th>1953</th>\n",
       "      <td>0ff32eb98</td>\n",
       "      <td>1565</td>\n",
       "    </tr>\n",
       "    <tr>\n",
       "      <th>4321</th>\n",
       "      <td>c5a231d81</td>\n",
       "      <td>1565</td>\n",
       "    </tr>\n",
       "    <tr>\n",
       "      <th>2934</th>\n",
       "      <td>91f701ba2</td>\n",
       "      <td>1560</td>\n",
       "    </tr>\n",
       "    <tr>\n",
       "      <th>4513</th>\n",
       "      <td>c47340d97</td>\n",
       "      <td>1555</td>\n",
       "    </tr>\n",
       "  </tbody>\n",
       "</table>\n",
       "</div>"
      ],
      "text/plain": [
       "            feat  values\n",
       "4735  log_target    4459\n",
       "1953   0ff32eb98    1565\n",
       "4321   c5a231d81    1565\n",
       "2934   91f701ba2    1560\n",
       "4513   c47340d97    1555"
      ]
     },
     "execution_count": 36,
     "metadata": {},
     "output_type": "execute_result"
    }
   ],
   "source": [
    "feat_sparse_df = pd.DataFrame.from_dict(feature_sparse_dict,orient='index').reset_index()\n",
    "feat_sparse_df.columns = ['feat','values']\n",
    "print(feat_sparse_df['values'].describe())\n",
    "feat_sparse_df.sort_values('values',ascending=False)[:5]"
   ]
  },
  {
   "cell_type": "code",
   "execution_count": 38,
   "metadata": {},
   "outputs": [
    {
     "name": "stdout",
     "output_type": "stream",
     "text": [
      "(4735, 6)\n"
     ]
    },
    {
     "data": {
      "text/html": [
       "<div>\n",
       "<style scoped>\n",
       "    .dataframe tbody tr th:only-of-type {\n",
       "        vertical-align: middle;\n",
       "    }\n",
       "\n",
       "    .dataframe tbody tr th {\n",
       "        vertical-align: top;\n",
       "    }\n",
       "\n",
       "    .dataframe thead th {\n",
       "        text-align: right;\n",
       "    }\n",
       "</style>\n",
       "<table border=\"1\" class=\"dataframe\">\n",
       "  <thead>\n",
       "    <tr style=\"text-align: right;\">\n",
       "      <th></th>\n",
       "      <th>feat</th>\n",
       "      <th>corr</th>\n",
       "      <th>corr_log</th>\n",
       "      <th>corr_abs</th>\n",
       "      <th>corr_log_abs</th>\n",
       "      <th>values</th>\n",
       "    </tr>\n",
       "  </thead>\n",
       "  <tbody>\n",
       "    <tr>\n",
       "      <th>0</th>\n",
       "      <td>48df886f9</td>\n",
       "      <td>0.010188</td>\n",
       "      <td>-0.093487</td>\n",
       "      <td>0.010188</td>\n",
       "      <td>0.093487</td>\n",
       "      <td>39</td>\n",
       "    </tr>\n",
       "    <tr>\n",
       "      <th>1</th>\n",
       "      <td>0deb4b6a8</td>\n",
       "      <td>0.013805</td>\n",
       "      <td>0.014360</td>\n",
       "      <td>0.013805</td>\n",
       "      <td>0.014360</td>\n",
       "      <td>4</td>\n",
       "    </tr>\n",
       "    <tr>\n",
       "      <th>2</th>\n",
       "      <td>34b15f335</td>\n",
       "      <td>0.014694</td>\n",
       "      <td>0.006627</td>\n",
       "      <td>0.014694</td>\n",
       "      <td>0.006627</td>\n",
       "      <td>33</td>\n",
       "    </tr>\n",
       "  </tbody>\n",
       "</table>\n",
       "</div>"
      ],
      "text/plain": [
       "        feat      corr  corr_log  corr_abs  corr_log_abs  values\n",
       "0  48df886f9  0.010188 -0.093487  0.010188      0.093487      39\n",
       "1  0deb4b6a8  0.013805  0.014360  0.013805      0.014360       4\n",
       "2  34b15f335  0.014694  0.006627  0.014694      0.006627      33"
      ]
     },
     "execution_count": 38,
     "metadata": {},
     "output_type": "execute_result"
    }
   ],
   "source": [
    "feats = pd.merge(feat_corr_df, feat_sparse_df,how='inner',on='feat')\n",
    "print(feats.shape)\n",
    "feats[:3]"
   ]
  },
  {
   "cell_type": "code",
   "execution_count": 59,
   "metadata": {},
   "outputs": [],
   "source": [
    "feats.to_csv(r'../input/feat_corr_sparse.txt',index=False) # write out for future use"
   ]
  },
  {
   "cell_type": "code",
   "execution_count": 48,
   "metadata": {},
   "outputs": [
    {
     "data": {
      "text/html": [
       "<div>\n",
       "<style scoped>\n",
       "    .dataframe tbody tr th:only-of-type {\n",
       "        vertical-align: middle;\n",
       "    }\n",
       "\n",
       "    .dataframe tbody tr th {\n",
       "        vertical-align: top;\n",
       "    }\n",
       "\n",
       "    .dataframe thead th {\n",
       "        text-align: right;\n",
       "    }\n",
       "</style>\n",
       "<table border=\"1\" class=\"dataframe\">\n",
       "  <thead>\n",
       "    <tr style=\"text-align: right;\">\n",
       "      <th></th>\n",
       "      <th>feat</th>\n",
       "      <th>corr</th>\n",
       "      <th>corr_log</th>\n",
       "      <th>corr_abs</th>\n",
       "      <th>corr_log_abs</th>\n",
       "      <th>values</th>\n",
       "    </tr>\n",
       "  </thead>\n",
       "  <tbody>\n",
       "    <tr>\n",
       "      <th>282</th>\n",
       "      <td>63c094ba4</td>\n",
       "      <td>0.160249</td>\n",
       "      <td>0.087973</td>\n",
       "      <td>0.160249</td>\n",
       "      <td>0.087973</td>\n",
       "      <td>742</td>\n",
       "    </tr>\n",
       "    <tr>\n",
       "      <th>4135</th>\n",
       "      <td>f190486d6</td>\n",
       "      <td>0.263821</td>\n",
       "      <td>0.087129</td>\n",
       "      <td>0.263821</td>\n",
       "      <td>0.087129</td>\n",
       "      <td>1544</td>\n",
       "    </tr>\n",
       "    <tr>\n",
       "      <th>1008</th>\n",
       "      <td>1c71183bb</td>\n",
       "      <td>0.231546</td>\n",
       "      <td>0.084806</td>\n",
       "      <td>0.231546</td>\n",
       "      <td>0.084806</td>\n",
       "      <td>721</td>\n",
       "    </tr>\n",
       "    <tr>\n",
       "      <th>4327</th>\n",
       "      <td>0d51722ca</td>\n",
       "      <td>0.173851</td>\n",
       "      <td>0.084297</td>\n",
       "      <td>0.173851</td>\n",
       "      <td>0.084297</td>\n",
       "      <td>764</td>\n",
       "    </tr>\n",
       "    <tr>\n",
       "      <th>34</th>\n",
       "      <td>87ffda550</td>\n",
       "      <td>0.175618</td>\n",
       "      <td>0.083497</td>\n",
       "      <td>0.175618</td>\n",
       "      <td>0.083497</td>\n",
       "      <td>754</td>\n",
       "    </tr>\n",
       "    <tr>\n",
       "      <th>440</th>\n",
       "      <td>e078302ef</td>\n",
       "      <td>0.182266</td>\n",
       "      <td>0.082101</td>\n",
       "      <td>0.182266</td>\n",
       "      <td>0.082101</td>\n",
       "      <td>739</td>\n",
       "    </tr>\n",
       "    <tr>\n",
       "      <th>3334</th>\n",
       "      <td>122c135ed</td>\n",
       "      <td>0.201425</td>\n",
       "      <td>0.080153</td>\n",
       "      <td>0.201425</td>\n",
       "      <td>0.080153</td>\n",
       "      <td>790</td>\n",
       "    </tr>\n",
       "    <tr>\n",
       "      <th>871</th>\n",
       "      <td>83c3779bf</td>\n",
       "      <td>0.064078</td>\n",
       "      <td>-0.078681</td>\n",
       "      <td>0.064078</td>\n",
       "      <td>0.078681</td>\n",
       "      <td>664</td>\n",
       "    </tr>\n",
       "    <tr>\n",
       "      <th>2750</th>\n",
       "      <td>d5fa73ead</td>\n",
       "      <td>0.164278</td>\n",
       "      <td>0.077762</td>\n",
       "      <td>0.164278</td>\n",
       "      <td>0.077762</td>\n",
       "      <td>719</td>\n",
       "    </tr>\n",
       "    <tr>\n",
       "      <th>2378</th>\n",
       "      <td>58e2e02e6</td>\n",
       "      <td>0.254984</td>\n",
       "      <td>0.075589</td>\n",
       "      <td>0.254984</td>\n",
       "      <td>0.075589</td>\n",
       "      <td>1513</td>\n",
       "    </tr>\n",
       "    <tr>\n",
       "      <th>3029</th>\n",
       "      <td>2e103d632</td>\n",
       "      <td>0.171987</td>\n",
       "      <td>0.073251</td>\n",
       "      <td>0.171987</td>\n",
       "      <td>0.073251</td>\n",
       "      <td>738</td>\n",
       "    </tr>\n",
       "    <tr>\n",
       "      <th>2617</th>\n",
       "      <td>9fd594eec</td>\n",
       "      <td>0.270019</td>\n",
       "      <td>0.070267</td>\n",
       "      <td>0.270019</td>\n",
       "      <td>0.070267</td>\n",
       "      <td>1520</td>\n",
       "    </tr>\n",
       "    <tr>\n",
       "      <th>291</th>\n",
       "      <td>342e7eb03</td>\n",
       "      <td>0.089293</td>\n",
       "      <td>-0.067485</td>\n",
       "      <td>0.089293</td>\n",
       "      <td>0.067485</td>\n",
       "      <td>712</td>\n",
       "    </tr>\n",
       "    <tr>\n",
       "      <th>1745</th>\n",
       "      <td>44d5b820f</td>\n",
       "      <td>0.211103</td>\n",
       "      <td>0.066220</td>\n",
       "      <td>0.211103</td>\n",
       "      <td>0.066220</td>\n",
       "      <td>791</td>\n",
       "    </tr>\n",
       "    <tr>\n",
       "      <th>3782</th>\n",
       "      <td>4bcf15776</td>\n",
       "      <td>0.226408</td>\n",
       "      <td>0.066044</td>\n",
       "      <td>0.226408</td>\n",
       "      <td>0.066044</td>\n",
       "      <td>812</td>\n",
       "    </tr>\n",
       "    <tr>\n",
       "      <th>737</th>\n",
       "      <td>9df4daa99</td>\n",
       "      <td>0.031543</td>\n",
       "      <td>-0.064179</td>\n",
       "      <td>0.031543</td>\n",
       "      <td>0.064179</td>\n",
       "      <td>680</td>\n",
       "    </tr>\n",
       "    <tr>\n",
       "      <th>1930</th>\n",
       "      <td>a459b5f7d</td>\n",
       "      <td>0.148629</td>\n",
       "      <td>0.064094</td>\n",
       "      <td>0.148629</td>\n",
       "      <td>0.064094</td>\n",
       "      <td>548</td>\n",
       "    </tr>\n",
       "    <tr>\n",
       "      <th>3154</th>\n",
       "      <td>f1e0ada11</td>\n",
       "      <td>0.098658</td>\n",
       "      <td>-0.062360</td>\n",
       "      <td>0.098658</td>\n",
       "      <td>0.062360</td>\n",
       "      <td>680</td>\n",
       "    </tr>\n",
       "    <tr>\n",
       "      <th>822</th>\n",
       "      <td>580f5ff06</td>\n",
       "      <td>0.129447</td>\n",
       "      <td>0.061840</td>\n",
       "      <td>0.129447</td>\n",
       "      <td>0.061840</td>\n",
       "      <td>569</td>\n",
       "    </tr>\n",
       "    <tr>\n",
       "      <th>3018</th>\n",
       "      <td>6c5c8869c</td>\n",
       "      <td>0.154422</td>\n",
       "      <td>0.061780</td>\n",
       "      <td>0.154422</td>\n",
       "      <td>0.061780</td>\n",
       "      <td>746</td>\n",
       "    </tr>\n",
       "    <tr>\n",
       "      <th>867</th>\n",
       "      <td>ec4dc7883</td>\n",
       "      <td>0.151655</td>\n",
       "      <td>0.061015</td>\n",
       "      <td>0.151655</td>\n",
       "      <td>0.061015</td>\n",
       "      <td>537</td>\n",
       "    </tr>\n",
       "    <tr>\n",
       "      <th>2094</th>\n",
       "      <td>b7c931383</td>\n",
       "      <td>0.160884</td>\n",
       "      <td>0.060411</td>\n",
       "      <td>0.160884</td>\n",
       "      <td>0.060411</td>\n",
       "      <td>796</td>\n",
       "    </tr>\n",
       "    <tr>\n",
       "      <th>1429</th>\n",
       "      <td>ce3d7595b</td>\n",
       "      <td>0.162250</td>\n",
       "      <td>0.060315</td>\n",
       "      <td>0.162250</td>\n",
       "      <td>0.060315</td>\n",
       "      <td>724</td>\n",
       "    </tr>\n",
       "    <tr>\n",
       "      <th>836</th>\n",
       "      <td>2b2a10857</td>\n",
       "      <td>0.068156</td>\n",
       "      <td>-0.060022</td>\n",
       "      <td>0.068156</td>\n",
       "      <td>0.060022</td>\n",
       "      <td>668</td>\n",
       "    </tr>\n",
       "    <tr>\n",
       "      <th>3352</th>\n",
       "      <td>bf042d928</td>\n",
       "      <td>0.155440</td>\n",
       "      <td>0.059959</td>\n",
       "      <td>0.155440</td>\n",
       "      <td>0.059959</td>\n",
       "      <td>591</td>\n",
       "    </tr>\n",
       "    <tr>\n",
       "      <th>471</th>\n",
       "      <td>8f3740670</td>\n",
       "      <td>0.069910</td>\n",
       "      <td>-0.059808</td>\n",
       "      <td>0.069910</td>\n",
       "      <td>0.059808</td>\n",
       "      <td>696</td>\n",
       "    </tr>\n",
       "    <tr>\n",
       "      <th>2968</th>\n",
       "      <td>ca2b906e8</td>\n",
       "      <td>0.199203</td>\n",
       "      <td>0.058904</td>\n",
       "      <td>0.199203</td>\n",
       "      <td>0.058904</td>\n",
       "      <td>901</td>\n",
       "    </tr>\n",
       "    <tr>\n",
       "      <th>8</th>\n",
       "      <td>20aa07010</td>\n",
       "      <td>0.229035</td>\n",
       "      <td>0.058029</td>\n",
       "      <td>0.229035</td>\n",
       "      <td>0.058029</td>\n",
       "      <td>1494</td>\n",
       "    </tr>\n",
       "    <tr>\n",
       "      <th>4621</th>\n",
       "      <td>a396ceeb9</td>\n",
       "      <td>0.096546</td>\n",
       "      <td>-0.056924</td>\n",
       "      <td>0.096546</td>\n",
       "      <td>0.056924</td>\n",
       "      <td>735</td>\n",
       "    </tr>\n",
       "    <tr>\n",
       "      <th>1045</th>\n",
       "      <td>edc84139a</td>\n",
       "      <td>0.076304</td>\n",
       "      <td>-0.056843</td>\n",
       "      <td>0.076304</td>\n",
       "      <td>0.056843</td>\n",
       "      <td>664</td>\n",
       "    </tr>\n",
       "    <tr>\n",
       "      <th>4397</th>\n",
       "      <td>a09a238d0</td>\n",
       "      <td>0.212113</td>\n",
       "      <td>0.056704</td>\n",
       "      <td>0.212113</td>\n",
       "      <td>0.056704</td>\n",
       "      <td>893</td>\n",
       "    </tr>\n",
       "    <tr>\n",
       "      <th>3055</th>\n",
       "      <td>f97d9431e</td>\n",
       "      <td>0.208191</td>\n",
       "      <td>0.056275</td>\n",
       "      <td>0.208191</td>\n",
       "      <td>0.056275</td>\n",
       "      <td>903</td>\n",
       "    </tr>\n",
       "    <tr>\n",
       "      <th>1648</th>\n",
       "      <td>d428161d9</td>\n",
       "      <td>0.132897</td>\n",
       "      <td>0.056168</td>\n",
       "      <td>0.132897</td>\n",
       "      <td>0.056168</td>\n",
       "      <td>529</td>\n",
       "    </tr>\n",
       "    <tr>\n",
       "      <th>2159</th>\n",
       "      <td>1eec37deb</td>\n",
       "      <td>0.126361</td>\n",
       "      <td>0.055875</td>\n",
       "      <td>0.126361</td>\n",
       "      <td>0.055875</td>\n",
       "      <td>553</td>\n",
       "    </tr>\n",
       "    <tr>\n",
       "      <th>1911</th>\n",
       "      <td>cd24eae8a</td>\n",
       "      <td>0.067365</td>\n",
       "      <td>-0.055630</td>\n",
       "      <td>0.067365</td>\n",
       "      <td>0.055630</td>\n",
       "      <td>705</td>\n",
       "    </tr>\n",
       "    <tr>\n",
       "      <th>2543</th>\n",
       "      <td>a6b6bc34a</td>\n",
       "      <td>0.154963</td>\n",
       "      <td>0.055173</td>\n",
       "      <td>0.154963</td>\n",
       "      <td>0.055173</td>\n",
       "      <td>778</td>\n",
       "    </tr>\n",
       "    <tr>\n",
       "      <th>3930</th>\n",
       "      <td>9de83dc23</td>\n",
       "      <td>0.188717</td>\n",
       "      <td>0.054857</td>\n",
       "      <td>0.188717</td>\n",
       "      <td>0.054857</td>\n",
       "      <td>902</td>\n",
       "    </tr>\n",
       "    <tr>\n",
       "      <th>3630</th>\n",
       "      <td>39b3c553a</td>\n",
       "      <td>0.140820</td>\n",
       "      <td>0.054831</td>\n",
       "      <td>0.140820</td>\n",
       "      <td>0.054831</td>\n",
       "      <td>565</td>\n",
       "    </tr>\n",
       "    <tr>\n",
       "      <th>2506</th>\n",
       "      <td>22c7b00ef</td>\n",
       "      <td>0.129838</td>\n",
       "      <td>0.053789</td>\n",
       "      <td>0.129838</td>\n",
       "      <td>0.053789</td>\n",
       "      <td>538</td>\n",
       "    </tr>\n",
       "    <tr>\n",
       "      <th>2390</th>\n",
       "      <td>1fe5d56b9</td>\n",
       "      <td>0.221714</td>\n",
       "      <td>0.053323</td>\n",
       "      <td>0.221714</td>\n",
       "      <td>0.053323</td>\n",
       "      <td>809</td>\n",
       "    </tr>\n",
       "    <tr>\n",
       "      <th>3854</th>\n",
       "      <td>73687e512</td>\n",
       "      <td>0.090299</td>\n",
       "      <td>-0.053266</td>\n",
       "      <td>0.090299</td>\n",
       "      <td>0.053266</td>\n",
       "      <td>694</td>\n",
       "    </tr>\n",
       "    <tr>\n",
       "      <th>4647</th>\n",
       "      <td>8781e4b91</td>\n",
       "      <td>0.213918</td>\n",
       "      <td>0.053123</td>\n",
       "      <td>0.213918</td>\n",
       "      <td>0.053123</td>\n",
       "      <td>877</td>\n",
       "    </tr>\n",
       "    <tr>\n",
       "      <th>3680</th>\n",
       "      <td>c8d582dd2</td>\n",
       "      <td>0.231585</td>\n",
       "      <td>0.052905</td>\n",
       "      <td>0.231585</td>\n",
       "      <td>0.052905</td>\n",
       "      <td>886</td>\n",
       "    </tr>\n",
       "    <tr>\n",
       "      <th>2010</th>\n",
       "      <td>dfd179071</td>\n",
       "      <td>0.167324</td>\n",
       "      <td>0.052904</td>\n",
       "      <td>0.167324</td>\n",
       "      <td>0.052904</td>\n",
       "      <td>751</td>\n",
       "    </tr>\n",
       "    <tr>\n",
       "      <th>834</th>\n",
       "      <td>6eef030c1</td>\n",
       "      <td>0.252917</td>\n",
       "      <td>0.052829</td>\n",
       "      <td>0.252917</td>\n",
       "      <td>0.052829</td>\n",
       "      <td>1455</td>\n",
       "    </tr>\n",
       "    <tr>\n",
       "      <th>2928</th>\n",
       "      <td>3a48a2cd2</td>\n",
       "      <td>0.071043</td>\n",
       "      <td>-0.052409</td>\n",
       "      <td>0.071043</td>\n",
       "      <td>0.052409</td>\n",
       "      <td>697</td>\n",
       "    </tr>\n",
       "    <tr>\n",
       "      <th>3868</th>\n",
       "      <td>11e12dbe8</td>\n",
       "      <td>0.218591</td>\n",
       "      <td>0.051610</td>\n",
       "      <td>0.218591</td>\n",
       "      <td>0.051610</td>\n",
       "      <td>928</td>\n",
       "    </tr>\n",
       "    <tr>\n",
       "      <th>523</th>\n",
       "      <td>ce8ce671e</td>\n",
       "      <td>0.162877</td>\n",
       "      <td>0.050440</td>\n",
       "      <td>0.162877</td>\n",
       "      <td>0.050440</td>\n",
       "      <td>572</td>\n",
       "    </tr>\n",
       "    <tr>\n",
       "      <th>1604</th>\n",
       "      <td>b4cfe861f</td>\n",
       "      <td>0.157730</td>\n",
       "      <td>0.050328</td>\n",
       "      <td>0.157730</td>\n",
       "      <td>0.050328</td>\n",
       "      <td>794</td>\n",
       "    </tr>\n",
       "  </tbody>\n",
       "</table>\n",
       "</div>"
      ],
      "text/plain": [
       "           feat      corr  corr_log  corr_abs  corr_log_abs  values\n",
       "282   63c094ba4  0.160249  0.087973  0.160249      0.087973     742\n",
       "4135  f190486d6  0.263821  0.087129  0.263821      0.087129    1544\n",
       "1008  1c71183bb  0.231546  0.084806  0.231546      0.084806     721\n",
       "4327  0d51722ca  0.173851  0.084297  0.173851      0.084297     764\n",
       "34    87ffda550  0.175618  0.083497  0.175618      0.083497     754\n",
       "440   e078302ef  0.182266  0.082101  0.182266      0.082101     739\n",
       "3334  122c135ed  0.201425  0.080153  0.201425      0.080153     790\n",
       "871   83c3779bf  0.064078 -0.078681  0.064078      0.078681     664\n",
       "2750  d5fa73ead  0.164278  0.077762  0.164278      0.077762     719\n",
       "2378  58e2e02e6  0.254984  0.075589  0.254984      0.075589    1513\n",
       "3029  2e103d632  0.171987  0.073251  0.171987      0.073251     738\n",
       "2617  9fd594eec  0.270019  0.070267  0.270019      0.070267    1520\n",
       "291   342e7eb03  0.089293 -0.067485  0.089293      0.067485     712\n",
       "1745  44d5b820f  0.211103  0.066220  0.211103      0.066220     791\n",
       "3782  4bcf15776  0.226408  0.066044  0.226408      0.066044     812\n",
       "737   9df4daa99  0.031543 -0.064179  0.031543      0.064179     680\n",
       "1930  a459b5f7d  0.148629  0.064094  0.148629      0.064094     548\n",
       "3154  f1e0ada11  0.098658 -0.062360  0.098658      0.062360     680\n",
       "822   580f5ff06  0.129447  0.061840  0.129447      0.061840     569\n",
       "3018  6c5c8869c  0.154422  0.061780  0.154422      0.061780     746\n",
       "867   ec4dc7883  0.151655  0.061015  0.151655      0.061015     537\n",
       "2094  b7c931383  0.160884  0.060411  0.160884      0.060411     796\n",
       "1429  ce3d7595b  0.162250  0.060315  0.162250      0.060315     724\n",
       "836   2b2a10857  0.068156 -0.060022  0.068156      0.060022     668\n",
       "3352  bf042d928  0.155440  0.059959  0.155440      0.059959     591\n",
       "471   8f3740670  0.069910 -0.059808  0.069910      0.059808     696\n",
       "2968  ca2b906e8  0.199203  0.058904  0.199203      0.058904     901\n",
       "8     20aa07010  0.229035  0.058029  0.229035      0.058029    1494\n",
       "4621  a396ceeb9  0.096546 -0.056924  0.096546      0.056924     735\n",
       "1045  edc84139a  0.076304 -0.056843  0.076304      0.056843     664\n",
       "4397  a09a238d0  0.212113  0.056704  0.212113      0.056704     893\n",
       "3055  f97d9431e  0.208191  0.056275  0.208191      0.056275     903\n",
       "1648  d428161d9  0.132897  0.056168  0.132897      0.056168     529\n",
       "2159  1eec37deb  0.126361  0.055875  0.126361      0.055875     553\n",
       "1911  cd24eae8a  0.067365 -0.055630  0.067365      0.055630     705\n",
       "2543  a6b6bc34a  0.154963  0.055173  0.154963      0.055173     778\n",
       "3930  9de83dc23  0.188717  0.054857  0.188717      0.054857     902\n",
       "3630  39b3c553a  0.140820  0.054831  0.140820      0.054831     565\n",
       "2506  22c7b00ef  0.129838  0.053789  0.129838      0.053789     538\n",
       "2390  1fe5d56b9  0.221714  0.053323  0.221714      0.053323     809\n",
       "3854  73687e512  0.090299 -0.053266  0.090299      0.053266     694\n",
       "4647  8781e4b91  0.213918  0.053123  0.213918      0.053123     877\n",
       "3680  c8d582dd2  0.231585  0.052905  0.231585      0.052905     886\n",
       "2010  dfd179071  0.167324  0.052904  0.167324      0.052904     751\n",
       "834   6eef030c1  0.252917  0.052829  0.252917      0.052829    1455\n",
       "2928  3a48a2cd2  0.071043 -0.052409  0.071043      0.052409     697\n",
       "3868  11e12dbe8  0.218591  0.051610  0.218591      0.051610     928\n",
       "523   ce8ce671e  0.162877  0.050440  0.162877      0.050440     572\n",
       "1604  b4cfe861f  0.157730  0.050328  0.157730      0.050328     794"
      ]
     },
     "execution_count": 48,
     "metadata": {},
     "output_type": "execute_result"
    }
   ],
   "source": [
    "## Take the top non-sparse linear features\n",
    "feats[(feats['values']>500) & (feats.corr_log_abs>=0.05)].sort_values(by='corr_log_abs',ascending=False)"
   ]
  },
  {
   "cell_type": "code",
   "execution_count": 49,
   "metadata": {
    "scrolled": true
   },
   "outputs": [],
   "source": [
    "top_non_sparse_feat = feats[(feats['values']>500) & (feats.corr_log_abs>=0.05)].sort_values(by='corr_log_abs',ascending=False)['feat'].values.tolist()"
   ]
  },
  {
   "cell_type": "code",
   "execution_count": 50,
   "metadata": {},
   "outputs": [],
   "source": [
    "y = labeled['target']\n",
    "X = labeled[top_non_sparse_feat]"
   ]
  },
  {
   "cell_type": "code",
   "execution_count": 51,
   "metadata": {},
   "outputs": [],
   "source": [
    "X_train, X_val, y_train, y_val = train_test_split(np.log(X+1),y,test_size=0.2,random_state=1)"
   ]
  },
  {
   "cell_type": "code",
   "execution_count": 52,
   "metadata": {},
   "outputs": [
    {
     "name": "stdout",
     "output_type": "stream",
     "text": [
      "0.0401816135031704\n"
     ]
    }
   ],
   "source": [
    "ln = LinearRegression()\n",
    "ln.fit(X_train,np.log(y_train))\n",
    "print(ln.score(X_train,np.log(y_train)))\n",
    "y_pred = ln.predict(X_val)"
   ]
  },
  {
   "cell_type": "code",
   "execution_count": 53,
   "metadata": {},
   "outputs": [],
   "source": [
    "y_pred_exp = np.exp(y_pred)"
   ]
  },
  {
   "cell_type": "code",
   "execution_count": 54,
   "metadata": {},
   "outputs": [],
   "source": [
    "def rmsle(pred, val):\n",
    "    return(np.sqrt(((np.log(pred+1) - np.log(val+1))**2).mean()))"
   ]
  },
  {
   "cell_type": "code",
   "execution_count": 55,
   "metadata": {},
   "outputs": [
    {
     "data": {
      "text/plain": [
       "1.6790974650465418"
      ]
     },
     "execution_count": 55,
     "metadata": {},
     "output_type": "execute_result"
    }
   ],
   "source": [
    "rmsle(y_pred_exp,y_val)"
   ]
  },
  {
   "cell_type": "markdown",
   "metadata": {},
   "source": [
    "#### Non-linear feature importance"
   ]
  },
  {
   "cell_type": "code",
   "execution_count": 56,
   "metadata": {},
   "outputs": [
    {
     "data": {
      "text/plain": [
       "4735"
      ]
     },
     "execution_count": 56,
     "metadata": {},
     "output_type": "execute_result"
    }
   ],
   "source": [
    "all_feat = [col for col in labeled.columns if re.search(re.compile(\"target|ID\"),col) is None]\n",
    "len(all_feat)"
   ]
  },
  {
   "cell_type": "code",
   "execution_count": 79,
   "metadata": {},
   "outputs": [],
   "source": [
    "X_train2, X_val2, y_train, y_val = train_test_split(labeled[all_feat],y,test_size=0.2,random_state=1)"
   ]
  },
  {
   "cell_type": "code",
   "execution_count": 91,
   "metadata": {},
   "outputs": [
    {
     "data": {
      "text/plain": [
       "1.5932479411373328"
      ]
     },
     "execution_count": 91,
     "metadata": {},
     "output_type": "execute_result"
    }
   ],
   "source": [
    "rf = RandomForestRegressor(n_estimators=300,max_depth=3,random_state=1)\n",
    "rf.fit(X_train2,np.log(y_train))\n",
    "y_pred2 = rf.predict(X_val2)\n",
    "rmsle(np.exp(y_pred2),y_val)"
   ]
  },
  {
   "cell_type": "code",
   "execution_count": 81,
   "metadata": {},
   "outputs": [],
   "source": [
    "nl_feat = pd.concat([pd.Series(X_train2.columns),pd.Series(rf.feature_importances_)],axis=1).sort_values(by=1,ascending=False)\n",
    "nl_feat.columns = ['feat','rf_imp_score']"
   ]
  },
  {
   "cell_type": "code",
   "execution_count": 82,
   "metadata": {},
   "outputs": [],
   "source": [
    "top_nl_feat = nl_feat.feat[:len(top_non_sparse_feat)]"
   ]
  },
  {
   "cell_type": "code",
   "execution_count": 83,
   "metadata": {},
   "outputs": [
    {
     "data": {
      "text/plain": [
       "49"
      ]
     },
     "execution_count": 83,
     "metadata": {},
     "output_type": "execute_result"
    }
   ],
   "source": [
    "len(top_nl_feat)"
   ]
  },
  {
   "cell_type": "code",
   "execution_count": 84,
   "metadata": {},
   "outputs": [
    {
     "data": {
      "text/plain": [
       "45"
      ]
     },
     "execution_count": 84,
     "metadata": {},
     "output_type": "execute_result"
    }
   ],
   "source": [
    "len(set(top_nl_feat) - set(top_non_sparse_feat)) # 45 non-overlapping"
   ]
  },
  {
   "cell_type": "code",
   "execution_count": 69,
   "metadata": {},
   "outputs": [],
   "source": [
    "nl_feat.to_csv(r\"../input/nln_feat.txt\",index=False)"
   ]
  },
  {
   "cell_type": "code",
   "execution_count": 96,
   "metadata": {},
   "outputs": [],
   "source": [
    "X_train2, X_val2, y_train, y_val = train_test_split(labeled[top_nl_feat],y,test_size=0.2,random_state=1)"
   ]
  },
  {
   "cell_type": "code",
   "execution_count": 97,
   "metadata": {},
   "outputs": [
    {
     "data": {
      "text/plain": [
       "1.5932479411373328"
      ]
     },
     "execution_count": 97,
     "metadata": {},
     "output_type": "execute_result"
    }
   ],
   "source": [
    "rf = RandomForestRegressor(n_estimators=300,max_depth=3,random_state=1)\n",
    "rf.fit(X_train2,np.log(y_train))\n",
    "y_pred2 = rf.predict(X_val2)\n",
    "rmsle(np.exp(y_pred2),y_val)"
   ]
  },
  {
   "cell_type": "markdown",
   "metadata": {},
   "source": [
    "### Apply on test"
   ]
  },
  {
   "cell_type": "code",
   "execution_count": 87,
   "metadata": {},
   "outputs": [
    {
     "name": "stdout",
     "output_type": "stream",
     "text": [
      "(49342, 4992)\n"
     ]
    },
    {
     "data": {
      "text/html": [
       "<div>\n",
       "<style scoped>\n",
       "    .dataframe tbody tr th:only-of-type {\n",
       "        vertical-align: middle;\n",
       "    }\n",
       "\n",
       "    .dataframe tbody tr th {\n",
       "        vertical-align: top;\n",
       "    }\n",
       "\n",
       "    .dataframe thead th {\n",
       "        text-align: right;\n",
       "    }\n",
       "</style>\n",
       "<table border=\"1\" class=\"dataframe\">\n",
       "  <thead>\n",
       "    <tr style=\"text-align: right;\">\n",
       "      <th></th>\n",
       "      <th>ID</th>\n",
       "      <th>48df886f9</th>\n",
       "      <th>0deb4b6a8</th>\n",
       "      <th>34b15f335</th>\n",
       "      <th>a8cb14b00</th>\n",
       "      <th>2f0771a37</th>\n",
       "      <th>30347e683</th>\n",
       "      <th>d08d1fbe3</th>\n",
       "      <th>6ee66e115</th>\n",
       "      <th>20aa07010</th>\n",
       "      <th>...</th>\n",
       "      <th>3ecc09859</th>\n",
       "      <th>9281abeea</th>\n",
       "      <th>8675bec0b</th>\n",
       "      <th>3a13ed79a</th>\n",
       "      <th>f677d4d13</th>\n",
       "      <th>71b203550</th>\n",
       "      <th>137efaa80</th>\n",
       "      <th>fb36b89d9</th>\n",
       "      <th>7e293fbaf</th>\n",
       "      <th>9fc776466</th>\n",
       "    </tr>\n",
       "  </thead>\n",
       "  <tbody>\n",
       "    <tr>\n",
       "      <th>0</th>\n",
       "      <td>000137c73</td>\n",
       "      <td>0.0</td>\n",
       "      <td>0.0</td>\n",
       "      <td>0.0</td>\n",
       "      <td>0.0</td>\n",
       "      <td>0.0</td>\n",
       "      <td>0.0</td>\n",
       "      <td>0.0</td>\n",
       "      <td>0.0</td>\n",
       "      <td>0.0</td>\n",
       "      <td>...</td>\n",
       "      <td>0.0</td>\n",
       "      <td>0.0</td>\n",
       "      <td>0.0</td>\n",
       "      <td>0.0</td>\n",
       "      <td>0.0</td>\n",
       "      <td>0.0</td>\n",
       "      <td>0.0</td>\n",
       "      <td>0.0</td>\n",
       "      <td>0.0</td>\n",
       "      <td>0.0</td>\n",
       "    </tr>\n",
       "    <tr>\n",
       "      <th>1</th>\n",
       "      <td>00021489f</td>\n",
       "      <td>0.0</td>\n",
       "      <td>0.0</td>\n",
       "      <td>0.0</td>\n",
       "      <td>0.0</td>\n",
       "      <td>0.0</td>\n",
       "      <td>0.0</td>\n",
       "      <td>0.0</td>\n",
       "      <td>0.0</td>\n",
       "      <td>0.0</td>\n",
       "      <td>...</td>\n",
       "      <td>0.0</td>\n",
       "      <td>0.0</td>\n",
       "      <td>0.0</td>\n",
       "      <td>0.0</td>\n",
       "      <td>0.0</td>\n",
       "      <td>0.0</td>\n",
       "      <td>0.0</td>\n",
       "      <td>0.0</td>\n",
       "      <td>0.0</td>\n",
       "      <td>0.0</td>\n",
       "    </tr>\n",
       "    <tr>\n",
       "      <th>2</th>\n",
       "      <td>0004d7953</td>\n",
       "      <td>0.0</td>\n",
       "      <td>0.0</td>\n",
       "      <td>0.0</td>\n",
       "      <td>0.0</td>\n",
       "      <td>0.0</td>\n",
       "      <td>0.0</td>\n",
       "      <td>0.0</td>\n",
       "      <td>0.0</td>\n",
       "      <td>0.0</td>\n",
       "      <td>...</td>\n",
       "      <td>0.0</td>\n",
       "      <td>0.0</td>\n",
       "      <td>0.0</td>\n",
       "      <td>0.0</td>\n",
       "      <td>0.0</td>\n",
       "      <td>0.0</td>\n",
       "      <td>0.0</td>\n",
       "      <td>0.0</td>\n",
       "      <td>0.0</td>\n",
       "      <td>0.0</td>\n",
       "    </tr>\n",
       "  </tbody>\n",
       "</table>\n",
       "<p>3 rows × 4992 columns</p>\n",
       "</div>"
      ],
      "text/plain": [
       "          ID  48df886f9  0deb4b6a8  34b15f335  a8cb14b00  2f0771a37  \\\n",
       "0  000137c73        0.0        0.0        0.0        0.0        0.0   \n",
       "1  00021489f        0.0        0.0        0.0        0.0        0.0   \n",
       "2  0004d7953        0.0        0.0        0.0        0.0        0.0   \n",
       "\n",
       "   30347e683  d08d1fbe3  6ee66e115  20aa07010    ...      3ecc09859  \\\n",
       "0        0.0        0.0        0.0        0.0    ...            0.0   \n",
       "1        0.0        0.0        0.0        0.0    ...            0.0   \n",
       "2        0.0        0.0        0.0        0.0    ...            0.0   \n",
       "\n",
       "   9281abeea  8675bec0b  3a13ed79a  f677d4d13  71b203550  137efaa80  \\\n",
       "0        0.0        0.0        0.0        0.0        0.0        0.0   \n",
       "1        0.0        0.0        0.0        0.0        0.0        0.0   \n",
       "2        0.0        0.0        0.0        0.0        0.0        0.0   \n",
       "\n",
       "   fb36b89d9  7e293fbaf  9fc776466  \n",
       "0        0.0        0.0        0.0  \n",
       "1        0.0        0.0        0.0  \n",
       "2        0.0        0.0        0.0  \n",
       "\n",
       "[3 rows x 4992 columns]"
      ]
     },
     "execution_count": 87,
     "metadata": {},
     "output_type": "execute_result"
    }
   ],
   "source": [
    "test = pd.read_csv(r'../data/test.csv')\n",
    "print(test.shape)\n",
    "test[:3]"
   ]
  },
  {
   "cell_type": "code",
   "execution_count": 88,
   "metadata": {},
   "outputs": [],
   "source": [
    "pred_target1 = np.exp(ln.predict(np.log(test[top_non_sparse_feat]+1)))\n",
    "pred_target2 = np.exp(rf.predict(test[top_nl_feat]))"
   ]
  },
  {
   "cell_type": "code",
   "execution_count": 89,
   "metadata": {},
   "outputs": [],
   "source": [
    "output = pd.concat([test['ID'],pd.Series((pred_target1+pred_target2)/2)],axis=1)\n",
    "output.columns=['ID','target']"
   ]
  },
  {
   "cell_type": "code",
   "execution_count": 77,
   "metadata": {},
   "outputs": [
    {
     "data": {
      "text/html": [
       "<div>\n",
       "<style scoped>\n",
       "    .dataframe tbody tr th:only-of-type {\n",
       "        vertical-align: middle;\n",
       "    }\n",
       "\n",
       "    .dataframe tbody tr th {\n",
       "        vertical-align: top;\n",
       "    }\n",
       "\n",
       "    .dataframe thead th {\n",
       "        text-align: right;\n",
       "    }\n",
       "</style>\n",
       "<table border=\"1\" class=\"dataframe\">\n",
       "  <thead>\n",
       "    <tr style=\"text-align: right;\">\n",
       "      <th></th>\n",
       "      <th>ID</th>\n",
       "      <th>target</th>\n",
       "    </tr>\n",
       "  </thead>\n",
       "  <tbody>\n",
       "    <tr>\n",
       "      <th>0</th>\n",
       "      <td>000137c73</td>\n",
       "      <td>1.633118e+06</td>\n",
       "    </tr>\n",
       "    <tr>\n",
       "      <th>1</th>\n",
       "      <td>00021489f</td>\n",
       "      <td>1.741320e+06</td>\n",
       "    </tr>\n",
       "    <tr>\n",
       "      <th>2</th>\n",
       "      <td>0004d7953</td>\n",
       "      <td>2.182525e+06</td>\n",
       "    </tr>\n",
       "  </tbody>\n",
       "</table>\n",
       "</div>"
      ],
      "text/plain": [
       "          ID        target\n",
       "0  000137c73  1.633118e+06\n",
       "1  00021489f  1.741320e+06\n",
       "2  0004d7953  2.182525e+06"
      ]
     },
     "execution_count": 77,
     "metadata": {},
     "output_type": "execute_result"
    }
   ],
   "source": [
    "output[:3]"
   ]
  },
  {
   "cell_type": "code",
   "execution_count": 90,
   "metadata": {},
   "outputs": [],
   "source": [
    "output.to_csv('../output/0809_logY_lr_logX_+rf_X.csv',index=False)"
   ]
  },
  {
   "cell_type": "code",
   "execution_count": null,
   "metadata": {
    "collapsed": true
   },
   "outputs": [],
   "source": []
  },
  {
   "cell_type": "code",
   "execution_count": null,
   "metadata": {
    "collapsed": true
   },
   "outputs": [],
   "source": []
  }
 ],
 "metadata": {
  "kernelspec": {
   "display_name": "Python 3",
   "language": "python",
   "name": "python3"
  },
  "language_info": {
   "codemirror_mode": {
    "name": "ipython",
    "version": 3
   },
   "file_extension": ".py",
   "mimetype": "text/x-python",
   "name": "python",
   "nbconvert_exporter": "python",
   "pygments_lexer": "ipython3",
   "version": "3.6.4"
  }
 },
 "nbformat": 4,
 "nbformat_minor": 2
}
