{
 "cells": [
  {
   "cell_type": "markdown",
   "metadata": {},
   "source": [
    "https://www.kaggle.com/sudalairajkumar/simple-exploration-baseline-santander-value\n",
    "\n",
    "https://medium.com/@pushkarmandot/https-medium-com-pushkarmandot-what-is-lightgbm-how-to-implement-it-how-to-fine-tune-the-parameters-60347819b7fc"
   ]
  },
  {
   "cell_type": "code",
   "execution_count": 1,
   "metadata": {},
   "outputs": [],
   "source": [
    "import os\n",
    "import re\n",
    "import pandas as pd\n",
    "import numpy as np\n",
    "from sklearn.model_selection import train_test_split\n",
    "\n",
    "import matplotlib.pyplot as plt\n",
    "import seaborn as sns\n",
    "%matplotlib inline"
   ]
  },
  {
   "cell_type": "code",
   "execution_count": 2,
   "metadata": {},
   "outputs": [],
   "source": [
    "from sklearn.linear_model import LinearRegression\n",
    "from sklearn.ensemble import RandomForestRegressor"
   ]
  },
  {
   "cell_type": "code",
   "execution_count": 42,
   "metadata": {},
   "outputs": [
    {
     "name": "stdout",
     "output_type": "stream",
     "text": [
      "(4459, 4993)\n"
     ]
    }
   ],
   "source": [
    "labeled = pd.read_csv(r'../data/train.csv')\n",
    "print(labeled.shape)"
   ]
  },
  {
   "cell_type": "code",
   "execution_count": 4,
   "metadata": {
    "scrolled": true
   },
   "outputs": [
    {
     "data": {
      "text/plain": [
       "Index(['ID', 'target', '48df886f9', '0deb4b6a8', '34b15f335', 'a8cb14b00',\n",
       "       '2f0771a37', '30347e683', 'd08d1fbe3', '6ee66e115',\n",
       "       ...\n",
       "       '3ecc09859', '9281abeea', '8675bec0b', '3a13ed79a', 'f677d4d13',\n",
       "       '71b203550', '137efaa80', 'fb36b89d9', '7e293fbaf', '9fc776466'],\n",
       "      dtype='object', length=4993)"
      ]
     },
     "execution_count": 4,
     "metadata": {},
     "output_type": "execute_result"
    }
   ],
   "source": [
    "labeled.columns"
   ]
  },
  {
   "cell_type": "markdown",
   "metadata": {},
   "source": [
    "### Take a look at the Y distribution\n",
    "- Might want to take log of right-skewed money values (non-neg; log(Y)~normal => good for linear regression)"
   ]
  },
  {
   "cell_type": "code",
   "execution_count": 5,
   "metadata": {},
   "outputs": [
    {
     "data": {
      "text/plain": [
       "Text(0.5,1,'Target Histogram')"
      ]
     },
     "execution_count": 5,
     "metadata": {},
     "output_type": "execute_result"
    },
    {
     "data": {
      "image/png": "[encoded data removed]",
      "text/plain": [
       "<matplotlib.figure.Figure at 0x2043b212748>"
      ]
     },
     "metadata": {},
     "output_type": "display_data"
    }
   ],
   "source": [
    "labeled['target'].hist(bins=100)\n",
    "plt.title(\"Target Histogram\")"
   ]
  },
  {
   "cell_type": "code",
   "execution_count": 6,
   "metadata": {},
   "outputs": [
    {
     "data": {
      "text/plain": [
       "Text(0.5,1,'Log Target Histogram')"
      ]
     },
     "execution_count": 6,
     "metadata": {},
     "output_type": "execute_result"
    },
    {
     "data": {
      "image/png": "[encoded data removed]",
      "text/plain": [
       "<matplotlib.figure.Figure at 0x2043b212cf8>"
      ]
     },
     "metadata": {},
     "output_type": "display_data"
    }
   ],
   "source": [
    "labeled['target'].map(np.log).hist(bins=100)\n",
    "plt.title('Log Target Histogram')"
   ]
  },
  {
   "cell_type": "markdown",
   "metadata": {},
   "source": [
    "### Take a look at X\n",
    "- missing values?\n",
    "- data types?\n",
    "- constants?"
   ]
  },
  {
   "cell_type": "code",
   "execution_count": 7,
   "metadata": {},
   "outputs": [
    {
     "data": {
      "text/html": [
       "<div>\n",
       "<style scoped>\n",
       "    .dataframe tbody tr th:only-of-type {\n",
       "        vertical-align: middle;\n",
       "    }\n",
       "\n",
       "    .dataframe tbody tr th {\n",
       "        vertical-align: top;\n",
       "    }\n",
       "\n",
       "    .dataframe thead th {\n",
       "        text-align: right;\n",
       "    }\n",
       "</style>\n",
       "<table border=\"1\" class=\"dataframe\">\n",
       "  <thead>\n",
       "    <tr style=\"text-align: right;\">\n",
       "      <th></th>\n",
       "      <th>col</th>\n",
       "      <th>NAs</th>\n",
       "    </tr>\n",
       "  </thead>\n",
       "  <tbody>\n",
       "  </tbody>\n",
       "</table>\n",
       "</div>"
      ],
      "text/plain": [
       "Empty DataFrame\n",
       "Columns: [col, NAs]\n",
       "Index: []"
      ]
     },
     "execution_count": 7,
     "metadata": {},
     "output_type": "execute_result"
    }
   ],
   "source": [
    "missing_df = labeled.isnull().sum(axis=0).reset_index()\n",
    "missing_df.columns=['col','NAs']\n",
    "missing_df[missing_df.NAs!=0]"
   ]
  },
  {
   "cell_type": "code",
   "execution_count": 8,
   "metadata": {},
   "outputs": [
    {
     "data": {
      "text/html": [
       "<div>\n",
       "<style scoped>\n",
       "    .dataframe tbody tr th:only-of-type {\n",
       "        vertical-align: middle;\n",
       "    }\n",
       "\n",
       "    .dataframe tbody tr th {\n",
       "        vertical-align: top;\n",
       "    }\n",
       "\n",
       "    .dataframe thead th {\n",
       "        text-align: right;\n",
       "    }\n",
       "</style>\n",
       "<table border=\"1\" class=\"dataframe\">\n",
       "  <thead>\n",
       "    <tr style=\"text-align: right;\">\n",
       "      <th></th>\n",
       "      <th>index</th>\n",
       "    </tr>\n",
       "    <tr>\n",
       "      <th>0</th>\n",
       "      <th></th>\n",
       "    </tr>\n",
       "  </thead>\n",
       "  <tbody>\n",
       "    <tr>\n",
       "      <th>int64</th>\n",
       "      <td>3147</td>\n",
       "    </tr>\n",
       "    <tr>\n",
       "      <th>float64</th>\n",
       "      <td>1845</td>\n",
       "    </tr>\n",
       "    <tr>\n",
       "      <th>object</th>\n",
       "      <td>1</td>\n",
       "    </tr>\n",
       "  </tbody>\n",
       "</table>\n",
       "</div>"
      ],
      "text/plain": [
       "         index\n",
       "0             \n",
       "int64     3147\n",
       "float64   1845\n",
       "object       1"
      ]
     },
     "execution_count": 8,
     "metadata": {},
     "output_type": "execute_result"
    }
   ],
   "source": [
    "dtype_df = labeled.dtypes.reset_index()\n",
    "dtype_df.groupby(0).count() # all numeric"
   ]
  },
  {
   "cell_type": "code",
   "execution_count": 9,
   "metadata": {},
   "outputs": [
    {
     "data": {
      "text/plain": [
       "256"
      ]
     },
     "execution_count": 9,
     "metadata": {},
     "output_type": "execute_result"
    }
   ],
   "source": [
    "constant_df = labeled.nunique().reset_index()\n",
    "constant_df.columns = ['col','unique_vals']\n",
    "len(constant_df[constant_df.unique_vals==1])"
   ]
  },
  {
   "cell_type": "code",
   "execution_count": 10,
   "metadata": {},
   "outputs": [
    {
     "data": {
      "text/plain": [
       "256"
      ]
     },
     "execution_count": 10,
     "metadata": {},
     "output_type": "execute_result"
    }
   ],
   "source": [
    "const_col = list(constant_df[constant_df.unique_vals==1].col.values)\n",
    "len(const_col)"
   ]
  },
  {
   "cell_type": "markdown",
   "metadata": {},
   "source": [
    "with open(r'../input/drop_cols.txt',\"w\") as f:\n",
    "    for col in const_col:\n",
    "        f.write(col+\",\")"
   ]
  },
  {
   "cell_type": "code",
   "execution_count": null,
   "metadata": {},
   "outputs": [],
   "source": []
  },
  {
   "cell_type": "markdown",
   "metadata": {},
   "source": [
    "#### Linear model - correlation of features with log(Y)"
   ]
  },
  {
   "cell_type": "code",
   "execution_count": 43,
   "metadata": {},
   "outputs": [
    {
     "name": "stdout",
     "output_type": "stream",
     "text": [
      "(4459, 4737)\n"
     ]
    }
   ],
   "source": [
    "labeled.drop(labels=const_col,axis=1,inplace=True)\n",
    "print(labeled.shape)"
   ]
  },
  {
   "cell_type": "code",
   "execution_count": 44,
   "metadata": {},
   "outputs": [],
   "source": [
    "labeled['log_target'] = np.log(labeled.target)"
   ]
  },
  {
   "cell_type": "code",
   "execution_count": 47,
   "metadata": {},
   "outputs": [
    {
     "name": "stdout",
     "output_type": "stream",
     "text": [
      "0.010188021496986742\n",
      "0.008004854786918132\n"
     ]
    }
   ],
   "source": [
    "print(labeled[['target','48df886f9']].corr().values[0,1])\n",
    "print(labeled[['log_target','48df886f9']].corr().values[0,1])"
   ]
  },
  {
   "cell_type": "code",
   "execution_count": 60,
   "metadata": {},
   "outputs": [
    {
     "name": "stdout",
     "output_type": "stream",
     "text": [
      "Wall time: 6.92 s\n"
     ]
    }
   ],
   "source": [
    "%%time\n",
    "feature_dict={}\n",
    "for feature in labeled.columns[2:]:\n",
    "    if feature != 'log_target':    \n",
    "        feature_dict[feature] = [labeled[['target',feature]].corr().values[0,1],\n",
    "                                 labeled[['log_target',feature]].corr().values[0,1]]"
   ]
  },
  {
   "cell_type": "code",
   "execution_count": 61,
   "metadata": {},
   "outputs": [],
   "source": [
    "feat_corr_df = pd.DataFrame.from_dict(feature_dict, orient='index').reset_index()\n",
    "feat_corr_df.columns = ['feat','corr','corr_log']\n",
    "feat_corr_df['corr_abs'] = feat_corr_df['corr'].map(np.abs)\n",
    "feat_corr_df['corr_log_abs'] = feat_corr_df['corr_log'].map(np.abs)"
   ]
  },
  {
   "cell_type": "code",
   "execution_count": 62,
   "metadata": {},
   "outputs": [
    {
     "data": {
      "text/html": [
       "<div>\n",
       "<style scoped>\n",
       "    .dataframe tbody tr th:only-of-type {\n",
       "        vertical-align: middle;\n",
       "    }\n",
       "\n",
       "    .dataframe tbody tr th {\n",
       "        vertical-align: top;\n",
       "    }\n",
       "\n",
       "    .dataframe thead th {\n",
       "        text-align: right;\n",
       "    }\n",
       "</style>\n",
       "<table border=\"1\" class=\"dataframe\">\n",
       "  <thead>\n",
       "    <tr style=\"text-align: right;\">\n",
       "      <th></th>\n",
       "      <th>feat</th>\n",
       "      <th>corr</th>\n",
       "      <th>corr_log</th>\n",
       "      <th>corr_abs</th>\n",
       "      <th>corr_log_abs</th>\n",
       "    </tr>\n",
       "  </thead>\n",
       "  <tbody>\n",
       "    <tr>\n",
       "      <th>4476</th>\n",
       "      <td>555f18bd3</td>\n",
       "      <td>0.273379</td>\n",
       "      <td>0.153014</td>\n",
       "      <td>0.273379</td>\n",
       "      <td>0.153014</td>\n",
       "    </tr>\n",
       "    <tr>\n",
       "      <th>2617</th>\n",
       "      <td>9fd594eec</td>\n",
       "      <td>0.270019</td>\n",
       "      <td>0.197227</td>\n",
       "      <td>0.270019</td>\n",
       "      <td>0.197227</td>\n",
       "    </tr>\n",
       "    <tr>\n",
       "      <th>2342</th>\n",
       "      <td>5bc7ab64f</td>\n",
       "      <td>0.267858</td>\n",
       "      <td>0.143492</td>\n",
       "      <td>0.267858</td>\n",
       "      <td>0.143492</td>\n",
       "    </tr>\n",
       "    <tr>\n",
       "      <th>3337</th>\n",
       "      <td>cbbc9c431</td>\n",
       "      <td>0.265005</td>\n",
       "      <td>0.148933</td>\n",
       "      <td>0.265005</td>\n",
       "      <td>0.148933</td>\n",
       "    </tr>\n",
       "    <tr>\n",
       "      <th>4135</th>\n",
       "      <td>f190486d6</td>\n",
       "      <td>0.263821</td>\n",
       "      <td>0.195312</td>\n",
       "      <td>0.263821</td>\n",
       "      <td>0.195312</td>\n",
       "    </tr>\n",
       "    <tr>\n",
       "      <th>4707</th>\n",
       "      <td>6b119d8ce</td>\n",
       "      <td>0.258290</td>\n",
       "      <td>0.142460</td>\n",
       "      <td>0.258290</td>\n",
       "      <td>0.142460</td>\n",
       "    </tr>\n",
       "    <tr>\n",
       "      <th>4190</th>\n",
       "      <td>f74e8f13d</td>\n",
       "      <td>0.257238</td>\n",
       "      <td>0.172803</td>\n",
       "      <td>0.257238</td>\n",
       "      <td>0.172803</td>\n",
       "    </tr>\n",
       "    <tr>\n",
       "      <th>570</th>\n",
       "      <td>ac30af84a</td>\n",
       "      <td>0.256292</td>\n",
       "      <td>0.149509</td>\n",
       "      <td>0.256292</td>\n",
       "      <td>0.149509</td>\n",
       "    </tr>\n",
       "    <tr>\n",
       "      <th>537</th>\n",
       "      <td>26fc93eb7</td>\n",
       "      <td>0.255186</td>\n",
       "      <td>0.172284</td>\n",
       "      <td>0.255186</td>\n",
       "      <td>0.172284</td>\n",
       "    </tr>\n",
       "    <tr>\n",
       "      <th>2378</th>\n",
       "      <td>58e2e02e6</td>\n",
       "      <td>0.254984</td>\n",
       "      <td>0.187259</td>\n",
       "      <td>0.254984</td>\n",
       "      <td>0.187259</td>\n",
       "    </tr>\n",
       "    <tr>\n",
       "      <th>4163</th>\n",
       "      <td>429687d5a</td>\n",
       "      <td>0.254169</td>\n",
       "      <td>0.143786</td>\n",
       "      <td>0.254169</td>\n",
       "      <td>0.143786</td>\n",
       "    </tr>\n",
       "    <tr>\n",
       "      <th>3706</th>\n",
       "      <td>e8d9394a0</td>\n",
       "      <td>0.253266</td>\n",
       "      <td>0.144891</td>\n",
       "      <td>0.253266</td>\n",
       "      <td>0.144891</td>\n",
       "    </tr>\n",
       "    <tr>\n",
       "      <th>834</th>\n",
       "      <td>6eef030c1</td>\n",
       "      <td>0.252917</td>\n",
       "      <td>0.194630</td>\n",
       "      <td>0.252917</td>\n",
       "      <td>0.194630</td>\n",
       "    </tr>\n",
       "    <tr>\n",
       "      <th>1240</th>\n",
       "      <td>f3cf9341c</td>\n",
       "      <td>0.252583</td>\n",
       "      <td>0.155248</td>\n",
       "      <td>0.252583</td>\n",
       "      <td>0.155248</td>\n",
       "    </tr>\n",
       "    <tr>\n",
       "      <th>1228</th>\n",
       "      <td>e4159c59e</td>\n",
       "      <td>0.252386</td>\n",
       "      <td>0.143946</td>\n",
       "      <td>0.252386</td>\n",
       "      <td>0.143946</td>\n",
       "    </tr>\n",
       "    <tr>\n",
       "      <th>3024</th>\n",
       "      <td>ba4ceabc5</td>\n",
       "      <td>0.252356</td>\n",
       "      <td>0.158138</td>\n",
       "      <td>0.252356</td>\n",
       "      <td>0.158138</td>\n",
       "    </tr>\n",
       "    <tr>\n",
       "      <th>1495</th>\n",
       "      <td>51707c671</td>\n",
       "      <td>0.251966</td>\n",
       "      <td>0.140795</td>\n",
       "      <td>0.251966</td>\n",
       "      <td>0.140795</td>\n",
       "    </tr>\n",
       "    <tr>\n",
       "      <th>4348</th>\n",
       "      <td>1702b5bf0</td>\n",
       "      <td>0.251361</td>\n",
       "      <td>0.168431</td>\n",
       "      <td>0.251361</td>\n",
       "      <td>0.168431</td>\n",
       "    </tr>\n",
       "    <tr>\n",
       "      <th>1261</th>\n",
       "      <td>38e6f8d32</td>\n",
       "      <td>0.251044</td>\n",
       "      <td>0.146182</td>\n",
       "      <td>0.251044</td>\n",
       "      <td>0.146182</td>\n",
       "    </tr>\n",
       "    <tr>\n",
       "      <th>2717</th>\n",
       "      <td>f296082ec</td>\n",
       "      <td>0.250598</td>\n",
       "      <td>0.144863</td>\n",
       "      <td>0.250598</td>\n",
       "      <td>0.144863</td>\n",
       "    </tr>\n",
       "  </tbody>\n",
       "</table>\n",
       "</div>"
      ],
      "text/plain": [
       "           feat      corr  corr_log  corr_abs  corr_log_abs\n",
       "4476  555f18bd3  0.273379  0.153014  0.273379      0.153014\n",
       "2617  9fd594eec  0.270019  0.197227  0.270019      0.197227\n",
       "2342  5bc7ab64f  0.267858  0.143492  0.267858      0.143492\n",
       "3337  cbbc9c431  0.265005  0.148933  0.265005      0.148933\n",
       "4135  f190486d6  0.263821  0.195312  0.263821      0.195312\n",
       "4707  6b119d8ce  0.258290  0.142460  0.258290      0.142460\n",
       "4190  f74e8f13d  0.257238  0.172803  0.257238      0.172803\n",
       "570   ac30af84a  0.256292  0.149509  0.256292      0.149509\n",
       "537   26fc93eb7  0.255186  0.172284  0.255186      0.172284\n",
       "2378  58e2e02e6  0.254984  0.187259  0.254984      0.187259\n",
       "4163  429687d5a  0.254169  0.143786  0.254169      0.143786\n",
       "3706  e8d9394a0  0.253266  0.144891  0.253266      0.144891\n",
       "834   6eef030c1  0.252917  0.194630  0.252917      0.194630\n",
       "1240  f3cf9341c  0.252583  0.155248  0.252583      0.155248\n",
       "1228  e4159c59e  0.252386  0.143946  0.252386      0.143946\n",
       "3024  ba4ceabc5  0.252356  0.158138  0.252356      0.158138\n",
       "1495  51707c671  0.251966  0.140795  0.251966      0.140795\n",
       "4348  1702b5bf0  0.251361  0.168431  0.251361      0.168431\n",
       "1261  38e6f8d32  0.251044  0.146182  0.251044      0.146182\n",
       "2717  f296082ec  0.250598  0.144863  0.250598      0.144863"
      ]
     },
     "execution_count": 62,
     "metadata": {},
     "output_type": "execute_result"
    }
   ],
   "source": [
    "feat_corr_df.sort_values('corr_abs',ascending=False)[:20]"
   ]
  },
  {
   "cell_type": "code",
   "execution_count": 63,
   "metadata": {},
   "outputs": [
    {
     "data": {
      "text/plain": [
       "<matplotlib.axes._subplots.AxesSubplot at 0x2043cebc748>"
      ]
     },
     "execution_count": 63,
     "metadata": {},
     "output_type": "execute_result"
    },
    {
     "data": {
      "image/png": "[encoded data removed]",
      "text/plain": [
       "<matplotlib.figure.Figure at 0x2043e9be080>"
      ]
     },
     "metadata": {},
     "output_type": "display_data"
    }
   ],
   "source": [
    "labeled['555f18bd3'].hist(bins=100)"
   ]
  },
  {
   "cell_type": "code",
   "execution_count": 64,
   "metadata": {},
   "outputs": [
    {
     "data": {
      "text/plain": [
       "324"
      ]
     },
     "execution_count": 64,
     "metadata": {},
     "output_type": "execute_result"
    }
   ],
   "source": [
    "(labeled['555f18bd3']!=0).sum() # ok, very sparse"
   ]
  },
  {
   "cell_type": "code",
   "execution_count": 36,
   "metadata": {},
   "outputs": [
    {
     "name": "stdout",
     "output_type": "stream",
     "text": [
      "Wall time: 1.08 s\n"
     ]
    }
   ],
   "source": [
    "%%time\n",
    "feature_sparse_dict={}\n",
    "for feature in labeled.columns[2:]:\n",
    "    feature_sparse_dict[feature] = (labeled[feature]!=0).sum()"
   ]
  },
  {
   "cell_type": "code",
   "execution_count": 65,
   "metadata": {},
   "outputs": [
    {
     "name": "stdout",
     "output_type": "stream",
     "text": [
      "count    4735.000000\n",
      "mean      147.858289\n",
      "std       216.818376\n",
      "min         1.000000\n",
      "25%        15.000000\n",
      "50%        70.000000\n",
      "75%       180.000000\n",
      "max      1565.000000\n",
      "Name: values, dtype: float64\n"
     ]
    },
    {
     "data": {
      "text/html": [
       "<div>\n",
       "<style scoped>\n",
       "    .dataframe tbody tr th:only-of-type {\n",
       "        vertical-align: middle;\n",
       "    }\n",
       "\n",
       "    .dataframe tbody tr th {\n",
       "        vertical-align: top;\n",
       "    }\n",
       "\n",
       "    .dataframe thead th {\n",
       "        text-align: right;\n",
       "    }\n",
       "</style>\n",
       "<table border=\"1\" class=\"dataframe\">\n",
       "  <thead>\n",
       "    <tr style=\"text-align: right;\">\n",
       "      <th></th>\n",
       "      <th>feat</th>\n",
       "      <th>values</th>\n",
       "    </tr>\n",
       "  </thead>\n",
       "  <tbody>\n",
       "    <tr>\n",
       "      <th>4321</th>\n",
       "      <td>c5a231d81</td>\n",
       "      <td>1565</td>\n",
       "    </tr>\n",
       "    <tr>\n",
       "      <th>1953</th>\n",
       "      <td>0ff32eb98</td>\n",
       "      <td>1565</td>\n",
       "    </tr>\n",
       "    <tr>\n",
       "      <th>2934</th>\n",
       "      <td>91f701ba2</td>\n",
       "      <td>1560</td>\n",
       "    </tr>\n",
       "    <tr>\n",
       "      <th>4513</th>\n",
       "      <td>c47340d97</td>\n",
       "      <td>1555</td>\n",
       "    </tr>\n",
       "    <tr>\n",
       "      <th>3816</th>\n",
       "      <td>adb64ff71</td>\n",
       "      <td>1547</td>\n",
       "    </tr>\n",
       "  </tbody>\n",
       "</table>\n",
       "</div>"
      ],
      "text/plain": [
       "           feat  values\n",
       "4321  c5a231d81    1565\n",
       "1953  0ff32eb98    1565\n",
       "2934  91f701ba2    1560\n",
       "4513  c47340d97    1555\n",
       "3816  adb64ff71    1547"
      ]
     },
     "execution_count": 65,
     "metadata": {},
     "output_type": "execute_result"
    }
   ],
   "source": [
    "feat_sparse_df = pd.DataFrame.from_dict(feature_sparse_dict,orient='index').reset_index()\n",
    "feat_sparse_df.columns = ['feat','values']\n",
    "print(feat_sparse_df['values'].describe())\n",
    "feat_sparse_df.sort_values('values',ascending=False)[:5]"
   ]
  },
  {
   "cell_type": "code",
   "execution_count": 66,
   "metadata": {},
   "outputs": [
    {
     "name": "stdout",
     "output_type": "stream",
     "text": [
      "(4735, 6)\n"
     ]
    },
    {
     "data": {
      "text/html": [
       "<div>\n",
       "<style scoped>\n",
       "    .dataframe tbody tr th:only-of-type {\n",
       "        vertical-align: middle;\n",
       "    }\n",
       "\n",
       "    .dataframe tbody tr th {\n",
       "        vertical-align: top;\n",
       "    }\n",
       "\n",
       "    .dataframe thead th {\n",
       "        text-align: right;\n",
       "    }\n",
       "</style>\n",
       "<table border=\"1\" class=\"dataframe\">\n",
       "  <thead>\n",
       "    <tr style=\"text-align: right;\">\n",
       "      <th></th>\n",
       "      <th>feat</th>\n",
       "      <th>corr</th>\n",
       "      <th>corr_log</th>\n",
       "      <th>corr_abs</th>\n",
       "      <th>corr_log_abs</th>\n",
       "      <th>values</th>\n",
       "    </tr>\n",
       "  </thead>\n",
       "  <tbody>\n",
       "    <tr>\n",
       "      <th>0</th>\n",
       "      <td>48df886f9</td>\n",
       "      <td>0.010188</td>\n",
       "      <td>0.008005</td>\n",
       "      <td>0.010188</td>\n",
       "      <td>0.008005</td>\n",
       "      <td>39</td>\n",
       "    </tr>\n",
       "    <tr>\n",
       "      <th>1</th>\n",
       "      <td>0deb4b6a8</td>\n",
       "      <td>0.013805</td>\n",
       "      <td>-0.000881</td>\n",
       "      <td>0.013805</td>\n",
       "      <td>0.000881</td>\n",
       "      <td>4</td>\n",
       "    </tr>\n",
       "    <tr>\n",
       "      <th>2</th>\n",
       "      <td>34b15f335</td>\n",
       "      <td>0.014694</td>\n",
       "      <td>0.025378</td>\n",
       "      <td>0.014694</td>\n",
       "      <td>0.025378</td>\n",
       "      <td>33</td>\n",
       "    </tr>\n",
       "  </tbody>\n",
       "</table>\n",
       "</div>"
      ],
      "text/plain": [
       "        feat      corr  corr_log  corr_abs  corr_log_abs  values\n",
       "0  48df886f9  0.010188  0.008005  0.010188      0.008005      39\n",
       "1  0deb4b6a8  0.013805 -0.000881  0.013805      0.000881       4\n",
       "2  34b15f335  0.014694  0.025378  0.014694      0.025378      33"
      ]
     },
     "execution_count": 66,
     "metadata": {},
     "output_type": "execute_result"
    }
   ],
   "source": [
    "feats = pd.merge(feat_corr_df, feat_sparse_df,how='inner',on='feat')\n",
    "print(feats.shape)\n",
    "feats[:3]"
   ]
  },
  {
   "cell_type": "code",
   "execution_count": 67,
   "metadata": {},
   "outputs": [],
   "source": [
    "feats.to_csv(r'../input/feat_corr_sparse.txt',index=False) # write out for future use"
   ]
  },
  {
   "cell_type": "code",
   "execution_count": 68,
   "metadata": {},
   "outputs": [
    {
     "data": {
      "text/html": [
       "<div>\n",
       "<style scoped>\n",
       "    .dataframe tbody tr th:only-of-type {\n",
       "        vertical-align: middle;\n",
       "    }\n",
       "\n",
       "    .dataframe tbody tr th {\n",
       "        vertical-align: top;\n",
       "    }\n",
       "\n",
       "    .dataframe thead th {\n",
       "        text-align: right;\n",
       "    }\n",
       "</style>\n",
       "<table border=\"1\" class=\"dataframe\">\n",
       "  <thead>\n",
       "    <tr style=\"text-align: right;\">\n",
       "      <th></th>\n",
       "      <th>feat</th>\n",
       "      <th>corr</th>\n",
       "      <th>corr_log</th>\n",
       "      <th>corr_abs</th>\n",
       "      <th>corr_log_abs</th>\n",
       "      <th>values</th>\n",
       "    </tr>\n",
       "  </thead>\n",
       "  <tbody>\n",
       "    <tr>\n",
       "      <th>1953</th>\n",
       "      <td>0ff32eb98</td>\n",
       "      <td>0.191524</td>\n",
       "      <td>0.140245</td>\n",
       "      <td>0.191524</td>\n",
       "      <td>0.140245</td>\n",
       "      <td>1565</td>\n",
       "    </tr>\n",
       "    <tr>\n",
       "      <th>4321</th>\n",
       "      <td>c5a231d81</td>\n",
       "      <td>0.191321</td>\n",
       "      <td>0.136049</td>\n",
       "      <td>0.191321</td>\n",
       "      <td>0.136049</td>\n",
       "      <td>1565</td>\n",
       "    </tr>\n",
       "    <tr>\n",
       "      <th>2934</th>\n",
       "      <td>91f701ba2</td>\n",
       "      <td>0.206891</td>\n",
       "      <td>0.146636</td>\n",
       "      <td>0.206891</td>\n",
       "      <td>0.146636</td>\n",
       "      <td>1560</td>\n",
       "    </tr>\n",
       "    <tr>\n",
       "      <th>4513</th>\n",
       "      <td>c47340d97</td>\n",
       "      <td>0.213456</td>\n",
       "      <td>0.147842</td>\n",
       "      <td>0.213456</td>\n",
       "      <td>0.147842</td>\n",
       "      <td>1555</td>\n",
       "    </tr>\n",
       "    <tr>\n",
       "      <th>3816</th>\n",
       "      <td>adb64ff71</td>\n",
       "      <td>0.199026</td>\n",
       "      <td>0.143651</td>\n",
       "      <td>0.199026</td>\n",
       "      <td>0.143651</td>\n",
       "      <td>1547</td>\n",
       "    </tr>\n",
       "    <tr>\n",
       "      <th>545</th>\n",
       "      <td>0572565c2</td>\n",
       "      <td>0.201068</td>\n",
       "      <td>0.134714</td>\n",
       "      <td>0.201068</td>\n",
       "      <td>0.134714</td>\n",
       "      <td>1547</td>\n",
       "    </tr>\n",
       "    <tr>\n",
       "      <th>4135</th>\n",
       "      <td>f190486d6</td>\n",
       "      <td>0.263821</td>\n",
       "      <td>0.195312</td>\n",
       "      <td>0.263821</td>\n",
       "      <td>0.195312</td>\n",
       "      <td>1544</td>\n",
       "    </tr>\n",
       "    <tr>\n",
       "      <th>4033</th>\n",
       "      <td>5c6487af1</td>\n",
       "      <td>0.209962</td>\n",
       "      <td>0.143667</td>\n",
       "      <td>0.209962</td>\n",
       "      <td>0.143667</td>\n",
       "      <td>1539</td>\n",
       "    </tr>\n",
       "    <tr>\n",
       "      <th>4346</th>\n",
       "      <td>e176a204a</td>\n",
       "      <td>0.191612</td>\n",
       "      <td>0.144795</td>\n",
       "      <td>0.191612</td>\n",
       "      <td>0.144795</td>\n",
       "      <td>1535</td>\n",
       "    </tr>\n",
       "    <tr>\n",
       "      <th>645</th>\n",
       "      <td>6619d81fc</td>\n",
       "      <td>0.200045</td>\n",
       "      <td>0.137863</td>\n",
       "      <td>0.200045</td>\n",
       "      <td>0.137863</td>\n",
       "      <td>1533</td>\n",
       "    </tr>\n",
       "    <tr>\n",
       "      <th>3784</th>\n",
       "      <td>70feb1494</td>\n",
       "      <td>0.248898</td>\n",
       "      <td>0.173549</td>\n",
       "      <td>0.248898</td>\n",
       "      <td>0.173549</td>\n",
       "      <td>1532</td>\n",
       "    </tr>\n",
       "    <tr>\n",
       "      <th>4693</th>\n",
       "      <td>23310aa6f</td>\n",
       "      <td>0.201988</td>\n",
       "      <td>0.148534</td>\n",
       "      <td>0.201988</td>\n",
       "      <td>0.148534</td>\n",
       "      <td>1532</td>\n",
       "    </tr>\n",
       "    <tr>\n",
       "      <th>4458</th>\n",
       "      <td>190db8488</td>\n",
       "      <td>0.182311</td>\n",
       "      <td>0.120360</td>\n",
       "      <td>0.182311</td>\n",
       "      <td>0.120360</td>\n",
       "      <td>1528</td>\n",
       "    </tr>\n",
       "    <tr>\n",
       "      <th>1360</th>\n",
       "      <td>1db387535</td>\n",
       "      <td>0.207491</td>\n",
       "      <td>0.142150</td>\n",
       "      <td>0.207491</td>\n",
       "      <td>0.142150</td>\n",
       "      <td>1525</td>\n",
       "    </tr>\n",
       "    <tr>\n",
       "      <th>3666</th>\n",
       "      <td>491b9ee45</td>\n",
       "      <td>0.213769</td>\n",
       "      <td>0.154638</td>\n",
       "      <td>0.213769</td>\n",
       "      <td>0.154638</td>\n",
       "      <td>1523</td>\n",
       "    </tr>\n",
       "    <tr>\n",
       "      <th>566</th>\n",
       "      <td>66ace2992</td>\n",
       "      <td>0.211839</td>\n",
       "      <td>0.152624</td>\n",
       "      <td>0.211839</td>\n",
       "      <td>0.152624</td>\n",
       "      <td>1521</td>\n",
       "    </tr>\n",
       "    <tr>\n",
       "      <th>2617</th>\n",
       "      <td>9fd594eec</td>\n",
       "      <td>0.270019</td>\n",
       "      <td>0.197227</td>\n",
       "      <td>0.270019</td>\n",
       "      <td>0.197227</td>\n",
       "      <td>1520</td>\n",
       "    </tr>\n",
       "    <tr>\n",
       "      <th>863</th>\n",
       "      <td>fc99f9426</td>\n",
       "      <td>0.241466</td>\n",
       "      <td>0.161864</td>\n",
       "      <td>0.241466</td>\n",
       "      <td>0.161864</td>\n",
       "      <td>1518</td>\n",
       "    </tr>\n",
       "    <tr>\n",
       "      <th>2378</th>\n",
       "      <td>58e2e02e6</td>\n",
       "      <td>0.254984</td>\n",
       "      <td>0.187259</td>\n",
       "      <td>0.254984</td>\n",
       "      <td>0.187259</td>\n",
       "      <td>1513</td>\n",
       "    </tr>\n",
       "    <tr>\n",
       "      <th>3010</th>\n",
       "      <td>703885424</td>\n",
       "      <td>0.203087</td>\n",
       "      <td>0.148950</td>\n",
       "      <td>0.203087</td>\n",
       "      <td>0.148950</td>\n",
       "      <td>1513</td>\n",
       "    </tr>\n",
       "    <tr>\n",
       "      <th>3470</th>\n",
       "      <td>eeb9cd3aa</td>\n",
       "      <td>0.237137</td>\n",
       "      <td>0.153056</td>\n",
       "      <td>0.237137</td>\n",
       "      <td>0.153056</td>\n",
       "      <td>1512</td>\n",
       "    </tr>\n",
       "    <tr>\n",
       "      <th>2214</th>\n",
       "      <td>1931ccfdd</td>\n",
       "      <td>0.204217</td>\n",
       "      <td>0.147452</td>\n",
       "      <td>0.204217</td>\n",
       "      <td>0.147452</td>\n",
       "      <td>1509</td>\n",
       "    </tr>\n",
       "    <tr>\n",
       "      <th>3474</th>\n",
       "      <td>324921c7b</td>\n",
       "      <td>0.220035</td>\n",
       "      <td>0.159375</td>\n",
       "      <td>0.220035</td>\n",
       "      <td>0.159375</td>\n",
       "      <td>1504</td>\n",
       "    </tr>\n",
       "    <tr>\n",
       "      <th>4348</th>\n",
       "      <td>1702b5bf0</td>\n",
       "      <td>0.251361</td>\n",
       "      <td>0.168431</td>\n",
       "      <td>0.251361</td>\n",
       "      <td>0.168431</td>\n",
       "      <td>1500</td>\n",
       "    </tr>\n",
       "    <tr>\n",
       "      <th>2690</th>\n",
       "      <td>fb0f5dbfe</td>\n",
       "      <td>0.199133</td>\n",
       "      <td>0.143823</td>\n",
       "      <td>0.199133</td>\n",
       "      <td>0.143823</td>\n",
       "      <td>1495</td>\n",
       "    </tr>\n",
       "    <tr>\n",
       "      <th>4190</th>\n",
       "      <td>f74e8f13d</td>\n",
       "      <td>0.257238</td>\n",
       "      <td>0.172803</td>\n",
       "      <td>0.257238</td>\n",
       "      <td>0.172803</td>\n",
       "      <td>1494</td>\n",
       "    </tr>\n",
       "    <tr>\n",
       "      <th>8</th>\n",
       "      <td>20aa07010</td>\n",
       "      <td>0.229035</td>\n",
       "      <td>0.159419</td>\n",
       "      <td>0.229035</td>\n",
       "      <td>0.159419</td>\n",
       "      <td>1494</td>\n",
       "    </tr>\n",
       "    <tr>\n",
       "      <th>537</th>\n",
       "      <td>26fc93eb7</td>\n",
       "      <td>0.255186</td>\n",
       "      <td>0.172284</td>\n",
       "      <td>0.255186</td>\n",
       "      <td>0.172284</td>\n",
       "      <td>1492</td>\n",
       "    </tr>\n",
       "    <tr>\n",
       "      <th>3576</th>\n",
       "      <td>58232a6fb</td>\n",
       "      <td>0.234580</td>\n",
       "      <td>0.163608</td>\n",
       "      <td>0.234580</td>\n",
       "      <td>0.163608</td>\n",
       "      <td>1485</td>\n",
       "    </tr>\n",
       "    <tr>\n",
       "      <th>4025</th>\n",
       "      <td>15ace8c9f</td>\n",
       "      <td>0.219917</td>\n",
       "      <td>0.152088</td>\n",
       "      <td>0.219917</td>\n",
       "      <td>0.152088</td>\n",
       "      <td>1485</td>\n",
       "    </tr>\n",
       "    <tr>\n",
       "      <th>627</th>\n",
       "      <td>fb49e4212</td>\n",
       "      <td>0.239772</td>\n",
       "      <td>0.167091</td>\n",
       "      <td>0.239772</td>\n",
       "      <td>0.167091</td>\n",
       "      <td>1482</td>\n",
       "    </tr>\n",
       "    <tr>\n",
       "      <th>1712</th>\n",
       "      <td>2ec5b290f</td>\n",
       "      <td>0.205875</td>\n",
       "      <td>0.135940</td>\n",
       "      <td>0.205875</td>\n",
       "      <td>0.135940</td>\n",
       "      <td>1477</td>\n",
       "    </tr>\n",
       "    <tr>\n",
       "      <th>4022</th>\n",
       "      <td>62e59a501</td>\n",
       "      <td>0.198739</td>\n",
       "      <td>0.134678</td>\n",
       "      <td>0.198739</td>\n",
       "      <td>0.134678</td>\n",
       "      <td>1477</td>\n",
       "    </tr>\n",
       "    <tr>\n",
       "      <th>113</th>\n",
       "      <td>963a49cdc</td>\n",
       "      <td>0.229414</td>\n",
       "      <td>0.157059</td>\n",
       "      <td>0.229414</td>\n",
       "      <td>0.157059</td>\n",
       "      <td>1471</td>\n",
       "    </tr>\n",
       "    <tr>\n",
       "      <th>2082</th>\n",
       "      <td>58e056e12</td>\n",
       "      <td>0.204129</td>\n",
       "      <td>0.133493</td>\n",
       "      <td>0.204129</td>\n",
       "      <td>0.133493</td>\n",
       "      <td>1463</td>\n",
       "    </tr>\n",
       "    <tr>\n",
       "      <th>2137</th>\n",
       "      <td>241f0f867</td>\n",
       "      <td>0.204482</td>\n",
       "      <td>0.126850</td>\n",
       "      <td>0.204482</td>\n",
       "      <td>0.126850</td>\n",
       "      <td>1461</td>\n",
       "    </tr>\n",
       "    <tr>\n",
       "      <th>834</th>\n",
       "      <td>6eef030c1</td>\n",
       "      <td>0.252917</td>\n",
       "      <td>0.194630</td>\n",
       "      <td>0.252917</td>\n",
       "      <td>0.194630</td>\n",
       "      <td>1455</td>\n",
       "    </tr>\n",
       "    <tr>\n",
       "      <th>1459</th>\n",
       "      <td>b43a7cfd5</td>\n",
       "      <td>0.216818</td>\n",
       "      <td>0.157013</td>\n",
       "      <td>0.216818</td>\n",
       "      <td>0.157013</td>\n",
       "      <td>1438</td>\n",
       "    </tr>\n",
       "    <tr>\n",
       "      <th>3727</th>\n",
       "      <td>d6bb78916</td>\n",
       "      <td>0.210858</td>\n",
       "      <td>0.152660</td>\n",
       "      <td>0.210858</td>\n",
       "      <td>0.152660</td>\n",
       "      <td>1437</td>\n",
       "    </tr>\n",
       "    <tr>\n",
       "      <th>1484</th>\n",
       "      <td>024c577b9</td>\n",
       "      <td>0.212053</td>\n",
       "      <td>0.130513</td>\n",
       "      <td>0.212053</td>\n",
       "      <td>0.130513</td>\n",
       "      <td>1409</td>\n",
       "    </tr>\n",
       "  </tbody>\n",
       "</table>\n",
       "</div>"
      ],
      "text/plain": [
       "           feat      corr  corr_log  corr_abs  corr_log_abs  values\n",
       "1953  0ff32eb98  0.191524  0.140245  0.191524      0.140245    1565\n",
       "4321  c5a231d81  0.191321  0.136049  0.191321      0.136049    1565\n",
       "2934  91f701ba2  0.206891  0.146636  0.206891      0.146636    1560\n",
       "4513  c47340d97  0.213456  0.147842  0.213456      0.147842    1555\n",
       "3816  adb64ff71  0.199026  0.143651  0.199026      0.143651    1547\n",
       "545   0572565c2  0.201068  0.134714  0.201068      0.134714    1547\n",
       "4135  f190486d6  0.263821  0.195312  0.263821      0.195312    1544\n",
       "4033  5c6487af1  0.209962  0.143667  0.209962      0.143667    1539\n",
       "4346  e176a204a  0.191612  0.144795  0.191612      0.144795    1535\n",
       "645   6619d81fc  0.200045  0.137863  0.200045      0.137863    1533\n",
       "3784  70feb1494  0.248898  0.173549  0.248898      0.173549    1532\n",
       "4693  23310aa6f  0.201988  0.148534  0.201988      0.148534    1532\n",
       "4458  190db8488  0.182311  0.120360  0.182311      0.120360    1528\n",
       "1360  1db387535  0.207491  0.142150  0.207491      0.142150    1525\n",
       "3666  491b9ee45  0.213769  0.154638  0.213769      0.154638    1523\n",
       "566   66ace2992  0.211839  0.152624  0.211839      0.152624    1521\n",
       "2617  9fd594eec  0.270019  0.197227  0.270019      0.197227    1520\n",
       "863   fc99f9426  0.241466  0.161864  0.241466      0.161864    1518\n",
       "2378  58e2e02e6  0.254984  0.187259  0.254984      0.187259    1513\n",
       "3010  703885424  0.203087  0.148950  0.203087      0.148950    1513\n",
       "3470  eeb9cd3aa  0.237137  0.153056  0.237137      0.153056    1512\n",
       "2214  1931ccfdd  0.204217  0.147452  0.204217      0.147452    1509\n",
       "3474  324921c7b  0.220035  0.159375  0.220035      0.159375    1504\n",
       "4348  1702b5bf0  0.251361  0.168431  0.251361      0.168431    1500\n",
       "2690  fb0f5dbfe  0.199133  0.143823  0.199133      0.143823    1495\n",
       "4190  f74e8f13d  0.257238  0.172803  0.257238      0.172803    1494\n",
       "8     20aa07010  0.229035  0.159419  0.229035      0.159419    1494\n",
       "537   26fc93eb7  0.255186  0.172284  0.255186      0.172284    1492\n",
       "3576  58232a6fb  0.234580  0.163608  0.234580      0.163608    1485\n",
       "4025  15ace8c9f  0.219917  0.152088  0.219917      0.152088    1485\n",
       "627   fb49e4212  0.239772  0.167091  0.239772      0.167091    1482\n",
       "1712  2ec5b290f  0.205875  0.135940  0.205875      0.135940    1477\n",
       "4022  62e59a501  0.198739  0.134678  0.198739      0.134678    1477\n",
       "113   963a49cdc  0.229414  0.157059  0.229414      0.157059    1471\n",
       "2082  58e056e12  0.204129  0.133493  0.204129      0.133493    1463\n",
       "2137  241f0f867  0.204482  0.126850  0.204482      0.126850    1461\n",
       "834   6eef030c1  0.252917  0.194630  0.252917      0.194630    1455\n",
       "1459  b43a7cfd5  0.216818  0.157013  0.216818      0.157013    1438\n",
       "3727  d6bb78916  0.210858  0.152660  0.210858      0.152660    1437\n",
       "1484  024c577b9  0.212053  0.130513  0.212053      0.130513    1409"
      ]
     },
     "execution_count": 68,
     "metadata": {},
     "output_type": "execute_result"
    }
   ],
   "source": [
    "## Take the top non-sparse linear features\n",
    "feats.sort_values(['values','corr_log_abs'],ascending=[False,False])[:40]"
   ]
  },
  {
   "cell_type": "code",
   "execution_count": 69,
   "metadata": {},
   "outputs": [],
   "source": [
    "top_non_sparse_feat = feats.sort_values(['values','corr_log_abs'],ascending=[False,False])[:40]['feat'].values.tolist()"
   ]
  },
  {
   "cell_type": "code",
   "execution_count": 116,
   "metadata": {},
   "outputs": [],
   "source": [
    "y = labeled['target']\n",
    "X = labeled[top_non_sparse_feat]"
   ]
  },
  {
   "cell_type": "code",
   "execution_count": 117,
   "metadata": {},
   "outputs": [],
   "source": [
    "X_train, X_val, y_train, y_val = train_test_split(X,y,test_size=0.2,random_state=1)"
   ]
  },
  {
   "cell_type": "code",
   "execution_count": 119,
   "metadata": {},
   "outputs": [
    {
     "name": "stdout",
     "output_type": "stream",
     "text": [
      "0.0948001033023862\n"
     ]
    }
   ],
   "source": [
    "ln = LinearRegression()\n",
    "ln.fit(X_train,np.log(y_train))\n",
    "print(ln.score(X_train,np.log(y_train)))\n",
    "y_pred = ln.predict(X_val)"
   ]
  },
  {
   "cell_type": "code",
   "execution_count": 120,
   "metadata": {},
   "outputs": [],
   "source": [
    "y_pred_exp = np.exp(y_pred)"
   ]
  },
  {
   "cell_type": "code",
   "execution_count": 121,
   "metadata": {},
   "outputs": [],
   "source": [
    "def rmsle(pred, val):\n",
    "    return(np.sqrt(((np.log(pred+1) - np.log(val+1))**2).mean()))"
   ]
  },
  {
   "cell_type": "code",
   "execution_count": 122,
   "metadata": {},
   "outputs": [
    {
     "data": {
      "text/plain": [
       "1.6367696090255288"
      ]
     },
     "execution_count": 122,
     "metadata": {},
     "output_type": "execute_result"
    }
   ],
   "source": [
    "rmsle(y_pred_exp,y_val)"
   ]
  },
  {
   "cell_type": "markdown",
   "metadata": {},
   "source": [
    "#### Non-linear feature importance"
   ]
  },
  {
   "cell_type": "code",
   "execution_count": 123,
   "metadata": {},
   "outputs": [
    {
     "data": {
      "text/plain": [
       "4735"
      ]
     },
     "execution_count": 123,
     "metadata": {},
     "output_type": "execute_result"
    }
   ],
   "source": [
    "all_feat = [col for col in labeled.columns if re.search(re.compile(\"target|ID\"),col) is None]\n",
    "len(all_feat)"
   ]
  },
  {
   "cell_type": "code",
   "execution_count": 139,
   "metadata": {},
   "outputs": [],
   "source": [
    "X_train2, X_val2, y_train, y_val = train_test_split(labeled[all_feat],y,test_size=0.2,random_state=1)"
   ]
  },
  {
   "cell_type": "code",
   "execution_count": 140,
   "metadata": {},
   "outputs": [
    {
     "data": {
      "text/plain": [
       "1.5934216833920425"
      ]
     },
     "execution_count": 140,
     "metadata": {},
     "output_type": "execute_result"
    }
   ],
   "source": [
    "rf = RandomForestRegressor(n_estimators=300,max_depth=3,random_state=1)\n",
    "rf.fit(X_train2,np.log(y_train))\n",
    "y_pred2 = rf.predict(X_val2)\n",
    "rmsle(np.exp(y_pred2),y_val)"
   ]
  },
  {
   "cell_type": "code",
   "execution_count": 141,
   "metadata": {},
   "outputs": [],
   "source": [
    "nl_feat = pd.concat([pd.Series(X_train2.columns),pd.Series(rf.feature_importances_)],axis=1).sort_values(by=1,ascending=False)\n",
    "nl_feat.columns = ['feat','rf_imp_score']"
   ]
  },
  {
   "cell_type": "code",
   "execution_count": 142,
   "metadata": {},
   "outputs": [],
   "source": [
    "top_nl_feat = nl_feat.feat[:40]"
   ]
  },
  {
   "cell_type": "code",
   "execution_count": 143,
   "metadata": {},
   "outputs": [
    {
     "data": {
      "text/plain": [
       "21"
      ]
     },
     "execution_count": 143,
     "metadata": {},
     "output_type": "execute_result"
    }
   ],
   "source": [
    "len(set(top_nl_feat) - set(top_non_sparse_feat)) # 21 non-overlapping"
   ]
  },
  {
   "cell_type": "code",
   "execution_count": 144,
   "metadata": {},
   "outputs": [],
   "source": [
    "nl_feat.to_csv(r\"../input/nln_feat.txt\",index=False)"
   ]
  },
  {
   "cell_type": "code",
   "execution_count": 126,
   "metadata": {},
   "outputs": [],
   "source": [
    "X_train2, X_val2, y_train, y_val = train_test_split(labeled[top_nl_feat],y,test_size=0.2,random_state=1)"
   ]
  },
  {
   "cell_type": "code",
   "execution_count": 127,
   "metadata": {},
   "outputs": [
    {
     "data": {
      "text/plain": [
       "1.5939661729391676"
      ]
     },
     "execution_count": 127,
     "metadata": {},
     "output_type": "execute_result"
    }
   ],
   "source": [
    "rf = RandomForestRegressor(n_estimators=300,max_depth=3,random_state=1)\n",
    "rf.fit(X_train2,np.log(y_train))\n",
    "y_pred2 = rf.predict(X_val2)\n",
    "rmsle(np.exp(y_pred2),y_val)"
   ]
  },
  {
   "cell_type": "markdown",
   "metadata": {},
   "source": [
    "### Apply on test"
   ]
  },
  {
   "cell_type": "code",
   "execution_count": 77,
   "metadata": {},
   "outputs": [
    {
     "name": "stdout",
     "output_type": "stream",
     "text": [
      "(49342, 4992)\n"
     ]
    },
    {
     "data": {
      "text/html": [
       "<div>\n",
       "<style scoped>\n",
       "    .dataframe tbody tr th:only-of-type {\n",
       "        vertical-align: middle;\n",
       "    }\n",
       "\n",
       "    .dataframe tbody tr th {\n",
       "        vertical-align: top;\n",
       "    }\n",
       "\n",
       "    .dataframe thead th {\n",
       "        text-align: right;\n",
       "    }\n",
       "</style>\n",
       "<table border=\"1\" class=\"dataframe\">\n",
       "  <thead>\n",
       "    <tr style=\"text-align: right;\">\n",
       "      <th></th>\n",
       "      <th>ID</th>\n",
       "      <th>48df886f9</th>\n",
       "      <th>0deb4b6a8</th>\n",
       "      <th>34b15f335</th>\n",
       "      <th>a8cb14b00</th>\n",
       "      <th>2f0771a37</th>\n",
       "      <th>30347e683</th>\n",
       "      <th>d08d1fbe3</th>\n",
       "      <th>6ee66e115</th>\n",
       "      <th>20aa07010</th>\n",
       "      <th>...</th>\n",
       "      <th>3ecc09859</th>\n",
       "      <th>9281abeea</th>\n",
       "      <th>8675bec0b</th>\n",
       "      <th>3a13ed79a</th>\n",
       "      <th>f677d4d13</th>\n",
       "      <th>71b203550</th>\n",
       "      <th>137efaa80</th>\n",
       "      <th>fb36b89d9</th>\n",
       "      <th>7e293fbaf</th>\n",
       "      <th>9fc776466</th>\n",
       "    </tr>\n",
       "  </thead>\n",
       "  <tbody>\n",
       "    <tr>\n",
       "      <th>0</th>\n",
       "      <td>000137c73</td>\n",
       "      <td>0.0</td>\n",
       "      <td>0.0</td>\n",
       "      <td>0.0</td>\n",
       "      <td>0.0</td>\n",
       "      <td>0.0</td>\n",
       "      <td>0.0</td>\n",
       "      <td>0.0</td>\n",
       "      <td>0.0</td>\n",
       "      <td>0.0</td>\n",
       "      <td>...</td>\n",
       "      <td>0.0</td>\n",
       "      <td>0.0</td>\n",
       "      <td>0.0</td>\n",
       "      <td>0.0</td>\n",
       "      <td>0.0</td>\n",
       "      <td>0.0</td>\n",
       "      <td>0.0</td>\n",
       "      <td>0.0</td>\n",
       "      <td>0.0</td>\n",
       "      <td>0.0</td>\n",
       "    </tr>\n",
       "    <tr>\n",
       "      <th>1</th>\n",
       "      <td>00021489f</td>\n",
       "      <td>0.0</td>\n",
       "      <td>0.0</td>\n",
       "      <td>0.0</td>\n",
       "      <td>0.0</td>\n",
       "      <td>0.0</td>\n",
       "      <td>0.0</td>\n",
       "      <td>0.0</td>\n",
       "      <td>0.0</td>\n",
       "      <td>0.0</td>\n",
       "      <td>...</td>\n",
       "      <td>0.0</td>\n",
       "      <td>0.0</td>\n",
       "      <td>0.0</td>\n",
       "      <td>0.0</td>\n",
       "      <td>0.0</td>\n",
       "      <td>0.0</td>\n",
       "      <td>0.0</td>\n",
       "      <td>0.0</td>\n",
       "      <td>0.0</td>\n",
       "      <td>0.0</td>\n",
       "    </tr>\n",
       "    <tr>\n",
       "      <th>2</th>\n",
       "      <td>0004d7953</td>\n",
       "      <td>0.0</td>\n",
       "      <td>0.0</td>\n",
       "      <td>0.0</td>\n",
       "      <td>0.0</td>\n",
       "      <td>0.0</td>\n",
       "      <td>0.0</td>\n",
       "      <td>0.0</td>\n",
       "      <td>0.0</td>\n",
       "      <td>0.0</td>\n",
       "      <td>...</td>\n",
       "      <td>0.0</td>\n",
       "      <td>0.0</td>\n",
       "      <td>0.0</td>\n",
       "      <td>0.0</td>\n",
       "      <td>0.0</td>\n",
       "      <td>0.0</td>\n",
       "      <td>0.0</td>\n",
       "      <td>0.0</td>\n",
       "      <td>0.0</td>\n",
       "      <td>0.0</td>\n",
       "    </tr>\n",
       "  </tbody>\n",
       "</table>\n",
       "<p>3 rows × 4992 columns</p>\n",
       "</div>"
      ],
      "text/plain": [
       "          ID  48df886f9  0deb4b6a8  34b15f335  a8cb14b00  2f0771a37  \\\n",
       "0  000137c73        0.0        0.0        0.0        0.0        0.0   \n",
       "1  00021489f        0.0        0.0        0.0        0.0        0.0   \n",
       "2  0004d7953        0.0        0.0        0.0        0.0        0.0   \n",
       "\n",
       "   30347e683  d08d1fbe3  6ee66e115  20aa07010    ...      3ecc09859  \\\n",
       "0        0.0        0.0        0.0        0.0    ...            0.0   \n",
       "1        0.0        0.0        0.0        0.0    ...            0.0   \n",
       "2        0.0        0.0        0.0        0.0    ...            0.0   \n",
       "\n",
       "   9281abeea  8675bec0b  3a13ed79a  f677d4d13  71b203550  137efaa80  \\\n",
       "0        0.0        0.0        0.0        0.0        0.0        0.0   \n",
       "1        0.0        0.0        0.0        0.0        0.0        0.0   \n",
       "2        0.0        0.0        0.0        0.0        0.0        0.0   \n",
       "\n",
       "   fb36b89d9  7e293fbaf  9fc776466  \n",
       "0        0.0        0.0        0.0  \n",
       "1        0.0        0.0        0.0  \n",
       "2        0.0        0.0        0.0  \n",
       "\n",
       "[3 rows x 4992 columns]"
      ]
     },
     "execution_count": 77,
     "metadata": {},
     "output_type": "execute_result"
    }
   ],
   "source": [
    "test = pd.read_csv(r'../data/test.csv')\n",
    "print(test.shape)\n",
    "test[:3]"
   ]
  },
  {
   "cell_type": "code",
   "execution_count": 132,
   "metadata": {},
   "outputs": [],
   "source": [
    "pred_target1 = np.exp(ln.predict(test[top_non_sparse_feat]))\n",
    "pred_target2 = np.exp(rf.predict(test[top_nl_feat]))"
   ]
  },
  {
   "cell_type": "code",
   "execution_count": 133,
   "metadata": {},
   "outputs": [],
   "source": [
    "output = pd.concat([test['ID'],pd.Series((pred_target1+pred_target2)/2)],axis=1)\n",
    "output.columns=['ID','target']"
   ]
  },
  {
   "cell_type": "code",
   "execution_count": 134,
   "metadata": {},
   "outputs": [
    {
     "data": {
      "text/html": [
       "<div>\n",
       "<style scoped>\n",
       "    .dataframe tbody tr th:only-of-type {\n",
       "        vertical-align: middle;\n",
       "    }\n",
       "\n",
       "    .dataframe tbody tr th {\n",
       "        vertical-align: top;\n",
       "    }\n",
       "\n",
       "    .dataframe thead th {\n",
       "        text-align: right;\n",
       "    }\n",
       "</style>\n",
       "<table border=\"1\" class=\"dataframe\">\n",
       "  <thead>\n",
       "    <tr style=\"text-align: right;\">\n",
       "      <th></th>\n",
       "      <th>ID</th>\n",
       "      <th>target</th>\n",
       "    </tr>\n",
       "  </thead>\n",
       "  <tbody>\n",
       "    <tr>\n",
       "      <th>0</th>\n",
       "      <td>000137c73</td>\n",
       "      <td>1.611650e+06</td>\n",
       "    </tr>\n",
       "    <tr>\n",
       "      <th>1</th>\n",
       "      <td>00021489f</td>\n",
       "      <td>1.595106e+06</td>\n",
       "    </tr>\n",
       "    <tr>\n",
       "      <th>2</th>\n",
       "      <td>0004d7953</td>\n",
       "      <td>1.894674e+06</td>\n",
       "    </tr>\n",
       "  </tbody>\n",
       "</table>\n",
       "</div>"
      ],
      "text/plain": [
       "          ID        target\n",
       "0  000137c73  1.611650e+06\n",
       "1  00021489f  1.595106e+06\n",
       "2  0004d7953  1.894674e+06"
      ]
     },
     "execution_count": 134,
     "metadata": {},
     "output_type": "execute_result"
    }
   ],
   "source": [
    "output[:3]"
   ]
  },
  {
   "cell_type": "code",
   "execution_count": 136,
   "metadata": {},
   "outputs": [],
   "source": [
    "output.to_csv('../output/0808_logY_40ln_40nln_lr+rf.csv',index=False)"
   ]
  },
  {
   "cell_type": "code",
   "execution_count": null,
   "metadata": {
    "collapsed": true
   },
   "outputs": [],
   "source": []
  },
  {
   "cell_type": "code",
   "execution_count": null,
   "metadata": {
    "collapsed": true
   },
   "outputs": [],
   "source": []
  }
 ],
 "metadata": {
  "kernelspec": {
   "display_name": "Python 3",
   "language": "python",
   "name": "python3"
  },
  "language_info": {
   "codemirror_mode": {
    "name": "ipython",
    "version": 3
   },
   "file_extension": ".py",
   "mimetype": "text/x-python",
   "name": "python",
   "nbconvert_exporter": "python",
   "pygments_lexer": "ipython3",
   "version": "3.6.4"
  }
 },
 "nbformat": 4,
 "nbformat_minor": 2
}
