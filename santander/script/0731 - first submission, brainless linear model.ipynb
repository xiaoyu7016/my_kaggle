{
 "cells": [
  {
   "cell_type": "markdown",
   "metadata": {},
   "source": [
    "https://www.kaggle.com/sudalairajkumar/simple-exploration-baseline-santander-value\n",
    "\n",
    "https://medium.com/@pushkarmandot/https-medium-com-pushkarmandot-what-is-lightgbm-how-to-implement-it-how-to-fine-tune-the-parameters-60347819b7fc"
   ]
  },
  {
   "cell_type": "code",
   "execution_count": 1,
   "metadata": {
    "collapsed": true
   },
   "outputs": [],
   "source": [
    "import os\n",
    "import re\n",
    "import pandas as pd\n",
    "import numpy as np\n",
    "from sklearn.model_selection import train_test_split\n",
    "\n",
    "import matplotlib.pyplot as plt\n",
    "import seaborn as sns\n",
    "%matplotlib inline"
   ]
  },
  {
   "cell_type": "code",
   "execution_count": 40,
   "metadata": {
    "collapsed": true
   },
   "outputs": [],
   "source": [
    "from sklearn.linear_model import LinearRegression\n",
    "from sklearn.ensemble import RandomForestRegressor"
   ]
  },
  {
   "cell_type": "code",
   "execution_count": 5,
   "metadata": {},
   "outputs": [
    {
     "name": "stdout",
     "output_type": "stream",
     "text": [
      "(4459, 4993)\n"
     ]
    }
   ],
   "source": [
    "labeled = pd.read_csv(r'../data/train.csv')\n",
    "print(labeled.shape)"
   ]
  },
  {
   "cell_type": "code",
   "execution_count": 6,
   "metadata": {
    "scrolled": true
   },
   "outputs": [
    {
     "data": {
      "text/plain": [
       "Index(['ID', 'target', '48df886f9', '0deb4b6a8', '34b15f335', 'a8cb14b00',\n",
       "       '2f0771a37', '30347e683', 'd08d1fbe3', '6ee66e115',\n",
       "       ...\n",
       "       '3ecc09859', '9281abeea', '8675bec0b', '3a13ed79a', 'f677d4d13',\n",
       "       '71b203550', '137efaa80', 'fb36b89d9', '7e293fbaf', '9fc776466'],\n",
       "      dtype='object', length=4993)"
      ]
     },
     "execution_count": 6,
     "metadata": {},
     "output_type": "execute_result"
    }
   ],
   "source": [
    "labeled.columns"
   ]
  },
  {
   "cell_type": "markdown",
   "metadata": {},
   "source": [
    "### Take a look at the Y distribution\n",
    "- Might want to take log of right-skewed money values (non-neg; log(Y)~normal => good for linear regression)"
   ]
  },
  {
   "cell_type": "code",
   "execution_count": 7,
   "metadata": {},
   "outputs": [
    {
     "data": {
      "text/plain": [
       "Text(0.5,1,'Target Histogram')"
      ]
     },
     "execution_count": 7,
     "metadata": {},
     "output_type": "execute_result"
    },
    {
     "data": {
      "image/png": "[encoded data removed]",
      "text/plain": [
       "<matplotlib.figure.Figure at 0x1139f0278>"
      ]
     },
     "metadata": {},
     "output_type": "display_data"
    }
   ],
   "source": [
    "labeled['target'].hist(bins=100)\n",
    "plt.title(\"Target Histogram\")"
   ]
  },
  {
   "cell_type": "code",
   "execution_count": 8,
   "metadata": {},
   "outputs": [
    {
     "data": {
      "text/plain": [
       "Text(0.5,1,'Log Target Histogram')"
      ]
     },
     "execution_count": 8,
     "metadata": {},
     "output_type": "execute_result"
    },
    {
     "data": {
      "image/png": "[encoded data removed]",
      "text/plain": [
       "<matplotlib.figure.Figure at 0x1a17280668>"
      ]
     },
     "metadata": {},
     "output_type": "display_data"
    }
   ],
   "source": [
    "labeled['target'].map(np.log).hist(bins=100)\n",
    "plt.title('Log Target Histogram')"
   ]
  },
  {
   "cell_type": "markdown",
   "metadata": {},
   "source": [
    "### Take a look at X\n",
    "- missing values?\n",
    "- data types?\n",
    "- constants?"
   ]
  },
  {
   "cell_type": "code",
   "execution_count": 9,
   "metadata": {},
   "outputs": [
    {
     "data": {
      "text/html": [
       "<div>\n",
       "<style>\n",
       "    .dataframe thead tr:only-child th {\n",
       "        text-align: right;\n",
       "    }\n",
       "\n",
       "    .dataframe thead th {\n",
       "        text-align: left;\n",
       "    }\n",
       "\n",
       "    .dataframe tbody tr th {\n",
       "        vertical-align: top;\n",
       "    }\n",
       "</style>\n",
       "<table border=\"1\" class=\"dataframe\">\n",
       "  <thead>\n",
       "    <tr style=\"text-align: right;\">\n",
       "      <th></th>\n",
       "      <th>col</th>\n",
       "      <th>NAs</th>\n",
       "    </tr>\n",
       "  </thead>\n",
       "  <tbody>\n",
       "  </tbody>\n",
       "</table>\n",
       "</div>"
      ],
      "text/plain": [
       "Empty DataFrame\n",
       "Columns: [col, NAs]\n",
       "Index: []"
      ]
     },
     "execution_count": 9,
     "metadata": {},
     "output_type": "execute_result"
    }
   ],
   "source": [
    "missing_df = labeled.isnull().sum(axis=0).reset_index()\n",
    "missing_df.columns=['col','NAs']\n",
    "missing_df[missing_df.NAs!=0]"
   ]
  },
  {
   "cell_type": "code",
   "execution_count": 10,
   "metadata": {},
   "outputs": [
    {
     "data": {
      "text/html": [
       "<div>\n",
       "<style>\n",
       "    .dataframe thead tr:only-child th {\n",
       "        text-align: right;\n",
       "    }\n",
       "\n",
       "    .dataframe thead th {\n",
       "        text-align: left;\n",
       "    }\n",
       "\n",
       "    .dataframe tbody tr th {\n",
       "        vertical-align: top;\n",
       "    }\n",
       "</style>\n",
       "<table border=\"1\" class=\"dataframe\">\n",
       "  <thead>\n",
       "    <tr style=\"text-align: right;\">\n",
       "      <th></th>\n",
       "      <th>index</th>\n",
       "    </tr>\n",
       "    <tr>\n",
       "      <th>0</th>\n",
       "      <th></th>\n",
       "    </tr>\n",
       "  </thead>\n",
       "  <tbody>\n",
       "    <tr>\n",
       "      <th>int64</th>\n",
       "      <td>3147</td>\n",
       "    </tr>\n",
       "    <tr>\n",
       "      <th>float64</th>\n",
       "      <td>1845</td>\n",
       "    </tr>\n",
       "    <tr>\n",
       "      <th>object</th>\n",
       "      <td>1</td>\n",
       "    </tr>\n",
       "  </tbody>\n",
       "</table>\n",
       "</div>"
      ],
      "text/plain": [
       "         index\n",
       "0             \n",
       "int64     3147\n",
       "float64   1845\n",
       "object       1"
      ]
     },
     "execution_count": 10,
     "metadata": {},
     "output_type": "execute_result"
    }
   ],
   "source": [
    "dtype_df = labeled.dtypes.reset_index()\n",
    "dtype_df.groupby(0).count() # all numeric"
   ]
  },
  {
   "cell_type": "code",
   "execution_count": 11,
   "metadata": {},
   "outputs": [
    {
     "data": {
      "text/plain": [
       "256"
      ]
     },
     "execution_count": 11,
     "metadata": {},
     "output_type": "execute_result"
    }
   ],
   "source": [
    "constant_df = labeled.nunique().reset_index()\n",
    "constant_df.columns = ['col','unique_vals']\n",
    "len(constant_df[constant_df.unique_vals==1])"
   ]
  },
  {
   "cell_type": "code",
   "execution_count": 12,
   "metadata": {},
   "outputs": [
    {
     "data": {
      "text/plain": [
       "256"
      ]
     },
     "execution_count": 12,
     "metadata": {},
     "output_type": "execute_result"
    }
   ],
   "source": [
    "const_col = list(constant_df[constant_df.unique_vals==1].col.values)\n",
    "len(const_col)"
   ]
  },
  {
   "cell_type": "code",
   "execution_count": 14,
   "metadata": {},
   "outputs": [
    {
     "name": "stdout",
     "output_type": "stream",
     "text": [
      "(4459, 4737)\n"
     ]
    }
   ],
   "source": [
    "labeled.drop(labels=const_col,axis=1,inplace=True)\n",
    "print(labeled.shape)"
   ]
  },
  {
   "cell_type": "code",
   "execution_count": 15,
   "metadata": {},
   "outputs": [
    {
     "name": "stdout",
     "output_type": "stream",
     "text": [
      "CPU times: user 3.62 ms, sys: 2.62 ms, total: 6.24 ms\n",
      "Wall time: 5.7 ms\n"
     ]
    }
   ],
   "source": [
    "%%time\n",
    "test = labeled.iloc[:,1:10]\n",
    "corr=test.corr()"
   ]
  },
  {
   "cell_type": "code",
   "execution_count": 16,
   "metadata": {},
   "outputs": [
    {
     "data": {
      "text/plain": [
       "0.010188021496986742"
      ]
     },
     "execution_count": 16,
     "metadata": {},
     "output_type": "execute_result"
    }
   ],
   "source": [
    "labeled[['target','48df886f9']].corr().values[0,1]"
   ]
  },
  {
   "cell_type": "code",
   "execution_count": 17,
   "metadata": {},
   "outputs": [
    {
     "name": "stdout",
     "output_type": "stream",
     "text": [
      "CPU times: user 3.58 s, sys: 16.2 ms, total: 3.59 s\n",
      "Wall time: 3.62 s\n"
     ]
    }
   ],
   "source": [
    "%%time\n",
    "feature_dict={}\n",
    "for feature in labeled.columns[2:]:\n",
    "    feature_dict[feature] = labeled[['target',feature]].corr().values[0,1]"
   ]
  },
  {
   "cell_type": "code",
   "execution_count": 18,
   "metadata": {
    "collapsed": true
   },
   "outputs": [],
   "source": [
    "feat_corr_df = pd.DataFrame.from_dict(feature_dict, orient='index').reset_index()\n",
    "feat_corr_df.columns = ['feat','corr']\n",
    "feat_corr_df['corr_abs'] = feat_corr_df['corr'].map(np.abs)"
   ]
  },
  {
   "cell_type": "code",
   "execution_count": 19,
   "metadata": {},
   "outputs": [
    {
     "data": {
      "text/html": [
       "<div>\n",
       "<style>\n",
       "    .dataframe thead tr:only-child th {\n",
       "        text-align: right;\n",
       "    }\n",
       "\n",
       "    .dataframe thead th {\n",
       "        text-align: left;\n",
       "    }\n",
       "\n",
       "    .dataframe tbody tr th {\n",
       "        vertical-align: top;\n",
       "    }\n",
       "</style>\n",
       "<table border=\"1\" class=\"dataframe\">\n",
       "  <thead>\n",
       "    <tr style=\"text-align: right;\">\n",
       "      <th></th>\n",
       "      <th>feat</th>\n",
       "      <th>corr</th>\n",
       "      <th>corr_abs</th>\n",
       "    </tr>\n",
       "  </thead>\n",
       "  <tbody>\n",
       "    <tr>\n",
       "      <th>4476</th>\n",
       "      <td>555f18bd3</td>\n",
       "      <td>0.273379</td>\n",
       "      <td>0.273379</td>\n",
       "    </tr>\n",
       "    <tr>\n",
       "      <th>2617</th>\n",
       "      <td>9fd594eec</td>\n",
       "      <td>0.270019</td>\n",
       "      <td>0.270019</td>\n",
       "    </tr>\n",
       "    <tr>\n",
       "      <th>2342</th>\n",
       "      <td>5bc7ab64f</td>\n",
       "      <td>0.267858</td>\n",
       "      <td>0.267858</td>\n",
       "    </tr>\n",
       "    <tr>\n",
       "      <th>3337</th>\n",
       "      <td>cbbc9c431</td>\n",
       "      <td>0.265005</td>\n",
       "      <td>0.265005</td>\n",
       "    </tr>\n",
       "    <tr>\n",
       "      <th>4135</th>\n",
       "      <td>f190486d6</td>\n",
       "      <td>0.263821</td>\n",
       "      <td>0.263821</td>\n",
       "    </tr>\n",
       "    <tr>\n",
       "      <th>4707</th>\n",
       "      <td>6b119d8ce</td>\n",
       "      <td>0.258290</td>\n",
       "      <td>0.258290</td>\n",
       "    </tr>\n",
       "    <tr>\n",
       "      <th>4190</th>\n",
       "      <td>f74e8f13d</td>\n",
       "      <td>0.257238</td>\n",
       "      <td>0.257238</td>\n",
       "    </tr>\n",
       "    <tr>\n",
       "      <th>570</th>\n",
       "      <td>ac30af84a</td>\n",
       "      <td>0.256292</td>\n",
       "      <td>0.256292</td>\n",
       "    </tr>\n",
       "    <tr>\n",
       "      <th>537</th>\n",
       "      <td>26fc93eb7</td>\n",
       "      <td>0.255186</td>\n",
       "      <td>0.255186</td>\n",
       "    </tr>\n",
       "    <tr>\n",
       "      <th>2378</th>\n",
       "      <td>58e2e02e6</td>\n",
       "      <td>0.254984</td>\n",
       "      <td>0.254984</td>\n",
       "    </tr>\n",
       "    <tr>\n",
       "      <th>4163</th>\n",
       "      <td>429687d5a</td>\n",
       "      <td>0.254169</td>\n",
       "      <td>0.254169</td>\n",
       "    </tr>\n",
       "    <tr>\n",
       "      <th>3706</th>\n",
       "      <td>e8d9394a0</td>\n",
       "      <td>0.253266</td>\n",
       "      <td>0.253266</td>\n",
       "    </tr>\n",
       "    <tr>\n",
       "      <th>834</th>\n",
       "      <td>6eef030c1</td>\n",
       "      <td>0.252917</td>\n",
       "      <td>0.252917</td>\n",
       "    </tr>\n",
       "    <tr>\n",
       "      <th>1240</th>\n",
       "      <td>f3cf9341c</td>\n",
       "      <td>0.252583</td>\n",
       "      <td>0.252583</td>\n",
       "    </tr>\n",
       "    <tr>\n",
       "      <th>1228</th>\n",
       "      <td>e4159c59e</td>\n",
       "      <td>0.252386</td>\n",
       "      <td>0.252386</td>\n",
       "    </tr>\n",
       "    <tr>\n",
       "      <th>3024</th>\n",
       "      <td>ba4ceabc5</td>\n",
       "      <td>0.252356</td>\n",
       "      <td>0.252356</td>\n",
       "    </tr>\n",
       "    <tr>\n",
       "      <th>1495</th>\n",
       "      <td>51707c671</td>\n",
       "      <td>0.251966</td>\n",
       "      <td>0.251966</td>\n",
       "    </tr>\n",
       "    <tr>\n",
       "      <th>4348</th>\n",
       "      <td>1702b5bf0</td>\n",
       "      <td>0.251361</td>\n",
       "      <td>0.251361</td>\n",
       "    </tr>\n",
       "    <tr>\n",
       "      <th>1261</th>\n",
       "      <td>38e6f8d32</td>\n",
       "      <td>0.251044</td>\n",
       "      <td>0.251044</td>\n",
       "    </tr>\n",
       "    <tr>\n",
       "      <th>2717</th>\n",
       "      <td>f296082ec</td>\n",
       "      <td>0.250598</td>\n",
       "      <td>0.250598</td>\n",
       "    </tr>\n",
       "  </tbody>\n",
       "</table>\n",
       "</div>"
      ],
      "text/plain": [
       "           feat      corr  corr_abs\n",
       "4476  555f18bd3  0.273379  0.273379\n",
       "2617  9fd594eec  0.270019  0.270019\n",
       "2342  5bc7ab64f  0.267858  0.267858\n",
       "3337  cbbc9c431  0.265005  0.265005\n",
       "4135  f190486d6  0.263821  0.263821\n",
       "4707  6b119d8ce  0.258290  0.258290\n",
       "4190  f74e8f13d  0.257238  0.257238\n",
       "570   ac30af84a  0.256292  0.256292\n",
       "537   26fc93eb7  0.255186  0.255186\n",
       "2378  58e2e02e6  0.254984  0.254984\n",
       "4163  429687d5a  0.254169  0.254169\n",
       "3706  e8d9394a0  0.253266  0.253266\n",
       "834   6eef030c1  0.252917  0.252917\n",
       "1240  f3cf9341c  0.252583  0.252583\n",
       "1228  e4159c59e  0.252386  0.252386\n",
       "3024  ba4ceabc5  0.252356  0.252356\n",
       "1495  51707c671  0.251966  0.251966\n",
       "4348  1702b5bf0  0.251361  0.251361\n",
       "1261  38e6f8d32  0.251044  0.251044\n",
       "2717  f296082ec  0.250598  0.250598"
      ]
     },
     "execution_count": 19,
     "metadata": {},
     "output_type": "execute_result"
    }
   ],
   "source": [
    "feat_corr_df.sort_values('corr_abs',ascending=False)[:20]"
   ]
  },
  {
   "cell_type": "code",
   "execution_count": 20,
   "metadata": {},
   "outputs": [
    {
     "data": {
      "text/plain": [
       "<matplotlib.axes._subplots.AxesSubplot at 0x115c4e668>"
      ]
     },
     "execution_count": 20,
     "metadata": {},
     "output_type": "execute_result"
    },
    {
     "data": {
      "image/png": "[encoded data removed]",
      "text/plain": [
       "<matplotlib.figure.Figure at 0x1143ef4e0>"
      ]
     },
     "metadata": {},
     "output_type": "display_data"
    }
   ],
   "source": [
    "labeled['555f18bd3'].hist(bins=100)"
   ]
  },
  {
   "cell_type": "code",
   "execution_count": 21,
   "metadata": {},
   "outputs": [
    {
     "data": {
      "text/plain": [
       "(324, 4737)"
      ]
     },
     "execution_count": 21,
     "metadata": {},
     "output_type": "execute_result"
    }
   ],
   "source": [
    "labeled[labeled['555f18bd3']!=0].shape # ok, very sparse"
   ]
  },
  {
   "cell_type": "code",
   "execution_count": 22,
   "metadata": {
    "collapsed": true
   },
   "outputs": [],
   "source": [
    "feature_sparse_dict={}\n",
    "for feature in labeled.columns[2:]:\n",
    "    feature_sparse_dict[feature] = len(labeled[labeled[feature]!=0])"
   ]
  },
  {
   "cell_type": "code",
   "execution_count": 23,
   "metadata": {},
   "outputs": [
    {
     "name": "stdout",
     "output_type": "stream",
     "text": [
      "count    4735.000000\n",
      "mean      147.858289\n",
      "std       216.818376\n",
      "min         1.000000\n",
      "25%        15.000000\n",
      "50%        70.000000\n",
      "75%       180.000000\n",
      "max      1565.000000\n",
      "Name: values, dtype: float64\n"
     ]
    },
    {
     "data": {
      "text/html": [
       "<div>\n",
       "<style>\n",
       "    .dataframe thead tr:only-child th {\n",
       "        text-align: right;\n",
       "    }\n",
       "\n",
       "    .dataframe thead th {\n",
       "        text-align: left;\n",
       "    }\n",
       "\n",
       "    .dataframe tbody tr th {\n",
       "        vertical-align: top;\n",
       "    }\n",
       "</style>\n",
       "<table border=\"1\" class=\"dataframe\">\n",
       "  <thead>\n",
       "    <tr style=\"text-align: right;\">\n",
       "      <th></th>\n",
       "      <th>feat</th>\n",
       "      <th>values</th>\n",
       "    </tr>\n",
       "  </thead>\n",
       "  <tbody>\n",
       "    <tr>\n",
       "      <th>4321</th>\n",
       "      <td>c5a231d81</td>\n",
       "      <td>1565</td>\n",
       "    </tr>\n",
       "    <tr>\n",
       "      <th>1953</th>\n",
       "      <td>0ff32eb98</td>\n",
       "      <td>1565</td>\n",
       "    </tr>\n",
       "    <tr>\n",
       "      <th>2934</th>\n",
       "      <td>91f701ba2</td>\n",
       "      <td>1560</td>\n",
       "    </tr>\n",
       "    <tr>\n",
       "      <th>4513</th>\n",
       "      <td>c47340d97</td>\n",
       "      <td>1555</td>\n",
       "    </tr>\n",
       "    <tr>\n",
       "      <th>3816</th>\n",
       "      <td>adb64ff71</td>\n",
       "      <td>1547</td>\n",
       "    </tr>\n",
       "  </tbody>\n",
       "</table>\n",
       "</div>"
      ],
      "text/plain": [
       "           feat  values\n",
       "4321  c5a231d81    1565\n",
       "1953  0ff32eb98    1565\n",
       "2934  91f701ba2    1560\n",
       "4513  c47340d97    1555\n",
       "3816  adb64ff71    1547"
      ]
     },
     "execution_count": 23,
     "metadata": {},
     "output_type": "execute_result"
    }
   ],
   "source": [
    "feat_sparse_df = pd.DataFrame.from_dict(feature_sparse_dict,orient='index').reset_index()\n",
    "feat_sparse_df.columns = ['feat','values']\n",
    "print(feat_sparse_df['values'].describe())\n",
    "feat_sparse_df.sort_values('values',ascending=False)[:5]"
   ]
  },
  {
   "cell_type": "code",
   "execution_count": 24,
   "metadata": {},
   "outputs": [
    {
     "name": "stdout",
     "output_type": "stream",
     "text": [
      "(4735, 4)\n"
     ]
    },
    {
     "data": {
      "text/html": [
       "<div>\n",
       "<style>\n",
       "    .dataframe thead tr:only-child th {\n",
       "        text-align: right;\n",
       "    }\n",
       "\n",
       "    .dataframe thead th {\n",
       "        text-align: left;\n",
       "    }\n",
       "\n",
       "    .dataframe tbody tr th {\n",
       "        vertical-align: top;\n",
       "    }\n",
       "</style>\n",
       "<table border=\"1\" class=\"dataframe\">\n",
       "  <thead>\n",
       "    <tr style=\"text-align: right;\">\n",
       "      <th></th>\n",
       "      <th>feat</th>\n",
       "      <th>corr</th>\n",
       "      <th>corr_abs</th>\n",
       "      <th>values</th>\n",
       "    </tr>\n",
       "  </thead>\n",
       "  <tbody>\n",
       "    <tr>\n",
       "      <th>0</th>\n",
       "      <td>48df886f9</td>\n",
       "      <td>0.010188</td>\n",
       "      <td>0.010188</td>\n",
       "      <td>39</td>\n",
       "    </tr>\n",
       "    <tr>\n",
       "      <th>1</th>\n",
       "      <td>0deb4b6a8</td>\n",
       "      <td>0.013805</td>\n",
       "      <td>0.013805</td>\n",
       "      <td>4</td>\n",
       "    </tr>\n",
       "    <tr>\n",
       "      <th>2</th>\n",
       "      <td>34b15f335</td>\n",
       "      <td>0.014694</td>\n",
       "      <td>0.014694</td>\n",
       "      <td>33</td>\n",
       "    </tr>\n",
       "  </tbody>\n",
       "</table>\n",
       "</div>"
      ],
      "text/plain": [
       "        feat      corr  corr_abs  values\n",
       "0  48df886f9  0.010188  0.010188      39\n",
       "1  0deb4b6a8  0.013805  0.013805       4\n",
       "2  34b15f335  0.014694  0.014694      33"
      ]
     },
     "execution_count": 24,
     "metadata": {},
     "output_type": "execute_result"
    }
   ],
   "source": [
    "feats = pd.merge(feat_corr_df, feat_sparse_df,how='inner',on='feat')\n",
    "print(feats.shape)\n",
    "feats[:3]"
   ]
  },
  {
   "cell_type": "code",
   "execution_count": 52,
   "metadata": {},
   "outputs": [
    {
     "data": {
      "text/html": [
       "<div>\n",
       "<style>\n",
       "    .dataframe thead tr:only-child th {\n",
       "        text-align: right;\n",
       "    }\n",
       "\n",
       "    .dataframe thead th {\n",
       "        text-align: left;\n",
       "    }\n",
       "\n",
       "    .dataframe tbody tr th {\n",
       "        vertical-align: top;\n",
       "    }\n",
       "</style>\n",
       "<table border=\"1\" class=\"dataframe\">\n",
       "  <thead>\n",
       "    <tr style=\"text-align: right;\">\n",
       "      <th></th>\n",
       "      <th>feat</th>\n",
       "      <th>corr</th>\n",
       "      <th>corr_abs</th>\n",
       "      <th>values</th>\n",
       "    </tr>\n",
       "  </thead>\n",
       "  <tbody>\n",
       "    <tr>\n",
       "      <th>1953</th>\n",
       "      <td>0ff32eb98</td>\n",
       "      <td>0.191524</td>\n",
       "      <td>0.191524</td>\n",
       "      <td>1565</td>\n",
       "    </tr>\n",
       "    <tr>\n",
       "      <th>4321</th>\n",
       "      <td>c5a231d81</td>\n",
       "      <td>0.191321</td>\n",
       "      <td>0.191321</td>\n",
       "      <td>1565</td>\n",
       "    </tr>\n",
       "    <tr>\n",
       "      <th>2934</th>\n",
       "      <td>91f701ba2</td>\n",
       "      <td>0.206891</td>\n",
       "      <td>0.206891</td>\n",
       "      <td>1560</td>\n",
       "    </tr>\n",
       "    <tr>\n",
       "      <th>4513</th>\n",
       "      <td>c47340d97</td>\n",
       "      <td>0.213456</td>\n",
       "      <td>0.213456</td>\n",
       "      <td>1555</td>\n",
       "    </tr>\n",
       "    <tr>\n",
       "      <th>545</th>\n",
       "      <td>0572565c2</td>\n",
       "      <td>0.201068</td>\n",
       "      <td>0.201068</td>\n",
       "      <td>1547</td>\n",
       "    </tr>\n",
       "    <tr>\n",
       "      <th>3816</th>\n",
       "      <td>adb64ff71</td>\n",
       "      <td>0.199026</td>\n",
       "      <td>0.199026</td>\n",
       "      <td>1547</td>\n",
       "    </tr>\n",
       "    <tr>\n",
       "      <th>4135</th>\n",
       "      <td>f190486d6</td>\n",
       "      <td>0.263821</td>\n",
       "      <td>0.263821</td>\n",
       "      <td>1544</td>\n",
       "    </tr>\n",
       "    <tr>\n",
       "      <th>4033</th>\n",
       "      <td>5c6487af1</td>\n",
       "      <td>0.209962</td>\n",
       "      <td>0.209962</td>\n",
       "      <td>1539</td>\n",
       "    </tr>\n",
       "    <tr>\n",
       "      <th>4346</th>\n",
       "      <td>e176a204a</td>\n",
       "      <td>0.191612</td>\n",
       "      <td>0.191612</td>\n",
       "      <td>1535</td>\n",
       "    </tr>\n",
       "    <tr>\n",
       "      <th>645</th>\n",
       "      <td>6619d81fc</td>\n",
       "      <td>0.200045</td>\n",
       "      <td>0.200045</td>\n",
       "      <td>1533</td>\n",
       "    </tr>\n",
       "    <tr>\n",
       "      <th>3784</th>\n",
       "      <td>70feb1494</td>\n",
       "      <td>0.248898</td>\n",
       "      <td>0.248898</td>\n",
       "      <td>1532</td>\n",
       "    </tr>\n",
       "    <tr>\n",
       "      <th>4693</th>\n",
       "      <td>23310aa6f</td>\n",
       "      <td>0.201988</td>\n",
       "      <td>0.201988</td>\n",
       "      <td>1532</td>\n",
       "    </tr>\n",
       "    <tr>\n",
       "      <th>4458</th>\n",
       "      <td>190db8488</td>\n",
       "      <td>0.182311</td>\n",
       "      <td>0.182311</td>\n",
       "      <td>1528</td>\n",
       "    </tr>\n",
       "    <tr>\n",
       "      <th>1360</th>\n",
       "      <td>1db387535</td>\n",
       "      <td>0.207491</td>\n",
       "      <td>0.207491</td>\n",
       "      <td>1525</td>\n",
       "    </tr>\n",
       "    <tr>\n",
       "      <th>3666</th>\n",
       "      <td>491b9ee45</td>\n",
       "      <td>0.213769</td>\n",
       "      <td>0.213769</td>\n",
       "      <td>1523</td>\n",
       "    </tr>\n",
       "    <tr>\n",
       "      <th>566</th>\n",
       "      <td>66ace2992</td>\n",
       "      <td>0.211839</td>\n",
       "      <td>0.211839</td>\n",
       "      <td>1521</td>\n",
       "    </tr>\n",
       "    <tr>\n",
       "      <th>2617</th>\n",
       "      <td>9fd594eec</td>\n",
       "      <td>0.270019</td>\n",
       "      <td>0.270019</td>\n",
       "      <td>1520</td>\n",
       "    </tr>\n",
       "    <tr>\n",
       "      <th>863</th>\n",
       "      <td>fc99f9426</td>\n",
       "      <td>0.241466</td>\n",
       "      <td>0.241466</td>\n",
       "      <td>1518</td>\n",
       "    </tr>\n",
       "    <tr>\n",
       "      <th>2378</th>\n",
       "      <td>58e2e02e6</td>\n",
       "      <td>0.254984</td>\n",
       "      <td>0.254984</td>\n",
       "      <td>1513</td>\n",
       "    </tr>\n",
       "    <tr>\n",
       "      <th>3010</th>\n",
       "      <td>703885424</td>\n",
       "      <td>0.203087</td>\n",
       "      <td>0.203087</td>\n",
       "      <td>1513</td>\n",
       "    </tr>\n",
       "    <tr>\n",
       "      <th>3470</th>\n",
       "      <td>eeb9cd3aa</td>\n",
       "      <td>0.237137</td>\n",
       "      <td>0.237137</td>\n",
       "      <td>1512</td>\n",
       "    </tr>\n",
       "    <tr>\n",
       "      <th>2214</th>\n",
       "      <td>1931ccfdd</td>\n",
       "      <td>0.204217</td>\n",
       "      <td>0.204217</td>\n",
       "      <td>1509</td>\n",
       "    </tr>\n",
       "    <tr>\n",
       "      <th>3474</th>\n",
       "      <td>324921c7b</td>\n",
       "      <td>0.220035</td>\n",
       "      <td>0.220035</td>\n",
       "      <td>1504</td>\n",
       "    </tr>\n",
       "    <tr>\n",
       "      <th>4348</th>\n",
       "      <td>1702b5bf0</td>\n",
       "      <td>0.251361</td>\n",
       "      <td>0.251361</td>\n",
       "      <td>1500</td>\n",
       "    </tr>\n",
       "    <tr>\n",
       "      <th>2690</th>\n",
       "      <td>fb0f5dbfe</td>\n",
       "      <td>0.199133</td>\n",
       "      <td>0.199133</td>\n",
       "      <td>1495</td>\n",
       "    </tr>\n",
       "    <tr>\n",
       "      <th>4190</th>\n",
       "      <td>f74e8f13d</td>\n",
       "      <td>0.257238</td>\n",
       "      <td>0.257238</td>\n",
       "      <td>1494</td>\n",
       "    </tr>\n",
       "    <tr>\n",
       "      <th>8</th>\n",
       "      <td>20aa07010</td>\n",
       "      <td>0.229035</td>\n",
       "      <td>0.229035</td>\n",
       "      <td>1494</td>\n",
       "    </tr>\n",
       "    <tr>\n",
       "      <th>537</th>\n",
       "      <td>26fc93eb7</td>\n",
       "      <td>0.255186</td>\n",
       "      <td>0.255186</td>\n",
       "      <td>1492</td>\n",
       "    </tr>\n",
       "    <tr>\n",
       "      <th>3576</th>\n",
       "      <td>58232a6fb</td>\n",
       "      <td>0.234580</td>\n",
       "      <td>0.234580</td>\n",
       "      <td>1485</td>\n",
       "    </tr>\n",
       "    <tr>\n",
       "      <th>4025</th>\n",
       "      <td>15ace8c9f</td>\n",
       "      <td>0.219917</td>\n",
       "      <td>0.219917</td>\n",
       "      <td>1485</td>\n",
       "    </tr>\n",
       "    <tr>\n",
       "      <th>627</th>\n",
       "      <td>fb49e4212</td>\n",
       "      <td>0.239772</td>\n",
       "      <td>0.239772</td>\n",
       "      <td>1482</td>\n",
       "    </tr>\n",
       "    <tr>\n",
       "      <th>1712</th>\n",
       "      <td>2ec5b290f</td>\n",
       "      <td>0.205875</td>\n",
       "      <td>0.205875</td>\n",
       "      <td>1477</td>\n",
       "    </tr>\n",
       "    <tr>\n",
       "      <th>4022</th>\n",
       "      <td>62e59a501</td>\n",
       "      <td>0.198739</td>\n",
       "      <td>0.198739</td>\n",
       "      <td>1477</td>\n",
       "    </tr>\n",
       "    <tr>\n",
       "      <th>113</th>\n",
       "      <td>963a49cdc</td>\n",
       "      <td>0.229414</td>\n",
       "      <td>0.229414</td>\n",
       "      <td>1471</td>\n",
       "    </tr>\n",
       "    <tr>\n",
       "      <th>2082</th>\n",
       "      <td>58e056e12</td>\n",
       "      <td>0.204129</td>\n",
       "      <td>0.204129</td>\n",
       "      <td>1463</td>\n",
       "    </tr>\n",
       "    <tr>\n",
       "      <th>2137</th>\n",
       "      <td>241f0f867</td>\n",
       "      <td>0.204482</td>\n",
       "      <td>0.204482</td>\n",
       "      <td>1461</td>\n",
       "    </tr>\n",
       "    <tr>\n",
       "      <th>834</th>\n",
       "      <td>6eef030c1</td>\n",
       "      <td>0.252917</td>\n",
       "      <td>0.252917</td>\n",
       "      <td>1455</td>\n",
       "    </tr>\n",
       "    <tr>\n",
       "      <th>1459</th>\n",
       "      <td>b43a7cfd5</td>\n",
       "      <td>0.216818</td>\n",
       "      <td>0.216818</td>\n",
       "      <td>1438</td>\n",
       "    </tr>\n",
       "    <tr>\n",
       "      <th>3727</th>\n",
       "      <td>d6bb78916</td>\n",
       "      <td>0.210858</td>\n",
       "      <td>0.210858</td>\n",
       "      <td>1437</td>\n",
       "    </tr>\n",
       "    <tr>\n",
       "      <th>1484</th>\n",
       "      <td>024c577b9</td>\n",
       "      <td>0.212053</td>\n",
       "      <td>0.212053</td>\n",
       "      <td>1409</td>\n",
       "    </tr>\n",
       "  </tbody>\n",
       "</table>\n",
       "</div>"
      ],
      "text/plain": [
       "           feat      corr  corr_abs  values\n",
       "1953  0ff32eb98  0.191524  0.191524    1565\n",
       "4321  c5a231d81  0.191321  0.191321    1565\n",
       "2934  91f701ba2  0.206891  0.206891    1560\n",
       "4513  c47340d97  0.213456  0.213456    1555\n",
       "545   0572565c2  0.201068  0.201068    1547\n",
       "3816  adb64ff71  0.199026  0.199026    1547\n",
       "4135  f190486d6  0.263821  0.263821    1544\n",
       "4033  5c6487af1  0.209962  0.209962    1539\n",
       "4346  e176a204a  0.191612  0.191612    1535\n",
       "645   6619d81fc  0.200045  0.200045    1533\n",
       "3784  70feb1494  0.248898  0.248898    1532\n",
       "4693  23310aa6f  0.201988  0.201988    1532\n",
       "4458  190db8488  0.182311  0.182311    1528\n",
       "1360  1db387535  0.207491  0.207491    1525\n",
       "3666  491b9ee45  0.213769  0.213769    1523\n",
       "566   66ace2992  0.211839  0.211839    1521\n",
       "2617  9fd594eec  0.270019  0.270019    1520\n",
       "863   fc99f9426  0.241466  0.241466    1518\n",
       "2378  58e2e02e6  0.254984  0.254984    1513\n",
       "3010  703885424  0.203087  0.203087    1513\n",
       "3470  eeb9cd3aa  0.237137  0.237137    1512\n",
       "2214  1931ccfdd  0.204217  0.204217    1509\n",
       "3474  324921c7b  0.220035  0.220035    1504\n",
       "4348  1702b5bf0  0.251361  0.251361    1500\n",
       "2690  fb0f5dbfe  0.199133  0.199133    1495\n",
       "4190  f74e8f13d  0.257238  0.257238    1494\n",
       "8     20aa07010  0.229035  0.229035    1494\n",
       "537   26fc93eb7  0.255186  0.255186    1492\n",
       "3576  58232a6fb  0.234580  0.234580    1485\n",
       "4025  15ace8c9f  0.219917  0.219917    1485\n",
       "627   fb49e4212  0.239772  0.239772    1482\n",
       "1712  2ec5b290f  0.205875  0.205875    1477\n",
       "4022  62e59a501  0.198739  0.198739    1477\n",
       "113   963a49cdc  0.229414  0.229414    1471\n",
       "2082  58e056e12  0.204129  0.204129    1463\n",
       "2137  241f0f867  0.204482  0.204482    1461\n",
       "834   6eef030c1  0.252917  0.252917    1455\n",
       "1459  b43a7cfd5  0.216818  0.216818    1438\n",
       "3727  d6bb78916  0.210858  0.210858    1437\n",
       "1484  024c577b9  0.212053  0.212053    1409"
      ]
     },
     "execution_count": 52,
     "metadata": {},
     "output_type": "execute_result"
    }
   ],
   "source": [
    "## Take the top non-sparse linear features\n",
    "feats.sort_values(['values','corr_abs'],ascending=[False,False])[:40]"
   ]
  },
  {
   "cell_type": "code",
   "execution_count": 53,
   "metadata": {
    "collapsed": true
   },
   "outputs": [],
   "source": [
    "top_non_sparse_feat = feats.sort_values(['values','corr_abs'],ascending=[False,False])[:40]['feat'].values.tolist()"
   ]
  },
  {
   "cell_type": "code",
   "execution_count": 54,
   "metadata": {},
   "outputs": [],
   "source": [
    "# y = labeled['target']\n",
    "y = np.log(labeled['target']) # Take the log of y\n",
    "X = labeled[top_non_sparse_feat]"
   ]
  },
  {
   "cell_type": "code",
   "execution_count": 55,
   "metadata": {
    "collapsed": true
   },
   "outputs": [],
   "source": [
    "X_train, X_val, y_train, y_val = train_test_split(X,y,test_size=0.2,random_state=1)"
   ]
  },
  {
   "cell_type": "code",
   "execution_count": 30,
   "metadata": {},
   "outputs": [
    {
     "name": "stdout",
     "output_type": "stream",
     "text": [
      "0.0948001033024\n"
     ]
    }
   ],
   "source": [
    "ln = LinearRegression()\n",
    "ln.fit(X_train,y_train)\n",
    "print(ln.score(X_train,y_train))\n",
    "y_pred = ln.predict(X_val)"
   ]
  },
  {
   "cell_type": "code",
   "execution_count": 31,
   "metadata": {
    "collapsed": true
   },
   "outputs": [],
   "source": [
    "y_pred_exp = np.exp(y_pred)"
   ]
  },
  {
   "cell_type": "code",
   "execution_count": 37,
   "metadata": {
    "collapsed": true
   },
   "outputs": [],
   "source": [
    "def rmsle(pred, val):\n",
    "    return(np.sqrt(((np.log(pred+1) - np.log(val+1))**2).mean()))"
   ]
  },
  {
   "cell_type": "code",
   "execution_count": 38,
   "metadata": {},
   "outputs": [
    {
     "data": {
      "text/plain": [
       "11.754650184411762"
      ]
     },
     "execution_count": 38,
     "metadata": {},
     "output_type": "execute_result"
    }
   ],
   "source": [
    "rmsle(y_pred_exp,y_val)"
   ]
  },
  {
   "cell_type": "code",
   "execution_count": 43,
   "metadata": {},
   "outputs": [
    {
     "data": {
      "text/plain": [
       "11.729388854083552"
      ]
     },
     "execution_count": 43,
     "metadata": {},
     "output_type": "execute_result"
    }
   ],
   "source": [
    "rf = RandomForestRegressor(n_estimators=300,random_state=1)\n",
    "rf.fit(X_train,y_train)\n",
    "y_pred2 = rf.predict(X_val)\n",
    "rmsle(np.exp(y_pred2),y_val)"
   ]
  },
  {
   "cell_type": "markdown",
   "metadata": {},
   "source": [
    "### Apply on test"
   ]
  },
  {
   "cell_type": "code",
   "execution_count": 33,
   "metadata": {},
   "outputs": [
    {
     "name": "stdout",
     "output_type": "stream",
     "text": [
      "(49342, 4992)\n"
     ]
    },
    {
     "data": {
      "text/html": [
       "<div>\n",
       "<style>\n",
       "    .dataframe thead tr:only-child th {\n",
       "        text-align: right;\n",
       "    }\n",
       "\n",
       "    .dataframe thead th {\n",
       "        text-align: left;\n",
       "    }\n",
       "\n",
       "    .dataframe tbody tr th {\n",
       "        vertical-align: top;\n",
       "    }\n",
       "</style>\n",
       "<table border=\"1\" class=\"dataframe\">\n",
       "  <thead>\n",
       "    <tr style=\"text-align: right;\">\n",
       "      <th></th>\n",
       "      <th>ID</th>\n",
       "      <th>48df886f9</th>\n",
       "      <th>0deb4b6a8</th>\n",
       "      <th>34b15f335</th>\n",
       "      <th>a8cb14b00</th>\n",
       "      <th>2f0771a37</th>\n",
       "      <th>30347e683</th>\n",
       "      <th>d08d1fbe3</th>\n",
       "      <th>6ee66e115</th>\n",
       "      <th>20aa07010</th>\n",
       "      <th>...</th>\n",
       "      <th>3ecc09859</th>\n",
       "      <th>9281abeea</th>\n",
       "      <th>8675bec0b</th>\n",
       "      <th>3a13ed79a</th>\n",
       "      <th>f677d4d13</th>\n",
       "      <th>71b203550</th>\n",
       "      <th>137efaa80</th>\n",
       "      <th>fb36b89d9</th>\n",
       "      <th>7e293fbaf</th>\n",
       "      <th>9fc776466</th>\n",
       "    </tr>\n",
       "  </thead>\n",
       "  <tbody>\n",
       "    <tr>\n",
       "      <th>0</th>\n",
       "      <td>000137c73</td>\n",
       "      <td>0.0</td>\n",
       "      <td>0.0</td>\n",
       "      <td>0.0</td>\n",
       "      <td>0.0</td>\n",
       "      <td>0.0</td>\n",
       "      <td>0.0</td>\n",
       "      <td>0.0</td>\n",
       "      <td>0.0</td>\n",
       "      <td>0.0</td>\n",
       "      <td>...</td>\n",
       "      <td>0.0</td>\n",
       "      <td>0.0</td>\n",
       "      <td>0.0</td>\n",
       "      <td>0.0</td>\n",
       "      <td>0.0</td>\n",
       "      <td>0.0</td>\n",
       "      <td>0.0</td>\n",
       "      <td>0.0</td>\n",
       "      <td>0.0</td>\n",
       "      <td>0.0</td>\n",
       "    </tr>\n",
       "    <tr>\n",
       "      <th>1</th>\n",
       "      <td>00021489f</td>\n",
       "      <td>0.0</td>\n",
       "      <td>0.0</td>\n",
       "      <td>0.0</td>\n",
       "      <td>0.0</td>\n",
       "      <td>0.0</td>\n",
       "      <td>0.0</td>\n",
       "      <td>0.0</td>\n",
       "      <td>0.0</td>\n",
       "      <td>0.0</td>\n",
       "      <td>...</td>\n",
       "      <td>0.0</td>\n",
       "      <td>0.0</td>\n",
       "      <td>0.0</td>\n",
       "      <td>0.0</td>\n",
       "      <td>0.0</td>\n",
       "      <td>0.0</td>\n",
       "      <td>0.0</td>\n",
       "      <td>0.0</td>\n",
       "      <td>0.0</td>\n",
       "      <td>0.0</td>\n",
       "    </tr>\n",
       "    <tr>\n",
       "      <th>2</th>\n",
       "      <td>0004d7953</td>\n",
       "      <td>0.0</td>\n",
       "      <td>0.0</td>\n",
       "      <td>0.0</td>\n",
       "      <td>0.0</td>\n",
       "      <td>0.0</td>\n",
       "      <td>0.0</td>\n",
       "      <td>0.0</td>\n",
       "      <td>0.0</td>\n",
       "      <td>0.0</td>\n",
       "      <td>...</td>\n",
       "      <td>0.0</td>\n",
       "      <td>0.0</td>\n",
       "      <td>0.0</td>\n",
       "      <td>0.0</td>\n",
       "      <td>0.0</td>\n",
       "      <td>0.0</td>\n",
       "      <td>0.0</td>\n",
       "      <td>0.0</td>\n",
       "      <td>0.0</td>\n",
       "      <td>0.0</td>\n",
       "    </tr>\n",
       "  </tbody>\n",
       "</table>\n",
       "<p>3 rows × 4992 columns</p>\n",
       "</div>"
      ],
      "text/plain": [
       "          ID  48df886f9  0deb4b6a8  34b15f335  a8cb14b00  2f0771a37  \\\n",
       "0  000137c73        0.0        0.0        0.0        0.0        0.0   \n",
       "1  00021489f        0.0        0.0        0.0        0.0        0.0   \n",
       "2  0004d7953        0.0        0.0        0.0        0.0        0.0   \n",
       "\n",
       "   30347e683  d08d1fbe3  6ee66e115  20aa07010    ...      3ecc09859  \\\n",
       "0        0.0        0.0        0.0        0.0    ...            0.0   \n",
       "1        0.0        0.0        0.0        0.0    ...            0.0   \n",
       "2        0.0        0.0        0.0        0.0    ...            0.0   \n",
       "\n",
       "   9281abeea  8675bec0b  3a13ed79a  f677d4d13  71b203550  137efaa80  \\\n",
       "0        0.0        0.0        0.0        0.0        0.0        0.0   \n",
       "1        0.0        0.0        0.0        0.0        0.0        0.0   \n",
       "2        0.0        0.0        0.0        0.0        0.0        0.0   \n",
       "\n",
       "   fb36b89d9  7e293fbaf  9fc776466  \n",
       "0        0.0        0.0        0.0  \n",
       "1        0.0        0.0        0.0  \n",
       "2        0.0        0.0        0.0  \n",
       "\n",
       "[3 rows x 4992 columns]"
      ]
     },
     "execution_count": 33,
     "metadata": {},
     "output_type": "execute_result"
    }
   ],
   "source": [
    "test = pd.read_csv(r'../data/test.csv')\n",
    "print(test.shape)\n",
    "test[:3]"
   ]
  },
  {
   "cell_type": "code",
   "execution_count": 44,
   "metadata": {
    "collapsed": true
   },
   "outputs": [],
   "source": [
    "X_test = test[top_non_sparse_feat]"
   ]
  },
  {
   "cell_type": "code",
   "execution_count": 45,
   "metadata": {
    "collapsed": true
   },
   "outputs": [],
   "source": [
    "pred_target1 = np.exp(ln.predict(X_test))\n",
    "pred_target2 = np.exp(rf.predict(X_test))"
   ]
  },
  {
   "cell_type": "code",
   "execution_count": 48,
   "metadata": {
    "collapsed": true
   },
   "outputs": [],
   "source": [
    "output = pd.concat([test['ID'],pd.Series((pred_target1+pred_target2)/2)],axis=1)\n",
    "output.columns=['ID','target']"
   ]
  },
  {
   "cell_type": "code",
   "execution_count": 49,
   "metadata": {},
   "outputs": [
    {
     "data": {
      "text/plain": [
       "Series([], Name: target, dtype: float64)"
      ]
     },
     "execution_count": 49,
     "metadata": {},
     "output_type": "execute_result"
    }
   ],
   "source": [
    "# Changed to log, negatives should no longer exist\n",
    "output.loc[output.target<0,'target']"
   ]
  },
  {
   "cell_type": "code",
   "execution_count": 50,
   "metadata": {
    "collapsed": true
   },
   "outputs": [],
   "source": [
    "output.to_csv('../output/0807_logY_40_nonsp_feat_lr+rf.csv',index=False)"
   ]
  },
  {
   "cell_type": "code",
   "execution_count": null,
   "metadata": {
    "collapsed": true
   },
   "outputs": [],
   "source": []
  },
  {
   "cell_type": "code",
   "execution_count": null,
   "metadata": {
    "collapsed": true
   },
   "outputs": [],
   "source": []
  }
 ],
 "metadata": {
  "kernelspec": {
   "display_name": "Python 3",
   "language": "python",
   "name": "python3"
  },
  "language_info": {
   "codemirror_mode": {
    "name": "ipython",
    "version": 3
   },
   "file_extension": ".py",
   "mimetype": "text/x-python",
   "name": "python",
   "nbconvert_exporter": "python",
   "pygments_lexer": "ipython3",
   "version": "3.6.3"
  }
 },
 "nbformat": 4,
 "nbformat_minor": 2
}
