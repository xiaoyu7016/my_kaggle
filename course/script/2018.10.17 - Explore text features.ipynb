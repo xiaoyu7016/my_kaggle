{
 "cells": [
  {
   "cell_type": "markdown",
   "metadata": {},
   "source": [
    "### Extract product types and created content-based subcategories for music, cinema, and games with LDA\n",
    "This script explored the category names and item names. With the help of Google translation, I extracted the major product tpyes from the category name, including games, cinema, music, books, etc. \n",
    "\n",
    "I found that games, cinema, and music are associated with most items and sales. What's more, unlike books whose category is already by genres, the category of cinema, music, and games are media-based (i.e. dvd or blu-ray?), not content-based. \n",
    "\n",
    "This motivated me to use LDA to extract latent topics based on genra names and created finer sub-categories for music, cinema, and games. The finer sub-categories (item_category_id2) can be used directly in place of item_category_id."
   ]
  },
  {
   "cell_type": "code",
   "execution_count": 1,
   "metadata": {},
   "outputs": [],
   "source": [
    "import os\n",
    "import re\n",
    "import pandas as pd\n",
    "import numpy as np\n",
    "\n",
    "from sklearn.feature_extraction.text import CountVectorizer, TfidfVectorizer\n",
    "from sklearn.decomposition import TruncatedSVD,LatentDirichletAllocation  # for LSA\n",
    "from sklearn.model_selection import GridSearchCV\n",
    "\n",
    "from sklearn.neighbors import KNeighborsRegressor\n",
    "\n",
    "import matplotlib.pyplot as plt\n",
    "\n",
    "%matplotlib inline"
   ]
  },
  {
   "cell_type": "code",
   "execution_count": 2,
   "metadata": {},
   "outputs": [],
   "source": [
    "from tqdm import tqdm_notebook"
   ]
  },
  {
   "cell_type": "code",
   "execution_count": 3,
   "metadata": {},
   "outputs": [],
   "source": [
    "import pyLDAvis\n",
    "import pyLDAvis.sklearn\n",
    "pyLDAvis.enable_notebook()"
   ]
  },
  {
   "cell_type": "code",
   "execution_count": 4,
   "metadata": {},
   "outputs": [],
   "source": [
    "import warnings\n",
    "warnings.filterwarnings('ignore')"
   ]
  },
  {
   "cell_type": "markdown",
   "metadata": {},
   "source": [
    "#### Understand the categories"
   ]
  },
  {
   "cell_type": "code",
   "execution_count": 5,
   "metadata": {
    "scrolled": true
   },
   "outputs": [
    {
     "name": "stdout",
     "output_type": "stream",
     "text": [
      "(84, 2)\n"
     ]
    },
    {
     "data": {
      "text/html": [
       "<div>\n",
       "<style scoped>\n",
       "    .dataframe tbody tr th:only-of-type {\n",
       "        vertical-align: middle;\n",
       "    }\n",
       "\n",
       "    .dataframe tbody tr th {\n",
       "        vertical-align: top;\n",
       "    }\n",
       "\n",
       "    .dataframe thead th {\n",
       "        text-align: right;\n",
       "    }\n",
       "</style>\n",
       "<table border=\"1\" class=\"dataframe\">\n",
       "  <thead>\n",
       "    <tr style=\"text-align: right;\">\n",
       "      <th></th>\n",
       "      <th>item_category_name</th>\n",
       "      <th>item_category_id</th>\n",
       "    </tr>\n",
       "  </thead>\n",
       "  <tbody>\n",
       "    <tr>\n",
       "      <th>0</th>\n",
       "      <td>PC - Гарнитуры/Наушники</td>\n",
       "      <td>0</td>\n",
       "    </tr>\n",
       "    <tr>\n",
       "      <th>1</th>\n",
       "      <td>Аксессуары - PS2</td>\n",
       "      <td>1</td>\n",
       "    </tr>\n",
       "    <tr>\n",
       "      <th>2</th>\n",
       "      <td>Аксессуары - PS3</td>\n",
       "      <td>2</td>\n",
       "    </tr>\n",
       "  </tbody>\n",
       "</table>\n",
       "</div>"
      ],
      "text/plain": [
       "        item_category_name  item_category_id\n",
       "0  PC - Гарнитуры/Наушники                 0\n",
       "1         Аксессуары - PS2                 1\n",
       "2         Аксессуары - PS3                 2"
      ]
     },
     "execution_count": 5,
     "metadata": {},
     "output_type": "execute_result"
    }
   ],
   "source": [
    "cat0 = pd.read_csv(r'../data/item_categories.csv')\n",
    "print(cat0.shape)\n",
    "cat0[:3]"
   ]
  },
  {
   "cell_type": "code",
   "execution_count": 6,
   "metadata": {},
   "outputs": [],
   "source": [
    "# def get_fst(x):\n",
    "    \n",
    "#     x = re.split(\"-\",x)[0].strip()\n",
    "    \n",
    "#     return(x)\n",
    "\n",
    "# def get_snd(x):\n",
    "    \n",
    "#     x = re.split(\"-\",x)[1].strip() if len(re.split(\"-\",x))>1 else ''\n",
    "    \n",
    "#     return(x)"
   ]
  },
  {
   "cell_type": "code",
   "execution_count": 7,
   "metadata": {},
   "outputs": [],
   "source": [
    "def normalize_cat_name(x):\n",
    "    \n",
    "    x = x.lower()    \n",
    "    x = re.sub('xbox 360','xbox_360',x)\n",
    "    x = re.sub('xbox one','xbox_one',x)\n",
    "    x = re.sub('книги','book',x)\n",
    "    x = re.sub('настольные игры','board_games',x)\n",
    "    x = re.sub('игры','games',x)\n",
    "    x = re.sub('музыка','music',x)\n",
    "    x = re.sub('кино','cinema',x)\n",
    "    x = re.sub('карты оплаты','pmt_card',x)\n",
    "    x = re.sub('подарки','presents',x)\n",
    "    x = re.sub('программы','programs',x)\n",
    "    x = re.sub('служебные','service',x)\n",
    "    x = re.sub('аксессуары','accessory',x)\n",
    "    x = re.sub('игровые консоли','game_console',x)\n",
    "    \n",
    "    return x"
   ]
  },
  {
   "cell_type": "code",
   "execution_count": 8,
   "metadata": {},
   "outputs": [],
   "source": [
    "def get_sys(x):\n",
    "    \n",
    "    x = x.lower()\n",
    "    pattern = 'pc|windows|mac|android|ps2|ps3|ps4|psp|psvita|xbox_one|xbox_360|psn|mp3|dvd|blu-ray|cd'\n",
    "    \n",
    "    sys = re.findall(pattern,x)[0] if len(re.findall(pattern,x))>0 else 'other'\n",
    "    \n",
    "    return sys\n",
    "   \n",
    "def get_product(x):\n",
    "    \n",
    "    pattern = 'book|games|game_console|board_games|pmt_card|cinema|music|programs|presents|service|accessory'\n",
    "    \n",
    "    prod = re.findall(pattern,x)[0] if len(re.findall(pattern,x))>0 else 'other'\n",
    "    \n",
    "    return prod"
   ]
  },
  {
   "cell_type": "code",
   "execution_count": 9,
   "metadata": {},
   "outputs": [],
   "source": [
    "cat0['item_category_name2'] = cat0['item_category_name'].map(normalize_cat_name)\n",
    "# cat0['fst'] = cat0.item_category_name2.map(get_fst)\n",
    "# cat0['snd'] = cat0.item_category_name2.map(get_snd)\n",
    "cat0['sys'] = cat0['item_category_name2'].map(get_sys)\n",
    "cat0['product'] = cat0['item_category_name2'].map(get_product)"
   ]
  },
  {
   "cell_type": "code",
   "execution_count": 10,
   "metadata": {
    "scrolled": true
   },
   "outputs": [
    {
     "data": {
      "text/plain": [
       "games           14\n",
       "book            13\n",
       "presents        12\n",
       "game_console     8\n",
       "accessory        7\n",
       "programs         6\n",
       "other            6\n",
       "music            6\n",
       "pmt_card         5\n",
       "cinema           5\n",
       "service          2\n",
       "Name: product, dtype: int64"
      ]
     },
     "execution_count": 10,
     "metadata": {},
     "output_type": "execute_result"
    }
   ],
   "source": [
    "cat0['product'].value_counts()"
   ]
  },
  {
   "cell_type": "code",
   "execution_count": 11,
   "metadata": {},
   "outputs": [
    {
     "data": {
      "text/html": [
       "<div>\n",
       "<style scoped>\n",
       "    .dataframe tbody tr th:only-of-type {\n",
       "        vertical-align: middle;\n",
       "    }\n",
       "\n",
       "    .dataframe tbody tr th {\n",
       "        vertical-align: top;\n",
       "    }\n",
       "\n",
       "    .dataframe thead th {\n",
       "        text-align: right;\n",
       "    }\n",
       "</style>\n",
       "<table border=\"1\" class=\"dataframe\">\n",
       "  <thead>\n",
       "    <tr style=\"text-align: right;\">\n",
       "      <th></th>\n",
       "      <th>item_category_name</th>\n",
       "      <th>item_category_id</th>\n",
       "      <th>item_category_name2</th>\n",
       "      <th>sys</th>\n",
       "      <th>product</th>\n",
       "    </tr>\n",
       "  </thead>\n",
       "  <tbody>\n",
       "    <tr>\n",
       "      <th>0</th>\n",
       "      <td>PC - Гарнитуры/Наушники</td>\n",
       "      <td>0</td>\n",
       "      <td>pc - гарнитуры/наушники</td>\n",
       "      <td>pc</td>\n",
       "      <td>other</td>\n",
       "    </tr>\n",
       "    <tr>\n",
       "      <th>8</th>\n",
       "      <td>Билеты (Цифра)</td>\n",
       "      <td>8</td>\n",
       "      <td>билеты (цифра)</td>\n",
       "      <td>other</td>\n",
       "      <td>other</td>\n",
       "    </tr>\n",
       "    <tr>\n",
       "      <th>9</th>\n",
       "      <td>Доставка товара</td>\n",
       "      <td>9</td>\n",
       "      <td>доставка товара</td>\n",
       "      <td>other</td>\n",
       "      <td>other</td>\n",
       "    </tr>\n",
       "    <tr>\n",
       "      <th>81</th>\n",
       "      <td>Чистые носители (шпиль)</td>\n",
       "      <td>81</td>\n",
       "      <td>чистые носители (шпиль)</td>\n",
       "      <td>other</td>\n",
       "      <td>other</td>\n",
       "    </tr>\n",
       "    <tr>\n",
       "      <th>82</th>\n",
       "      <td>Чистые носители (штучные)</td>\n",
       "      <td>82</td>\n",
       "      <td>чистые носители (штучные)</td>\n",
       "      <td>other</td>\n",
       "      <td>other</td>\n",
       "    </tr>\n",
       "    <tr>\n",
       "      <th>83</th>\n",
       "      <td>Элементы питания</td>\n",
       "      <td>83</td>\n",
       "      <td>элементы питания</td>\n",
       "      <td>other</td>\n",
       "      <td>other</td>\n",
       "    </tr>\n",
       "  </tbody>\n",
       "</table>\n",
       "</div>"
      ],
      "text/plain": [
       "           item_category_name  item_category_id        item_category_name2  \\\n",
       "0     PC - Гарнитуры/Наушники                 0    pc - гарнитуры/наушники   \n",
       "8              Билеты (Цифра)                 8             билеты (цифра)   \n",
       "9             Доставка товара                 9            доставка товара   \n",
       "81    Чистые носители (шпиль)                81    чистые носители (шпиль)   \n",
       "82  Чистые носители (штучные)                82  чистые носители (штучные)   \n",
       "83           Элементы питания                83           элементы питания   \n",
       "\n",
       "      sys product  \n",
       "0      pc   other  \n",
       "8   other   other  \n",
       "9   other   other  \n",
       "81  other   other  \n",
       "82  other   other  \n",
       "83  other   other  "
      ]
     },
     "execution_count": 11,
     "metadata": {},
     "output_type": "execute_result"
    }
   ],
   "source": [
    "cat0[cat0['product']=='other']"
   ]
  },
  {
   "cell_type": "markdown",
   "metadata": {},
   "source": [
    "#### Read in items"
   ]
  },
  {
   "cell_type": "code",
   "execution_count": 12,
   "metadata": {},
   "outputs": [],
   "source": [
    "items0 = pd.read_csv(r'../data/items.csv')"
   ]
  },
  {
   "cell_type": "code",
   "execution_count": 13,
   "metadata": {},
   "outputs": [
    {
     "name": "stdout",
     "output_type": "stream",
     "text": [
      "84 22170\n"
     ]
    }
   ],
   "source": [
    "print(items0.item_category_id.nunique(), items0.item_id.nunique())"
   ]
  },
  {
   "cell_type": "code",
   "execution_count": 15,
   "metadata": {
    "scrolled": true
   },
   "outputs": [
    {
     "data": {
      "text/plain": [
       "<matplotlib.axes._subplots.AxesSubplot at 0x21984e9ff60>"
      ]
     },
     "execution_count": 15,
     "metadata": {},
     "output_type": "execute_result"
    },
    {
     "data": {
      "image/png": "[encoded data removed]",
      "text/plain": [
       "<matplotlib.figure.Figure at 0x21984e9f470>"
      ]
     },
     "metadata": {},
     "output_type": "display_data"
    }
   ],
   "source": [
    "items0.groupby('item_category_id')['item_id'].count().sort_values(ascending=False).hist(bins=20) # some super big classes exist"
   ]
  },
  {
   "cell_type": "code",
   "execution_count": 16,
   "metadata": {},
   "outputs": [
    {
     "data": {
      "text/plain": [
       "cinema          7464\n",
       "music           4325\n",
       "games           3955\n",
       "presents        3528\n",
       "book            1273\n",
       "programs        1152\n",
       "accessory        219\n",
       "game_console     150\n",
       "other             55\n",
       "pmt_card          42\n",
       "service            7\n",
       "Name: product, dtype: int64"
      ]
     },
     "execution_count": 16,
     "metadata": {},
     "output_type": "execute_result"
    }
   ],
   "source": [
    "items1 = pd.merge(items0,cat0[['item_category_id', 'sys','product','item_category_name2']],on=['item_category_id'],how='left')\n",
    "items1['product'].value_counts()"
   ]
  },
  {
   "cell_type": "code",
   "execution_count": 17,
   "metadata": {},
   "outputs": [
    {
     "data": {
      "text/plain": [
       "accessory         31.285714\n",
       "book              97.923077\n",
       "cinema          1492.800000\n",
       "game_console      18.750000\n",
       "games            282.500000\n",
       "music            720.833333\n",
       "other              9.166667\n",
       "pmt_card           8.400000\n",
       "presents         294.000000\n",
       "programs         192.000000\n",
       "service            3.500000\n",
       "Name: product, dtype: float64"
      ]
     },
     "execution_count": 17,
     "metadata": {},
     "output_type": "execute_result"
    }
   ],
   "source": [
    "items1['product'].value_counts()/cat0['product'].value_counts()   # Averge Items per sub category"
   ]
  },
  {
   "cell_type": "code",
   "execution_count": null,
   "metadata": {},
   "outputs": [],
   "source": []
  },
  {
   "cell_type": "markdown",
   "metadata": {},
   "source": [
    "#### Unlike book and presents that is already categorized by genra, cinema, music, and games are categorized by media (cd/dvd/blu-ray, etc.) or system (pc, ps4, etc.), which could use some content-based categorization"
   ]
  },
  {
   "cell_type": "code",
   "execution_count": 18,
   "metadata": {},
   "outputs": [
    {
     "data": {
      "text/plain": [
       "(2935849, 6)"
      ]
     },
     "execution_count": 18,
     "metadata": {},
     "output_type": "execute_result"
    }
   ],
   "source": [
    "sales = pd.read_csv(r'../data/sales_train.csv.gz')\n",
    "sales.shape"
   ]
  },
  {
   "cell_type": "code",
   "execution_count": 19,
   "metadata": {},
   "outputs": [],
   "source": [
    "sales1 = pd.merge(sales, items1,on=['item_id'],how='left')"
   ]
  },
  {
   "cell_type": "code",
   "execution_count": 20,
   "metadata": {},
   "outputs": [
    {
     "data": {
      "text/plain": [
       "product\n",
       "accessory         85056.0\n",
       "book              76341.0\n",
       "cinema           916943.0\n",
       "game_console      32155.0\n",
       "games           1335994.0\n",
       "music            411294.0\n",
       "other             55254.0\n",
       "pmt_card          53883.0\n",
       "presents         584366.0\n",
       "programs          74954.0\n",
       "service           21966.0\n",
       "Name: item_cnt_day, dtype: float64"
      ]
     },
     "execution_count": 20,
     "metadata": {},
     "output_type": "execute_result"
    }
   ],
   "source": [
    "sales1.groupby('product')['item_cnt_day'].sum()#.plot()"
   ]
  },
  {
   "cell_type": "code",
   "execution_count": 21,
   "metadata": {
    "scrolled": true
   },
   "outputs": [
    {
     "data": {
      "text/plain": [
       "product\n",
       "accessory        10770.0\n",
       "book              6167.0\n",
       "cinema           98632.0\n",
       "game_console      3291.0\n",
       "games           127804.0\n",
       "music            38234.0\n",
       "other             4030.0\n",
       "pmt_card          5667.0\n",
       "presents         54005.0\n",
       "programs          9089.0\n",
       "service           1660.0\n",
       "Name: item_cnt_day, dtype: float64"
      ]
     },
     "execution_count": 21,
     "metadata": {},
     "output_type": "execute_result"
    }
   ],
   "source": [
    "sales1['month'] = (np.mod(sales1.date_block_num,12)+1).astype(np.int8)\n",
    "sales1[sales1['month']==1].groupby('product')['item_cnt_day'].sum()#.plot()\n",
    "\n",
    "# check November (clearly nobody read books lol)"
   ]
  },
  {
   "cell_type": "markdown",
   "metadata": {},
   "source": [
    "#### Further confirmed in sales that games, cinema, and music (and presents) are the big category and worth content-based feature extraction.\n",
    "\n",
    "Wikipedia gives 8 genres for games, 24 for movies, 16 for music;\n",
    "\n",
    "So I'll just use LSA to categorize movie, music, and games each into 50 sub-category by contents"
   ]
  },
  {
   "cell_type": "code",
   "execution_count": 22,
   "metadata": {
    "scrolled": true
   },
   "outputs": [
    {
     "data": {
      "text/html": [
       "<div>\n",
       "<style scoped>\n",
       "    .dataframe tbody tr th:only-of-type {\n",
       "        vertical-align: middle;\n",
       "    }\n",
       "\n",
       "    .dataframe tbody tr th {\n",
       "        vertical-align: top;\n",
       "    }\n",
       "\n",
       "    .dataframe thead th {\n",
       "        text-align: right;\n",
       "    }\n",
       "</style>\n",
       "<table border=\"1\" class=\"dataframe\">\n",
       "  <thead>\n",
       "    <tr style=\"text-align: right;\">\n",
       "      <th></th>\n",
       "      <th>item_name</th>\n",
       "      <th>item_id</th>\n",
       "      <th>item_category_id</th>\n",
       "      <th>sys</th>\n",
       "      <th>product</th>\n",
       "      <th>item_category_name2</th>\n",
       "      <th>item_name2</th>\n",
       "    </tr>\n",
       "  </thead>\n",
       "  <tbody>\n",
       "    <tr>\n",
       "      <th>0</th>\n",
       "      <td>! ВО ВЛАСТИ НАВАЖДЕНИЯ (ПЛАСТ.)         D</td>\n",
       "      <td>0</td>\n",
       "      <td>40</td>\n",
       "      <td>dvd</td>\n",
       "      <td>cinema</td>\n",
       "      <td>cinema - dvd</td>\n",
       "      <td>! ВО ВЛАСТИ НАВАЖДЕНИЯ (ПЛАСТ.)         D</td>\n",
       "    </tr>\n",
       "    <tr>\n",
       "      <th>1</th>\n",
       "      <td>!ABBYY FineReader 12 Professional Edition Full...</td>\n",
       "      <td>1</td>\n",
       "      <td>76</td>\n",
       "      <td>other</td>\n",
       "      <td>programs</td>\n",
       "      <td>programs - для дома и офиса (цифра)</td>\n",
       "      <td>!ABBYY FineReader _num_ Professional Edition F...</td>\n",
       "    </tr>\n",
       "    <tr>\n",
       "      <th>2</th>\n",
       "      <td>***В ЛУЧАХ СЛАВЫ   (UNV)                    D</td>\n",
       "      <td>2</td>\n",
       "      <td>40</td>\n",
       "      <td>dvd</td>\n",
       "      <td>cinema</td>\n",
       "      <td>cinema - dvd</td>\n",
       "      <td>***В ЛУЧАХ СЛАВЫ   (UNV)                    D</td>\n",
       "    </tr>\n",
       "  </tbody>\n",
       "</table>\n",
       "</div>"
      ],
      "text/plain": [
       "                                           item_name  item_id  \\\n",
       "0          ! ВО ВЛАСТИ НАВАЖДЕНИЯ (ПЛАСТ.)         D        0   \n",
       "1  !ABBYY FineReader 12 Professional Edition Full...        1   \n",
       "2      ***В ЛУЧАХ СЛАВЫ   (UNV)                    D        2   \n",
       "\n",
       "   item_category_id    sys   product                  item_category_name2  \\\n",
       "0                40    dvd    cinema                         cinema - dvd   \n",
       "1                76  other  programs  programs - для дома и офиса (цифра)   \n",
       "2                40    dvd    cinema                         cinema - dvd   \n",
       "\n",
       "                                          item_name2  \n",
       "0          ! ВО ВЛАСТИ НАВАЖДЕНИЯ (ПЛАСТ.)         D  \n",
       "1  !ABBYY FineReader _num_ Professional Edition F...  \n",
       "2      ***В ЛУЧАХ СЛАВЫ   (UNV)                    D  "
      ]
     },
     "execution_count": 22,
     "metadata": {},
     "output_type": "execute_result"
    }
   ],
   "source": [
    "items1['item_name2'] = items1.item_name.map(lambda x: re.sub('[0-9]+','_num_',x))\n",
    "items1[:3]"
   ]
  },
  {
   "cell_type": "code",
   "execution_count": 23,
   "metadata": {},
   "outputs": [],
   "source": [
    "arr = np.array([1, 3, 2, 4, 5])\n",
    "top3=arr.argsort()[-3:][::-1]"
   ]
  },
  {
   "cell_type": "code",
   "execution_count": 24,
   "metadata": {},
   "outputs": [
    {
     "data": {
      "text/plain": [
       "array([5, 4, 3])"
      ]
     },
     "execution_count": 24,
     "metadata": {},
     "output_type": "execute_result"
    }
   ],
   "source": [
    "arr[top3]"
   ]
  },
  {
   "cell_type": "markdown",
   "metadata": {},
   "source": [
    "Grid search doesn't help much in choosing the best number of topics based on what I read... I tried a range of topics, and it always seems the fewer topics the better. Need to read more about this."
   ]
  },
  {
   "cell_type": "code",
   "execution_count": null,
   "metadata": {},
   "outputs": [],
   "source": [
    "# test = items1.loc[items1['product']=='cinema','item_name2']\n",
    "# params = {'n_components':list(range(8,26,4))}\n",
    "# lda = LatentDirichletAllocation(random_state=23141)\n",
    "# model = GridSearchCV(lda,params,cv=3)\n",
    "\n",
    "# tf = TfidfVectorizer(max_df=0.7,min_df=5,stop_words='english')\n",
    "# tfidf_mat = tf.fit_transform(test)\n",
    "\n",
    "# model.fit(tfidf_mat)\n",
    "\n",
    "# model.best_params_"
   ]
  },
  {
   "cell_type": "code",
   "execution_count": null,
   "metadata": {},
   "outputs": [],
   "source": []
  },
  {
   "cell_type": "code",
   "execution_count": 26,
   "metadata": {},
   "outputs": [
    {
     "data": {
      "application/vnd.jupyter.widget-view+json": {
       "model_id": "c784b12b7c79495b892bf982a53e6b2c",
       "version_major": 2,
       "version_minor": 0
      },
      "text/html": [
       "<p>Failed to display Jupyter Widget of type <code>HBox</code>.</p>\n",
       "<p>\n",
       "  If you're reading this message in the Jupyter Notebook or JupyterLab Notebook, it may mean\n",
       "  that the widgets JavaScript is still loading. If this message persists, it\n",
       "  likely means that the widgets JavaScript library is either not installed or\n",
       "  not enabled. See the <a href=\"https://ipywidgets.readthedocs.io/en/stable/user_install.html\">Jupyter\n",
       "  Widgets Documentation</a> for setup instructions.\n",
       "</p>\n",
       "<p>\n",
       "  If you're reading this message in another frontend (for example, a static\n",
       "  rendering on GitHub or <a href=\"https://nbviewer.jupyter.org/\">NBViewer</a>),\n",
       "  it may mean that your frontend doesn't currently support widgets.\n",
       "</p>\n"
      ],
      "text/plain": [
       "HBox(children=(IntProgress(value=0, max=3), HTML(value='')))"
      ]
     },
     "metadata": {},
     "output_type": "display_data"
    },
    {
     "name": "stdout",
     "output_type": "stream",
     "text": [
      "\n"
     ]
    }
   ],
   "source": [
    "models = {}\n",
    "\n",
    "for prod,n_genres in tqdm_notebook([('games',8),('cinema',24),('music',16)]):\n",
    "    \n",
    "    data = items1.loc[items1['product']==prod,'item_name2']\n",
    "    ind = data.index\n",
    "    \n",
    "    tf = TfidfVectorizer(max_df=0.7,min_df=5,stop_words='english')\n",
    "    tfidf_mat = tf.fit_transform(data)\n",
    "    \n",
    "    lda = LatentDirichletAllocation(n_components=n_genres,random_state=23141)\n",
    "    lda_res = lda.fit_transform(tfidf_mat) \n",
    "    \n",
    "    models[prod]={'lda':lda, 'tfidf_mat':tfidf_mat, 'tf':tf, 'result':lda_res, 'ind':ind}"
   ]
  },
  {
   "cell_type": "code",
   "execution_count": 27,
   "metadata": {
    "scrolled": false
   },
   "outputs": [
    {
     "data": {
      "text/html": [
       "\n",
       "<link rel=\"stylesheet\" type=\"text/css\" href=\"https://cdn.rawgit.com/bmabey/pyLDAvis/files/ldavis.v1.0.0.css\">\n",
       "\n",
       "\n",
       "<div id=\"ldavis_el10511223086431731444579027009\"></div>\n",
       "<script type=\"text/javascript\">\n",
       "\n",
       "var ldavis_el10511223086431731444579027009_data = {\"mdsDat\": {\"Freq\": [14.765268794522731, 13.50608364703032, 13.449279897726374, 13.28374961262896, 12.688646538272403, 11.469302701112145, 11.11906627970371, 9.718602529003347], \"cluster\": [1, 1, 1, 1, 1, 1, 1, 1], \"topics\": [1, 2, 3, 4, 5, 6, 7, 8], \"x\": [-0.025587062319909877, 0.143422255723152, 0.15936046414770444, 0.08907773340048333, -0.13983171863668184, 0.035549612912571284, -0.25684109924589493, -0.0051501859814241545], \"y\": [0.040346299546394425, 0.08999897738250501, -0.013595315985544597, -0.2795578478867006, -0.0032930017026763787, 0.17408991861837203, -0.03378342839149149, 0.02579439841914154]}, \"tinfo\": {\"Category\": [\"Default\", \"Default\", \"Default\", \"Default\", \"Default\", \"Default\", \"Default\", \"Default\", \"Default\", \"Default\", \"Default\", \"Default\", \"Default\", \"Default\", \"Default\", \"Default\", \"Default\", \"Default\", \"Default\", \"Default\", \"Default\", \"Default\", \"Default\", \"Default\", \"Default\", \"Default\", \"Default\", \"Default\", \"Default\", \"Default\", \"Topic1\", \"Topic1\", \"Topic1\", \"Topic1\", \"Topic1\", \"Topic1\", \"Topic1\", \"Topic1\", \"Topic1\", \"Topic1\", \"Topic1\", \"Topic1\", \"Topic1\", \"Topic1\", \"Topic1\", \"Topic1\", \"Topic1\", \"Topic1\", \"Topic1\", \"Topic1\", \"Topic1\", \"Topic1\", \"Topic1\", \"Topic1\", \"Topic1\", \"Topic1\", \"Topic1\", \"Topic1\", \"Topic1\", \"Topic1\", \"Topic1\", \"Topic1\", \"Topic1\", \"Topic1\", \"Topic1\", \"Topic1\", \"Topic1\", \"Topic1\", \"Topic1\", \"Topic1\", \"Topic1\", \"Topic1\", \"Topic2\", \"Topic2\", \"Topic2\", \"Topic2\", \"Topic2\", \"Topic2\", \"Topic2\", \"Topic2\", \"Topic2\", \"Topic2\", \"Topic2\", \"Topic2\", \"Topic2\", \"Topic2\", \"Topic2\", \"Topic2\", \"Topic2\", \"Topic2\", \"Topic2\", \"Topic2\", \"Topic2\", \"Topic2\", \"Topic2\", \"Topic2\", \"Topic2\", \"Topic2\", \"Topic2\", \"Topic2\", \"Topic2\", \"Topic2\", \"Topic2\", \"Topic2\", \"Topic2\", \"Topic2\", \"Topic2\", \"Topic2\", \"Topic2\", \"Topic2\", \"Topic2\", \"Topic2\", \"Topic2\", \"Topic2\", \"Topic2\", \"Topic2\", \"Topic2\", \"Topic3\", \"Topic3\", \"Topic3\", \"Topic3\", \"Topic3\", \"Topic3\", \"Topic3\", \"Topic3\", \"Topic3\", \"Topic3\", \"Topic3\", \"Topic3\", \"Topic3\", \"Topic3\", \"Topic3\", \"Topic3\", \"Topic3\", \"Topic3\", \"Topic3\", \"Topic3\", \"Topic3\", \"Topic3\", \"Topic3\", \"Topic3\", \"Topic3\", \"Topic3\", \"Topic3\", \"Topic3\", \"Topic3\", \"Topic3\", \"Topic3\", \"Topic3\", \"Topic3\", \"Topic3\", \"Topic3\", \"Topic3\", \"Topic3\", \"Topic3\", \"Topic3\", \"Topic3\", \"Topic3\", \"Topic3\", \"Topic3\", \"Topic3\", \"Topic3\", \"Topic4\", \"Topic4\", \"Topic4\", \"Topic4\", \"Topic4\", \"Topic4\", \"Topic4\", \"Topic4\", \"Topic4\", \"Topic4\", \"Topic4\", \"Topic4\", \"Topic4\", \"Topic4\", \"Topic4\", \"Topic4\", \"Topic4\", \"Topic4\", \"Topic4\", \"Topic4\", \"Topic4\", \"Topic4\", \"Topic4\", \"Topic4\", \"Topic4\", \"Topic4\", \"Topic4\", \"Topic4\", \"Topic4\", \"Topic4\", \"Topic4\", \"Topic4\", \"Topic4\", \"Topic4\", \"Topic4\", \"Topic4\", \"Topic4\", \"Topic4\", \"Topic4\", \"Topic4\", \"Topic4\", \"Topic4\", \"Topic4\", \"Topic4\", \"Topic5\", \"Topic5\", \"Topic5\", \"Topic5\", \"Topic5\", \"Topic5\", \"Topic5\", \"Topic5\", \"Topic5\", \"Topic5\", \"Topic5\", \"Topic5\", \"Topic5\", \"Topic5\", \"Topic5\", \"Topic5\", \"Topic5\", \"Topic5\", \"Topic5\", \"Topic5\", \"Topic5\", \"Topic5\", \"Topic5\", \"Topic5\", \"Topic5\", \"Topic5\", \"Topic5\", \"Topic5\", \"Topic5\", \"Topic5\", \"Topic5\", \"Topic5\", \"Topic5\", \"Topic5\", \"Topic5\", \"Topic5\", \"Topic5\", \"Topic5\", \"Topic5\", \"Topic5\", \"Topic5\", \"Topic5\", \"Topic5\", \"Topic6\", \"Topic6\", \"Topic6\", \"Topic6\", \"Topic6\", \"Topic6\", \"Topic6\", \"Topic6\", \"Topic6\", \"Topic6\", \"Topic6\", \"Topic6\", \"Topic6\", \"Topic6\", \"Topic6\", \"Topic6\", \"Topic6\", \"Topic6\", \"Topic6\", \"Topic6\", \"Topic6\", \"Topic6\", \"Topic6\", \"Topic6\", \"Topic6\", \"Topic6\", \"Topic6\", \"Topic6\", \"Topic6\", \"Topic6\", \"Topic6\", \"Topic6\", \"Topic6\", \"Topic6\", \"Topic6\", \"Topic6\", \"Topic6\", \"Topic6\", \"Topic6\", \"Topic6\", \"Topic6\", \"Topic7\", \"Topic7\", \"Topic7\", \"Topic7\", \"Topic7\", \"Topic7\", \"Topic7\", \"Topic7\", \"Topic7\", \"Topic7\", \"Topic7\", \"Topic7\", \"Topic7\", \"Topic7\", \"Topic7\", \"Topic7\", \"Topic7\", \"Topic7\", \"Topic7\", \"Topic7\", \"Topic7\", \"Topic7\", \"Topic7\", \"Topic7\", \"Topic7\", \"Topic7\", \"Topic7\", \"Topic7\", \"Topic7\", \"Topic7\", \"Topic7\", \"Topic7\", \"Topic7\", \"Topic7\", \"Topic7\", \"Topic7\", \"Topic7\", \"Topic7\", \"Topic7\", \"Topic7\", \"Topic7\", \"Topic8\", \"Topic8\", \"Topic8\", \"Topic8\", \"Topic8\", \"Topic8\", \"Topic8\", \"Topic8\", \"Topic8\", \"Topic8\", \"Topic8\", \"Topic8\", \"Topic8\", \"Topic8\", \"Topic8\", \"Topic8\", \"Topic8\", \"Topic8\", \"Topic8\", \"Topic8\", \"Topic8\", \"Topic8\", \"Topic8\", \"Topic8\", \"Topic8\", \"Topic8\", \"Topic8\", \"Topic8\", \"Topic8\", \"Topic8\", \"Topic8\", \"Topic8\", \"Topic8\", \"Topic8\", \"Topic8\", \"Topic8\", \"Topic8\", \"Topic8\", \"Topic8\", \"Topic8\", \"Topic8\"], \"Freq\": [107.0, 106.0, 59.0, 61.0, 266.0, 53.0, 75.0, 46.0, 55.0, 106.0, 149.0, 39.0, 40.0, 194.0, 42.0, 41.0, 348.0, 188.0, 41.0, 32.0, 32.0, 29.0, 45.0, 42.0, 101.0, 32.0, 28.0, 28.0, 39.0, 94.0, 40.33670588765478, 27.02565895761386, 20.940634497146295, 16.37347314625626, 14.97918217502527, 14.29552187385466, 13.958295011074071, 13.90868987033987, 13.203599327134482, 12.039049992096633, 11.893840460960288, 11.727009731664625, 11.227697307717314, 11.033752328672216, 10.919387026021237, 10.556461345564314, 10.578641059135252, 10.578386631743932, 10.233455168042525, 10.195438820038605, 10.195437939809976, 9.79997048124293, 9.554458289959198, 9.46620340759088, 9.436412388614473, 9.436412521925801, 8.170596968737824, 8.13607073136139, 31.21085976250005, 8.035903372770893, 23.466242164814286, 86.11860967245912, 11.555710198528446, 73.91534476042216, 59.41034158569003, 47.801143892496285, 11.107367582003945, 44.24677595572331, 36.34207064551847, 18.665097592301283, 13.671315649090255, 12.730578991583004, 41.66849718460844, 40.582780736872095, 25.11073954116798, 22.934667360745525, 16.142952451365062, 15.845953353690271, 15.84571743960684, 14.469814857868355, 11.495664980312682, 11.335040622902842, 10.944156043096523, 10.575607813203717, 10.556021576041864, 9.618937847152072, 9.249358259961173, 9.238485172185992, 8.96655831213691, 8.587420488151697, 8.500231123503417, 8.552852162290426, 8.232175387410184, 7.956329836112129, 7.687032730138981, 7.6870146083121815, 7.602403362866603, 7.5860636714912335, 7.541859710388117, 7.541859850944011, 7.479997256417848, 7.479956991251992, 16.713155857567045, 12.855375599871579, 46.92940924058529, 71.86244317974413, 9.268966607877507, 69.81461306235498, 30.274982632992497, 45.28691545117074, 38.97868310446024, 21.921386903582096, 21.373616189189832, 10.647048001148894, 9.562752495507683, 9.536650863782832, 10.09022540204625, 31.20026768017836, 24.79935266443281, 24.104145934355227, 21.483757850797538, 18.484800754235806, 17.287428026533373, 15.826124213141432, 15.131256314413946, 14.929927777627976, 14.929923331716546, 14.013563243306365, 13.308616074385158, 11.650404977117487, 11.151199428729518, 10.530478125092177, 12.010370985046178, 10.421662490557043, 9.027393349330184, 8.881514927102176, 8.516793487308165, 8.173057658744755, 7.796659309439838, 7.226684643516397, 10.792721898413236, 6.529113894453933, 6.321788226441104, 6.255940747383516, 6.236383732470649, 6.053530914726806, 6.008474615921929, 21.71670567139307, 33.298394953825095, 67.8708949711756, 79.07031617873481, 17.004420552211247, 16.62088356526751, 86.203259888499, 19.73724559174703, 44.747743357282914, 55.68927867150426, 26.047446143189447, 42.72816038664788, 21.52051041869646, 16.405174827938, 14.567088148771946, 105.52801430879225, 106.2220584634313, 18.13663877491342, 17.794667535065926, 16.191987938753176, 16.191972319162424, 16.1213104411516, 14.040357809987043, 12.258196883518474, 11.638332302422942, 11.246161068109386, 11.2794808283084, 27.909459859924652, 11.057842474801868, 10.698167777455621, 9.843770722569673, 8.974458858940936, 8.781215055738015, 8.675132591457979, 8.675132132293248, 8.432475392870215, 11.147542889698247, 11.147381699638284, 8.270268496355644, 8.270268356839301, 8.270268868672169, 7.069578085438541, 7.003858336328084, 6.574700712602166, 6.574567334090067, 23.6862227504118, 11.945511747829725, 11.248983894558036, 40.366914721404946, 32.98469303088757, 35.81860878088165, 24.577717403067986, 29.875300913211586, 10.107715992257988, 19.50987870466919, 13.764474928038085, 11.607714580131994, 15.030390396522982, 11.936646441235915, 21.169346304956655, 21.169330400478643, 17.752733669057005, 15.101501833979079, 15.133755577631884, 13.608624767626601, 13.392812141421073, 13.198633107374201, 13.17470248710927, 12.46144968643804, 15.551498464800462, 10.6864517706708, 10.073805530744878, 9.970465565707997, 9.81314794488395, 7.518374836640625, 7.518372578085823, 7.320787110227101, 7.387320245278394, 7.079433849776904, 6.958048210582468, 6.872341797094737, 6.026102969402973, 5.964436251287276, 5.924828981576692, 5.910639018058591, 5.860365998640918, 5.7918125350237455, 5.6015548540171025, 5.595763338302636, 8.116415172547292, 30.893331329181336, 13.01732654115981, 128.32820233226866, 26.639976091593944, 8.738476263081717, 118.90507644151218, 98.33811852367049, 44.292714248132555, 9.196480242218875, 21.951022720305797, 14.557861626045057, 9.015351311445883, 58.978366575803086, 52.43354682277465, 27.398587188066532, 24.095003963857387, 22.931081444783395, 19.05288284569472, 14.856392512777441, 13.838735018061998, 11.976693534810758, 11.313107405572575, 10.917302669666194, 10.797227890263342, 9.957872973623964, 9.275914520466756, 8.426975376804263, 8.36838790132033, 8.176533878904218, 8.038527330578452, 7.386970585479249, 7.024246175679325, 6.602275597136522, 6.48330861818485, 6.474236301816178, 6.373831957526527, 6.286544669812307, 6.252744502022623, 5.824316742974384, 5.697331514868804, 5.684194754128996, 5.52565528725331, 47.76347752857729, 53.22086618215564, 10.105005225312137, 36.548422377264906, 20.091246396578374, 20.750197682152518, 20.56580463763499, 24.54607314103978, 23.343959803016045, 22.19276598990546, 9.681464041247759, 46.034684387085754, 40.01583893184047, 31.58169683945705, 31.27796437441937, 27.17880108988711, 24.475318271046135, 20.378095762933665, 19.94874807131018, 16.084318736739732, 12.943311377159855, 11.932771646812428, 11.583175515318567, 11.171530685790707, 10.847807207115029, 10.481265788385977, 9.961620770389764, 9.650082805623185, 9.056214087194729, 8.608480277184656, 8.313629764586635, 8.313495745665147, 8.088949490807217, 7.754390795155258, 7.720633813294968, 7.558625661394488, 8.68574385715637, 7.17708806200473, 7.047811669675036, 6.990323414582868, 6.456220542792834, 22.160320785520344, 30.906725360188343, 9.755156909996701, 13.336608865478897, 39.36047829167467, 32.375717890332496, 27.680796391665762, 27.800259986324267, 11.951320092453964, 13.838477595219429, 10.881990331930266, 39.10708142080357, 28.400253579413665, 22.650791794771813, 21.308132705897464, 20.82375826918171, 14.92448964761636, 14.421882820297084, 13.187542647730115, 12.740431502895628, 11.65299495665836, 10.816355205143424, 10.687828902117634, 9.709184674836768, 9.335643109108837, 8.779138157058993, 8.653728232134458, 8.620593425539786, 8.620579584917747, 7.783514147707992, 7.387902933332149, 7.245140239384407, 6.449392457749694, 54.93202388509585, 6.036315205308543, 6.017397931580164, 5.963279963179722, 5.905136638216105, 5.47923118827622, 5.478055884228564, 5.249697024772306, 19.07336760569637, 36.95932521883861, 6.063076593168322, 26.867162728407884, 26.77341025890381, 29.363152744050787, 25.084766620515207, 13.794470693157256, 11.484486060755124, 10.6143365060248, 10.05354720533716], \"Term\": [\"\\u0441\\u0443\\u0431\\u0442\\u0438\\u0442\\u0440\\u044b\", \"\\u0440\\u0443\\u0441\\u0441\\u043a\\u0438\\u0435\", \"essentials\", \"ps\", \"\\u0446\\u0438\\u0444\\u0440\\u043e\\u0432\\u0430\\u044f\", \"psp\", \"\\u0438\\u0437\\u0434\\u0430\\u043d\\u0438\\u0435\", \"\\u043d\\u0430\\u0431\\u043e\\u0440\", \"dvd\", \"\\u0430\\u043d\\u0433\\u043b\\u0438\\u0439\\u0441\\u043a\\u0430\\u044f\", \"xbox\", \"vita\", \"skylanders\", \"ps_num_\", \"creed\", \"assassin\", \"pc\", \"jewel\", \"war\", \"\\u0438\\u043d\\u0442\\u0435\\u0440\\u0430\\u043a\\u0442\\u0438\\u0432\\u043d\\u0430\\u044f\", \"\\u0444\\u0438\\u0433\\u0443\\u0440\\u043a\\u0430\", \"\\u0441\\u043e\\u0444\\u0442\\u043a\\u043b\\u0430\\u0431\", \"\\u0434\\u043b\\u044f\", \"disney\", \"edition\", \"\\u0442\\u043e\\u043b\\u044c\\u043a\\u043e\", \"borderlands\", \"\\u043a\\u043e\\u043b\\u043b\\u0435\\u043a\\u0446\\u0438\\u043e\\u043d\\u043d\\u043e\\u0435\", \"fifa\", \"\\u0434\\u043e\\u043a\\u0443\\u043c\\u0435\\u043d\\u0442\\u0430\\u0446\\u0438\\u044f\", \"war\", \"duty\", \"total\", \"warhammer\", \"hd\", \"collection\", \"dawn\", \"ops\", \"\\u0437\\u043e\\u043b\\u043e\\u0442\\u043e\\u0435\", \"pro\", \"gold\", \"pass\", \"heroes\", \"season\", \"rome\", \"space\", \"\\u043a\\u043b\\u0430\\u0441\\u0441\\u0438\\u043a\\u0430\", \"\\u0436\\u0430\\u043d\\u0440\\u0430\", \"\\u0432\\u043e\\u0439\\u043d\\u044b\", \"elder\", \"scrolls\", \"\\u043f\\u043e\\u043b\\u043d\\u043e\\u0435\", \"resident\", \"god\", \"meier\", \"sid\", \"ghosts\", \"shogun\", \"ii\", \"\\u0442\\u044b\\u043b\\u0443\", \"p\\u0441\", \"jewel\", \"warfare\", \"pc\", \"\\u0432\\u0435\\u0440\\u0441\\u0438\\u044f\", \"\\u0440\\u0443\\u0441\\u0441\\u043a\\u0430\\u044f\", \"black\", \"_num_\", \"\\u0446\\u0438\\u0444\\u0440\\u043e\\u0432\\u0430\\u044f\", \"\\u0438\\u0437\\u0434\\u0430\\u043d\\u0438\\u0435\", \"ps_num_\", \"\\u0430\\u043d\\u0433\\u043b\\u0438\\u0439\\u0441\\u043a\\u0430\\u044f\", \"creed\", \"assassin\", \"limited\", \"\\u043a\\u043e\\u043c\\u043f\\u043b\\u0435\\u043a\\u0442\", \"platinum\", \"clancy\", \"tom\", \"sniper\", \"\\u0444\\u043b\\u0430\\u0433\", \"\\u0447\\u0435\\u0440\\u043d\\u044b\\u0439\", \"legends\", \"crew\", \"dlc\", \"hitman\", \"case\", \"\\u0431\\u0435\\u0437\", \"\\u0435\\u0434\\u0438\\u043d\\u0441\\u0442\\u0432\\u043e\", \"formula\", \"special\", \"uncharted\", \"\\u0434\\u0438\\u0441\\u043a\\u0430\", \"\\u0437\\u0430\\u0433\\u0440\\u0443\\u0437\\u043a\\u0438\", \"honor\", \"medal\", \"set\", \"\\u0440\\u0441\", \"\\u0437\\u0430\\u043a\\u0430\\u0437\\u0430\", \"\\u043f\\u0440\\u0435\\u0434\\u0432\\u0430\\u0440\\u0438\\u0442\\u0435\\u043b\\u044c\\u043d\\u043e\\u0433\\u043e\", \"splinter\", \"cell\", \"iv\", \"watch_dogs\", \"edition\", \"ps_num_\", \"\\u043a\\u043e\\u0434\", \"\\u0440\\u0443\\u0441\\u0441\\u043a\\u0430\\u044f\", \"\\u0434\\u043e\\u043a\\u0443\\u043c\\u0435\\u043d\\u0442\\u0430\\u0446\\u0438\\u044f\", \"\\u0432\\u0435\\u0440\\u0441\\u0438\\u044f\", \"_num_\", \"xbox\", \"pc\", \"far\", \"need\", \"speed\", \"\\u0446\\u0438\\u0444\\u0440\\u043e\\u0432\\u0430\\u044f\", \"\\u0442\\u043e\\u043b\\u044c\\u043a\\u043e\", \"ultimate\", \"kinect\", \"classics\", \"_num_k_num_\", \"game\", \"grand\", \"nba\", \"auto\", \"theft\", \"ms\", \"evolution\", \"year\", \"wwe\", \"\\u0442\\u0440\\u0430\\u043d\\u0441\\u0444\\u043e\\u0440\\u043c\\u0435\\u0440\\u044b\", \"soccer\", \"rivals\", \"dance\", \"bioshock\", \"just\", \"halo\", \"city\", \"\\u043f\\u0430\\u0434\\u0435\\u043d\\u0438\\u0435\", \"crysis\", \"games\", \"\\u043a\\u0438\\u0431\\u0435\\u0440\\u0442\\u0440\\u043e\\u043d\\u0430\", \"ufc\", \"infinite\", \"epay\", \"wanted\", \"battlefield\", \"\\u0434\\u043b\\u044f\", \"\\u0430\\u043d\\u0433\\u043b\\u0438\\u0439\\u0441\\u043a\\u0430\\u044f\", \"xbox\", \"speed\", \"need\", \"_num_\", \"fifa\", \"ps_num_\", \"\\u0432\\u0435\\u0440\\u0441\\u0438\\u044f\", \"\\u0434\\u043e\\u043a\\u0443\\u043c\\u0435\\u043d\\u0442\\u0430\\u0446\\u0438\\u044f\", \"\\u0440\\u0443\\u0441\\u0441\\u043a\\u0430\\u044f\", \"edition\", \"\\u0446\\u0438\\u0444\\u0440\\u043e\\u0432\\u0430\\u044f\", \"pc\", \"\\u0440\\u0443\\u0441\\u0441\\u043a\\u0438\\u0435\", \"\\u0441\\u0443\\u0431\\u0442\\u0438\\u0442\\u0440\\u044b\", \"\\u0437\\u0430\", \"_num_d\", \"\\u0441\\u0430\\u043c\\u044b\\u0435\", \"\\u0443\\u0432\\u043b\\u0435\\u043a\\u0430\\u0442\\u0435\\u043b\\u044c\\u043d\\u044b\\u0435\", \"\\u0438\\u0433\\u0440\\u0430\", \"\\u0431\\u0438\\u0442\\u0432\\u0430\", \"\\u0438\\u0433\\u0440\\u0443\\u0448\\u0435\\u043a\", \"kombat\", \"\\u0438\\u0441\\u0442\\u043e\\u0440\\u0438\\u044f\", \"mortal\", \"\\u0438\\u0433\\u0440\\u044b\", \"nhl\", \"\\u043b\\u0443\\u043d\\u0442\\u0438\\u043a\", \"_num_\\u0441\", \"\\u0445\\u043e\\u0440\\u043e\\u0448\\u0438\\u0435\", \"steam\", \"raider\", \"tomb\", \"\\u043f\\u043e\\u043a\\u043e\\u0440\\u0435\\u043d\\u0438\\u0435\", \"row\", \"saints\", \"\\u043c\\u043e\\u0440\\u0434\\u043e\\u0440\\u0430\", \"\\u0441\\u0440\\u0435\\u0434\\u0438\\u0437\\u0435\\u043c\\u044c\\u0435\", \"\\u0442\\u0435\\u043d\\u0438\", \"\\u0432\\u043e\\u0439\\u043d\\u0430\", \"day\", \"\\u0432\\u044b\\u0431\\u043e\\u0440\", \"\\u0438\\u0433\\u0440\\u043e\\u043c\\u0430\\u043d\\u0438\\u044f\", \"\\u043f\\u043e\\u0434\\u0434\\u0435\\u0440\\u0436\\u043a\\u043e\\u0439\", \"batman\", \"evil\", \"jewel\", \"ps_num_\", \"pc\", \"xbox\", \"_num_\", \"\\u043a\\u043e\\u043b\\u043b\\u0435\\u043a\\u0446\\u0438\\u044f\", \"\\u0432\\u0435\\u0440\\u0441\\u0438\\u044f\", \"edition\", \"\\u0434\\u043b\\u044f\", \"\\u0446\\u0438\\u0444\\u0440\\u043e\\u0432\\u0430\\u044f\", \"\\u0440\\u0443\\u0441\\u0441\\u043a\\u0430\\u044f\", \"\\u043d\\u044d\\u043d\\u0441\\u0438\", \"\\u0434\\u0440\\u044e\", \"dragon\", \"iii\", \"\\u043f\\u0440\\u0435\\u0434\\u0437\\u0430\\u043a\\u0430\\u0437\", \"deluxe\", \"\\u043c\\u0430\\u0433\\u0438\\u044f\", \"elite\", \"\\u043c\\u0435\\u0447\", \"\\u0438\\u0437\", \"fantasy\", \"majesty\", \"origins\", \"age\", \"kingdom\", \"\\u043c\\u0435\\u0434\\u0432\\u0435\\u0434\\u044c\", \"\\u043c\\u0430\\u0448\\u0430\", \"rising\", \"titanfall\", \"project\", \"wolfenstein\", \"\\u0442\\u0440\\u0438\", \"\\u043a\\u0440\\u043e\\u0432\\u0438\", \"\\u0441\\u043c\\u0435\\u0440\\u0442\\u0438\", \"evolve\", \"\\u0430\\u043d\\u0442\\u043e\\u043b\\u043e\\u0433\\u0438\\u044f\", \"\\u0444\\u0438\\u0433\\u0443\\u0440\\u043e\\u043a\", \"\\u043f\\u0435\\u0442\\u044c\\u043a\\u0430\", \"\\u0434\\u043e\\u043f\\u043e\\u043b\\u043d\\u0435\\u043d\\u0438\\u0439\", \"diablo\", \"final\", \"\\u0434\\u043e\\u043f\\u043e\\u043b\\u043d\\u0435\\u043d\\u0438\\u0435\", \"\\u0441\\u043c\\u0435\\u0448\\u0430\\u0440\\u0438\\u043a\\u0438\", \"\\u0446\\u0438\\u0444\\u0440\\u043e\\u0432\\u0430\\u044f\", \"sims\", \"blood\", \"pc\", \"\\u0432\\u0435\\u0440\\u0441\\u0438\\u044f\", \"_num_\", \"\\u043d\\u0430\", \"\\u0440\\u0443\\u0441\\u0441\\u043a\\u0430\\u044f\", \"jewel\", \"edition\", \"essentials\", \"psp\", \"\\u043a\\u043e\\u043b\\u043b\\u0435\\u043a\\u0446\\u0438\\u043e\\u043d\\u043d\\u043e\\u0435\", \"box\", \"\\u0441\\u043f\\u0435\\u0446\\u0438\\u0430\\u043b\\u044c\\u043d\\u043e\\u0435\", \"dark\", \"\\u0440\\u0443\\u0441\", \"\\u0440\\u0430\\u0441\\u0448\\u0438\\u0440\\u0435\\u043d\\u043d\\u043e\\u0435\", \"retribution\", \"souls\", \"tekken\", \"\\u0442\\u0430\\u0439\\u043d\\u0430\", \"\\u043f\\u0438\\u0440\\u0430\\u0442\\u044b\", \"metal\", \"online\", \"gear\", \"vs\", \"\\u043f\\u043e\\u0434\\u0430\\u0440\\u043e\\u0447\\u043d\\u043e\\u0435\", \"\\u0445\\u0440\\u043e\\u043d\\u0438\\u043a\\u0438\", \"\\u0441\\u0438\\u043d\\u0434\\u0438\\u043a\\u0430\\u0442\", \"man\", \"strike\", \"\\u0433\\u0435\\u0440\\u043e\\u0435\\u0432\", \"earth\", \"pixar\", \"solid\", \"\\u043f\\u043e\", \"spider\", \"aliens\", \"\\u043f\\u0440\\u0438\\u043a\\u043b\\u044e\\u0447\\u0435\\u043d\\u0438\\u0439\", \"dvd\", \"\\u0438\\u0437\\u0434\\u0430\\u043d\\u0438\\u0435\", \"\\u043c\\u0438\\u0440\", \"\\u0440\\u0443\\u0441\\u0441\\u043a\\u0430\\u044f\", \"\\u0434\\u043e\\u043a\\u0443\\u043c\\u0435\\u043d\\u0442\\u0430\\u0446\\u0438\\u044f\", \"jewel\", \"ps_num_\", \"_num_\", \"\\u0432\\u0435\\u0440\\u0441\\u0438\\u044f\", \"pc\", \"xbox\", \"\\u043d\\u0430\\u0431\\u043e\\u0440\", \"skylanders\", \"\\u0438\\u043d\\u0442\\u0435\\u0440\\u0430\\u043a\\u0442\\u0438\\u0432\\u043d\\u0430\\u044f\", \"\\u0444\\u0438\\u0433\\u0443\\u0440\\u043a\\u0430\", \"borderlands\", \"infinity\", \"\\u043f\\u0435\\u0440\\u0441\\u043e\\u043d\\u0430\\u0436\", \"\\u0433\\u0435\\u0440\\u043e\\u0438\", \"swap\", \"marvel\", \"xcom\", \"\\u0442\\u0430\\u0447\\u043a\\u0438\", \"max\", \"\\u043e\\u0445\\u043e\\u0442\\u0430\", \"\\u0432\\u043e\\u0438\\u043d\", \"king\", \"red\", \"island\", \"\\u043a\\u0430\\u0442\\u0430\\u043b\\u043e\\u0433\", \"\\u043c\\u0430\\u0433\\u0438\\u0438\", \"\\u043c\\u0435\\u0447\\u0430\", \"\\u0441\\u0442\\u0430\\u0440\\u0442\\u043e\\u0432\\u044b\\u0439\", \"cd\", \"enemy\", \"payne\", \"\\u0434\\u0438\\u043a\\u0430\\u044f\", \"superchargers\", \"\\u0447\\u0435\\u043b\\u043e\\u0432\\u0435\\u043a\", \"bounty\", \"\\u0434\\u0432\\u0430\", \"lego\", \"disney\", \"\\u0432\\u0435\\u0434\\u044c\\u043c\\u0430\\u043a\", \"dead\", \"_num_\", \"pc\", \"\\u0446\\u0438\\u0444\\u0440\\u043e\\u0432\\u0430\\u044f\", \"\\u0432\\u0435\\u0440\\u0441\\u0438\\u044f\", \"sims\", \"\\u0440\\u0443\\u0441\\u0441\\u043a\\u0430\\u044f\", \"jewel\", \"vita\", \"\\u0441\\u043e\\u0444\\u0442\\u043a\\u043b\\u0430\\u0431\", \"world\", \"pack\", \"force\", \"star\", \"fallout\", \"wars\", \"warcraft\", \"manager\", \"\\u043f\\u0440\\u0438\\u0437\\u0440\\u0430\\u043a\", \"super\", \"\\u0441\\u043d\\u0430\\u0439\\u043f\\u0435\\u0440\", \"new\", \"mac\", \"light\", \"effect\", \"mass\", \"football\", \"recon\", \"hell\", \"classic\", \"ps\", \"grid\", \"stronghold\", \"\\u0434\\u043d\\u0435\\u0439\", \"vegas\", \"brink\", \"wonderbook\", \"racing\", \"fifa\", \"\\u0432\\u0435\\u0440\\u0441\\u0438\\u044f\", \"time\", \"\\u0446\\u0438\\u0444\\u0440\\u043e\\u0432\\u0430\\u044f\", \"\\u0440\\u0443\\u0441\\u0441\\u043a\\u0430\\u044f\", \"pc\", \"_num_\", \"\\u0430\\u043d\\u0433\\u043b\\u0438\\u0439\\u0441\\u043a\\u0430\\u044f\", \"\\u0434\\u043e\\u043a\\u0443\\u043c\\u0435\\u043d\\u0442\\u0430\\u0446\\u0438\\u044f\", \"ps_num_\", \"jewel\"], \"Total\": [107.0, 106.0, 59.0, 61.0, 266.0, 53.0, 75.0, 46.0, 55.0, 106.0, 149.0, 39.0, 40.0, 194.0, 42.0, 41.0, 348.0, 188.0, 41.0, 32.0, 32.0, 29.0, 45.0, 42.0, 101.0, 32.0, 28.0, 28.0, 39.0, 94.0, 41.16228975870463, 27.851454877323953, 21.766051966014164, 17.198978770625498, 15.805234762079966, 15.12145042476974, 14.783729457368969, 14.73435767786483, 14.02926080970324, 12.865910191923113, 12.719847814798667, 12.552769687720918, 12.054965529762807, 11.859441029366746, 11.744773125829884, 11.382145862909654, 11.407639716082107, 11.407673022832947, 11.059062227794877, 11.020943988848094, 11.020944601732209, 10.625500934297802, 10.38113280248597, 10.292839956865704, 10.261894164687257, 10.261896770659373, 8.997281459223556, 8.962466894902658, 34.398004796859844, 8.861348993303249, 26.627529574551133, 188.8425322250553, 14.4879679624858, 348.5113709450665, 366.3380779448836, 271.391896734429, 14.333507171710226, 332.58805216325635, 266.4182449888751, 75.58989954577515, 194.78293901883538, 106.26090622379168, 42.534884850638676, 41.42794090553882, 25.934338346071662, 23.752738528083054, 16.960195991013094, 16.677299874141607, 16.677313609591792, 15.287401872614666, 12.312769726542705, 12.152263933521558, 11.761011353847369, 11.392839920858172, 11.37355710069929, 10.436754170792137, 10.066191956381822, 10.055369017403674, 9.787322919130855, 9.404997655841585, 9.317146300860836, 9.389972762631395, 9.048961808886554, 8.773138878704772, 8.504545200682662, 8.504543292293635, 8.419251997972564, 8.403176453267045, 8.358661074231039, 8.358661274591524, 8.304188012518681, 8.304181382123284, 24.245160412902067, 17.210111599098042, 101.36545035780576, 194.78293901883538, 11.429836156194236, 271.391896734429, 94.63639942726488, 366.3380779448836, 332.58805216325635, 149.68421378265737, 348.5113709450665, 25.669691948492986, 26.88767457933247, 27.24677174082471, 266.4182449888751, 32.01929998438028, 25.61889631479238, 24.922700137491752, 22.303381458697633, 19.30497252775101, 18.106203413925023, 16.6450387880581, 15.951793006627758, 15.74878531859294, 15.748786172501212, 14.83213496297028, 14.127443958391334, 12.469075657998477, 11.970112580296167, 11.349631302130097, 12.94718019110374, 11.240278198281208, 9.845922221654495, 9.70216538433106, 9.335613898004032, 8.99214541042735, 8.615439997627035, 8.045270261096181, 12.030191776929524, 7.348396863960936, 7.140356046290321, 7.074754405039656, 7.056031241648245, 6.872658184895693, 6.829238659273545, 26.076601681676326, 45.61346145793551, 106.26090622379168, 149.68421378265737, 27.24677174082471, 26.88767457933247, 332.58805216325635, 39.50015242001591, 194.78293901883538, 366.3380779448836, 94.63639942726488, 271.391896734429, 101.36545035780576, 266.4182449888751, 348.5113709450665, 106.44680665114295, 107.15063638584274, 18.96531077846379, 18.61837343271376, 17.015803486174867, 17.01580444050144, 16.945969762061303, 14.864123659082246, 13.081755823653431, 12.472995574852016, 12.069753892160696, 12.114011256704993, 29.990595308173937, 11.885478175759241, 11.521651184161595, 10.667483148676066, 9.798910231628014, 9.604848709840542, 9.498566903184274, 9.498569360805714, 9.255933750422978, 12.237535168163395, 12.237548611831514, 9.09388167023702, 9.093882608624135, 9.093885418709874, 7.89314645804567, 7.827564929062077, 7.402422038967832, 7.4024171928980795, 28.62203849659217, 16.8440427201569, 16.46699836273124, 188.8425322250553, 194.78293901883538, 348.5113709450665, 149.68421378265737, 332.58805216325635, 16.1786159202594, 366.3380779448836, 101.36545035780576, 45.61346145793551, 266.4182449888751, 271.391896734429, 22.00171189452966, 22.001713125438123, 18.579878845277253, 15.92885546459188, 15.965236946695967, 14.435964856560961, 14.219672983592408, 14.025805065517794, 14.001549416536163, 13.288303470265076, 16.623115211242858, 11.513471763496872, 10.901301863054943, 10.79808914237843, 10.639959484459386, 8.348402570254136, 8.348403724909108, 8.14815042339083, 8.222801072599092, 7.906200098743729, 7.785484275299252, 7.698986178254552, 6.852948360331064, 6.79168778050448, 6.751800102322734, 6.737605790333527, 6.687408471868884, 6.620777910245741, 6.429074127611343, 6.423267236960431, 9.442485275405529, 40.510519969329785, 16.305069516849635, 266.4182449888751, 41.4803375487766, 10.861020874518061, 348.5113709450665, 366.3380779448836, 332.58805216325635, 14.167523757633832, 271.391896734429, 188.8425322250553, 101.36545035780576, 59.79469058942412, 53.25873841159997, 28.214944348771365, 24.91133613403402, 23.747053059206, 19.86877805010119, 15.672596463422169, 14.65480946097108, 12.794968368490682, 12.129701175309576, 11.734405024080681, 11.61309222651712, 10.774585920653152, 10.091767751555247, 9.244000019608878, 9.185323187045515, 8.993173597584965, 8.854340503681561, 8.203235220003542, 7.841084849868265, 7.4179928497856285, 7.30029017120382, 7.290134989372279, 7.190862872570529, 7.102512093904943, 7.070588571418876, 6.6406469991300625, 6.513050055508042, 6.500023753543047, 6.3464565240723205, 55.52005569158774, 75.58989954577515, 13.134054263991404, 271.391896734429, 94.63639942726488, 188.8425322250553, 194.78293901883538, 332.58805216325635, 366.3380779448836, 348.5113709450665, 149.68421378265737, 46.88965131728592, 40.832490320648574, 32.39656394666839, 32.09310495545644, 28.023584474361247, 25.29066996016107, 21.193404785881935, 20.764501130424645, 16.900648920478147, 13.758534892081567, 12.747797529390724, 12.398287540167248, 11.986526985582497, 11.663053071046521, 11.297402990896526, 10.776685609470059, 10.46561532239401, 9.871346778431203, 9.423502261165332, 9.129144169613507, 9.12913445734209, 8.903797802981803, 8.569745314620043, 8.53602251934564, 8.373516085999222, 9.662953253478925, 7.992441118630255, 7.862966783861262, 7.805167640601266, 7.2711897679765105, 28.890161574063573, 42.251159909713884, 13.4746652037615, 24.29910940988572, 332.58805216325635, 348.5113709450665, 266.4182449888751, 366.3380779448836, 41.4803375487766, 271.391896734429, 188.8425322250553, 39.91277968664567, 29.206421871840003, 23.470871810148473, 22.11471415885872, 21.632212874828063, 15.730311228586542, 15.227643452492904, 13.993293750385648, 13.548405885773276, 12.458576134831398, 11.622238810226172, 11.493967572581942, 10.516841870507536, 10.141537285462071, 9.585194091563134, 9.459503112064482, 9.42628258578247, 9.426281560124114, 8.589148664669423, 8.196458705870718, 8.050934888069431, 7.255293055088207, 61.95075283886275, 6.842844518750934, 6.825203717273717, 6.768958831997761, 6.710932233622066, 6.284875918334896, 6.2837538468031955, 6.055325329782475, 39.50015242001591, 366.3380779448836, 7.889128251622477, 266.4182449888751, 271.391896734429, 348.5113709450665, 332.58805216325635, 106.26090622379168, 94.63639942726488, 194.78293901883538, 188.8425322250553], \"loglift\": [30.0, 29.0, 28.0, 27.0, 26.0, 25.0, 24.0, 23.0, 22.0, 21.0, 20.0, 19.0, 18.0, 17.0, 16.0, 15.0, 14.0, 13.0, 12.0, 11.0, 10.0, 9.0, 8.0, 7.0, 6.0, 5.0, 4.0, 3.0, 2.0, 1.0, 1.8926, 1.8828, 1.8742, 1.8637, 1.8592, 1.8567, 1.8554, 1.8552, 1.8522, 1.8465, 1.8457, 1.8448, 1.8418, 1.8407, 1.84, 1.8376, 1.8374, 1.8374, 1.8353, 1.835, 1.835, 1.832, 1.8299, 1.8292, 1.829, 1.829, 1.8165, 1.8162, 1.8157, 1.8151, 1.7865, 1.1277, 1.6868, 0.3621, 0.0938, 0.1764, 1.6579, -0.1042, -0.0792, 0.5142, -0.7437, -0.209, 1.9815, 1.9814, 1.9698, 1.967, 1.9526, 1.9509, 1.9509, 1.9471, 1.9334, 1.9324, 1.93, 1.9276, 1.9274, 1.9204, 1.9174, 1.9173, 1.9144, 1.9111, 1.9103, 1.9087, 1.9074, 1.9043, 1.901, 1.901, 1.9, 1.8997, 1.8992, 1.8992, 1.8975, 1.8975, 1.63, 1.7103, 1.2319, 1.0049, 1.7925, 0.6443, 0.8623, -0.0885, -0.1419, 0.081, -0.7895, 1.122, 0.9682, 0.9522, -1.2715, 1.9803, 1.9737, 1.9728, 1.9688, 1.9628, 1.96, 1.9558, 1.9534, 1.9528, 1.9528, 1.9495, 1.9465, 1.9383, 1.9354, 1.9313, 1.9311, 1.9306, 1.9195, 1.9179, 1.9144, 1.9107, 1.9064, 1.8989, 1.8977, 1.888, 1.8845, 1.8832, 1.8828, 1.8793, 1.8782, 1.8233, 1.6916, 1.558, 1.3681, 1.5348, 1.5252, 0.656, 1.3124, 0.5354, 0.1225, 0.7161, 0.1575, 0.4565, -0.7812, -1.1687, 2.01, 2.0099, 1.974, 1.9734, 1.969, 1.969, 1.9687, 1.9616, 1.9536, 1.9494, 1.948, 1.9473, 1.9467, 1.9465, 1.9445, 1.9383, 1.9307, 1.929, 1.9279, 1.9279, 1.9255, 1.9253, 1.9253, 1.9237, 1.9237, 1.9237, 1.9084, 1.9074, 1.9001, 1.9, 1.8293, 1.675, 1.6375, 0.4757, 0.2428, -0.2566, 0.2119, -0.3912, 1.5482, -0.914, 0.022, 0.6501, -0.8564, -1.1053, 2.0259, 2.0259, 2.0189, 2.0111, 2.011, 2.0054, 2.0046, 2.0037, 2.0036, 2.0002, 1.9978, 1.9899, 1.9855, 1.9847, 1.9836, 1.9597, 1.9597, 1.9574, 1.9573, 1.954, 1.9521, 1.9509, 1.9359, 1.9346, 1.9338, 1.9335, 1.9324, 1.9307, 1.9267, 1.9265, 1.9131, 1.7934, 1.8393, 1.334, 1.6217, 1.847, 0.9891, 0.7493, 0.0484, 1.6323, -0.4503, -0.4983, -0.3553, 2.1517, 2.1499, 2.1361, 2.1322, 2.1305, 2.1236, 2.112, 2.1082, 2.0994, 2.0958, 2.0933, 2.0927, 2.0867, 2.0812, 2.073, 2.0724, 2.0703, 2.0688, 2.0607, 2.0555, 2.049, 2.0468, 2.0468, 2.0449, 2.0435, 2.0426, 2.0343, 2.0317, 2.0314, 2.027, 2.015, 1.8146, 1.9033, 0.1606, 0.6157, -0.0429, -0.0828, -0.4409, -0.5877, -0.5884, -0.5728, 2.1781, 2.1763, 2.171, 2.1708, 2.1659, 2.1637, 2.1573, 2.1564, 2.147, 2.1354, 2.1304, 2.1285, 2.1261, 2.124, 2.1215, 2.1179, 2.1154, 2.1103, 2.106, 2.1029, 2.1029, 2.1005, 2.0965, 2.0961, 2.0941, 2.0899, 2.0889, 2.0871, 2.0862, 2.0776, 1.9313, 1.8839, 1.8735, 1.5966, 0.0624, -0.1798, -0.0678, -0.382, 0.9521, -0.7796, -0.6573, 2.3107, 2.3031, 2.2956, 2.294, 2.293, 2.2785, 2.2768, 2.2718, 2.2696, 2.2643, 2.2593, 2.2584, 2.2512, 2.2483, 2.2433, 2.2421, 2.2418, 2.2418, 2.2326, 2.2273, 2.2257, 2.2134, 2.2109, 2.2057, 2.2052, 2.2044, 2.2032, 2.1939, 2.1939, 2.1884, 1.6031, 0.0374, 2.0679, 0.037, 0.015, -0.1428, -0.2535, 0.2895, 0.2221, -0.5786, -0.6019], \"logprob\": [30.0, 29.0, 28.0, 27.0, 26.0, 25.0, 24.0, 23.0, 22.0, 21.0, 20.0, 19.0, 18.0, 17.0, 16.0, 15.0, 14.0, 13.0, 12.0, 11.0, 10.0, 9.0, 8.0, 7.0, 6.0, 5.0, 4.0, 3.0, 2.0, 1.0, -3.4769, -3.8774, -4.1325, -4.3785, -4.4675, -4.5142, -4.5381, -4.5416, -4.5937, -4.686, -4.6981, -4.7123, -4.7558, -4.7732, -4.7836, -4.8174, -4.8153, -4.8153, -4.8485, -4.8522, -4.8522, -4.8918, -4.9171, -4.9264, -4.9296, -4.9296, -5.0736, -5.0778, -3.7334, -5.0902, -4.0186, -2.7184, -4.727, -2.8712, -3.0897, -3.3071, -4.7665, -3.3844, -3.5812, -4.2475, -4.5588, -4.6301, -3.3553, -3.3817, -3.8617, -3.9524, -4.3035, -4.3221, -4.3221, -4.4129, -4.643, -4.6571, -4.6922, -4.7265, -4.7283, -4.8213, -4.8605, -4.8616, -4.8915, -4.9347, -4.9449, -4.9387, -4.977, -5.011, -5.0455, -5.0455, -5.0565, -5.0587, -5.0645, -5.0645, -5.0728, -5.0728, -4.2688, -4.5312, -3.2364, -2.8103, -4.8583, -2.8392, -3.6747, -3.272, -3.422, -3.9975, -4.0229, -4.7197, -4.8271, -4.8299, -4.7734, -3.6404, -3.87, -3.8984, -4.0135, -4.1638, -4.2308, -4.3191, -4.364, -4.3774, -4.3774, -4.4408, -4.4924, -4.6255, -4.6692, -4.7265, -4.595, -4.7369, -4.8805, -4.8968, -4.9388, -4.98, -5.0271, -5.103, -4.7019, -5.2045, -5.2368, -5.2473, -5.2504, -5.2802, -5.2876, -4.0027, -3.5753, -2.8632, -2.7105, -4.2473, -4.2701, -2.6241, -4.0983, -3.2798, -3.061, -3.8209, -3.3259, -4.0118, -4.2832, -4.402, -2.4094, -2.4029, -4.1705, -4.1895, -4.2839, -4.2839, -4.2883, -4.4265, -4.5622, -4.6141, -4.6484, -4.6454, -3.7394, -4.6653, -4.6983, -4.7816, -4.874, -4.8958, -4.908, -4.908, -4.9363, -4.6572, -4.6572, -4.9557, -4.9557, -4.9557, -5.1126, -5.122, -5.1852, -5.1852, -3.9035, -4.5881, -4.6481, -3.3704, -3.5724, -3.4899, -3.8666, -3.6714, -4.7551, -4.0975, -4.4463, -4.6167, -4.3583, -4.5888, -3.97, -3.97, -4.146, -4.3078, -4.3056, -4.4119, -4.4279, -4.4425, -4.4443, -4.4999, -4.2784, -4.6536, -4.7126, -4.723, -4.7389, -5.0052, -5.0052, -5.0319, -5.0228, -5.0654, -5.0827, -5.0951, -5.2265, -5.2368, -5.2434, -5.2458, -5.2544, -5.2661, -5.2995, -5.3006, -4.9287, -3.592, -4.4563, -2.168, -3.7402, -4.8548, -2.2443, -2.4342, -3.2318, -4.8038, -3.9338, -4.3444, -4.8236, -2.8444, -2.962, -3.6111, -3.7395, -3.7891, -3.9743, -4.2231, -4.2941, -4.4386, -4.4956, -4.5312, -4.5423, -4.6232, -4.6941, -4.7901, -4.7971, -4.8203, -4.8373, -4.9218, -4.9722, -5.0341, -5.0523, -5.0537, -5.0693, -5.0831, -5.0885, -5.1595, -5.1815, -5.1839, -5.2121, -3.0553, -2.9471, -4.6085, -3.3229, -3.9213, -3.889, -3.8979, -3.721, -3.7712, -3.8218, -4.6513, -3.0611, -3.2013, -3.438, -3.4476, -3.5881, -3.6929, -3.8761, -3.8974, -4.1127, -4.33, -4.4112, -4.441, -4.4772, -4.5066, -4.5409, -4.5918, -4.6236, -4.6871, -4.7378, -4.7726, -4.7727, -4.8, -4.8423, -4.8466, -4.8678, -4.7288, -4.9196, -4.9378, -4.946, -5.0255, -3.7922, -3.4596, -4.6127, -4.3, -3.2178, -3.4131, -3.5698, -3.5655, -4.4097, -4.2631, -4.5034, -3.0896, -3.4095, -3.6357, -3.6968, -3.7198, -4.0529, -4.0872, -4.1766, -4.2111, -4.3003, -4.3749, -4.3868, -4.4828, -4.5221, -4.5835, -4.5979, -4.6018, -4.6018, -4.7039, -4.7561, -4.7756, -4.8919, -2.7498, -4.9581, -4.9613, -4.9703, -4.9801, -5.0549, -5.0552, -5.0977, -3.8076, -3.1461, -4.9537, -3.465, -3.4685, -3.3762, -3.5337, -4.1316, -4.3149, -4.3937, -4.448]}, \"token.table\": {\"Topic\": [1, 2, 3, 4, 5, 6, 7, 8, 4, 3, 4, 5, 6, 2, 3, 3, 4, 1, 2, 3, 3, 1, 2, 1, 5, 7, 7, 6, 8, 2, 7, 2, 3, 2, 8, 3, 1, 2, 2, 3, 7, 3, 6, 1, 4, 1, 3, 7, 5, 5, 4, 6, 7, 2, 5, 1, 1, 6, 6, 1, 2, 3, 4, 5, 8, 1, 5, 7, 3, 6, 1, 4, 5, 3, 5, 8, 5, 1, 2, 3, 5, 6, 3, 8, 4, 5, 8, 8, 2, 3, 3, 6, 1, 1, 1, 3, 8, 3, 1, 8, 1, 2, 2, 1, 6, 5, 3, 7, 7, 1, 2, 1, 2, 4, 5, 6, 7, 8, 3, 3, 7, 5, 4, 2, 6, 7, 8, 2, 8, 5, 6, 8, 7, 8, 7, 2, 1, 6, 4, 3, 3, 2, 3, 8, 4, 6, 1, 5, 8, 1, 7, 1, 2, 3, 4, 5, 6, 7, 8, 6, 2, 1, 5, 4, 8, 1, 2, 3, 4, 6, 8, 6, 1, 6, 8, 4, 8, 7, 1, 6, 5, 3, 1, 4, 4, 1, 1, 2, 1, 1, 2, 5, 7, 7, 2, 3, 6, 6, 1, 2, 2, 3, 6, 2, 8, 4, 6, 8, 8, 7, 7, 6, 3, 6, 8, 5, 2, 4, 1, 3, 3, 2, 8, 8, 6, 3, 1, 8, 1, 2, 1, 8, 2, 6, 5, 8, 8, 3, 1, 2, 3, 4, 6, 7, 7, 3, 1, 3, 4, 6, 8, 5, 2, 4, 1, 2, 7, 1, 2, 3, 4, 5, 6, 7, 8, 7, 4, 1, 4, 6, 7, 7, 7, 2, 3, 4, 8, 1, 2, 3, 6, 8, 1, 2, 5, 5, 5, 2, 1, 4, 2, 2, 1, 4, 4, 4, 3, 4, 5, 1, 2, 6, 7, 4, 7, 3, 1, 2, 5, 6, 1, 4, 2, 5, 4, 7, 5, 5, 5, 5, 7, 1, 6, 4, 5, 6, 7, 5, 7, 3, 7, 5, 6, 6, 6, 3, 4, 4, 1, 2, 5, 8, 6, 6, 2, 6, 1, 2, 3, 4, 5, 6, 7, 8, 4, 4, 6, 5, 3, 5, 8, 8, 6, 4, 7, 4, 6, 7, 4, 3, 3, 5, 1, 4, 7, 5, 2, 4, 6, 1, 2, 3, 4, 5, 6, 7, 8, 7, 2], \"Freq\": [0.13229579268951572, 0.11726217988388893, 0.2585781402567807, 0.09020167683376071, 0.13229579268951572, 0.07516806402813393, 0.11726217988388893, 0.07516806402813393, 0.9667869250260479, 0.9324022592689473, 0.9374282443784402, 0.9260897801587662, 0.9230735498050306, 0.9896702347211854, 0.9524544081689318, 0.2374726819716081, 0.7124180459148243, 0.07669711047530295, 0.038348555237651474, 0.8436682152283325, 0.9276279720540476, 0.7674325528444632, 0.20929978713939906, 0.09207237621153852, 0.8286513859038467, 0.9634741774273122, 0.8968417236277015, 0.9634168103577172, 0.7955606546524615, 0.8940818970071526, 0.9335166572980816, 0.8429488323881216, 0.9285654594778041, 0.9593879177532947, 0.8269824463936908, 0.9415612623085298, 0.9258371126269247, 0.9874247960816886, 0.965518700904508, 0.9143661384596431, 0.0831241944054221, 0.9140840032441017, 0.9562742083126362, 0.946987026539618, 0.8942755586747668, 0.2880764015635963, 0.12346131495582699, 0.5349990314752503, 0.9698000888134041, 0.9341040592979086, 0.0710039678534429, 0.16567592499136677, 0.73370766781891, 0.9671556490733825, 0.9687899555155253, 0.9694287109569566, 0.1260805651724269, 0.8645524468966417, 0.834392214999251, 0.0986529430363246, 0.4636688322707256, 0.2170364746799141, 0.13811412025085443, 0.08878764873269214, 0.9547772324982675, 0.90736329030606, 0.9268630170798738, 0.9372046502770086, 0.8730246490632158, 0.9867096797125215, 0.12145504335061325, 0.6680027384283729, 0.12145504335061325, 0.9201947668869243, 0.888651901577462, 0.9193806017114271, 0.962515136102683, 0.07791289447544056, 0.42852091961492306, 0.07791289447544056, 0.23373868342632165, 0.15582578895088112, 0.506327160141929, 0.48101080213483255, 0.10590432188490256, 0.8472345750792205, 0.9314077928243546, 0.9707744705321513, 0.9569380375560184, 0.9389047284714437, 0.9525887250769492, 0.8709546563677552, 0.8891574678703428, 0.8743942427664648, 0.9434075135740875, 0.9612473845046923, 0.8768283399628107, 0.8896653284457732, 0.94905265412369, 0.8694642420190484, 0.9124870554662163, 0.958152298727662, 0.9406734647442215, 0.9012150612534933, 0.058142907177644726, 0.9416872438414282, 0.8503363710445303, 0.948966557145612, 0.91172969626241, 0.28871741332241085, 0.701170860925855, 0.45540588228031437, 0.03177250341490565, 0.21181668943270435, 0.07943125853726413, 0.11120376195216979, 0.0582495895939937, 0.05295417235817609, 0.9640501522802065, 0.9629775211994902, 0.9279290834291813, 0.9398532028816365, 0.9620784299959453, 0.9352937148897131, 0.2076831583173477, 0.7615049138302749, 0.9514241808876367, 0.9639729252543977, 0.938948122909872, 0.9554025254897641, 0.9436514892572715, 0.9631919306132165, 0.9448680475042349, 0.9547773363860245, 0.9176970120895652, 0.9406736758279748, 0.877031068101479, 0.8918160050416346, 0.9080394401905151, 0.9438964811844164, 0.9403331646647934, 0.37191762234755027, 0.6322599579908355, 0.8874394233013895, 0.9254991542902162, 0.8654262205787497, 0.9501601838424186, 0.9173216305375874, 0.9495940055633869, 0.9559643248882647, 0.9553931607507445, 0.2123316659635307, 0.060256283584245195, 0.04304020256017514, 0.10329648614442034, 0.3414522736440561, 0.06312563042159021, 0.0918190987950403, 0.08321105828300528, 0.8447715288156891, 0.9433853245845811, 0.932697323469061, 0.8853810822612849, 0.09685112327216304, 0.8878019633281612, 0.07187487811058343, 0.36964223028300053, 0.23102639392687535, 0.16941935554637524, 0.10781231716587517, 0.056473118515458415, 0.9763655984136903, 0.8637677008528012, 0.07511023485676532, 0.825719466369219, 0.9475113553164387, 0.8540273612293375, 0.9555099907601514, 0.963286010328786, 0.9378686726222475, 0.8590906692033025, 0.8896576956190583, 0.936586844390214, 0.8988738213081577, 0.8988728338423084, 0.9073632398468147, 0.9275310676752329, 0.9502031774231815, 0.8926113863304695, 0.8770308453825647, 0.04821561535385786, 0.6509108072770812, 0.28929369212314715, 0.9796120610300472, 0.915786744971958, 0.9268427428117076, 0.8485856501753661, 0.9068648799354496, 0.966425850844617, 0.9659610045157782, 0.36701595679376137, 0.6239271265493943, 0.921227374097308, 0.8429481593441045, 0.9535729956023149, 0.9370267322148602, 0.8218851387123147, 0.8790946393020868, 0.957023754464014, 0.8758275345542564, 0.9467092107104331, 0.9374143791207499, 0.9524543565263043, 0.1267567173590238, 0.7605403041541429, 0.8512914198211797, 0.9593871276005602, 0.9475111101611808, 0.9648051944739318, 0.8480859767691638, 0.9758421944806799, 0.9584692338849649, 0.8940635654074609, 0.9771306410174414, 0.8895636132441975, 0.8785752408656113, 0.971763238500141, 0.9595224788512471, 0.828273504681403, 0.13804558411356718, 0.9302877928616751, 0.9290164440120987, 0.7553698838699752, 0.23242150272922313, 0.8991091308486318, 0.7957027155899346, 0.9799380349414684, 0.9189554338951619, 0.053445849751504605, 0.14697608681663765, 0.527777766296108, 0.16701828047345188, 0.06680731218938075, 0.04008438731362845, 0.9413390801299882, 0.9623808796366087, 0.1223403833261241, 0.639934312782803, 0.04705399358697081, 0.05646479230436497, 0.13175118204351827, 0.8905240506365372, 0.8950442280559711, 0.9418651459782326, 0.14842669333570477, 0.07421334666785238, 0.7421334666785239, 0.16105341910123983, 0.1228373535517931, 0.15286426219778695, 0.05459437935635248, 0.2675124588461272, 0.06278353625980536, 0.07643213109889348, 0.10099960180925209, 0.8851591828722073, 0.8868453204570574, 0.9042358017361434, 0.9456364367163339, 0.823030027392762, 0.9631823020633768, 0.8251744475745861, 0.9313922735536112, 0.8840793197009165, 0.7234706366328375, 0.26308023150285004, 0.8863992452779014, 0.06340055239117003, 0.31700276195585014, 0.27473572702840343, 0.21133517463723342, 0.11623434605047839, 0.14810967631475863, 0.07405483815737932, 0.765233327626253, 0.9332603545868958, 0.9544711305102895, 0.919556867017036, 0.9642632619275665, 0.9491012412219494, 0.9118743143823439, 0.9570910853968279, 0.9266347084379984, 0.9441773014266116, 0.9456370557871069, 0.9173080557200523, 0.03334378626780543, 0.933626015498552, 0.9030498157159127, 0.2513563335071523, 0.039687842132708255, 0.7011518776778459, 0.9877590738535971, 0.9113690385306447, 0.955058931443079, 0.8402942319826225, 0.9642660772756146, 0.787412862005251, 0.08749031800058343, 0.9569396865096326, 0.3090499227278666, 0.6180998454557332, 0.9683094003163852, 0.8755355628726993, 0.9547242686118904, 0.8763143457223646, 0.914226368988953, 0.9582670248841013, 0.9582671574205687, 0.928468672520392, 0.8763152780125847, 0.15227590504808874, 0.7613795252404437, 0.8797123483784556, 0.6352556843358435, 0.2823358597048193, 0.9810267022190897, 0.9544711839091613, 0.9431492708635145, 0.8700764266241366, 0.9436898035998007, 0.906237919673294, 0.9281099128674267, 0.9035264185531939, 0.9035116727975016, 0.13975244986398339, 0.8385146991839003, 0.864310421369904, 0.9411320992614322, 0.9570910624549681, 0.939541332839678, 0.9464613642529289, 0.9454094544320599, 0.9553177772310872, 0.9520209464231475, 0.957084554241416, 0.17686600291890986, 0.2579295875900769, 0.1584424609481901, 0.044216500729727465, 0.08106358467116702, 0.13633421058332634, 0.051585917518015376, 0.09948712664188679, 0.9958025358843571, 0.9403023496950823, 0.8927336119972741, 0.8834328364185089, 0.18399185583967026, 0.7972980419719045, 0.9508557914180569, 0.9586932669419803, 0.9685412308911151, 0.8797122576019667, 0.8984930000680015, 0.9892615067473853, 0.9472068063734829, 0.9678756006523563, 0.8797119857636099, 0.9681660753084071, 0.969194479289871, 0.9092106204543128, 0.9027970804496931, 0.9403022969584912, 0.9659395699801059, 0.8972085412816456, 0.8933814441674517, 0.9184694815297557, 0.8533218678077815, 0.1351258807425267, 0.03753496687292409, 0.060055946996678544, 0.05630245030938613, 0.48044757597342835, 0.022520980123754454, 0.10509790724418745, 0.10134441055689504, 0.8902492141220154, 0.9051811300491028], \"Term\": [\"_num_\", \"_num_\", \"_num_\", \"_num_\", \"_num_\", \"_num_\", \"_num_\", \"_num_\", \"_num_d\", \"_num_k_num_\", \"_num_\\u0441\", \"age\", \"aliens\", \"assassin\", \"auto\", \"batman\", \"batman\", \"battlefield\", \"battlefield\", \"battlefield\", \"bioshock\", \"black\", \"black\", \"blood\", \"blood\", \"borderlands\", \"bounty\", \"box\", \"brink\", \"case\", \"cd\", \"cell\", \"city\", \"clancy\", \"classic\", \"classics\", \"collection\", \"creed\", \"crew\", \"crysis\", \"crysis\", \"dance\", \"dark\", \"dawn\", \"day\", \"dead\", \"dead\", \"dead\", \"deluxe\", \"diablo\", \"disney\", \"disney\", \"disney\", \"dlc\", \"dragon\", \"duty\", \"dvd\", \"dvd\", \"earth\", \"edition\", \"edition\", \"edition\", \"edition\", \"edition\", \"effect\", \"elder\", \"elite\", \"enemy\", \"epay\", \"essentials\", \"evil\", \"evil\", \"evil\", \"evolution\", \"evolve\", \"fallout\", \"fantasy\", \"far\", \"far\", \"far\", \"far\", \"far\", \"fifa\", \"fifa\", \"final\", \"final\", \"football\", \"force\", \"formula\", \"game\", \"games\", \"gear\", \"ghosts\", \"god\", \"gold\", \"grand\", \"grid\", \"halo\", \"hd\", \"hell\", \"heroes\", \"hitman\", \"honor\", \"ii\", \"ii\", \"iii\", \"infinite\", \"infinity\", \"island\", \"iv\", \"iv\", \"jewel\", \"jewel\", \"jewel\", \"jewel\", \"jewel\", \"jewel\", \"jewel\", \"just\", \"kinect\", \"king\", \"kingdom\", \"kombat\", \"legends\", \"lego\", \"lego\", \"light\", \"limited\", \"mac\", \"majesty\", \"man\", \"manager\", \"marvel\", \"mass\", \"max\", \"medal\", \"meier\", \"metal\", \"mortal\", \"ms\", \"nba\", \"need\", \"need\", \"new\", \"nhl\", \"online\", \"ops\", \"origins\", \"pack\", \"pass\", \"payne\", \"pc\", \"pc\", \"pc\", \"pc\", \"pc\", \"pc\", \"pc\", \"pc\", \"pixar\", \"platinum\", \"pro\", \"project\", \"ps\", \"ps\", \"ps_num_\", \"ps_num_\", \"ps_num_\", \"ps_num_\", \"ps_num_\", \"ps_num_\", \"psp\", \"p\\u0441\", \"p\\u0441\", \"racing\", \"raider\", \"recon\", \"red\", \"resident\", \"retribution\", \"rising\", \"rivals\", \"rome\", \"row\", \"saints\", \"scrolls\", \"season\", \"set\", \"shogun\", \"sid\", \"sims\", \"sims\", \"sims\", \"skylanders\", \"sniper\", \"soccer\", \"solid\", \"souls\", \"space\", \"special\", \"speed\", \"speed\", \"spider\", \"splinter\", \"star\", \"steam\", \"strike\", \"stronghold\", \"super\", \"superchargers\", \"swap\", \"tekken\", \"theft\", \"time\", \"time\", \"titanfall\", \"tom\", \"tomb\", \"total\", \"ufc\", \"ultimate\", \"uncharted\", \"vegas\", \"vita\", \"vs\", \"wanted\", \"war\", \"warcraft\", \"warfare\", \"warfare\", \"warhammer\", \"wars\", \"watch_dogs\", \"watch_dogs\", \"wolfenstein\", \"wonderbook\", \"world\", \"wwe\", \"xbox\", \"xbox\", \"xbox\", \"xbox\", \"xbox\", \"xbox\", \"xcom\", \"year\", \"\\u0430\\u043d\\u0433\\u043b\\u0438\\u0439\\u0441\\u043a\\u0430\\u044f\", \"\\u0430\\u043d\\u0433\\u043b\\u0438\\u0439\\u0441\\u043a\\u0430\\u044f\", \"\\u0430\\u043d\\u0433\\u043b\\u0438\\u0439\\u0441\\u043a\\u0430\\u044f\", \"\\u0430\\u043d\\u0433\\u043b\\u0438\\u0439\\u0441\\u043a\\u0430\\u044f\", \"\\u0430\\u043d\\u0433\\u043b\\u0438\\u0439\\u0441\\u043a\\u0430\\u044f\", \"\\u0430\\u043d\\u0442\\u043e\\u043b\\u043e\\u0433\\u0438\\u044f\", \"\\u0431\\u0435\\u0437\", \"\\u0431\\u0438\\u0442\\u0432\\u0430\", \"\\u0432\\u0435\\u0434\\u044c\\u043c\\u0430\\u043a\", \"\\u0432\\u0435\\u0434\\u044c\\u043c\\u0430\\u043a\", \"\\u0432\\u0435\\u0434\\u044c\\u043c\\u0430\\u043a\", \"\\u0432\\u0435\\u0440\\u0441\\u0438\\u044f\", \"\\u0432\\u0435\\u0440\\u0441\\u0438\\u044f\", \"\\u0432\\u0435\\u0440\\u0441\\u0438\\u044f\", \"\\u0432\\u0435\\u0440\\u0441\\u0438\\u044f\", \"\\u0432\\u0435\\u0440\\u0441\\u0438\\u044f\", \"\\u0432\\u0435\\u0440\\u0441\\u0438\\u044f\", \"\\u0432\\u0435\\u0440\\u0441\\u0438\\u044f\", \"\\u0432\\u0435\\u0440\\u0441\\u0438\\u044f\", \"\\u0432\\u043e\\u0438\\u043d\", \"\\u0432\\u043e\\u0439\\u043d\\u0430\", \"\\u0432\\u043e\\u0439\\u043d\\u044b\", \"\\u0432\\u044b\\u0431\\u043e\\u0440\", \"\\u0433\\u0435\\u0440\\u043e\\u0435\\u0432\", \"\\u0433\\u0435\\u0440\\u043e\\u0438\", \"\\u0434\\u0432\\u0430\", \"\\u0434\\u0438\\u043a\\u0430\\u044f\", \"\\u0434\\u0438\\u0441\\u043a\\u0430\", \"\\u0434\\u043b\\u044f\", \"\\u0434\\u043b\\u044f\", \"\\u0434\\u043d\\u0435\\u0439\", \"\\u0434\\u043e\\u043a\\u0443\\u043c\\u0435\\u043d\\u0442\\u0430\\u0446\\u0438\\u044f\", \"\\u0434\\u043e\\u043a\\u0443\\u043c\\u0435\\u043d\\u0442\\u0430\\u0446\\u0438\\u044f\", \"\\u0434\\u043e\\u043a\\u0443\\u043c\\u0435\\u043d\\u0442\\u0430\\u0446\\u0438\\u044f\", \"\\u0434\\u043e\\u043a\\u0443\\u043c\\u0435\\u043d\\u0442\\u0430\\u0446\\u0438\\u044f\", \"\\u0434\\u043e\\u043a\\u0443\\u043c\\u0435\\u043d\\u0442\\u0430\\u0446\\u0438\\u044f\", \"\\u0434\\u043e\\u043f\\u043e\\u043b\\u043d\\u0435\\u043d\\u0438\\u0435\", \"\\u0434\\u043e\\u043f\\u043e\\u043b\\u043d\\u0435\\u043d\\u0438\\u0435\", \"\\u0434\\u043e\\u043f\\u043e\\u043b\\u043d\\u0435\\u043d\\u0438\\u0435\", \"\\u0434\\u043e\\u043f\\u043e\\u043b\\u043d\\u0435\\u043d\\u0438\\u0439\", \"\\u0434\\u0440\\u044e\", \"\\u0435\\u0434\\u0438\\u043d\\u0441\\u0442\\u0432\\u043e\", \"\\u0436\\u0430\\u043d\\u0440\\u0430\", \"\\u0437\\u0430\", \"\\u0437\\u0430\\u0433\\u0440\\u0443\\u0437\\u043a\\u0438\", \"\\u0437\\u0430\\u043a\\u0430\\u0437\\u0430\", \"\\u0437\\u043e\\u043b\\u043e\\u0442\\u043e\\u0435\", \"\\u0438\\u0433\\u0440\\u0430\", \"\\u0438\\u0433\\u0440\\u043e\\u043c\\u0430\\u043d\\u0438\\u044f\", \"\\u0438\\u0433\\u0440\\u0443\\u0448\\u0435\\u043a\", \"\\u0438\\u0433\\u0440\\u044b\", \"\\u0438\\u0433\\u0440\\u044b\", \"\\u0438\\u0437\", \"\\u0438\\u0437\\u0434\\u0430\\u043d\\u0438\\u0435\", \"\\u0438\\u0437\\u0434\\u0430\\u043d\\u0438\\u0435\", \"\\u0438\\u0437\\u0434\\u0430\\u043d\\u0438\\u0435\", \"\\u0438\\u043d\\u0442\\u0435\\u0440\\u0430\\u043a\\u0442\\u0438\\u0432\\u043d\\u0430\\u044f\", \"\\u0438\\u0441\\u0442\\u043e\\u0440\\u0438\\u044f\", \"\\u043a\\u0430\\u0442\\u0430\\u043b\\u043e\\u0433\", \"\\u043a\\u0438\\u0431\\u0435\\u0440\\u0442\\u0440\\u043e\\u043d\\u0430\", \"\\u043a\\u043b\\u0430\\u0441\\u0441\\u0438\\u043a\\u0430\", \"\\u043a\\u043e\\u0434\", \"\\u043a\\u043e\\u0434\", \"\\u043a\\u043e\\u043b\\u043b\\u0435\\u043a\\u0446\\u0438\\u043e\\u043d\\u043d\\u043e\\u0435\", \"\\u043a\\u043e\\u043b\\u043b\\u0435\\u043a\\u0446\\u0438\\u044f\", \"\\u043a\\u043e\\u043b\\u043b\\u0435\\u043a\\u0446\\u0438\\u044f\", \"\\u043a\\u043e\\u043c\\u043f\\u043b\\u0435\\u043a\\u0442\", \"\\u043a\\u0440\\u043e\\u0432\\u0438\", \"\\u043b\\u0443\\u043d\\u0442\\u0438\\u043a\", \"\\u043c\\u0430\\u0433\\u0438\\u0438\", \"\\u043c\\u0430\\u0433\\u0438\\u044f\", \"\\u043c\\u0430\\u0448\\u0430\", \"\\u043c\\u0435\\u0434\\u0432\\u0435\\u0434\\u044c\", \"\\u043c\\u0435\\u0447\", \"\\u043c\\u0435\\u0447\\u0430\", \"\\u043c\\u0438\\u0440\", \"\\u043c\\u0438\\u0440\", \"\\u043c\\u043e\\u0440\\u0434\\u043e\\u0440\\u0430\", \"\\u043d\\u0430\", \"\\u043d\\u0430\", \"\\u043d\\u0430\\u0431\\u043e\\u0440\", \"\\u043d\\u044d\\u043d\\u0441\\u0438\", \"\\u043e\\u0445\\u043e\\u0442\\u0430\", \"\\u043f\\u0430\\u0434\\u0435\\u043d\\u0438\\u0435\", \"\\u043f\\u0435\\u0440\\u0441\\u043e\\u043d\\u0430\\u0436\", \"\\u043f\\u0435\\u0442\\u044c\\u043a\\u0430\", \"\\u043f\\u0438\\u0440\\u0430\\u0442\\u044b\", \"\\u043f\\u043e\", \"\\u043f\\u043e\\u0434\\u0430\\u0440\\u043e\\u0447\\u043d\\u043e\\u0435\", \"\\u043f\\u043e\\u0434\\u0434\\u0435\\u0440\\u0436\\u043a\\u043e\\u0439\", \"\\u043f\\u043e\\u0434\\u0434\\u0435\\u0440\\u0436\\u043a\\u043e\\u0439\", \"\\u043f\\u043e\\u043a\\u043e\\u0440\\u0435\\u043d\\u0438\\u0435\", \"\\u043f\\u043e\\u043b\\u043d\\u043e\\u0435\", \"\\u043f\\u0440\\u0435\\u0434\\u0432\\u0430\\u0440\\u0438\\u0442\\u0435\\u043b\\u044c\\u043d\\u043e\\u0433\\u043e\", \"\\u043f\\u0440\\u0435\\u0434\\u0437\\u0430\\u043a\\u0430\\u0437\", \"\\u043f\\u0440\\u0438\\u0437\\u0440\\u0430\\u043a\", \"\\u043f\\u0440\\u0438\\u043a\\u043b\\u044e\\u0447\\u0435\\u043d\\u0438\\u0439\", \"\\u0440\\u0430\\u0441\\u0448\\u0438\\u0440\\u0435\\u043d\\u043d\\u043e\\u0435\", \"\\u0440\\u0441\", \"\\u0440\\u0443\\u0441\", \"\\u0440\\u0443\\u0441\\u0441\\u043a\\u0430\\u044f\", \"\\u0440\\u0443\\u0441\\u0441\\u043a\\u0430\\u044f\", \"\\u0440\\u0443\\u0441\\u0441\\u043a\\u0430\\u044f\", \"\\u0440\\u0443\\u0441\\u0441\\u043a\\u0430\\u044f\", \"\\u0440\\u0443\\u0441\\u0441\\u043a\\u0430\\u044f\", \"\\u0440\\u0443\\u0441\\u0441\\u043a\\u0430\\u044f\", \"\\u0440\\u0443\\u0441\\u0441\\u043a\\u0430\\u044f\", \"\\u0440\\u0443\\u0441\\u0441\\u043a\\u0430\\u044f\", \"\\u0440\\u0443\\u0441\\u0441\\u043a\\u0438\\u0435\", \"\\u0441\\u0430\\u043c\\u044b\\u0435\", \"\\u0441\\u0438\\u043d\\u0434\\u0438\\u043a\\u0430\\u0442\", \"\\u0441\\u043c\\u0435\\u0440\\u0442\\u0438\", \"\\u0441\\u043c\\u0435\\u0448\\u0430\\u0440\\u0438\\u043a\\u0438\", \"\\u0441\\u043c\\u0435\\u0448\\u0430\\u0440\\u0438\\u043a\\u0438\", \"\\u0441\\u043d\\u0430\\u0439\\u043f\\u0435\\u0440\", \"\\u0441\\u043e\\u0444\\u0442\\u043a\\u043b\\u0430\\u0431\", \"\\u0441\\u043f\\u0435\\u0446\\u0438\\u0430\\u043b\\u044c\\u043d\\u043e\\u0435\", \"\\u0441\\u0440\\u0435\\u0434\\u0438\\u0437\\u0435\\u043c\\u044c\\u0435\", \"\\u0441\\u0442\\u0430\\u0440\\u0442\\u043e\\u0432\\u044b\\u0439\", \"\\u0441\\u0443\\u0431\\u0442\\u0438\\u0442\\u0440\\u044b\", \"\\u0442\\u0430\\u0439\\u043d\\u0430\", \"\\u0442\\u0430\\u0447\\u043a\\u0438\", \"\\u0442\\u0435\\u043d\\u0438\", \"\\u0442\\u043e\\u043b\\u044c\\u043a\\u043e\", \"\\u0442\\u0440\\u0430\\u043d\\u0441\\u0444\\u043e\\u0440\\u043c\\u0435\\u0440\\u044b\", \"\\u0442\\u0440\\u0438\", \"\\u0442\\u044b\\u043b\\u0443\", \"\\u0443\\u0432\\u043b\\u0435\\u043a\\u0430\\u0442\\u0435\\u043b\\u044c\\u043d\\u044b\\u0435\", \"\\u0444\\u0438\\u0433\\u0443\\u0440\\u043a\\u0430\", \"\\u0444\\u0438\\u0433\\u0443\\u0440\\u043e\\u043a\", \"\\u0444\\u043b\\u0430\\u0433\", \"\\u0445\\u043e\\u0440\\u043e\\u0448\\u0438\\u0435\", \"\\u0445\\u0440\\u043e\\u043d\\u0438\\u043a\\u0438\", \"\\u0446\\u0438\\u0444\\u0440\\u043e\\u0432\\u0430\\u044f\", \"\\u0446\\u0438\\u0444\\u0440\\u043e\\u0432\\u0430\\u044f\", \"\\u0446\\u0438\\u0444\\u0440\\u043e\\u0432\\u0430\\u044f\", \"\\u0446\\u0438\\u0444\\u0440\\u043e\\u0432\\u0430\\u044f\", \"\\u0446\\u0438\\u0444\\u0440\\u043e\\u0432\\u0430\\u044f\", \"\\u0446\\u0438\\u0444\\u0440\\u043e\\u0432\\u0430\\u044f\", \"\\u0446\\u0438\\u0444\\u0440\\u043e\\u0432\\u0430\\u044f\", \"\\u0446\\u0438\\u0444\\u0440\\u043e\\u0432\\u0430\\u044f\", \"\\u0447\\u0435\\u043b\\u043e\\u0432\\u0435\\u043a\", \"\\u0447\\u0435\\u0440\\u043d\\u044b\\u0439\"]}, \"R\": 30, \"lambda.step\": 0.01, \"plot.opts\": {\"xlab\": \"PC1\", \"ylab\": \"PC2\"}, \"topic.order\": [6, 1, 7, 2, 4, 5, 8, 3]};\n",
       "\n",
       "function LDAvis_load_lib(url, callback){\n",
       "  var s = document.createElement('script');\n",
       "  s.src = url;\n",
       "  s.async = true;\n",
       "  s.onreadystatechange = s.onload = callback;\n",
       "  s.onerror = function(){console.warn(\"failed to load library \" + url);};\n",
       "  document.getElementsByTagName(\"head\")[0].appendChild(s);\n",
       "}\n",
       "\n",
       "if(typeof(LDAvis) !== \"undefined\"){\n",
       "   // already loaded: just create the visualization\n",
       "   !function(LDAvis){\n",
       "       new LDAvis(\"#\" + \"ldavis_el10511223086431731444579027009\", ldavis_el10511223086431731444579027009_data);\n",
       "   }(LDAvis);\n",
       "}else if(typeof define === \"function\" && define.amd){\n",
       "   // require.js is available: use it to load d3/LDAvis\n",
       "   require.config({paths: {d3: \"https://cdnjs.cloudflare.com/ajax/libs/d3/3.5.5/d3.min\"}});\n",
       "   require([\"d3\"], function(d3){\n",
       "      window.d3 = d3;\n",
       "      LDAvis_load_lib(\"https://cdn.rawgit.com/bmabey/pyLDAvis/files/ldavis.v1.0.0.js\", function(){\n",
       "        new LDAvis(\"#\" + \"ldavis_el10511223086431731444579027009\", ldavis_el10511223086431731444579027009_data);\n",
       "      });\n",
       "    });\n",
       "}else{\n",
       "    // require.js not available: dynamically load d3 & LDAvis\n",
       "    LDAvis_load_lib(\"https://cdnjs.cloudflare.com/ajax/libs/d3/3.5.5/d3.min.js\", function(){\n",
       "         LDAvis_load_lib(\"https://cdn.rawgit.com/bmabey/pyLDAvis/files/ldavis.v1.0.0.js\", function(){\n",
       "                 new LDAvis(\"#\" + \"ldavis_el10511223086431731444579027009\", ldavis_el10511223086431731444579027009_data);\n",
       "            })\n",
       "         });\n",
       "}\n",
       "</script>"
      ],
      "text/plain": [
       "PreparedData(topic_coordinates=            Freq  cluster  topics         x         y\n",
       "topic                                                \n",
       "5      14.765269        1       1 -0.025587  0.040346\n",
       "0      13.506084        1       2  0.143422  0.089999\n",
       "6      13.449280        1       3  0.159360 -0.013595\n",
       "1      13.283750        1       4  0.089078 -0.279558\n",
       "3      12.688647        1       5 -0.139832 -0.003293\n",
       "4      11.469303        1       6  0.035550  0.174090\n",
       "7      11.119066        1       7 -0.256841 -0.033783\n",
       "2       9.718603        1       8 -0.005150  0.025794, topic_info=     Category        Freq           Term       Total  loglift  logprob\n",
       "term                                                                  \n",
       "670   Default  107.000000       субтитры  107.000000  30.0000  30.0000\n",
       "646   Default  106.000000        русские  106.000000  29.0000  29.0000\n",
       "144   Default   59.000000     essentials   59.000000  28.0000  28.0000\n",
       "301   Default   61.000000             ps   61.000000  27.0000  27.0000\n",
       "705   Default  266.000000       цифровая  266.000000  26.0000  26.0000\n",
       "303   Default   53.000000            psp   53.000000  25.0000  25.0000\n",
       "538   Default   75.000000        издание   75.000000  24.0000  24.0000\n",
       "590   Default   46.000000          набор   46.000000  23.0000  23.0000\n",
       "130   Default   55.000000            dvd   55.000000  22.0000  22.0000\n",
       "462   Default  106.000000     английская  106.000000  21.0000  21.0000\n",
       "450   Default  149.000000           xbox  149.000000  20.0000  20.0000\n",
       "425   Default   39.000000           vita   39.000000  19.0000  19.0000\n",
       "356   Default   40.000000     skylanders   40.000000  18.0000  18.0000\n",
       "302   Default  194.000000        ps_num_  194.000000  17.0000  17.0000\n",
       "88    Default   42.000000          creed   42.000000  16.0000  16.0000\n",
       "26    Default   41.000000       assassin   41.000000  15.0000  15.0000\n",
       "283   Default  348.000000             pc  348.000000  14.0000  14.0000\n",
       "210   Default  188.000000          jewel  188.000000  13.0000  13.0000\n",
       "431   Default   41.000000            war   41.000000  12.0000  12.0000\n",
       "543   Default   32.000000  интерактивная   32.000000  11.0000  11.0000\n",
       "695   Default   32.000000        фигурка   32.000000  10.0000  10.0000\n",
       "663   Default   29.000000       софтклаб   29.000000   9.0000   9.0000\n",
       "508   Default   45.000000            для   45.000000   8.0000   8.0000\n",
       "118   Default   42.000000         disney   42.000000   7.0000   7.0000\n",
       "134   Default  101.000000        edition  101.000000   6.0000   6.0000\n",
       "682   Default   32.000000         только   32.000000   5.0000   5.0000\n",
       "48    Default   28.000000    borderlands   28.000000   4.0000   4.0000\n",
       "560   Default   28.000000  коллекционное   28.000000   3.0000   3.0000\n",
       "157   Default   39.000000           fifa   39.000000   2.0000   2.0000\n",
       "510   Default   94.000000   документация   94.000000   1.0000   1.0000\n",
       "...       ...         ...            ...         ...      ...      ...\n",
       "384    Topic8   10.687829          super   11.493968   2.2584  -4.3868\n",
       "661    Topic8    9.709185        снайпер   10.516842   2.2512  -4.4828\n",
       "261    Topic8    9.335643            new   10.141537   2.2483  -4.5221\n",
       "233    Topic8    8.779138            mac    9.585194   2.2433  -4.5835\n",
       "225    Topic8    8.653728          light    9.459503   2.2421  -4.5979\n",
       "135    Topic8    8.620593         effect    9.426283   2.2418  -4.6018\n",
       "243    Topic8    8.620580           mass    9.426282   2.2418  -4.6018\n",
       "160    Topic8    7.783514       football    8.589149   2.2326  -4.7039\n",
       "316    Topic8    7.387903          recon    8.196459   2.2273  -4.7561\n",
       "188    Topic8    7.245140           hell    8.050935   2.2257  -4.7756\n",
       "73     Topic8    6.449392        classic    7.255293   2.2134  -4.8919\n",
       "301    Topic8   54.932024             ps   61.950753   2.2109  -2.7498\n",
       "182    Topic8    6.036315           grid    6.842845   2.2057  -4.9581\n",
       "383    Topic8    6.017398     stronghold    6.825204   2.2052  -4.9613\n",
       "509    Topic8    5.963280           дней    6.768959   2.2044  -4.9703\n",
       "421    Topic8    5.905137          vegas    6.710932   2.2032  -4.9801\n",
       "52     Topic8    5.479231          brink    6.284876   2.1939  -5.0549\n",
       "443    Topic8    5.478056     wonderbook    6.283754   2.1939  -5.0552\n",
       "307    Topic8    5.249697         racing    6.055325   2.1884  -5.0977\n",
       "157    Topic8   19.073368           fifa   39.500152   1.6031  -3.8076\n",
       "476    Topic8   36.959325         версия  366.338078   0.0374  -3.1461\n",
       "398    Topic8    6.063077           time    7.889128   2.0679  -4.9537\n",
       "705    Topic8   26.867163       цифровая  266.418245   0.0370  -3.4650\n",
       "645    Topic8   26.773410        русская  271.391897   0.0150  -3.4685\n",
       "283    Topic8   29.363153             pc  348.511371  -0.1428  -3.3762\n",
       "0      Topic8   25.084767          _num_  332.588052  -0.2535  -3.5337\n",
       "462    Topic8   13.794471     английская  106.260906   0.2895  -4.1316\n",
       "510    Topic8   11.484486   документация   94.636399   0.2221  -4.3149\n",
       "302    Topic8   10.614337        ps_num_  194.782939  -0.5786  -4.3937\n",
       "210    Topic8   10.053547          jewel  188.842532  -0.6019  -4.4480\n",
       "\n",
       "[372 rows x 6 columns], token_table=      Topic      Freq           Term\n",
       "term                                \n",
       "0         1  0.132296          _num_\n",
       "0         2  0.117262          _num_\n",
       "0         3  0.258578          _num_\n",
       "0         4  0.090202          _num_\n",
       "0         5  0.132296          _num_\n",
       "0         6  0.075168          _num_\n",
       "0         7  0.117262          _num_\n",
       "0         8  0.075168          _num_\n",
       "1         4  0.966787         _num_d\n",
       "2         3  0.932402    _num_k_num_\n",
       "4         4  0.937428         _num_с\n",
       "8         5  0.926090            age\n",
       "12        6  0.923074         aliens\n",
       "26        2  0.989670       assassin\n",
       "30        3  0.952454           auto\n",
       "34        3  0.237473         batman\n",
       "34        4  0.712418         batman\n",
       "36        1  0.076697    battlefield\n",
       "36        2  0.038349    battlefield\n",
       "36        3  0.843668    battlefield\n",
       "42        3  0.927628       bioshock\n",
       "44        1  0.767433          black\n",
       "44        2  0.209300          black\n",
       "47        1  0.092072          blood\n",
       "47        5  0.828651          blood\n",
       "48        7  0.963474    borderlands\n",
       "50        7  0.896842         bounty\n",
       "51        6  0.963417            box\n",
       "52        8  0.795561          brink\n",
       "59        2  0.894082           case\n",
       "...     ...       ...            ...\n",
       "660       5  0.797298      смешарики\n",
       "661       8  0.950856        снайпер\n",
       "663       8  0.958693       софтклаб\n",
       "664       6  0.968541    специальное\n",
       "665       4  0.879712     средиземье\n",
       "667       7  0.898493      стартовый\n",
       "670       4  0.989262       субтитры\n",
       "674       6  0.947207          тайна\n",
       "675       7  0.967876          тачки\n",
       "679       4  0.879712           тени\n",
       "682       3  0.968166         только\n",
       "684       3  0.969194   трансформеры\n",
       "686       5  0.909211            три\n",
       "688       1  0.902797           тылу\n",
       "692       4  0.940302  увлекательные\n",
       "695       7  0.965940        фигурка\n",
       "697       5  0.897209        фигурок\n",
       "699       2  0.893381           флаг\n",
       "702       4  0.918469        хорошие\n",
       "704       6  0.853322        хроники\n",
       "705       1  0.135126       цифровая\n",
       "705       2  0.037535       цифровая\n",
       "705       3  0.060056       цифровая\n",
       "705       4  0.056302       цифровая\n",
       "705       5  0.480448       цифровая\n",
       "705       6  0.022521       цифровая\n",
       "705       7  0.105098       цифровая\n",
       "705       8  0.101344       цифровая\n",
       "707       7  0.890249        человек\n",
       "709       2  0.905181         черный\n",
       "\n",
       "[389 rows x 3 columns], R=30, lambda_step=0.01, plot_opts={'xlab': 'PC1', 'ylab': 'PC2'}, topic_order=[6, 1, 7, 2, 4, 5, 8, 3])"
      ]
     },
     "execution_count": 27,
     "metadata": {},
     "output_type": "execute_result"
    }
   ],
   "source": [
    "## Inspect the LDA result\n",
    "prod = 'games'\n",
    "pyLDAvis.sklearn.prepare(models[prod]['lda'],models[prod]['tfidf_mat'],models[prod]['tf'])"
   ]
  },
  {
   "cell_type": "code",
   "execution_count": 28,
   "metadata": {},
   "outputs": [],
   "source": [
    "TOP_N = 3\n",
    "top_n_res_list = []\n",
    "\n",
    "for prod in models.keys():\n",
    "    cats = np.zeros((models[prod]['result'].shape[0],TOP_N),dtype=np.int16)\n",
    "    probs = np.zeros((models[prod]['result'].shape[0],TOP_N))\n",
    "\n",
    "    for i,row in enumerate(models[prod]['result']):\n",
    "        cats[i,:] = np.argsort(row)[-TOP_N:][::-1]\n",
    "        probs[i,:] = row[cats[i,:]]\n",
    "\n",
    "    top_cat_prob = pd.DataFrame(np.hstack((cats,probs)),index=models[prod]['ind'])\n",
    "    \n",
    "    top_n_res_list.append(top_cat_prob)"
   ]
  },
  {
   "cell_type": "code",
   "execution_count": 29,
   "metadata": {},
   "outputs": [
    {
     "name": "stdout",
     "output_type": "stream",
     "text": [
      "(15744, 6)\n"
     ]
    },
    {
     "data": {
      "text/html": [
       "<div>\n",
       "<style scoped>\n",
       "    .dataframe tbody tr th:only-of-type {\n",
       "        vertical-align: middle;\n",
       "    }\n",
       "\n",
       "    .dataframe tbody tr th {\n",
       "        vertical-align: top;\n",
       "    }\n",
       "\n",
       "    .dataframe thead th {\n",
       "        text-align: right;\n",
       "    }\n",
       "</style>\n",
       "<table border=\"1\" class=\"dataframe\">\n",
       "  <thead>\n",
       "    <tr style=\"text-align: right;\">\n",
       "      <th></th>\n",
       "      <th>cat1</th>\n",
       "      <th>cat2</th>\n",
       "      <th>cat3</th>\n",
       "      <th>cat1_prob</th>\n",
       "      <th>cat2_prob</th>\n",
       "      <th>cat3_prob</th>\n",
       "    </tr>\n",
       "  </thead>\n",
       "  <tbody>\n",
       "    <tr>\n",
       "      <th>27</th>\n",
       "      <td>0.0</td>\n",
       "      <td>6.0</td>\n",
       "      <td>3.0</td>\n",
       "      <td>0.698312</td>\n",
       "      <td>0.043131</td>\n",
       "      <td>0.043104</td>\n",
       "    </tr>\n",
       "    <tr>\n",
       "      <th>28</th>\n",
       "      <td>5.0</td>\n",
       "      <td>0.0</td>\n",
       "      <td>6.0</td>\n",
       "      <td>0.410990</td>\n",
       "      <td>0.350344</td>\n",
       "      <td>0.039785</td>\n",
       "    </tr>\n",
       "    <tr>\n",
       "      <th>29</th>\n",
       "      <td>0.0</td>\n",
       "      <td>6.0</td>\n",
       "      <td>3.0</td>\n",
       "      <td>0.706690</td>\n",
       "      <td>0.041977</td>\n",
       "      <td>0.041897</td>\n",
       "    </tr>\n",
       "    <tr>\n",
       "      <th>68</th>\n",
       "      <td>7.0</td>\n",
       "      <td>5.0</td>\n",
       "      <td>1.0</td>\n",
       "      <td>0.704615</td>\n",
       "      <td>0.042266</td>\n",
       "      <td>0.042210</td>\n",
       "    </tr>\n",
       "    <tr>\n",
       "      <th>105</th>\n",
       "      <td>4.0</td>\n",
       "      <td>1.0</td>\n",
       "      <td>3.0</td>\n",
       "      <td>0.414043</td>\n",
       "      <td>0.192125</td>\n",
       "      <td>0.184500</td>\n",
       "    </tr>\n",
       "    <tr>\n",
       "      <th>106</th>\n",
       "      <td>6.0</td>\n",
       "      <td>1.0</td>\n",
       "      <td>5.0</td>\n",
       "      <td>0.356675</td>\n",
       "      <td>0.308397</td>\n",
       "      <td>0.140081</td>\n",
       "    </tr>\n",
       "    <tr>\n",
       "      <th>499</th>\n",
       "      <td>1.0</td>\n",
       "      <td>5.0</td>\n",
       "      <td>2.0</td>\n",
       "      <td>0.679642</td>\n",
       "      <td>0.045779</td>\n",
       "      <td>0.045763</td>\n",
       "    </tr>\n",
       "    <tr>\n",
       "      <th>500</th>\n",
       "      <td>1.0</td>\n",
       "      <td>4.0</td>\n",
       "      <td>5.0</td>\n",
       "      <td>0.659108</td>\n",
       "      <td>0.129806</td>\n",
       "      <td>0.035202</td>\n",
       "    </tr>\n",
       "    <tr>\n",
       "      <th>501</th>\n",
       "      <td>1.0</td>\n",
       "      <td>3.0</td>\n",
       "      <td>5.0</td>\n",
       "      <td>0.723540</td>\n",
       "      <td>0.039584</td>\n",
       "      <td>0.039502</td>\n",
       "    </tr>\n",
       "    <tr>\n",
       "      <th>502</th>\n",
       "      <td>1.0</td>\n",
       "      <td>5.0</td>\n",
       "      <td>3.0</td>\n",
       "      <td>0.566883</td>\n",
       "      <td>0.225739</td>\n",
       "      <td>0.034611</td>\n",
       "    </tr>\n",
       "    <tr>\n",
       "      <th>503</th>\n",
       "      <td>5.0</td>\n",
       "      <td>1.0</td>\n",
       "      <td>3.0</td>\n",
       "      <td>0.422819</td>\n",
       "      <td>0.372938</td>\n",
       "      <td>0.034071</td>\n",
       "    </tr>\n",
       "    <tr>\n",
       "      <th>504</th>\n",
       "      <td>1.0</td>\n",
       "      <td>5.0</td>\n",
       "      <td>3.0</td>\n",
       "      <td>0.457444</td>\n",
       "      <td>0.345155</td>\n",
       "      <td>0.032932</td>\n",
       "    </tr>\n",
       "    <tr>\n",
       "      <th>505</th>\n",
       "      <td>5.0</td>\n",
       "      <td>1.0</td>\n",
       "      <td>3.0</td>\n",
       "      <td>0.512223</td>\n",
       "      <td>0.291745</td>\n",
       "      <td>0.032693</td>\n",
       "    </tr>\n",
       "    <tr>\n",
       "      <th>506</th>\n",
       "      <td>5.0</td>\n",
       "      <td>1.0</td>\n",
       "      <td>3.0</td>\n",
       "      <td>0.504602</td>\n",
       "      <td>0.294150</td>\n",
       "      <td>0.033565</td>\n",
       "    </tr>\n",
       "    <tr>\n",
       "      <th>507</th>\n",
       "      <td>1.0</td>\n",
       "      <td>3.0</td>\n",
       "      <td>5.0</td>\n",
       "      <td>0.723540</td>\n",
       "      <td>0.039584</td>\n",
       "      <td>0.039502</td>\n",
       "    </tr>\n",
       "    <tr>\n",
       "      <th>508</th>\n",
       "      <td>1.0</td>\n",
       "      <td>3.0</td>\n",
       "      <td>5.0</td>\n",
       "      <td>0.739897</td>\n",
       "      <td>0.037233</td>\n",
       "      <td>0.037163</td>\n",
       "    </tr>\n",
       "    <tr>\n",
       "      <th>509</th>\n",
       "      <td>1.0</td>\n",
       "      <td>3.0</td>\n",
       "      <td>5.0</td>\n",
       "      <td>0.403682</td>\n",
       "      <td>0.385920</td>\n",
       "      <td>0.035080</td>\n",
       "    </tr>\n",
       "    <tr>\n",
       "      <th>510</th>\n",
       "      <td>1.0</td>\n",
       "      <td>5.0</td>\n",
       "      <td>2.0</td>\n",
       "      <td>0.679642</td>\n",
       "      <td>0.045779</td>\n",
       "      <td>0.045763</td>\n",
       "    </tr>\n",
       "    <tr>\n",
       "      <th>511</th>\n",
       "      <td>1.0</td>\n",
       "      <td>3.0</td>\n",
       "      <td>6.0</td>\n",
       "      <td>0.531057</td>\n",
       "      <td>0.264463</td>\n",
       "      <td>0.034118</td>\n",
       "    </tr>\n",
       "    <tr>\n",
       "      <th>512</th>\n",
       "      <td>1.0</td>\n",
       "      <td>3.0</td>\n",
       "      <td>5.0</td>\n",
       "      <td>0.470245</td>\n",
       "      <td>0.305557</td>\n",
       "      <td>0.037382</td>\n",
       "    </tr>\n",
       "    <tr>\n",
       "      <th>513</th>\n",
       "      <td>1.0</td>\n",
       "      <td>3.0</td>\n",
       "      <td>6.0</td>\n",
       "      <td>0.392985</td>\n",
       "      <td>0.250049</td>\n",
       "      <td>0.180217</td>\n",
       "    </tr>\n",
       "    <tr>\n",
       "      <th>514</th>\n",
       "      <td>1.0</td>\n",
       "      <td>3.0</td>\n",
       "      <td>5.0</td>\n",
       "      <td>0.470245</td>\n",
       "      <td>0.305557</td>\n",
       "      <td>0.037382</td>\n",
       "    </tr>\n",
       "    <tr>\n",
       "      <th>515</th>\n",
       "      <td>1.0</td>\n",
       "      <td>3.0</td>\n",
       "      <td>5.0</td>\n",
       "      <td>0.723540</td>\n",
       "      <td>0.039584</td>\n",
       "      <td>0.039502</td>\n",
       "    </tr>\n",
       "    <tr>\n",
       "      <th>516</th>\n",
       "      <td>1.0</td>\n",
       "      <td>3.0</td>\n",
       "      <td>5.0</td>\n",
       "      <td>0.745063</td>\n",
       "      <td>0.036489</td>\n",
       "      <td>0.036425</td>\n",
       "    </tr>\n",
       "    <tr>\n",
       "      <th>517</th>\n",
       "      <td>1.0</td>\n",
       "      <td>3.0</td>\n",
       "      <td>5.0</td>\n",
       "      <td>0.723540</td>\n",
       "      <td>0.039584</td>\n",
       "      <td>0.039502</td>\n",
       "    </tr>\n",
       "    <tr>\n",
       "      <th>518</th>\n",
       "      <td>1.0</td>\n",
       "      <td>4.0</td>\n",
       "      <td>3.0</td>\n",
       "      <td>0.516178</td>\n",
       "      <td>0.285807</td>\n",
       "      <td>0.033119</td>\n",
       "    </tr>\n",
       "    <tr>\n",
       "      <th>519</th>\n",
       "      <td>1.0</td>\n",
       "      <td>3.0</td>\n",
       "      <td>5.0</td>\n",
       "      <td>0.723540</td>\n",
       "      <td>0.039584</td>\n",
       "      <td>0.039502</td>\n",
       "    </tr>\n",
       "    <tr>\n",
       "      <th>520</th>\n",
       "      <td>1.0</td>\n",
       "      <td>3.0</td>\n",
       "      <td>5.0</td>\n",
       "      <td>0.723540</td>\n",
       "      <td>0.039584</td>\n",
       "      <td>0.039502</td>\n",
       "    </tr>\n",
       "    <tr>\n",
       "      <th>521</th>\n",
       "      <td>1.0</td>\n",
       "      <td>3.0</td>\n",
       "      <td>5.0</td>\n",
       "      <td>0.723540</td>\n",
       "      <td>0.039584</td>\n",
       "      <td>0.039502</td>\n",
       "    </tr>\n",
       "    <tr>\n",
       "      <th>522</th>\n",
       "      <td>1.0</td>\n",
       "      <td>3.0</td>\n",
       "      <td>5.0</td>\n",
       "      <td>0.739666</td>\n",
       "      <td>0.037265</td>\n",
       "      <td>0.037196</td>\n",
       "    </tr>\n",
       "  </tbody>\n",
       "</table>\n",
       "</div>"
      ],
      "text/plain": [
       "     cat1  cat2  cat3  cat1_prob  cat2_prob  cat3_prob\n",
       "27    0.0   6.0   3.0   0.698312   0.043131   0.043104\n",
       "28    5.0   0.0   6.0   0.410990   0.350344   0.039785\n",
       "29    0.0   6.0   3.0   0.706690   0.041977   0.041897\n",
       "68    7.0   5.0   1.0   0.704615   0.042266   0.042210\n",
       "105   4.0   1.0   3.0   0.414043   0.192125   0.184500\n",
       "106   6.0   1.0   5.0   0.356675   0.308397   0.140081\n",
       "499   1.0   5.0   2.0   0.679642   0.045779   0.045763\n",
       "500   1.0   4.0   5.0   0.659108   0.129806   0.035202\n",
       "501   1.0   3.0   5.0   0.723540   0.039584   0.039502\n",
       "502   1.0   5.0   3.0   0.566883   0.225739   0.034611\n",
       "503   5.0   1.0   3.0   0.422819   0.372938   0.034071\n",
       "504   1.0   5.0   3.0   0.457444   0.345155   0.032932\n",
       "505   5.0   1.0   3.0   0.512223   0.291745   0.032693\n",
       "506   5.0   1.0   3.0   0.504602   0.294150   0.033565\n",
       "507   1.0   3.0   5.0   0.723540   0.039584   0.039502\n",
       "508   1.0   3.0   5.0   0.739897   0.037233   0.037163\n",
       "509   1.0   3.0   5.0   0.403682   0.385920   0.035080\n",
       "510   1.0   5.0   2.0   0.679642   0.045779   0.045763\n",
       "511   1.0   3.0   6.0   0.531057   0.264463   0.034118\n",
       "512   1.0   3.0   5.0   0.470245   0.305557   0.037382\n",
       "513   1.0   3.0   6.0   0.392985   0.250049   0.180217\n",
       "514   1.0   3.0   5.0   0.470245   0.305557   0.037382\n",
       "515   1.0   3.0   5.0   0.723540   0.039584   0.039502\n",
       "516   1.0   3.0   5.0   0.745063   0.036489   0.036425\n",
       "517   1.0   3.0   5.0   0.723540   0.039584   0.039502\n",
       "518   1.0   4.0   3.0   0.516178   0.285807   0.033119\n",
       "519   1.0   3.0   5.0   0.723540   0.039584   0.039502\n",
       "520   1.0   3.0   5.0   0.723540   0.039584   0.039502\n",
       "521   1.0   3.0   5.0   0.723540   0.039584   0.039502\n",
       "522   1.0   3.0   5.0   0.739666   0.037265   0.037196"
      ]
     },
     "execution_count": 29,
     "metadata": {},
     "output_type": "execute_result"
    }
   ],
   "source": [
    "top_n_res_df = pd.concat(top_n_res_list)\n",
    "top_n_res_df.columns = ['cat1','cat2','cat3','cat1_prob','cat2_prob','cat3_prob']\n",
    "print(top_n_res_df.shape)\n",
    "top_n_res_df[:30]"
   ]
  },
  {
   "cell_type": "code",
   "execution_count": 30,
   "metadata": {
    "scrolled": true
   },
   "outputs": [
    {
     "data": {
      "text/html": [
       "<div>\n",
       "<style scoped>\n",
       "    .dataframe tbody tr th:only-of-type {\n",
       "        vertical-align: middle;\n",
       "    }\n",
       "\n",
       "    .dataframe tbody tr th {\n",
       "        vertical-align: top;\n",
       "    }\n",
       "\n",
       "    .dataframe thead th {\n",
       "        text-align: right;\n",
       "    }\n",
       "</style>\n",
       "<table border=\"1\" class=\"dataframe\">\n",
       "  <thead>\n",
       "    <tr style=\"text-align: right;\">\n",
       "      <th></th>\n",
       "      <th>item_name</th>\n",
       "      <th>item_id</th>\n",
       "      <th>item_category_id</th>\n",
       "      <th>sys</th>\n",
       "      <th>product</th>\n",
       "      <th>item_category_name2</th>\n",
       "      <th>item_name2</th>\n",
       "      <th>cat1</th>\n",
       "      <th>cat2</th>\n",
       "      <th>cat3</th>\n",
       "      <th>cat1_prob</th>\n",
       "      <th>cat2_prob</th>\n",
       "      <th>cat3_prob</th>\n",
       "    </tr>\n",
       "  </thead>\n",
       "  <tbody>\n",
       "    <tr>\n",
       "      <th>0</th>\n",
       "      <td>! ВО ВЛАСТИ НАВАЖДЕНИЯ (ПЛАСТ.)         D</td>\n",
       "      <td>0</td>\n",
       "      <td>40</td>\n",
       "      <td>dvd</td>\n",
       "      <td>cinema</td>\n",
       "      <td>cinema - dvd</td>\n",
       "      <td>! ВО ВЛАСТИ НАВАЖДЕНИЯ (ПЛАСТ.)         D</td>\n",
       "      <td>16.0</td>\n",
       "      <td>23.0</td>\n",
       "      <td>10.0</td>\n",
       "      <td>0.520833</td>\n",
       "      <td>0.020833</td>\n",
       "      <td>0.020833</td>\n",
       "    </tr>\n",
       "    <tr>\n",
       "      <th>1</th>\n",
       "      <td>!ABBYY FineReader 12 Professional Edition Full...</td>\n",
       "      <td>1</td>\n",
       "      <td>76</td>\n",
       "      <td>other</td>\n",
       "      <td>programs</td>\n",
       "      <td>programs - для дома и офиса (цифра)</td>\n",
       "      <td>!ABBYY FineReader _num_ Professional Edition F...</td>\n",
       "      <td>0.0</td>\n",
       "      <td>0.0</td>\n",
       "      <td>0.0</td>\n",
       "      <td>1.000000</td>\n",
       "      <td>0.000000</td>\n",
       "      <td>0.000000</td>\n",
       "    </tr>\n",
       "    <tr>\n",
       "      <th>2</th>\n",
       "      <td>***В ЛУЧАХ СЛАВЫ   (UNV)                    D</td>\n",
       "      <td>2</td>\n",
       "      <td>40</td>\n",
       "      <td>dvd</td>\n",
       "      <td>cinema</td>\n",
       "      <td>cinema - dvd</td>\n",
       "      <td>***В ЛУЧАХ СЛАВЫ   (UNV)                    D</td>\n",
       "      <td>23.0</td>\n",
       "      <td>22.0</td>\n",
       "      <td>1.0</td>\n",
       "      <td>0.041667</td>\n",
       "      <td>0.041667</td>\n",
       "      <td>0.041667</td>\n",
       "    </tr>\n",
       "  </tbody>\n",
       "</table>\n",
       "</div>"
      ],
      "text/plain": [
       "                                           item_name  item_id  \\\n",
       "0          ! ВО ВЛАСТИ НАВАЖДЕНИЯ (ПЛАСТ.)         D        0   \n",
       "1  !ABBYY FineReader 12 Professional Edition Full...        1   \n",
       "2      ***В ЛУЧАХ СЛАВЫ   (UNV)                    D        2   \n",
       "\n",
       "   item_category_id    sys   product                  item_category_name2  \\\n",
       "0                40    dvd    cinema                         cinema - dvd   \n",
       "1                76  other  programs  programs - для дома и офиса (цифра)   \n",
       "2                40    dvd    cinema                         cinema - dvd   \n",
       "\n",
       "                                          item_name2  cat1  cat2  cat3  \\\n",
       "0          ! ВО ВЛАСТИ НАВАЖДЕНИЯ (ПЛАСТ.)         D  16.0  23.0  10.0   \n",
       "1  !ABBYY FineReader _num_ Professional Edition F...   0.0   0.0   0.0   \n",
       "2      ***В ЛУЧАХ СЛАВЫ   (UNV)                    D  23.0  22.0   1.0   \n",
       "\n",
       "   cat1_prob  cat2_prob  cat3_prob  \n",
       "0   0.520833   0.020833   0.020833  \n",
       "1   1.000000   0.000000   0.000000  \n",
       "2   0.041667   0.041667   0.041667  "
      ]
     },
     "execution_count": 30,
     "metadata": {},
     "output_type": "execute_result"
    }
   ],
   "source": [
    "items2 = pd.merge(items1,top_n_res_df,left_index=True, right_index=True, how='left')\n",
    "\n",
    "# Fill NAs with 0 for other products other than cinema, music, and games;\n",
    "# This would assign a default 'dominant' category for all other products;\n",
    "items2.fillna(0,inplace=True)\n",
    "items2.loc[items2.cat1_prob==0,'cat1_prob']=1\n",
    "items2[:3]"
   ]
  },
  {
   "cell_type": "markdown",
   "metadata": {},
   "source": [
    "### Noticed that item_name also indicate whether dvd/cd/blu-ray, etc.; get those"
   ]
  },
  {
   "cell_type": "code",
   "execution_count": 37,
   "metadata": {
    "scrolled": true
   },
   "outputs": [
    {
     "data": {
      "text/plain": [
       "other       7650\n",
       "dvd         5035\n",
       "cd          2762\n",
       "pc          2171\n",
       "blu-ray     2097\n",
       "ps3          744\n",
       "xbox_360     578\n",
       "mp3          427\n",
       "ps4          229\n",
       "xbox_one     167\n",
       "psp          146\n",
       "psvita       126\n",
       "mac           16\n",
       "ps2            9\n",
       "windows        6\n",
       "psn            4\n",
       "android        3\n",
       "Name: sys, dtype: int64"
      ]
     },
     "execution_count": 37,
     "metadata": {},
     "output_type": "execute_result"
    }
   ],
   "source": [
    "items2['sys'].value_counts()"
   ]
  },
  {
   "cell_type": "code",
   "execution_count": 32,
   "metadata": {},
   "outputs": [],
   "source": [
    "def get_sys2(x):\n",
    "    \n",
    "    x = x.lower()\n",
    "    x = re.sub('xbox 360','xbox_360',x)\n",
    "    x = re.sub('xbox one','xbox_one',x)\n",
    "    \n",
    "#     pattern = 'pc|windows|mac|android|ps2|ps3|ps4|psp|psvita|xbox_one|xbox_360|psn|mp3|dvd|blu-ray|cd'\n",
    "    pattern = 'pc|windows|mac|ps2|ps3|ps4|psp|psvita|xbox_one|xbox_360|psn|mp3|dvd|blu-ray|cd'  # removed android, which could be game\n",
    "    \n",
    "    sys = re.findall(pattern,x)[0] if len(re.findall(pattern,x))>0 else 'other'\n",
    "    \n",
    "    return sys"
   ]
  },
  {
   "cell_type": "code",
   "execution_count": 38,
   "metadata": {},
   "outputs": [],
   "source": [
    "items2.loc[items2.sys=='other','sys'] = items2.loc[items2.sys=='other','item_name'].map(get_sys2)"
   ]
  },
  {
   "cell_type": "code",
   "execution_count": 39,
   "metadata": {},
   "outputs": [
    {
     "data": {
      "text/plain": [
       "other       5878\n",
       "dvd         5489\n",
       "cd          2979\n",
       "pc          2820\n",
       "blu-ray     2141\n",
       "mp3          788\n",
       "ps3          744\n",
       "xbox_360     581\n",
       "ps4          229\n",
       "xbox_one     167\n",
       "psp          146\n",
       "psvita       126\n",
       "mac           42\n",
       "windows       24\n",
       "ps2            9\n",
       "psn            4\n",
       "android        3\n",
       "Name: sys, dtype: int64"
      ]
     },
     "execution_count": 39,
     "metadata": {},
     "output_type": "execute_result"
    }
   ],
   "source": [
    "items2['sys'].value_counts()"
   ]
  },
  {
   "cell_type": "code",
   "execution_count": 44,
   "metadata": {},
   "outputs": [
    {
     "name": "stdout",
     "output_type": "stream",
     "text": [
      "763\n"
     ]
    },
    {
     "data": {
      "text/plain": [
       "<matplotlib.axes._subplots.AxesSubplot at 0x2199098fda0>"
      ]
     },
     "execution_count": 44,
     "metadata": {},
     "output_type": "execute_result"
    },
    {
     "data": {
      "image/png": "[encoded data removed]",
      "text/plain": [
       "<matplotlib.figure.Figure at 0x2199097ea20>"
      ]
     },
     "metadata": {},
     "output_type": "display_data"
    }
   ],
   "source": [
    "items2['item_category_id2'] = items2.item_category_id.astype(str) + '-'+items2.cat1.astype(int).astype(str)\n",
    "print(items2['item_category_id2'].value_counts().max())\n",
    "items2['item_category_id2'].value_counts().hist(bins=20)"
   ]
  },
  {
   "cell_type": "code",
   "execution_count": 46,
   "metadata": {},
   "outputs": [
    {
     "data": {
      "text/plain": [
       "62"
      ]
     },
     "execution_count": 46,
     "metadata": {},
     "output_type": "execute_result"
    }
   ],
   "source": [
    "(items2['item_category_id2'].value_counts()<5).sum()"
   ]
  },
  {
   "cell_type": "code",
   "execution_count": 47,
   "metadata": {},
   "outputs": [
    {
     "data": {
      "text/plain": [
       "10"
      ]
     },
     "execution_count": 47,
     "metadata": {},
     "output_type": "execute_result"
    }
   ],
   "source": [
    "(items2['item_category_id'].value_counts()<5).sum()"
   ]
  },
  {
   "cell_type": "code",
   "execution_count": 53,
   "metadata": {},
   "outputs": [],
   "source": [
    "items2[['item_id', 'item_category_id', 'sys', 'product',\n",
    "        'cat1', 'cat2', 'cat3','cat1_prob', 'cat2_prob', 'cat3_prob',\n",
    "        'item_category_id2']].to_csv(r'../data2/item_category2.csv',index=False)"
   ]
  },
  {
   "cell_type": "code",
   "execution_count": null,
   "metadata": {},
   "outputs": [],
   "source": []
  },
  {
   "cell_type": "code",
   "execution_count": null,
   "metadata": {},
   "outputs": [],
   "source": []
  }
 ],
 "metadata": {
  "kernelspec": {
   "display_name": "Python 3",
   "language": "python",
   "name": "python3"
  }
 },
 "nbformat": 4,
 "nbformat_minor": 2
}
