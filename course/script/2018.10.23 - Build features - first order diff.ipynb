{
 "cells": [
  {
   "cell_type": "markdown",
   "metadata": {
    "collapsed": true
   },
   "source": [
    "## LB 1.06\n",
    "#### Just to test if model month-over-month change would make a difference"
   ]
  },
  {
   "cell_type": "code",
   "execution_count": 1,
   "metadata": {},
   "outputs": [
    {
     "name": "stderr",
     "output_type": "stream",
     "text": [
      "C:\\ProgramData\\Anaconda3\\lib\\site-packages\\sklearn\\ensemble\\weight_boosting.py:29: DeprecationWarning: numpy.core.umath_tests is an internal NumPy module and should not be imported. It will be removed in a future NumPy release.\n",
      "  from numpy.core.umath_tests import inner1d\n"
     ]
    }
   ],
   "source": [
    "import os\n",
    "import re\n",
    "import pandas as pd\n",
    "import numpy as np\n",
    "\n",
    "import matplotlib.pyplot as plt\n",
    "import seaborn as sns\n",
    "%matplotlib inline\n",
    "\n",
    "# preprocessing\n",
    "from sklearn.preprocessing import OneHotEncoder\n",
    "from sklearn.preprocessing import MinMaxScaler\n",
    "\n",
    "from sklearn import model_selection\n",
    "from sklearn.linear_model import LinearRegression\n",
    "import lightgbm as lgb\n",
    "from sklearn.ensemble import GradientBoostingRegressor, RandomForestRegressor\n",
    "\n",
    "from itertools import product # to expand month-shop-item combo\n",
    "\n",
    "import pickle\n",
    "\n",
    "import gc\n",
    "import warnings\n",
    "warnings.filterwarnings('ignore')\n",
    "\n",
    "from tqdm import tqdm_notebook"
   ]
  },
  {
   "cell_type": "code",
   "execution_count": 2,
   "metadata": {},
   "outputs": [],
   "source": [
    "def rmse_clip(y_true, y_pred):\n",
    "    y_pred = y_pred.clip(0,20)\n",
    "    rmse = np.sqrt(np.mean((y_true - y_pred)**2))\n",
    "    return(rmse)"
   ]
  },
  {
   "cell_type": "code",
   "execution_count": 3,
   "metadata": {},
   "outputs": [],
   "source": [
    "def downcast_dtypes(df):\n",
    "    '''\n",
    "        Changes column types in the dataframe: \n",
    "                \n",
    "                `float64` type to `float32`\n",
    "                `int64`   type to `int16`\n",
    "    '''\n",
    "    \n",
    "    # Select columns to downcast\n",
    "    float_cols = [c for c in df if df[c].dtype == \"float64\"]\n",
    "    int_cols =   [c for c in df if df[c].dtype == \"int64\" or df[c].dtype == 'int32']\n",
    "    \n",
    "    # Downcast\n",
    "    df[float_cols] = df[float_cols].astype(np.float32)\n",
    "    df[int_cols]   = df[int_cols].astype(np.int16)\n",
    "    \n",
    "    return df"
   ]
  },
  {
   "cell_type": "markdown",
   "metadata": {},
   "source": [
    "### Read in Data"
   ]
  },
  {
   "cell_type": "code",
   "execution_count": 7,
   "metadata": {},
   "outputs": [
    {
     "data": {
      "text/plain": [
       "(2935849, 6)"
      ]
     },
     "execution_count": 7,
     "metadata": {},
     "output_type": "execute_result"
    }
   ],
   "source": [
    "train = pd.read_csv(r'../data/sales_train.csv.gz')\n",
    "train.shape"
   ]
  },
  {
   "cell_type": "code",
   "execution_count": 8,
   "metadata": {},
   "outputs": [
    {
     "data": {
      "text/html": [
       "<div>\n",
       "<style scoped>\n",
       "    .dataframe tbody tr th:only-of-type {\n",
       "        vertical-align: middle;\n",
       "    }\n",
       "\n",
       "    .dataframe tbody tr th {\n",
       "        vertical-align: top;\n",
       "    }\n",
       "\n",
       "    .dataframe thead th {\n",
       "        text-align: right;\n",
       "    }\n",
       "</style>\n",
       "<table border=\"1\" class=\"dataframe\">\n",
       "  <thead>\n",
       "    <tr style=\"text-align: right;\">\n",
       "      <th></th>\n",
       "      <th>date</th>\n",
       "      <th>date_block_num</th>\n",
       "      <th>shop_id</th>\n",
       "      <th>item_id</th>\n",
       "      <th>item_price</th>\n",
       "      <th>item_cnt_day</th>\n",
       "    </tr>\n",
       "  </thead>\n",
       "  <tbody>\n",
       "    <tr>\n",
       "      <th>0</th>\n",
       "      <td>02.01.2013</td>\n",
       "      <td>0</td>\n",
       "      <td>59</td>\n",
       "      <td>22154</td>\n",
       "      <td>999.0</td>\n",
       "      <td>1.0</td>\n",
       "    </tr>\n",
       "    <tr>\n",
       "      <th>1</th>\n",
       "      <td>03.01.2013</td>\n",
       "      <td>0</td>\n",
       "      <td>25</td>\n",
       "      <td>2552</td>\n",
       "      <td>899.0</td>\n",
       "      <td>1.0</td>\n",
       "    </tr>\n",
       "    <tr>\n",
       "      <th>2</th>\n",
       "      <td>05.01.2013</td>\n",
       "      <td>0</td>\n",
       "      <td>25</td>\n",
       "      <td>2552</td>\n",
       "      <td>899.0</td>\n",
       "      <td>-1.0</td>\n",
       "    </tr>\n",
       "  </tbody>\n",
       "</table>\n",
       "</div>"
      ],
      "text/plain": [
       "         date  date_block_num  shop_id  item_id  item_price  item_cnt_day\n",
       "0  02.01.2013               0       59    22154       999.0           1.0\n",
       "1  03.01.2013               0       25     2552       899.0           1.0\n",
       "2  05.01.2013               0       25     2552       899.0          -1.0"
      ]
     },
     "execution_count": 8,
     "metadata": {},
     "output_type": "execute_result"
    }
   ],
   "source": [
    "train[:3]"
   ]
  },
  {
   "cell_type": "markdown",
   "metadata": {},
   "source": [
    "#### Check what is in other data"
   ]
  },
  {
   "cell_type": "code",
   "execution_count": 9,
   "metadata": {},
   "outputs": [
    {
     "data": {
      "text/html": [
       "<div>\n",
       "<style scoped>\n",
       "    .dataframe tbody tr th:only-of-type {\n",
       "        vertical-align: middle;\n",
       "    }\n",
       "\n",
       "    .dataframe tbody tr th {\n",
       "        vertical-align: top;\n",
       "    }\n",
       "\n",
       "    .dataframe thead th {\n",
       "        text-align: right;\n",
       "    }\n",
       "</style>\n",
       "<table border=\"1\" class=\"dataframe\">\n",
       "  <thead>\n",
       "    <tr style=\"text-align: right;\">\n",
       "      <th></th>\n",
       "      <th>item_id</th>\n",
       "      <th>item_category_id</th>\n",
       "      <th>item_category_id1</th>\n",
       "      <th>item_category_id2</th>\n",
       "      <th>item_category_id3</th>\n",
       "      <th>sys</th>\n",
       "      <th>product</th>\n",
       "      <th>cat1</th>\n",
       "      <th>cat2</th>\n",
       "      <th>cat3</th>\n",
       "      <th>cat1_prob</th>\n",
       "      <th>cat2_prob</th>\n",
       "      <th>cat3_prob</th>\n",
       "      <th>item_category_id2.1</th>\n",
       "    </tr>\n",
       "  </thead>\n",
       "  <tbody>\n",
       "    <tr>\n",
       "      <th>0</th>\n",
       "      <td>0</td>\n",
       "      <td>40</td>\n",
       "      <td>40-16</td>\n",
       "      <td>40-23</td>\n",
       "      <td>40-10</td>\n",
       "      <td>dvd</td>\n",
       "      <td>cinema</td>\n",
       "      <td>16.0</td>\n",
       "      <td>23.0</td>\n",
       "      <td>10.0</td>\n",
       "      <td>0.520833</td>\n",
       "      <td>0.020833</td>\n",
       "      <td>0.020833</td>\n",
       "      <td>40-23</td>\n",
       "    </tr>\n",
       "    <tr>\n",
       "      <th>1</th>\n",
       "      <td>1</td>\n",
       "      <td>76</td>\n",
       "      <td>76-0</td>\n",
       "      <td>76-0</td>\n",
       "      <td>76-0</td>\n",
       "      <td>pc</td>\n",
       "      <td>programs</td>\n",
       "      <td>0.0</td>\n",
       "      <td>0.0</td>\n",
       "      <td>0.0</td>\n",
       "      <td>1.000000</td>\n",
       "      <td>0.000000</td>\n",
       "      <td>0.000000</td>\n",
       "      <td>76-0</td>\n",
       "    </tr>\n",
       "    <tr>\n",
       "      <th>2</th>\n",
       "      <td>2</td>\n",
       "      <td>40</td>\n",
       "      <td>40-23</td>\n",
       "      <td>40-22</td>\n",
       "      <td>40-1</td>\n",
       "      <td>dvd</td>\n",
       "      <td>cinema</td>\n",
       "      <td>23.0</td>\n",
       "      <td>22.0</td>\n",
       "      <td>1.0</td>\n",
       "      <td>0.041667</td>\n",
       "      <td>0.041667</td>\n",
       "      <td>0.041667</td>\n",
       "      <td>40-22</td>\n",
       "    </tr>\n",
       "  </tbody>\n",
       "</table>\n",
       "</div>"
      ],
      "text/plain": [
       "   item_id  item_category_id item_category_id1 item_category_id2  \\\n",
       "0        0                40             40-16             40-23   \n",
       "1        1                76              76-0              76-0   \n",
       "2        2                40             40-23             40-22   \n",
       "\n",
       "  item_category_id3  sys   product  cat1  cat2  cat3  cat1_prob  cat2_prob  \\\n",
       "0             40-10  dvd    cinema  16.0  23.0  10.0   0.520833   0.020833   \n",
       "1              76-0   pc  programs   0.0   0.0   0.0   1.000000   0.000000   \n",
       "2              40-1  dvd    cinema  23.0  22.0   1.0   0.041667   0.041667   \n",
       "\n",
       "   cat3_prob item_category_id2.1  \n",
       "0   0.020833               40-23  \n",
       "1   0.000000                76-0  \n",
       "2   0.041667               40-22  "
      ]
     },
     "execution_count": 9,
     "metadata": {},
     "output_type": "execute_result"
    }
   ],
   "source": [
    "items0 = pd.read_csv(r'../data2/item_category2.csv')\n",
    "# shops0 = pd.read_csv(r'../data/shops.csv')\n",
    "# item_cat0 = pd.read_csv(r'../data/item_categories.csv')\n",
    "items0 = downcast_dtypes(items0)\n",
    "items0[:3]# ok contains name of the item/cat/shop; ABBYY FineReader??"
   ]
  },
  {
   "cell_type": "code",
   "execution_count": 10,
   "metadata": {
    "scrolled": true
   },
   "outputs": [
    {
     "data": {
      "text/html": [
       "<div>\n",
       "<style scoped>\n",
       "    .dataframe tbody tr th:only-of-type {\n",
       "        vertical-align: middle;\n",
       "    }\n",
       "\n",
       "    .dataframe tbody tr th {\n",
       "        vertical-align: top;\n",
       "    }\n",
       "\n",
       "    .dataframe thead th {\n",
       "        text-align: right;\n",
       "    }\n",
       "</style>\n",
       "<table border=\"1\" class=\"dataframe\">\n",
       "  <thead>\n",
       "    <tr style=\"text-align: right;\">\n",
       "      <th></th>\n",
       "      <th>date</th>\n",
       "      <th>date_block_num</th>\n",
       "      <th>shop_id</th>\n",
       "      <th>item_id</th>\n",
       "      <th>item_price</th>\n",
       "      <th>item_cnt_day</th>\n",
       "    </tr>\n",
       "  </thead>\n",
       "  <tbody>\n",
       "    <tr>\n",
       "      <th>1</th>\n",
       "      <td>03.01.2013</td>\n",
       "      <td>0</td>\n",
       "      <td>25</td>\n",
       "      <td>2552</td>\n",
       "      <td>899.0</td>\n",
       "      <td>1.0</td>\n",
       "    </tr>\n",
       "    <tr>\n",
       "      <th>2</th>\n",
       "      <td>05.01.2013</td>\n",
       "      <td>0</td>\n",
       "      <td>25</td>\n",
       "      <td>2552</td>\n",
       "      <td>899.0</td>\n",
       "      <td>-1.0</td>\n",
       "    </tr>\n",
       "  </tbody>\n",
       "</table>\n",
       "</div>"
      ],
      "text/plain": [
       "         date  date_block_num  shop_id  item_id  item_price  item_cnt_day\n",
       "1  03.01.2013               0       25     2552       899.0           1.0\n",
       "2  05.01.2013               0       25     2552       899.0          -1.0"
      ]
     },
     "execution_count": 10,
     "metadata": {},
     "output_type": "execute_result"
    }
   ],
   "source": [
    "train[(train.shop_id==25)&(train.item_id==2552)]  \n",
    "# looks like return. looks like negative rows should be removed\n",
    "# Or make a \"returned?\" feature"
   ]
  },
  {
   "cell_type": "code",
   "execution_count": 11,
   "metadata": {
    "scrolled": true
   },
   "outputs": [
    {
     "data": {
      "text/plain": [
       "0"
      ]
     },
     "execution_count": 11,
     "metadata": {},
     "output_type": "execute_result"
    }
   ],
   "source": [
    "(train['item_cnt_day']==0).sum()"
   ]
  },
  {
   "cell_type": "code",
   "execution_count": 12,
   "metadata": {},
   "outputs": [
    {
     "name": "stdout",
     "output_type": "stream",
     "text": [
      "(2928493, 6)\n"
     ]
    }
   ],
   "source": [
    "train2 = downcast_dtypes(train[train.item_cnt_day>0])\n",
    "# train2 = train[(train.item_cnt_day>0) & train.shop_id.isin(test.shop_id.unique())]\n",
    "\n",
    "print(train2.shape)\n",
    "\n",
    "train2['date2'] = pd.to_datetime(train2['date'],format='%d.%m.%Y')\n",
    "train2.drop(labels='date',axis=1,inplace=True)\n",
    "\n",
    "# print(train2.shop_id.nunique())\n",
    "# pickle.dump(train2,open(r'../data2/train_42shops.pkl','wb'))\n",
    "del train"
   ]
  },
  {
   "cell_type": "markdown",
   "metadata": {},
   "source": [
    "### Expand the month/shop/item grid"
   ]
  },
  {
   "cell_type": "code",
   "execution_count": 13,
   "metadata": {},
   "outputs": [
    {
     "name": "stdout",
     "output_type": "stream",
     "text": [
      "60 21804 34\n"
     ]
    },
    {
     "data": {
      "text/html": [
       "<div>\n",
       "<style scoped>\n",
       "    .dataframe tbody tr th:only-of-type {\n",
       "        vertical-align: middle;\n",
       "    }\n",
       "\n",
       "    .dataframe tbody tr th {\n",
       "        vertical-align: top;\n",
       "    }\n",
       "\n",
       "    .dataframe thead th {\n",
       "        text-align: right;\n",
       "    }\n",
       "</style>\n",
       "<table border=\"1\" class=\"dataframe\">\n",
       "  <thead>\n",
       "    <tr style=\"text-align: right;\">\n",
       "      <th></th>\n",
       "      <th>shop_id</th>\n",
       "      <th>item_id</th>\n",
       "      <th>date_block_num</th>\n",
       "    </tr>\n",
       "  </thead>\n",
       "  <tbody>\n",
       "    <tr>\n",
       "      <th>0</th>\n",
       "      <td>59</td>\n",
       "      <td>22154</td>\n",
       "      <td>0</td>\n",
       "    </tr>\n",
       "    <tr>\n",
       "      <th>1</th>\n",
       "      <td>59</td>\n",
       "      <td>22154</td>\n",
       "      <td>1</td>\n",
       "    </tr>\n",
       "    <tr>\n",
       "      <th>2</th>\n",
       "      <td>59</td>\n",
       "      <td>22154</td>\n",
       "      <td>2</td>\n",
       "    </tr>\n",
       "  </tbody>\n",
       "</table>\n",
       "</div>"
      ],
      "text/plain": [
       "   shop_id  item_id  date_block_num\n",
       "0       59    22154               0\n",
       "1       59    22154               1\n",
       "2       59    22154               2"
      ]
     },
     "execution_count": 13,
     "metadata": {},
     "output_type": "execute_result"
    }
   ],
   "source": [
    "shops_in_tr = train2.shop_id.unique()\n",
    "items_in_tr = train2.item_id.unique()\n",
    "months_in_tr =train2.date_block_num.unique()\n",
    "print(len(shops_in_tr),len(items_in_tr),len(months_in_tr))\n",
    "\n",
    "grid = np.array(list(product(*[shops_in_tr,items_in_tr,months_in_tr])),dtype='int32')\n",
    "\n",
    "grid = pd.DataFrame(grid,columns=['shop_id','item_id','date_block_num'],dtype='int32')\n",
    "grid[:3]"
   ]
  },
  {
   "cell_type": "code",
   "execution_count": 14,
   "metadata": {},
   "outputs": [],
   "source": [
    "del shops_in_tr\n",
    "del items_in_tr\n",
    "del months_in_tr"
   ]
  },
  {
   "cell_type": "markdown",
   "metadata": {
    "collapsed": true
   },
   "source": [
    "### Aggregate sale by month\n",
    "#### Aggregate on the original data"
   ]
  },
  {
   "cell_type": "code",
   "execution_count": 15,
   "metadata": {
    "scrolled": true
   },
   "outputs": [
    {
     "data": {
      "text/html": [
       "<div>\n",
       "<style scoped>\n",
       "    .dataframe tbody tr th:only-of-type {\n",
       "        vertical-align: middle;\n",
       "    }\n",
       "\n",
       "    .dataframe tbody tr th {\n",
       "        vertical-align: top;\n",
       "    }\n",
       "\n",
       "    .dataframe thead th {\n",
       "        text-align: right;\n",
       "    }\n",
       "</style>\n",
       "<table border=\"1\" class=\"dataframe\">\n",
       "  <thead>\n",
       "    <tr style=\"text-align: right;\">\n",
       "      <th></th>\n",
       "      <th>date_block_num</th>\n",
       "      <th>shop_id</th>\n",
       "      <th>item_id</th>\n",
       "      <th>item_price</th>\n",
       "      <th>item_cnt_day</th>\n",
       "      <th>date2</th>\n",
       "      <th>item_category_id</th>\n",
       "    </tr>\n",
       "  </thead>\n",
       "  <tbody>\n",
       "    <tr>\n",
       "      <th>0</th>\n",
       "      <td>0</td>\n",
       "      <td>59</td>\n",
       "      <td>22154</td>\n",
       "      <td>999.000000</td>\n",
       "      <td>1.0</td>\n",
       "      <td>2013-01-02</td>\n",
       "      <td>37</td>\n",
       "    </tr>\n",
       "    <tr>\n",
       "      <th>1</th>\n",
       "      <td>0</td>\n",
       "      <td>25</td>\n",
       "      <td>2552</td>\n",
       "      <td>899.000000</td>\n",
       "      <td>1.0</td>\n",
       "      <td>2013-01-03</td>\n",
       "      <td>58</td>\n",
       "    </tr>\n",
       "    <tr>\n",
       "      <th>2</th>\n",
       "      <td>0</td>\n",
       "      <td>25</td>\n",
       "      <td>2554</td>\n",
       "      <td>1709.050049</td>\n",
       "      <td>1.0</td>\n",
       "      <td>2013-01-06</td>\n",
       "      <td>58</td>\n",
       "    </tr>\n",
       "  </tbody>\n",
       "</table>\n",
       "</div>"
      ],
      "text/plain": [
       "   date_block_num  shop_id  item_id   item_price  item_cnt_day      date2  \\\n",
       "0               0       59    22154   999.000000           1.0 2013-01-02   \n",
       "1               0       25     2552   899.000000           1.0 2013-01-03   \n",
       "2               0       25     2554  1709.050049           1.0 2013-01-06   \n",
       "\n",
       "   item_category_id  \n",
       "0                37  \n",
       "1                58  \n",
       "2                58  "
      ]
     },
     "execution_count": 15,
     "metadata": {},
     "output_type": "execute_result"
    }
   ],
   "source": [
    "train2 = pd.merge(train2, items0[['item_id','item_category_id']],how='left')\n",
    "train2[:3]"
   ]
  },
  {
   "cell_type": "markdown",
   "metadata": {},
   "source": [
    "#### Clip daily to [0,10] and monthly to [0,20]"
   ]
  },
  {
   "cell_type": "code",
   "execution_count": 16,
   "metadata": {},
   "outputs": [],
   "source": [
    "train2.loc[:,'item_cnt_day'] = train2.item_cnt_day.clip(0,10)"
   ]
  },
  {
   "cell_type": "code",
   "execution_count": 17,
   "metadata": {},
   "outputs": [],
   "source": [
    "# monthly sales by shop-item\n",
    "train2.sort_values(by=['date_block_num','shop_id','item_id','date2'],inplace=True)\n",
    "temp = train2.groupby(['date_block_num','shop_id','item_id'],as_index=False)\\\n",
    "    .agg({'item_cnt_day':{'shop_item_cnt':'sum'}})\n",
    "\n",
    "temp.columns = [col[0] if col[-1]=='' else col[-1] for col in temp.columns.values]\n",
    "\n",
    "# clip monthly-sales to [0,20]\n",
    "temp.loc[:,'shop_item_cnt'] = temp.shop_item_cnt.clip(0,20)\n",
    "\n",
    "monthly_sales_all = pd.merge(grid, temp, how='left',on=['date_block_num','shop_id','item_id']).fillna(0)"
   ]
  },
  {
   "cell_type": "code",
   "execution_count": 19,
   "metadata": {},
   "outputs": [
    {
     "data": {
      "text/plain": [
       "count    4.448016e+07\n",
       "mean     7.324196e-02\n",
       "std      6.157979e-01\n",
       "min      0.000000e+00\n",
       "25%      0.000000e+00\n",
       "50%      0.000000e+00\n",
       "75%      0.000000e+00\n",
       "max      2.000000e+01\n",
       "Name: shop_item_cnt, dtype: float64"
      ]
     },
     "execution_count": 19,
     "metadata": {},
     "output_type": "execute_result"
    }
   ],
   "source": [
    "monthly_sales_all.shop_item_cnt.describe()"
   ]
  },
  {
   "cell_type": "code",
   "execution_count": 20,
   "metadata": {},
   "outputs": [],
   "source": [
    "del grid"
   ]
  },
  {
   "cell_type": "markdown",
   "metadata": {},
   "source": [
    "#### Append block 34"
   ]
  },
  {
   "cell_type": "code",
   "execution_count": 21,
   "metadata": {},
   "outputs": [
    {
     "name": "stdout",
     "output_type": "stream",
     "text": [
      "[34]\n"
     ]
    },
    {
     "data": {
      "text/html": [
       "<div>\n",
       "<style scoped>\n",
       "    .dataframe tbody tr th:only-of-type {\n",
       "        vertical-align: middle;\n",
       "    }\n",
       "\n",
       "    .dataframe tbody tr th {\n",
       "        vertical-align: top;\n",
       "    }\n",
       "\n",
       "    .dataframe thead th {\n",
       "        text-align: right;\n",
       "    }\n",
       "</style>\n",
       "<table border=\"1\" class=\"dataframe\">\n",
       "  <thead>\n",
       "    <tr style=\"text-align: right;\">\n",
       "      <th></th>\n",
       "      <th>shop_id</th>\n",
       "      <th>item_id</th>\n",
       "      <th>date_block_num</th>\n",
       "    </tr>\n",
       "  </thead>\n",
       "  <tbody>\n",
       "    <tr>\n",
       "      <th>33</th>\n",
       "      <td>59</td>\n",
       "      <td>22154</td>\n",
       "      <td>34</td>\n",
       "    </tr>\n",
       "    <tr>\n",
       "      <th>67</th>\n",
       "      <td>59</td>\n",
       "      <td>2552</td>\n",
       "      <td>34</td>\n",
       "    </tr>\n",
       "    <tr>\n",
       "      <th>101</th>\n",
       "      <td>59</td>\n",
       "      <td>2554</td>\n",
       "      <td>34</td>\n",
       "    </tr>\n",
       "  </tbody>\n",
       "</table>\n",
       "</div>"
      ],
      "text/plain": [
       "     shop_id  item_id  date_block_num\n",
       "33        59    22154              34\n",
       "67        59     2552              34\n",
       "101       59     2554              34"
      ]
     },
     "execution_count": 21,
     "metadata": {},
     "output_type": "execute_result"
    }
   ],
   "source": [
    "test_block = monthly_sales_all.loc[monthly_sales_all.date_block_num==33,['shop_id','item_id','date_block_num']]\n",
    "test_block.loc[:,'date_block_num'] += 1\n",
    "print(test_block.date_block_num.unique())\n",
    "test_block[:3]"
   ]
  },
  {
   "cell_type": "code",
   "execution_count": 22,
   "metadata": {},
   "outputs": [],
   "source": [
    "monthly_sales_all = pd.concat([monthly_sales_all,test_block],ignore_index=True).fillna(0)"
   ]
  },
  {
   "cell_type": "code",
   "execution_count": 23,
   "metadata": {},
   "outputs": [
    {
     "name": "stdout",
     "output_type": "stream",
     "text": [
      "(45788400, 4)\n"
     ]
    },
    {
     "data": {
      "text/html": [
       "<div>\n",
       "<style scoped>\n",
       "    .dataframe tbody tr th:only-of-type {\n",
       "        vertical-align: middle;\n",
       "    }\n",
       "\n",
       "    .dataframe tbody tr th {\n",
       "        vertical-align: top;\n",
       "    }\n",
       "\n",
       "    .dataframe thead th {\n",
       "        text-align: right;\n",
       "    }\n",
       "</style>\n",
       "<table border=\"1\" class=\"dataframe\">\n",
       "  <thead>\n",
       "    <tr style=\"text-align: right;\">\n",
       "      <th></th>\n",
       "      <th>date_block_num</th>\n",
       "      <th>item_id</th>\n",
       "      <th>shop_id</th>\n",
       "      <th>shop_item_cnt</th>\n",
       "    </tr>\n",
       "  </thead>\n",
       "  <tbody>\n",
       "    <tr>\n",
       "      <th>0</th>\n",
       "      <td>0</td>\n",
       "      <td>22154</td>\n",
       "      <td>59</td>\n",
       "      <td>1.0</td>\n",
       "    </tr>\n",
       "    <tr>\n",
       "      <th>1</th>\n",
       "      <td>1</td>\n",
       "      <td>22154</td>\n",
       "      <td>59</td>\n",
       "      <td>0.0</td>\n",
       "    </tr>\n",
       "    <tr>\n",
       "      <th>2</th>\n",
       "      <td>2</td>\n",
       "      <td>22154</td>\n",
       "      <td>59</td>\n",
       "      <td>0.0</td>\n",
       "    </tr>\n",
       "  </tbody>\n",
       "</table>\n",
       "</div>"
      ],
      "text/plain": [
       "   date_block_num  item_id  shop_id  shop_item_cnt\n",
       "0               0    22154       59            1.0\n",
       "1               1    22154       59            0.0\n",
       "2               2    22154       59            0.0"
      ]
     },
     "execution_count": 23,
     "metadata": {},
     "output_type": "execute_result"
    }
   ],
   "source": [
    "print(monthly_sales_all.shape)\n",
    "monthly_sales_all[:3]"
   ]
  },
  {
   "cell_type": "code",
   "execution_count": 24,
   "metadata": {},
   "outputs": [
    {
     "data": {
      "text/html": [
       "<div>\n",
       "<style scoped>\n",
       "    .dataframe tbody tr th:only-of-type {\n",
       "        vertical-align: middle;\n",
       "    }\n",
       "\n",
       "    .dataframe tbody tr th {\n",
       "        vertical-align: top;\n",
       "    }\n",
       "\n",
       "    .dataframe thead th {\n",
       "        text-align: right;\n",
       "    }\n",
       "</style>\n",
       "<table border=\"1\" class=\"dataframe\">\n",
       "  <thead>\n",
       "    <tr style=\"text-align: right;\">\n",
       "      <th></th>\n",
       "      <th>date_block_num</th>\n",
       "      <th>item_id</th>\n",
       "      <th>shop_id</th>\n",
       "      <th>shop_item_cnt</th>\n",
       "    </tr>\n",
       "  </thead>\n",
       "  <tbody>\n",
       "    <tr>\n",
       "      <th>45788395</th>\n",
       "      <td>34</td>\n",
       "      <td>8428</td>\n",
       "      <td>36</td>\n",
       "      <td>0.0</td>\n",
       "    </tr>\n",
       "    <tr>\n",
       "      <th>45788396</th>\n",
       "      <td>34</td>\n",
       "      <td>7903</td>\n",
       "      <td>36</td>\n",
       "      <td>0.0</td>\n",
       "    </tr>\n",
       "    <tr>\n",
       "      <th>45788397</th>\n",
       "      <td>34</td>\n",
       "      <td>7610</td>\n",
       "      <td>36</td>\n",
       "      <td>0.0</td>\n",
       "    </tr>\n",
       "    <tr>\n",
       "      <th>45788398</th>\n",
       "      <td>34</td>\n",
       "      <td>7635</td>\n",
       "      <td>36</td>\n",
       "      <td>0.0</td>\n",
       "    </tr>\n",
       "    <tr>\n",
       "      <th>45788399</th>\n",
       "      <td>34</td>\n",
       "      <td>7640</td>\n",
       "      <td>36</td>\n",
       "      <td>0.0</td>\n",
       "    </tr>\n",
       "  </tbody>\n",
       "</table>\n",
       "</div>"
      ],
      "text/plain": [
       "          date_block_num  item_id  shop_id  shop_item_cnt\n",
       "45788395              34     8428       36            0.0\n",
       "45788396              34     7903       36            0.0\n",
       "45788397              34     7610       36            0.0\n",
       "45788398              34     7635       36            0.0\n",
       "45788399              34     7640       36            0.0"
      ]
     },
     "execution_count": 24,
     "metadata": {},
     "output_type": "execute_result"
    }
   ],
   "source": [
    "monthly_sales_all[-5:]"
   ]
  },
  {
   "cell_type": "code",
   "execution_count": 25,
   "metadata": {},
   "outputs": [],
   "source": [
    "del test_block"
   ]
  },
  {
   "cell_type": "code",
   "execution_count": 26,
   "metadata": {},
   "outputs": [
    {
     "data": {
      "text/plain": [
       "20"
      ]
     },
     "execution_count": 26,
     "metadata": {},
     "output_type": "execute_result"
    }
   ],
   "source": [
    "gc.collect()"
   ]
  },
  {
   "cell_type": "markdown",
   "metadata": {},
   "source": [
    "#### Visualize sales trend (and diff trend)"
   ]
  },
  {
   "cell_type": "code",
   "execution_count": 23,
   "metadata": {},
   "outputs": [
    {
     "data": {
      "text/plain": [
       "<matplotlib.axes._subplots.AxesSubplot at 0x1bc9f23ee48>"
      ]
     },
     "execution_count": 23,
     "metadata": {},
     "output_type": "execute_result"
    },
    {
     "data": {
      "image/png": "[encoded data removed]",
      "text/plain": [
       "<Figure size 1440x360 with 1 Axes>"
      ]
     },
     "metadata": {
      "needs_background": "light"
     },
     "output_type": "display_data"
    }
   ],
   "source": [
    "# Clear seasonality - spike in Dec; March\n",
    "# Also a clear downward sloping trend\n",
    "plt.figure(figsize=(20,5))\n",
    "monthly_sales_all[monthly_sales_all.date_block_num<34].groupby(['date_block_num'])['shop_item_cnt'].sum().plot() "
   ]
  },
  {
   "cell_type": "code",
   "execution_count": 27,
   "metadata": {},
   "outputs": [],
   "source": [
    "monthly_sales_all.sort_values(by=['shop_id','item_id','date_block_num'],inplace=True)\n",
    "monthly_sales_all['shop_item_cnt_lag1']=monthly_sales_all.groupby(['shop_id','item_id'])['shop_item_cnt'].shift(1)\n",
    "\n",
    "monthly_sales_all['diff'] = monthly_sales_all['shop_item_cnt'] - monthly_sales_all['shop_item_cnt_lag1']"
   ]
  },
  {
   "cell_type": "code",
   "execution_count": 28,
   "metadata": {},
   "outputs": [
    {
     "data": {
      "text/plain": [
       "<matplotlib.axes._subplots.AxesSubplot at 0x28d26bd2d68>"
      ]
     },
     "execution_count": 28,
     "metadata": {},
     "output_type": "execute_result"
    },
    {
     "data": {
      "image/png": "[encoded data removed]",
      "text/plain": [
       "<Figure size 1440x360 with 1 Axes>"
      ]
     },
     "metadata": {
      "needs_background": "light"
     },
     "output_type": "display_data"
    }
   ],
   "source": [
    "# Frist order diff seems stationary\n",
    "plt.figure(figsize=(20,5))\n",
    "monthly_sales_all[monthly_sales_all.date_block_num<34].groupby(['date_block_num'])['diff'].sum().plot() "
   ]
  },
  {
   "cell_type": "code",
   "execution_count": 29,
   "metadata": {},
   "outputs": [
    {
     "data": {
      "text/plain": [
       "0.0"
      ]
     },
     "execution_count": 29,
     "metadata": {},
     "output_type": "execute_result"
    }
   ],
   "source": [
    "monthly_sales_all[monthly_sales_all.date_block_num==34]['diff'].max() # QC should <=0"
   ]
  },
  {
   "cell_type": "code",
   "execution_count": 30,
   "metadata": {},
   "outputs": [
    {
     "name": "stdout",
     "output_type": "stream",
     "text": [
      "[0]\n"
     ]
    }
   ],
   "source": [
    "print(monthly_sales_all[monthly_sales_all['diff'].isnull()].date_block_num.unique())  # QC\n",
    "monthly_sales_all = monthly_sales_all[monthly_sales_all['diff'].notnull()] # Remove date_block_num 0 where no diff is available"
   ]
  },
  {
   "cell_type": "markdown",
   "metadata": {},
   "source": [
    "#### Aggregated Diff by Shop, Cat, Item"
   ]
  },
  {
   "cell_type": "code",
   "execution_count": 31,
   "metadata": {},
   "outputs": [
    {
     "data": {
      "text/html": [
       "<div>\n",
       "<style scoped>\n",
       "    .dataframe tbody tr th:only-of-type {\n",
       "        vertical-align: middle;\n",
       "    }\n",
       "\n",
       "    .dataframe tbody tr th {\n",
       "        vertical-align: top;\n",
       "    }\n",
       "\n",
       "    .dataframe thead th {\n",
       "        text-align: right;\n",
       "    }\n",
       "</style>\n",
       "<table border=\"1\" class=\"dataframe\">\n",
       "  <thead>\n",
       "    <tr style=\"text-align: right;\">\n",
       "      <th></th>\n",
       "      <th>date_block_num</th>\n",
       "      <th>item_id</th>\n",
       "      <th>shop_id</th>\n",
       "      <th>shop_item_cnt</th>\n",
       "      <th>shop_item_cnt_lag1</th>\n",
       "      <th>diff</th>\n",
       "      <th>shop_cnt</th>\n",
       "      <th>item_cnt</th>\n",
       "    </tr>\n",
       "  </thead>\n",
       "  <tbody>\n",
       "    <tr>\n",
       "      <th>0</th>\n",
       "      <td>1</td>\n",
       "      <td>0</td>\n",
       "      <td>0</td>\n",
       "      <td>0.0</td>\n",
       "      <td>0.0</td>\n",
       "      <td>0.0</td>\n",
       "      <td>409.0</td>\n",
       "      <td>0.0</td>\n",
       "    </tr>\n",
       "    <tr>\n",
       "      <th>1</th>\n",
       "      <td>2</td>\n",
       "      <td>0</td>\n",
       "      <td>0</td>\n",
       "      <td>0.0</td>\n",
       "      <td>0.0</td>\n",
       "      <td>0.0</td>\n",
       "      <td>-5820.0</td>\n",
       "      <td>0.0</td>\n",
       "    </tr>\n",
       "    <tr>\n",
       "      <th>2</th>\n",
       "      <td>3</td>\n",
       "      <td>0</td>\n",
       "      <td>0</td>\n",
       "      <td>0.0</td>\n",
       "      <td>0.0</td>\n",
       "      <td>0.0</td>\n",
       "      <td>0.0</td>\n",
       "      <td>0.0</td>\n",
       "    </tr>\n",
       "  </tbody>\n",
       "</table>\n",
       "</div>"
      ],
      "text/plain": [
       "   date_block_num  item_id  shop_id  shop_item_cnt  shop_item_cnt_lag1  diff  \\\n",
       "0               1        0        0            0.0                 0.0   0.0   \n",
       "1               2        0        0            0.0                 0.0   0.0   \n",
       "2               3        0        0            0.0                 0.0   0.0   \n",
       "\n",
       "   shop_cnt  item_cnt  \n",
       "0     409.0       0.0  \n",
       "1   -5820.0       0.0  \n",
       "2       0.0       0.0  "
      ]
     },
     "execution_count": 31,
     "metadata": {},
     "output_type": "execute_result"
    }
   ],
   "source": [
    "# monthly sales by shop\n",
    "temp = monthly_sales_all.groupby(['date_block_num','shop_id'],as_index=False).agg({'diff':{'shop_cnt':'sum'}})\n",
    "temp.columns = [col[0] if col[-1]=='' else col[-1] for col in temp.columns.values]\n",
    "\n",
    "monthly_sales_all=pd.merge(monthly_sales_all,temp,how='left',on=['date_block_num','shop_id']).fillna(0)\n",
    "\n",
    "# monthly sales by item\n",
    "temp = monthly_sales_all.groupby(['date_block_num','item_id'],as_index=False).agg({'diff':{'item_cnt':'sum'}})\n",
    "temp.columns = [col[0] if col[-1]=='' else col[-1] for col in temp.columns.values]\n",
    "\n",
    "monthly_sales_all=pd.merge(monthly_sales_all,temp,how='left',on=['date_block_num','item_id']).fillna(0)\n",
    "\n",
    "monthly_sales_all[:3]"
   ]
  },
  {
   "cell_type": "code",
   "execution_count": 32,
   "metadata": {},
   "outputs": [],
   "source": [
    "# monthly sales by cat\n",
    "# first, get item_category_id1 of each item on the LHS\n",
    "monthly_sales_all = pd.merge(monthly_sales_all,items0[['item_id','item_category_id','sys',\n",
    "                                                       'item_category_id1','item_category_id2','item_category_id3',\n",
    "                                                       'cat1_prob','cat2_prob','cat3_prob']],\n",
    "                             how='left',on='item_id')\n",
    "\n",
    "# by cat\n",
    "temp = monthly_sales_all.groupby(['date_block_num','item_category_id'],as_index=False).agg({'diff':{'cat_cnt':'sum'}})\n",
    "temp.columns = [col[0] if col[-1]=='' else col[-1] for col in temp.columns.values]\n",
    "monthly_sales_all=pd.merge(monthly_sales_all,temp,how='left',on=['date_block_num','item_category_id']).fillna(0)\n",
    "\n",
    "# by sys\n",
    "temp = monthly_sales_all.groupby(['date_block_num','sys'],as_index=False).agg({'diff':{'sys_cnt':'sum'}})\n",
    "temp.columns = [col[0] if col[-1]=='' else col[-1] for col in temp.columns.values]\n",
    "monthly_sales_all=pd.merge(monthly_sales_all,temp,how='left',on=['date_block_num','sys']).fillna(0)"
   ]
  },
  {
   "cell_type": "code",
   "execution_count": 34,
   "metadata": {},
   "outputs": [
    {
     "data": {
      "text/html": [
       "<div>\n",
       "<style scoped>\n",
       "    .dataframe tbody tr th:only-of-type {\n",
       "        vertical-align: middle;\n",
       "    }\n",
       "\n",
       "    .dataframe tbody tr th {\n",
       "        vertical-align: top;\n",
       "    }\n",
       "\n",
       "    .dataframe thead th {\n",
       "        text-align: right;\n",
       "    }\n",
       "</style>\n",
       "<table border=\"1\" class=\"dataframe\">\n",
       "  <thead>\n",
       "    <tr style=\"text-align: right;\">\n",
       "      <th></th>\n",
       "      <th>date_block_num</th>\n",
       "      <th>item_id</th>\n",
       "      <th>shop_id</th>\n",
       "      <th>shop_item_cnt</th>\n",
       "      <th>shop_item_cnt_lag1</th>\n",
       "      <th>diff</th>\n",
       "      <th>shop_cnt</th>\n",
       "      <th>item_cnt</th>\n",
       "      <th>item_category_id</th>\n",
       "      <th>sys</th>\n",
       "      <th>item_category_id1</th>\n",
       "      <th>item_category_id2</th>\n",
       "      <th>item_category_id3</th>\n",
       "      <th>cat1_prob</th>\n",
       "      <th>cat2_prob</th>\n",
       "      <th>cat3_prob</th>\n",
       "      <th>cat_cnt</th>\n",
       "      <th>sys_cnt</th>\n",
       "    </tr>\n",
       "  </thead>\n",
       "  <tbody>\n",
       "    <tr>\n",
       "      <th>0</th>\n",
       "      <td>1</td>\n",
       "      <td>0</td>\n",
       "      <td>0</td>\n",
       "      <td>0.0</td>\n",
       "      <td>0.0</td>\n",
       "      <td>0.0</td>\n",
       "      <td>409.0</td>\n",
       "      <td>0.0</td>\n",
       "      <td>40</td>\n",
       "      <td>dvd</td>\n",
       "      <td>40-16</td>\n",
       "      <td>40-23</td>\n",
       "      <td>40-10</td>\n",
       "      <td>0.520833</td>\n",
       "      <td>0.020833</td>\n",
       "      <td>0.020833</td>\n",
       "      <td>-2365.0</td>\n",
       "      <td>-2391.0</td>\n",
       "    </tr>\n",
       "    <tr>\n",
       "      <th>1</th>\n",
       "      <td>2</td>\n",
       "      <td>0</td>\n",
       "      <td>0</td>\n",
       "      <td>0.0</td>\n",
       "      <td>0.0</td>\n",
       "      <td>0.0</td>\n",
       "      <td>-5820.0</td>\n",
       "      <td>0.0</td>\n",
       "      <td>40</td>\n",
       "      <td>dvd</td>\n",
       "      <td>40-16</td>\n",
       "      <td>40-23</td>\n",
       "      <td>40-10</td>\n",
       "      <td>0.520833</td>\n",
       "      <td>0.020833</td>\n",
       "      <td>0.020833</td>\n",
       "      <td>4249.0</td>\n",
       "      <td>4292.0</td>\n",
       "    </tr>\n",
       "    <tr>\n",
       "      <th>2</th>\n",
       "      <td>3</td>\n",
       "      <td>0</td>\n",
       "      <td>0</td>\n",
       "      <td>0.0</td>\n",
       "      <td>0.0</td>\n",
       "      <td>0.0</td>\n",
       "      <td>0.0</td>\n",
       "      <td>0.0</td>\n",
       "      <td>40</td>\n",
       "      <td>dvd</td>\n",
       "      <td>40-16</td>\n",
       "      <td>40-23</td>\n",
       "      <td>40-10</td>\n",
       "      <td>0.520833</td>\n",
       "      <td>0.020833</td>\n",
       "      <td>0.020833</td>\n",
       "      <td>-7772.0</td>\n",
       "      <td>-8139.0</td>\n",
       "    </tr>\n",
       "  </tbody>\n",
       "</table>\n",
       "</div>"
      ],
      "text/plain": [
       "   date_block_num  item_id  shop_id  shop_item_cnt  shop_item_cnt_lag1  diff  \\\n",
       "0               1        0        0            0.0                 0.0   0.0   \n",
       "1               2        0        0            0.0                 0.0   0.0   \n",
       "2               3        0        0            0.0                 0.0   0.0   \n",
       "\n",
       "   shop_cnt  item_cnt  item_category_id  sys item_category_id1  \\\n",
       "0     409.0       0.0                40  dvd             40-16   \n",
       "1   -5820.0       0.0                40  dvd             40-16   \n",
       "2       0.0       0.0                40  dvd             40-16   \n",
       "\n",
       "  item_category_id2 item_category_id3  cat1_prob  cat2_prob  cat3_prob  \\\n",
       "0             40-23             40-10   0.520833   0.020833   0.020833   \n",
       "1             40-23             40-10   0.520833   0.020833   0.020833   \n",
       "2             40-23             40-10   0.520833   0.020833   0.020833   \n",
       "\n",
       "   cat_cnt  sys_cnt  \n",
       "0  -2365.0  -2391.0  \n",
       "1   4249.0   4292.0  \n",
       "2  -7772.0  -8139.0  "
      ]
     },
     "execution_count": 34,
     "metadata": {},
     "output_type": "execute_result"
    }
   ],
   "source": [
    "monthly_sales_all[:3]"
   ]
  },
  {
   "cell_type": "code",
   "execution_count": 35,
   "metadata": {
    "scrolled": true
   },
   "outputs": [
    {
     "name": "stdout",
     "output_type": "stream",
     "text": [
      "(44480160, 21)\n"
     ]
    },
    {
     "data": {
      "text/html": [
       "<div>\n",
       "<style scoped>\n",
       "    .dataframe tbody tr th:only-of-type {\n",
       "        vertical-align: middle;\n",
       "    }\n",
       "\n",
       "    .dataframe tbody tr th {\n",
       "        vertical-align: top;\n",
       "    }\n",
       "\n",
       "    .dataframe thead th {\n",
       "        text-align: right;\n",
       "    }\n",
       "</style>\n",
       "<table border=\"1\" class=\"dataframe\">\n",
       "  <thead>\n",
       "    <tr style=\"text-align: right;\">\n",
       "      <th></th>\n",
       "      <th>date_block_num</th>\n",
       "      <th>item_id</th>\n",
       "      <th>shop_id</th>\n",
       "      <th>shop_item_cnt</th>\n",
       "      <th>shop_item_cnt_lag1</th>\n",
       "      <th>diff</th>\n",
       "      <th>shop_cnt</th>\n",
       "      <th>item_cnt</th>\n",
       "      <th>item_category_id</th>\n",
       "      <th>sys</th>\n",
       "      <th>...</th>\n",
       "      <th>item_category_id2</th>\n",
       "      <th>item_category_id3</th>\n",
       "      <th>cat1_prob</th>\n",
       "      <th>cat2_prob</th>\n",
       "      <th>cat3_prob</th>\n",
       "      <th>cat_cnt</th>\n",
       "      <th>sys_cnt</th>\n",
       "      <th>cat1_cnt</th>\n",
       "      <th>cat2_cnt</th>\n",
       "      <th>cat3_cnt</th>\n",
       "    </tr>\n",
       "  </thead>\n",
       "  <tbody>\n",
       "    <tr>\n",
       "      <th>0</th>\n",
       "      <td>1</td>\n",
       "      <td>0</td>\n",
       "      <td>0</td>\n",
       "      <td>0.0</td>\n",
       "      <td>0.0</td>\n",
       "      <td>0.0</td>\n",
       "      <td>409.0</td>\n",
       "      <td>0.0</td>\n",
       "      <td>40</td>\n",
       "      <td>dvd</td>\n",
       "      <td>...</td>\n",
       "      <td>40-23</td>\n",
       "      <td>40-10</td>\n",
       "      <td>0.520833</td>\n",
       "      <td>0.020833</td>\n",
       "      <td>0.020833</td>\n",
       "      <td>-2365.0</td>\n",
       "      <td>-2391.0</td>\n",
       "      <td>-379.0</td>\n",
       "      <td>400.0</td>\n",
       "      <td>-1795.0</td>\n",
       "    </tr>\n",
       "    <tr>\n",
       "      <th>1</th>\n",
       "      <td>2</td>\n",
       "      <td>0</td>\n",
       "      <td>0</td>\n",
       "      <td>0.0</td>\n",
       "      <td>0.0</td>\n",
       "      <td>0.0</td>\n",
       "      <td>-5820.0</td>\n",
       "      <td>0.0</td>\n",
       "      <td>40</td>\n",
       "      <td>dvd</td>\n",
       "      <td>...</td>\n",
       "      <td>40-23</td>\n",
       "      <td>40-10</td>\n",
       "      <td>0.520833</td>\n",
       "      <td>0.020833</td>\n",
       "      <td>0.020833</td>\n",
       "      <td>4249.0</td>\n",
       "      <td>4292.0</td>\n",
       "      <td>-164.0</td>\n",
       "      <td>859.0</td>\n",
       "      <td>2376.0</td>\n",
       "    </tr>\n",
       "    <tr>\n",
       "      <th>2</th>\n",
       "      <td>3</td>\n",
       "      <td>0</td>\n",
       "      <td>0</td>\n",
       "      <td>0.0</td>\n",
       "      <td>0.0</td>\n",
       "      <td>0.0</td>\n",
       "      <td>0.0</td>\n",
       "      <td>0.0</td>\n",
       "      <td>40</td>\n",
       "      <td>dvd</td>\n",
       "      <td>...</td>\n",
       "      <td>40-23</td>\n",
       "      <td>40-10</td>\n",
       "      <td>0.520833</td>\n",
       "      <td>0.020833</td>\n",
       "      <td>0.020833</td>\n",
       "      <td>-7772.0</td>\n",
       "      <td>-8139.0</td>\n",
       "      <td>863.0</td>\n",
       "      <td>-1772.0</td>\n",
       "      <td>-2322.0</td>\n",
       "    </tr>\n",
       "  </tbody>\n",
       "</table>\n",
       "<p>3 rows × 21 columns</p>\n",
       "</div>"
      ],
      "text/plain": [
       "   date_block_num  item_id  shop_id  shop_item_cnt  shop_item_cnt_lag1  diff  \\\n",
       "0               1        0        0            0.0                 0.0   0.0   \n",
       "1               2        0        0            0.0                 0.0   0.0   \n",
       "2               3        0        0            0.0                 0.0   0.0   \n",
       "\n",
       "   shop_cnt  item_cnt  item_category_id  sys    ...    item_category_id2  \\\n",
       "0     409.0       0.0                40  dvd    ...                40-23   \n",
       "1   -5820.0       0.0                40  dvd    ...                40-23   \n",
       "2       0.0       0.0                40  dvd    ...                40-23   \n",
       "\n",
       "  item_category_id3 cat1_prob  cat2_prob  cat3_prob  cat_cnt  sys_cnt  \\\n",
       "0             40-10  0.520833   0.020833   0.020833  -2365.0  -2391.0   \n",
       "1             40-10  0.520833   0.020833   0.020833   4249.0   4292.0   \n",
       "2             40-10  0.520833   0.020833   0.020833  -7772.0  -8139.0   \n",
       "\n",
       "   cat1_cnt  cat2_cnt  cat3_cnt  \n",
       "0    -379.0     400.0   -1795.0  \n",
       "1    -164.0     859.0    2376.0  \n",
       "2     863.0   -1772.0   -2322.0  \n",
       "\n",
       "[3 rows x 21 columns]"
      ]
     },
     "execution_count": 35,
     "metadata": {},
     "output_type": "execute_result"
    }
   ],
   "source": [
    "# cat mix\n",
    "temp = monthly_sales_all.groupby(['date_block_num','item_category_id1'],as_index=False).agg({'diff':{'cat1_cnt':'sum'}})\n",
    "temp.columns = [col[0] if col[-1]=='' else col[-1] for col in temp.columns.values]\n",
    "monthly_sales_all=pd.merge(monthly_sales_all,temp,how='left',on=['date_block_num','item_category_id1']).fillna(0)\n",
    "\n",
    "temp = monthly_sales_all.groupby(['date_block_num','item_category_id2'],as_index=False).agg({'diff':{'cat2_cnt':'sum'}})\n",
    "temp.columns = [col[0] if col[-1]=='' else col[-1] for col in temp.columns.values]\n",
    "monthly_sales_all=pd.merge(monthly_sales_all,temp,how='left',on=['date_block_num','item_category_id2']).fillna(0)\n",
    "\n",
    "temp = monthly_sales_all.groupby(['date_block_num','item_category_id3'],as_index=False).agg({'diff':{'cat3_cnt':'sum'}})\n",
    "temp.columns = [col[0] if col[-1]=='' else col[-1] for col in temp.columns.values]\n",
    "monthly_sales_all=pd.merge(monthly_sales_all,temp,how='left',on=['date_block_num','item_category_id3']).fillna(0)\n",
    "\n",
    "# # downcast types to save memory\n",
    "monthly_sales_all=downcast_dtypes(monthly_sales_all)\n",
    "print(monthly_sales_all.shape)\n",
    "monthly_sales_all[:3]"
   ]
  },
  {
   "cell_type": "code",
   "execution_count": 36,
   "metadata": {},
   "outputs": [],
   "source": [
    "monthly_sales_all['cat_mix_cnt'] = monthly_sales_all.cat1_cnt * monthly_sales_all.cat1_prob + \\\n",
    "                               monthly_sales_all.cat2_cnt * monthly_sales_all.cat2_prob + \\\n",
    "                               monthly_sales_all.cat3_cnt * monthly_sales_all.cat3_prob"
   ]
  },
  {
   "cell_type": "code",
   "execution_count": 37,
   "metadata": {},
   "outputs": [],
   "source": [
    "to_drop = [col for col in monthly_sales_all.columns if re.search(re.compile('item_category_id|_prob|cat[0-9]'), col) is not None]\n",
    "monthly_sales_all.drop(labels=to_drop,axis=1,inplace=True)"
   ]
  },
  {
   "cell_type": "code",
   "execution_count": 38,
   "metadata": {},
   "outputs": [],
   "source": [
    "del train2\n",
    "del temp"
   ]
  },
  {
   "cell_type": "code",
   "execution_count": 39,
   "metadata": {},
   "outputs": [],
   "source": [
    "monthly_sales_all[['date_block_num','shop_id']] = monthly_sales_all[['date_block_num','shop_id']].astype(np.int8)"
   ]
  },
  {
   "cell_type": "code",
   "execution_count": 40,
   "metadata": {},
   "outputs": [
    {
     "data": {
      "text/plain": [
       "date_block_num           int8\n",
       "item_id                 int16\n",
       "shop_id                  int8\n",
       "shop_item_cnt         float32\n",
       "shop_item_cnt_lag1    float32\n",
       "diff                  float32\n",
       "shop_cnt              float32\n",
       "item_cnt              float32\n",
       "sys                    object\n",
       "cat_cnt               float32\n",
       "sys_cnt               float32\n",
       "cat_mix_cnt           float32\n",
       "dtype: object"
      ]
     },
     "execution_count": 40,
     "metadata": {},
     "output_type": "execute_result"
    }
   ],
   "source": [
    "monthly_sales_all.dtypes"
   ]
  },
  {
   "cell_type": "code",
   "execution_count": null,
   "metadata": {},
   "outputs": [],
   "source": []
  },
  {
   "cell_type": "markdown",
   "metadata": {},
   "source": [
    "### Start building features"
   ]
  },
  {
   "cell_type": "markdown",
   "metadata": {},
   "source": [
    "#### Set up time-based features"
   ]
  },
  {
   "cell_type": "markdown",
   "metadata": {},
   "source": [
    "<strong>Since we have lag features, we are just going to build the features on entire monthly_sales data w/o spliting monthly_sales and X_val. \n",
    "    \n",
    "However, make sure we do feature selection only on the monthly_sales portion (where date_block_num < hold_out_month) </strong>"
   ]
  },
  {
   "cell_type": "code",
   "execution_count": 41,
   "metadata": {},
   "outputs": [],
   "source": [
    "temp = monthly_sales_all[['shop_id','item_id','date_block_num','shop_item_cnt','shop_item_cnt_lag1']]"
   ]
  },
  {
   "cell_type": "code",
   "execution_count": 42,
   "metadata": {},
   "outputs": [
    {
     "name": "stdout",
     "output_type": "stream",
     "text": [
      "Wall time: 11.4 s\n"
     ]
    }
   ],
   "source": [
    "%%time\n",
    "temp.to_hdf(r'../data2/temp.h5','monthly_sales_all')"
   ]
  },
  {
   "cell_type": "code",
   "execution_count": 43,
   "metadata": {},
   "outputs": [],
   "source": [
    "del temp"
   ]
  },
  {
   "cell_type": "code",
   "execution_count": 46,
   "metadata": {},
   "outputs": [],
   "source": [
    "# monthly_sales_all.drop(labels=['shop_item_cnt','shop_item_cnt_lag1'],axis=1,inplace=True)\n",
    "monthly_sales_all.drop(labels=['sys'],axis=1,inplace=True)"
   ]
  },
  {
   "cell_type": "code",
   "execution_count": 54,
   "metadata": {},
   "outputs": [
    {
     "data": {
      "text/plain": [
       "MinMaxScaler(copy=True, feature_range=(-1, 1))"
      ]
     },
     "execution_count": 54,
     "metadata": {},
     "output_type": "execute_result"
    }
   ],
   "source": [
    "scaler = MinMaxScaler(feature_range=(-1,1))\n",
    "scaler"
   ]
  },
  {
   "cell_type": "code",
   "execution_count": 55,
   "metadata": {},
   "outputs": [
    {
     "data": {
      "text/html": [
       "<div>\n",
       "<style scoped>\n",
       "    .dataframe tbody tr th:only-of-type {\n",
       "        vertical-align: middle;\n",
       "    }\n",
       "\n",
       "    .dataframe tbody tr th {\n",
       "        vertical-align: top;\n",
       "    }\n",
       "\n",
       "    .dataframe thead th {\n",
       "        text-align: right;\n",
       "    }\n",
       "</style>\n",
       "<table border=\"1\" class=\"dataframe\">\n",
       "  <thead>\n",
       "    <tr style=\"text-align: right;\">\n",
       "      <th></th>\n",
       "      <th>cat_cnt</th>\n",
       "      <th>cat_mix_cnt</th>\n",
       "      <th>diff</th>\n",
       "      <th>item_cnt</th>\n",
       "      <th>shop_cnt</th>\n",
       "      <th>sys_cnt</th>\n",
       "    </tr>\n",
       "  </thead>\n",
       "  <tbody>\n",
       "    <tr>\n",
       "      <th>count</th>\n",
       "      <td>4.448016e+07</td>\n",
       "      <td>4.448016e+07</td>\n",
       "      <td>4.448016e+07</td>\n",
       "      <td>4.448016e+07</td>\n",
       "      <td>4.448016e+07</td>\n",
       "      <td>4.448016e+07</td>\n",
       "    </tr>\n",
       "    <tr>\n",
       "      <th>mean</th>\n",
       "      <td>7.863188e-02</td>\n",
       "      <td>7.974185e-03</td>\n",
       "      <td>-1.427873e-04</td>\n",
       "      <td>-6.324264e-02</td>\n",
       "      <td>-4.704844e-02</td>\n",
       "      <td>4.675910e-02</td>\n",
       "    </tr>\n",
       "    <tr>\n",
       "      <th>std</th>\n",
       "      <td>2.490238e-01</td>\n",
       "      <td>1.071540e-01</td>\n",
       "      <td>2.808831e-02</td>\n",
       "      <td>1.942277e-02</td>\n",
       "      <td>1.088910e-01</td>\n",
       "      <td>2.143709e-01</td>\n",
       "    </tr>\n",
       "    <tr>\n",
       "      <th>min</th>\n",
       "      <td>-1.000000e+00</td>\n",
       "      <td>-1.000000e+00</td>\n",
       "      <td>-1.000000e+00</td>\n",
       "      <td>-1.000000e+00</td>\n",
       "      <td>-1.000000e+00</td>\n",
       "      <td>-1.000000e+00</td>\n",
       "    </tr>\n",
       "    <tr>\n",
       "      <th>25%</th>\n",
       "      <td>2.681605e-02</td>\n",
       "      <td>-8.655725e-03</td>\n",
       "      <td>0.000000e+00</td>\n",
       "      <td>-6.305310e-02</td>\n",
       "      <td>-6.305859e-02</td>\n",
       "      <td>-1.513774e-02</td>\n",
       "    </tr>\n",
       "    <tr>\n",
       "      <th>50%</th>\n",
       "      <td>1.216480e-01</td>\n",
       "      <td>1.395123e-02</td>\n",
       "      <td>0.000000e+00</td>\n",
       "      <td>-6.305310e-02</td>\n",
       "      <td>-3.674280e-02</td>\n",
       "      <td>5.916020e-02</td>\n",
       "    </tr>\n",
       "    <tr>\n",
       "      <th>75%</th>\n",
       "      <td>1.528731e-01</td>\n",
       "      <td>2.543641e-02</td>\n",
       "      <td>0.000000e+00</td>\n",
       "      <td>-6.305310e-02</td>\n",
       "      <td>-2.068851e-02</td>\n",
       "      <td>1.212089e-01</td>\n",
       "    </tr>\n",
       "    <tr>\n",
       "      <th>max</th>\n",
       "      <td>1.000000e+00</td>\n",
       "      <td>1.000000e+00</td>\n",
       "      <td>1.000000e+00</td>\n",
       "      <td>1.000000e+00</td>\n",
       "      <td>1.000000e+00</td>\n",
       "      <td>1.000000e+00</td>\n",
       "    </tr>\n",
       "  </tbody>\n",
       "</table>\n",
       "</div>"
      ],
      "text/plain": [
       "            cat_cnt   cat_mix_cnt          diff      item_cnt      shop_cnt  \\\n",
       "count  4.448016e+07  4.448016e+07  4.448016e+07  4.448016e+07  4.448016e+07   \n",
       "mean   7.863188e-02  7.974185e-03 -1.427873e-04 -6.324264e-02 -4.704844e-02   \n",
       "std    2.490238e-01  1.071540e-01  2.808831e-02  1.942277e-02  1.088910e-01   \n",
       "min   -1.000000e+00 -1.000000e+00 -1.000000e+00 -1.000000e+00 -1.000000e+00   \n",
       "25%    2.681605e-02 -8.655725e-03  0.000000e+00 -6.305310e-02 -6.305859e-02   \n",
       "50%    1.216480e-01  1.395123e-02  0.000000e+00 -6.305310e-02 -3.674280e-02   \n",
       "75%    1.528731e-01  2.543641e-02  0.000000e+00 -6.305310e-02 -2.068851e-02   \n",
       "max    1.000000e+00  1.000000e+00  1.000000e+00  1.000000e+00  1.000000e+00   \n",
       "\n",
       "            sys_cnt  \n",
       "count  4.448016e+07  \n",
       "mean   4.675910e-02  \n",
       "std    2.143709e-01  \n",
       "min   -1.000000e+00  \n",
       "25%   -1.513774e-02  \n",
       "50%    5.916020e-02  \n",
       "75%    1.212089e-01  \n",
       "max    1.000000e+00  "
      ]
     },
     "execution_count": 55,
     "metadata": {},
     "output_type": "execute_result"
    }
   ],
   "source": [
    "monthly_sales_all.loc[:,cols_to_rename] = scaler.fit_transform(monthly_sales_all[cols_to_rename])\n",
    "monthly_sales_all[cols_to_rename].describe()"
   ]
  },
  {
   "cell_type": "code",
   "execution_count": 56,
   "metadata": {
    "scrolled": true
   },
   "outputs": [
    {
     "data": {
      "text/plain": [
       "93"
      ]
     },
     "execution_count": 56,
     "metadata": {},
     "output_type": "execute_result"
    }
   ],
   "source": [
    "gc.collect()"
   ]
  },
  {
   "cell_type": "code",
   "execution_count": 64,
   "metadata": {},
   "outputs": [],
   "source": [
    "monthly_sales_all = downcast_dtypes(monthly_sales_all)"
   ]
  },
  {
   "cell_type": "code",
   "execution_count": 65,
   "metadata": {
    "scrolled": true
   },
   "outputs": [
    {
     "data": {
      "text/plain": [
       "cat_cnt        float32\n",
       "cat_mix_cnt    float32\n",
       "diff           float32\n",
       "item_cnt       float32\n",
       "shop_cnt       float32\n",
       "sys_cnt        float32\n",
       "dtype: object"
      ]
     },
     "execution_count": 65,
     "metadata": {},
     "output_type": "execute_result"
    }
   ],
   "source": [
    "monthly_sales_all[cols_to_rename].dtypes"
   ]
  },
  {
   "cell_type": "code",
   "execution_count": 66,
   "metadata": {},
   "outputs": [],
   "source": [
    "monthly_sales_all.to_hdf(r'../data2/monthly_sales_diff_no_lag.h5','monthly_sales_all')"
   ]
  },
  {
   "cell_type": "code",
   "execution_count": null,
   "metadata": {},
   "outputs": [],
   "source": []
  },
  {
   "cell_type": "code",
   "execution_count": null,
   "metadata": {},
   "outputs": [],
   "source": []
  },
  {
   "cell_type": "code",
   "execution_count": 4,
   "metadata": {},
   "outputs": [],
   "source": [
    "monthly_sales_all = pd.read_hdf(r'../data2/monthly_sales_diff_no_lag.h5','monthly_sales_all')"
   ]
  },
  {
   "cell_type": "code",
   "execution_count": 5,
   "metadata": {},
   "outputs": [
    {
     "data": {
      "text/plain": [
       "['cat_cnt', 'cat_mix_cnt', 'diff', 'item_cnt', 'shop_cnt', 'sys_cnt']"
      ]
     },
     "execution_count": 5,
     "metadata": {},
     "output_type": "execute_result"
    }
   ],
   "source": [
    "index_cols = ['shop_id','item_id','date_block_num']\n",
    "cols_to_rename = list(monthly_sales_all.columns.difference(index_cols)) # all columns except these four\n",
    "shift_range = [1,2,3,4,5,12]\n",
    "cols_to_rename"
   ]
  },
  {
   "cell_type": "code",
   "execution_count": 6,
   "metadata": {},
   "outputs": [
    {
     "data": {
      "application/vnd.jupyter.widget-view+json": {
       "model_id": "d9be43dc86b74d35b5c0415e8a918cb0",
       "version_major": 2,
       "version_minor": 0
      },
      "text/plain": [
       "HBox(children=(IntProgress(value=0, max=6), HTML(value='')))"
      ]
     },
     "metadata": {},
     "output_type": "display_data"
    },
    {
     "name": "stdout",
     "output_type": "stream",
     "text": [
      "\n"
     ]
    }
   ],
   "source": [
    "for month_shift in tqdm_notebook(shift_range):\n",
    "    \n",
    "    \"\"\"Take the entire data set, add 1 to date_block_num, and rename the columns that we want to create a lag for\"\"\"\n",
    "    \n",
    "    train_shift = monthly_sales_all[index_cols + cols_to_rename].copy()\n",
    "    \n",
    "    train_shift['date_block_num'] = train_shift['date_block_num'] + month_shift\n",
    "    \n",
    "    foo = lambda x: '{}_lag_{}'.format(x, month_shift) if x in cols_to_rename else x\n",
    "    train_shift = train_shift.rename(columns=foo)\n",
    "\n",
    "    monthly_sales_all = pd.merge(monthly_sales_all, train_shift, on=index_cols, how='left').fillna(0)\n",
    "\n",
    "del train_shift"
   ]
  },
  {
   "cell_type": "code",
   "execution_count": 7,
   "metadata": {},
   "outputs": [
    {
     "data": {
      "text/plain": [
       "214"
      ]
     },
     "execution_count": 7,
     "metadata": {},
     "output_type": "execute_result"
    }
   ],
   "source": [
    "gc.collect()"
   ]
  },
  {
   "cell_type": "code",
   "execution_count": 8,
   "metadata": {},
   "outputs": [],
   "source": [
    "monthly_sales_all['month'] = (np.mod(monthly_sales_all.date_block_num,12)+1).astype('int8')"
   ]
  },
  {
   "cell_type": "code",
   "execution_count": 9,
   "metadata": {
    "scrolled": true
   },
   "outputs": [
    {
     "name": "stdout",
     "output_type": "stream",
     "text": [
      "(44480160, 5)\n"
     ]
    },
    {
     "data": {
      "text/html": [
       "<div>\n",
       "<style scoped>\n",
       "    .dataframe tbody tr th:only-of-type {\n",
       "        vertical-align: middle;\n",
       "    }\n",
       "\n",
       "    .dataframe tbody tr th {\n",
       "        vertical-align: top;\n",
       "    }\n",
       "\n",
       "    .dataframe thead th {\n",
       "        text-align: right;\n",
       "    }\n",
       "</style>\n",
       "<table border=\"1\" class=\"dataframe\">\n",
       "  <thead>\n",
       "    <tr style=\"text-align: right;\">\n",
       "      <th></th>\n",
       "      <th>shop_id</th>\n",
       "      <th>item_id</th>\n",
       "      <th>date_block_num</th>\n",
       "      <th>shop_item_cnt</th>\n",
       "      <th>shop_item_cnt_lag1</th>\n",
       "    </tr>\n",
       "  </thead>\n",
       "  <tbody>\n",
       "    <tr>\n",
       "      <th>0</th>\n",
       "      <td>0</td>\n",
       "      <td>0</td>\n",
       "      <td>1</td>\n",
       "      <td>0.0</td>\n",
       "      <td>0.0</td>\n",
       "    </tr>\n",
       "    <tr>\n",
       "      <th>1</th>\n",
       "      <td>0</td>\n",
       "      <td>0</td>\n",
       "      <td>2</td>\n",
       "      <td>0.0</td>\n",
       "      <td>0.0</td>\n",
       "    </tr>\n",
       "    <tr>\n",
       "      <th>2</th>\n",
       "      <td>0</td>\n",
       "      <td>0</td>\n",
       "      <td>3</td>\n",
       "      <td>0.0</td>\n",
       "      <td>0.0</td>\n",
       "    </tr>\n",
       "  </tbody>\n",
       "</table>\n",
       "</div>"
      ],
      "text/plain": [
       "   shop_id  item_id  date_block_num  shop_item_cnt  shop_item_cnt_lag1\n",
       "0        0        0               1            0.0                 0.0\n",
       "1        0        0               2            0.0                 0.0\n",
       "2        0        0               3            0.0                 0.0"
      ]
     },
     "execution_count": 9,
     "metadata": {},
     "output_type": "execute_result"
    }
   ],
   "source": [
    "temp = pd.read_hdf(r'../data2/temp.h5','monthly_sales_all')\n",
    "print(temp.shape)\n",
    "temp[:3]"
   ]
  },
  {
   "cell_type": "code",
   "execution_count": 11,
   "metadata": {},
   "outputs": [
    {
     "data": {
      "text/html": [
       "<div>\n",
       "<style scoped>\n",
       "    .dataframe tbody tr th:only-of-type {\n",
       "        vertical-align: middle;\n",
       "    }\n",
       "\n",
       "    .dataframe tbody tr th {\n",
       "        vertical-align: top;\n",
       "    }\n",
       "\n",
       "    .dataframe thead th {\n",
       "        text-align: right;\n",
       "    }\n",
       "</style>\n",
       "<table border=\"1\" class=\"dataframe\">\n",
       "  <thead>\n",
       "    <tr style=\"text-align: right;\">\n",
       "      <th></th>\n",
       "      <th>shop_item_cnt</th>\n",
       "      <th>shop_item_cnt_lag1</th>\n",
       "    </tr>\n",
       "  </thead>\n",
       "  <tbody>\n",
       "    <tr>\n",
       "      <th>count</th>\n",
       "      <td>4.448016e+07</td>\n",
       "      <td>4.448016e+07</td>\n",
       "    </tr>\n",
       "    <tr>\n",
       "      <th>mean</th>\n",
       "      <td>7.038622e-02</td>\n",
       "      <td>7.324196e-02</td>\n",
       "    </tr>\n",
       "    <tr>\n",
       "      <th>std</th>\n",
       "      <td>6.040751e-01</td>\n",
       "      <td>6.155989e-01</td>\n",
       "    </tr>\n",
       "    <tr>\n",
       "      <th>min</th>\n",
       "      <td>0.000000e+00</td>\n",
       "      <td>0.000000e+00</td>\n",
       "    </tr>\n",
       "    <tr>\n",
       "      <th>25%</th>\n",
       "      <td>0.000000e+00</td>\n",
       "      <td>0.000000e+00</td>\n",
       "    </tr>\n",
       "    <tr>\n",
       "      <th>50%</th>\n",
       "      <td>0.000000e+00</td>\n",
       "      <td>0.000000e+00</td>\n",
       "    </tr>\n",
       "    <tr>\n",
       "      <th>75%</th>\n",
       "      <td>0.000000e+00</td>\n",
       "      <td>0.000000e+00</td>\n",
       "    </tr>\n",
       "    <tr>\n",
       "      <th>max</th>\n",
       "      <td>2.000000e+01</td>\n",
       "      <td>2.000000e+01</td>\n",
       "    </tr>\n",
       "  </tbody>\n",
       "</table>\n",
       "</div>"
      ],
      "text/plain": [
       "       shop_item_cnt  shop_item_cnt_lag1\n",
       "count   4.448016e+07        4.448016e+07\n",
       "mean    7.038622e-02        7.324196e-02\n",
       "std     6.040751e-01        6.155989e-01\n",
       "min     0.000000e+00        0.000000e+00\n",
       "25%     0.000000e+00        0.000000e+00\n",
       "50%     0.000000e+00        0.000000e+00\n",
       "75%     0.000000e+00        0.000000e+00\n",
       "max     2.000000e+01        2.000000e+01"
      ]
     },
     "execution_count": 11,
     "metadata": {},
     "output_type": "execute_result"
    }
   ],
   "source": [
    "temp[['shop_item_cnt','shop_item_cnt_lag1']].describe()"
   ]
  },
  {
   "cell_type": "code",
   "execution_count": 12,
   "metadata": {},
   "outputs": [
    {
     "name": "stdout",
     "output_type": "stream",
     "text": [
      "(44480160, 48)\n"
     ]
    },
    {
     "data": {
      "text/html": [
       "<div>\n",
       "<style scoped>\n",
       "    .dataframe tbody tr th:only-of-type {\n",
       "        vertical-align: middle;\n",
       "    }\n",
       "\n",
       "    .dataframe tbody tr th {\n",
       "        vertical-align: top;\n",
       "    }\n",
       "\n",
       "    .dataframe thead th {\n",
       "        text-align: right;\n",
       "    }\n",
       "</style>\n",
       "<table border=\"1\" class=\"dataframe\">\n",
       "  <thead>\n",
       "    <tr style=\"text-align: right;\">\n",
       "      <th></th>\n",
       "      <th>date_block_num</th>\n",
       "      <th>item_id</th>\n",
       "      <th>shop_id</th>\n",
       "      <th>diff</th>\n",
       "      <th>shop_cnt</th>\n",
       "      <th>item_cnt</th>\n",
       "      <th>cat_cnt</th>\n",
       "      <th>sys_cnt</th>\n",
       "      <th>cat_mix_cnt</th>\n",
       "      <th>cat_cnt_lag_1</th>\n",
       "      <th>...</th>\n",
       "      <th>sys_cnt_lag_5</th>\n",
       "      <th>cat_cnt_lag_12</th>\n",
       "      <th>cat_mix_cnt_lag_12</th>\n",
       "      <th>diff_lag_12</th>\n",
       "      <th>item_cnt_lag_12</th>\n",
       "      <th>shop_cnt_lag_12</th>\n",
       "      <th>sys_cnt_lag_12</th>\n",
       "      <th>month</th>\n",
       "      <th>shop_item_cnt</th>\n",
       "      <th>shop_item_cnt_lag1</th>\n",
       "    </tr>\n",
       "  </thead>\n",
       "  <tbody>\n",
       "    <tr>\n",
       "      <th>0</th>\n",
       "      <td>1</td>\n",
       "      <td>0</td>\n",
       "      <td>0</td>\n",
       "      <td>0.0</td>\n",
       "      <td>0.030950</td>\n",
       "      <td>-0.063053</td>\n",
       "      <td>-0.218359</td>\n",
       "      <td>-0.049425</td>\n",
       "      <td>-0.059837</td>\n",
       "      <td>0.000000</td>\n",
       "      <td>...</td>\n",
       "      <td>0.0</td>\n",
       "      <td>0.0</td>\n",
       "      <td>0.0</td>\n",
       "      <td>0.0</td>\n",
       "      <td>0.0</td>\n",
       "      <td>0.0</td>\n",
       "      <td>0.0</td>\n",
       "      <td>2</td>\n",
       "      <td>0.0</td>\n",
       "      <td>0.0</td>\n",
       "    </tr>\n",
       "    <tr>\n",
       "      <th>1</th>\n",
       "      <td>2</td>\n",
       "      <td>0</td>\n",
       "      <td>0</td>\n",
       "      <td>0.0</td>\n",
       "      <td>-1.000000</td>\n",
       "      <td>-0.063053</td>\n",
       "      <td>0.737767</td>\n",
       "      <td>0.308050</td>\n",
       "      <td>0.009469</td>\n",
       "      <td>-0.218359</td>\n",
       "      <td>...</td>\n",
       "      <td>0.0</td>\n",
       "      <td>0.0</td>\n",
       "      <td>0.0</td>\n",
       "      <td>0.0</td>\n",
       "      <td>0.0</td>\n",
       "      <td>0.0</td>\n",
       "      <td>0.0</td>\n",
       "      <td>3</td>\n",
       "      <td>0.0</td>\n",
       "      <td>0.0</td>\n",
       "    </tr>\n",
       "    <tr>\n",
       "      <th>2</th>\n",
       "      <td>3</td>\n",
       "      <td>0</td>\n",
       "      <td>0</td>\n",
       "      <td>0.0</td>\n",
       "      <td>-0.036743</td>\n",
       "      <td>-0.063053</td>\n",
       "      <td>-1.000000</td>\n",
       "      <td>-0.356887</td>\n",
       "      <td>0.136554</td>\n",
       "      <td>0.737767</td>\n",
       "      <td>...</td>\n",
       "      <td>0.0</td>\n",
       "      <td>0.0</td>\n",
       "      <td>0.0</td>\n",
       "      <td>0.0</td>\n",
       "      <td>0.0</td>\n",
       "      <td>0.0</td>\n",
       "      <td>0.0</td>\n",
       "      <td>4</td>\n",
       "      <td>0.0</td>\n",
       "      <td>0.0</td>\n",
       "    </tr>\n",
       "  </tbody>\n",
       "</table>\n",
       "<p>3 rows × 48 columns</p>\n",
       "</div>"
      ],
      "text/plain": [
       "   date_block_num  item_id  shop_id  diff  shop_cnt  item_cnt   cat_cnt  \\\n",
       "0               1        0        0   0.0  0.030950 -0.063053 -0.218359   \n",
       "1               2        0        0   0.0 -1.000000 -0.063053  0.737767   \n",
       "2               3        0        0   0.0 -0.036743 -0.063053 -1.000000   \n",
       "\n",
       "    sys_cnt  cat_mix_cnt  cat_cnt_lag_1         ...          sys_cnt_lag_5  \\\n",
       "0 -0.049425    -0.059837       0.000000         ...                    0.0   \n",
       "1  0.308050     0.009469      -0.218359         ...                    0.0   \n",
       "2 -0.356887     0.136554       0.737767         ...                    0.0   \n",
       "\n",
       "   cat_cnt_lag_12  cat_mix_cnt_lag_12  diff_lag_12  item_cnt_lag_12  \\\n",
       "0             0.0                 0.0          0.0              0.0   \n",
       "1             0.0                 0.0          0.0              0.0   \n",
       "2             0.0                 0.0          0.0              0.0   \n",
       "\n",
       "   shop_cnt_lag_12  sys_cnt_lag_12  month  shop_item_cnt  shop_item_cnt_lag1  \n",
       "0              0.0             0.0      2            0.0                 0.0  \n",
       "1              0.0             0.0      3            0.0                 0.0  \n",
       "2              0.0             0.0      4            0.0                 0.0  \n",
       "\n",
       "[3 rows x 48 columns]"
      ]
     },
     "execution_count": 12,
     "metadata": {},
     "output_type": "execute_result"
    }
   ],
   "source": [
    "monthly_sales_all = pd.merge(monthly_sales_all,temp, on=['date_block_num','shop_id','item_id'],how='left')\n",
    "print(monthly_sales_all.shape)\n",
    "monthly_sales_all[:3]"
   ]
  },
  {
   "cell_type": "code",
   "execution_count": 17,
   "metadata": {},
   "outputs": [],
   "source": [
    "monthly_sales_all.drop(labels=['cat_cnt','cat_mix_cnt','item_cnt','shop_cnt','sys_cnt'],axis=1,inplace=True)"
   ]
  },
  {
   "cell_type": "code",
   "execution_count": 18,
   "metadata": {},
   "outputs": [
    {
     "data": {
      "text/html": [
       "<div>\n",
       "<style scoped>\n",
       "    .dataframe tbody tr th:only-of-type {\n",
       "        vertical-align: middle;\n",
       "    }\n",
       "\n",
       "    .dataframe tbody tr th {\n",
       "        vertical-align: top;\n",
       "    }\n",
       "\n",
       "    .dataframe thead th {\n",
       "        text-align: right;\n",
       "    }\n",
       "</style>\n",
       "<table border=\"1\" class=\"dataframe\">\n",
       "  <thead>\n",
       "    <tr style=\"text-align: right;\">\n",
       "      <th></th>\n",
       "      <th>date_block_num</th>\n",
       "      <th>item_id</th>\n",
       "      <th>shop_id</th>\n",
       "      <th>diff</th>\n",
       "      <th>cat_cnt_lag_1</th>\n",
       "      <th>cat_mix_cnt_lag_1</th>\n",
       "      <th>diff_lag_1</th>\n",
       "      <th>item_cnt_lag_1</th>\n",
       "      <th>shop_cnt_lag_1</th>\n",
       "      <th>sys_cnt_lag_1</th>\n",
       "      <th>...</th>\n",
       "      <th>sys_cnt_lag_5</th>\n",
       "      <th>cat_cnt_lag_12</th>\n",
       "      <th>cat_mix_cnt_lag_12</th>\n",
       "      <th>diff_lag_12</th>\n",
       "      <th>item_cnt_lag_12</th>\n",
       "      <th>shop_cnt_lag_12</th>\n",
       "      <th>sys_cnt_lag_12</th>\n",
       "      <th>month</th>\n",
       "      <th>shop_item_cnt</th>\n",
       "      <th>shop_item_cnt_lag1</th>\n",
       "    </tr>\n",
       "  </thead>\n",
       "  <tbody>\n",
       "    <tr>\n",
       "      <th>0</th>\n",
       "      <td>1</td>\n",
       "      <td>0</td>\n",
       "      <td>0</td>\n",
       "      <td>0.0</td>\n",
       "      <td>0.000000</td>\n",
       "      <td>0.000000</td>\n",
       "      <td>0.0</td>\n",
       "      <td>0.000000</td>\n",
       "      <td>0.00000</td>\n",
       "      <td>0.000000</td>\n",
       "      <td>...</td>\n",
       "      <td>0.0</td>\n",
       "      <td>0.0</td>\n",
       "      <td>0.0</td>\n",
       "      <td>0.0</td>\n",
       "      <td>0.0</td>\n",
       "      <td>0.0</td>\n",
       "      <td>0.0</td>\n",
       "      <td>2</td>\n",
       "      <td>0.0</td>\n",
       "      <td>0.0</td>\n",
       "    </tr>\n",
       "    <tr>\n",
       "      <th>1</th>\n",
       "      <td>2</td>\n",
       "      <td>0</td>\n",
       "      <td>0</td>\n",
       "      <td>0.0</td>\n",
       "      <td>-0.218359</td>\n",
       "      <td>-0.059837</td>\n",
       "      <td>0.0</td>\n",
       "      <td>-0.063053</td>\n",
       "      <td>0.03095</td>\n",
       "      <td>-0.049425</td>\n",
       "      <td>...</td>\n",
       "      <td>0.0</td>\n",
       "      <td>0.0</td>\n",
       "      <td>0.0</td>\n",
       "      <td>0.0</td>\n",
       "      <td>0.0</td>\n",
       "      <td>0.0</td>\n",
       "      <td>0.0</td>\n",
       "      <td>3</td>\n",
       "      <td>0.0</td>\n",
       "      <td>0.0</td>\n",
       "    </tr>\n",
       "    <tr>\n",
       "      <th>2</th>\n",
       "      <td>3</td>\n",
       "      <td>0</td>\n",
       "      <td>0</td>\n",
       "      <td>0.0</td>\n",
       "      <td>0.737767</td>\n",
       "      <td>0.009469</td>\n",
       "      <td>0.0</td>\n",
       "      <td>-0.063053</td>\n",
       "      <td>-1.00000</td>\n",
       "      <td>0.308050</td>\n",
       "      <td>...</td>\n",
       "      <td>0.0</td>\n",
       "      <td>0.0</td>\n",
       "      <td>0.0</td>\n",
       "      <td>0.0</td>\n",
       "      <td>0.0</td>\n",
       "      <td>0.0</td>\n",
       "      <td>0.0</td>\n",
       "      <td>4</td>\n",
       "      <td>0.0</td>\n",
       "      <td>0.0</td>\n",
       "    </tr>\n",
       "  </tbody>\n",
       "</table>\n",
       "<p>3 rows × 43 columns</p>\n",
       "</div>"
      ],
      "text/plain": [
       "   date_block_num  item_id  shop_id  diff  cat_cnt_lag_1  cat_mix_cnt_lag_1  \\\n",
       "0               1        0        0   0.0       0.000000           0.000000   \n",
       "1               2        0        0   0.0      -0.218359          -0.059837   \n",
       "2               3        0        0   0.0       0.737767           0.009469   \n",
       "\n",
       "   diff_lag_1  item_cnt_lag_1  shop_cnt_lag_1  sys_cnt_lag_1  \\\n",
       "0         0.0        0.000000         0.00000       0.000000   \n",
       "1         0.0       -0.063053         0.03095      -0.049425   \n",
       "2         0.0       -0.063053        -1.00000       0.308050   \n",
       "\n",
       "          ...          sys_cnt_lag_5  cat_cnt_lag_12  cat_mix_cnt_lag_12  \\\n",
       "0         ...                    0.0             0.0                 0.0   \n",
       "1         ...                    0.0             0.0                 0.0   \n",
       "2         ...                    0.0             0.0                 0.0   \n",
       "\n",
       "   diff_lag_12  item_cnt_lag_12  shop_cnt_lag_12  sys_cnt_lag_12  month  \\\n",
       "0          0.0              0.0              0.0             0.0      2   \n",
       "1          0.0              0.0              0.0             0.0      3   \n",
       "2          0.0              0.0              0.0             0.0      4   \n",
       "\n",
       "   shop_item_cnt  shop_item_cnt_lag1  \n",
       "0            0.0                 0.0  \n",
       "1            0.0                 0.0  \n",
       "2            0.0                 0.0  \n",
       "\n",
       "[3 rows x 43 columns]"
      ]
     },
     "execution_count": 18,
     "metadata": {},
     "output_type": "execute_result"
    }
   ],
   "source": [
    "monthly_sales_all[:3]"
   ]
  },
  {
   "cell_type": "code",
   "execution_count": 19,
   "metadata": {},
   "outputs": [
    {
     "name": "stdout",
     "output_type": "stream",
     "text": [
      "Wall time: 1min 3s\n"
     ]
    }
   ],
   "source": [
    "%%time\n",
    "monthly_sales_all.to_hdf(r'../data2/monthly_diff_all_shop_item_w_lag.h5','monthly_sales_all')"
   ]
  },
  {
   "cell_type": "code",
   "execution_count": null,
   "metadata": {},
   "outputs": [],
   "source": []
  },
  {
   "cell_type": "code",
   "execution_count": 4,
   "metadata": {},
   "outputs": [
    {
     "name": "stdout",
     "output_type": "stream",
     "text": [
      "Wall time: 1min 4s\n"
     ]
    }
   ],
   "source": [
    "%%time\n",
    "monthly_sales_all = pd.read_hdf(r'../data2/monthly_diff_all_shop_item_w_lag.h5','monthly_sales_all')"
   ]
  },
  {
   "cell_type": "code",
   "execution_count": 5,
   "metadata": {},
   "outputs": [],
   "source": [
    "monthly_sales_all = monthly_sales_all[monthly_sales_all.date_block_num>=12]"
   ]
  },
  {
   "cell_type": "code",
   "execution_count": 8,
   "metadata": {},
   "outputs": [
    {
     "data": {
      "text/plain": [
       "date_block_num           int8\n",
       "item_id                 int16\n",
       "shop_id                  int8\n",
       "diff                  float32\n",
       "cat_cnt_lag_1         float32\n",
       "cat_mix_cnt_lag_1     float32\n",
       "diff_lag_1            float32\n",
       "item_cnt_lag_1        float32\n",
       "shop_cnt_lag_1        float32\n",
       "sys_cnt_lag_1         float32\n",
       "cat_cnt_lag_2         float32\n",
       "cat_mix_cnt_lag_2     float32\n",
       "diff_lag_2            float32\n",
       "item_cnt_lag_2        float32\n",
       "shop_cnt_lag_2        float32\n",
       "sys_cnt_lag_2         float32\n",
       "cat_cnt_lag_3         float32\n",
       "cat_mix_cnt_lag_3     float32\n",
       "diff_lag_3            float32\n",
       "item_cnt_lag_3        float32\n",
       "shop_cnt_lag_3        float32\n",
       "sys_cnt_lag_3         float32\n",
       "cat_cnt_lag_4         float32\n",
       "cat_mix_cnt_lag_4     float32\n",
       "diff_lag_4            float32\n",
       "item_cnt_lag_4        float32\n",
       "shop_cnt_lag_4        float32\n",
       "sys_cnt_lag_4         float32\n",
       "cat_cnt_lag_5         float32\n",
       "cat_mix_cnt_lag_5     float32\n",
       "diff_lag_5            float32\n",
       "item_cnt_lag_5        float32\n",
       "shop_cnt_lag_5        float32\n",
       "sys_cnt_lag_5         float32\n",
       "cat_cnt_lag_12        float32\n",
       "cat_mix_cnt_lag_12    float32\n",
       "diff_lag_12           float32\n",
       "item_cnt_lag_12       float32\n",
       "shop_cnt_lag_12       float32\n",
       "sys_cnt_lag_12        float32\n",
       "month                    int8\n",
       "shop_item_cnt         float32\n",
       "shop_item_cnt_lag1    float32\n",
       "dtype: object"
      ]
     },
     "execution_count": 8,
     "metadata": {},
     "output_type": "execute_result"
    }
   ],
   "source": [
    "monthly_sales_all.dtypes"
   ]
  },
  {
   "cell_type": "markdown",
   "metadata": {},
   "source": [
    "### Tree-based features"
   ]
  },
  {
   "cell_type": "code",
   "execution_count": 9,
   "metadata": {},
   "outputs": [
    {
     "data": {
      "text/plain": [
       "count    3.008952e+07\n",
       "mean    -5.335479e-03\n",
       "std      5.238676e-01\n",
       "min     -2.000000e+01\n",
       "25%      0.000000e+00\n",
       "50%      0.000000e+00\n",
       "75%      0.000000e+00\n",
       "max      2.000000e+01\n",
       "Name: diff, dtype: float64"
      ]
     },
     "execution_count": 9,
     "metadata": {},
     "output_type": "execute_result"
    }
   ],
   "source": [
    "# Need to scale diff back to [-20,20], for shop_item_cnt and shop_item_cnt_lag1 are unscaled\n",
    "temp = MinMaxScaler(feature_range=(-20,20)).fit_transform(monthly_sales_all[['diff']]).ravel()\n",
    "\n",
    "monthly_sales_all.loc[:,'diff'] = temp\n",
    "monthly_sales_all['diff'].describe()"
   ]
  },
  {
   "cell_type": "code",
   "execution_count": 10,
   "metadata": {},
   "outputs": [],
   "source": [
    "monthly_sales_all['diff_ma1'] = (1/3) * (monthly_sales_all['diff_lag_1'] + monthly_sales_all['diff_lag_2'] + monthly_sales_all['diff_lag_3'])\n",
    "monthly_sales_all['diff_ma2'] = (1/3) * (monthly_sales_all['diff_lag_2'] + monthly_sales_all['diff_lag_3'] + monthly_sales_all['diff_lag_4'])\n",
    "monthly_sales_all['diff_ma3'] = (1/3) * (monthly_sales_all['diff_lag_3'] + monthly_sales_all['diff_lag_4'] + monthly_sales_all['diff_lag_5'])"
   ]
  },
  {
   "cell_type": "code",
   "execution_count": 11,
   "metadata": {},
   "outputs": [],
   "source": [
    "monthly_sales_all['item_ma1'] = (1/3) * (monthly_sales_all['item_cnt_lag_1'] + monthly_sales_all['item_cnt_lag_2'] + monthly_sales_all['item_cnt_lag_3'])\n",
    "monthly_sales_all['item_ma2'] = (1/3) * (monthly_sales_all['item_cnt_lag_2'] + monthly_sales_all['item_cnt_lag_3'] + monthly_sales_all['item_cnt_lag_4'])\n",
    "monthly_sales_all['item_ma3'] = (1/3) * (monthly_sales_all['item_cnt_lag_3'] + monthly_sales_all['item_cnt_lag_4'] + monthly_sales_all['item_cnt_lag_5'])\n",
    "\n",
    "monthly_sales_all['shop_ma1'] = (1/3) * (monthly_sales_all['shop_cnt_lag_1'] + monthly_sales_all['shop_cnt_lag_2'] + monthly_sales_all['shop_cnt_lag_3'])\n",
    "monthly_sales_all['shop_ma2'] = (1/3) * (monthly_sales_all['shop_cnt_lag_2'] + monthly_sales_all['shop_cnt_lag_3'] + monthly_sales_all['shop_cnt_lag_4'])\n",
    "monthly_sales_all['shop_ma3'] = (1/3) * (monthly_sales_all['shop_cnt_lag_3'] + monthly_sales_all['shop_cnt_lag_4'] + monthly_sales_all['shop_cnt_lag_5'])\n",
    "\n",
    "monthly_sales_all['cat_ma1'] = (1/3) * (monthly_sales_all['cat_cnt_lag_1'] + monthly_sales_all['cat_cnt_lag_2'] + monthly_sales_all['cat_cnt_lag_3'])\n",
    "monthly_sales_all['cat_ma2'] = (1/3) * (monthly_sales_all['cat_cnt_lag_2'] + monthly_sales_all['cat_cnt_lag_3'] + monthly_sales_all['cat_cnt_lag_4'])\n",
    "monthly_sales_all['cat_ma3'] = (1/3) * (monthly_sales_all['cat_cnt_lag_3'] + monthly_sales_all['cat_cnt_lag_4'] + monthly_sales_all['cat_cnt_lag_5'])"
   ]
  },
  {
   "cell_type": "code",
   "execution_count": 12,
   "metadata": {},
   "outputs": [],
   "source": [
    "monthly_sales_all['cat_mix_ma1'] = (1/3) * (monthly_sales_all['cat_mix_cnt_lag_1'] + monthly_sales_all['cat_mix_cnt_lag_2'] + monthly_sales_all['cat_mix_cnt_lag_3'])\n",
    "monthly_sales_all['cat_mix_ma2'] = (1/3) * (monthly_sales_all['cat_mix_cnt_lag_2'] + monthly_sales_all['cat_mix_cnt_lag_3'] + monthly_sales_all['cat_mix_cnt_lag_4'])\n",
    "monthly_sales_all['cat_mix_ma3'] = (1/3) * (monthly_sales_all['cat_mix_cnt_lag_3'] + monthly_sales_all['cat_mix_cnt_lag_4'] + monthly_sales_all['cat_mix_cnt_lag_5'])\n",
    "\n",
    "monthly_sales_all['sys_ma1'] = (1/3) * (monthly_sales_all['sys_cnt_lag_1'] + monthly_sales_all['sys_cnt_lag_2'] + monthly_sales_all['sys_cnt_lag_3'])\n",
    "monthly_sales_all['sys_ma2'] = (1/3) * (monthly_sales_all['sys_cnt_lag_2'] + monthly_sales_all['sys_cnt_lag_3'] + monthly_sales_all['sys_cnt_lag_4'])\n",
    "monthly_sales_all['sys_ma3'] = (1/3) * (monthly_sales_all['sys_cnt_lag_3'] + monthly_sales_all['sys_cnt_lag_4'] + monthly_sales_all['sys_cnt_lag_5'])"
   ]
  },
  {
   "cell_type": "code",
   "execution_count": 13,
   "metadata": {},
   "outputs": [],
   "source": [
    "monthly_sales_all=downcast_dtypes(monthly_sales_all)"
   ]
  },
  {
   "cell_type": "code",
   "execution_count": 14,
   "metadata": {},
   "outputs": [
    {
     "data": {
      "text/html": [
       "<div>\n",
       "<style scoped>\n",
       "    .dataframe tbody tr th:only-of-type {\n",
       "        vertical-align: middle;\n",
       "    }\n",
       "\n",
       "    .dataframe tbody tr th {\n",
       "        vertical-align: top;\n",
       "    }\n",
       "\n",
       "    .dataframe thead th {\n",
       "        text-align: right;\n",
       "    }\n",
       "</style>\n",
       "<table border=\"1\" class=\"dataframe\">\n",
       "  <thead>\n",
       "    <tr style=\"text-align: right;\">\n",
       "      <th></th>\n",
       "      <th>diff</th>\n",
       "      <th>shop_item_cnt</th>\n",
       "      <th>shop_item_cnt_lag1</th>\n",
       "    </tr>\n",
       "  </thead>\n",
       "  <tbody>\n",
       "    <tr>\n",
       "      <th>count</th>\n",
       "      <td>3.008952e+07</td>\n",
       "      <td>3.008952e+07</td>\n",
       "      <td>3.008952e+07</td>\n",
       "    </tr>\n",
       "    <tr>\n",
       "      <th>mean</th>\n",
       "      <td>-5.335479e-03</td>\n",
       "      <td>6.149354e-02</td>\n",
       "      <td>6.682902e-02</td>\n",
       "    </tr>\n",
       "    <tr>\n",
       "      <th>std</th>\n",
       "      <td>5.238945e-01</td>\n",
       "      <td>5.584093e-01</td>\n",
       "      <td>5.868613e-01</td>\n",
       "    </tr>\n",
       "    <tr>\n",
       "      <th>min</th>\n",
       "      <td>-2.000000e+01</td>\n",
       "      <td>0.000000e+00</td>\n",
       "      <td>0.000000e+00</td>\n",
       "    </tr>\n",
       "    <tr>\n",
       "      <th>25%</th>\n",
       "      <td>0.000000e+00</td>\n",
       "      <td>0.000000e+00</td>\n",
       "      <td>0.000000e+00</td>\n",
       "    </tr>\n",
       "    <tr>\n",
       "      <th>50%</th>\n",
       "      <td>0.000000e+00</td>\n",
       "      <td>0.000000e+00</td>\n",
       "      <td>0.000000e+00</td>\n",
       "    </tr>\n",
       "    <tr>\n",
       "      <th>75%</th>\n",
       "      <td>0.000000e+00</td>\n",
       "      <td>0.000000e+00</td>\n",
       "      <td>0.000000e+00</td>\n",
       "    </tr>\n",
       "    <tr>\n",
       "      <th>max</th>\n",
       "      <td>2.000000e+01</td>\n",
       "      <td>2.000000e+01</td>\n",
       "      <td>2.000000e+01</td>\n",
       "    </tr>\n",
       "  </tbody>\n",
       "</table>\n",
       "</div>"
      ],
      "text/plain": [
       "               diff  shop_item_cnt  shop_item_cnt_lag1\n",
       "count  3.008952e+07   3.008952e+07        3.008952e+07\n",
       "mean  -5.335479e-03   6.149354e-02        6.682902e-02\n",
       "std    5.238945e-01   5.584093e-01        5.868613e-01\n",
       "min   -2.000000e+01   0.000000e+00        0.000000e+00\n",
       "25%    0.000000e+00   0.000000e+00        0.000000e+00\n",
       "50%    0.000000e+00   0.000000e+00        0.000000e+00\n",
       "75%    0.000000e+00   0.000000e+00        0.000000e+00\n",
       "max    2.000000e+01   2.000000e+01        2.000000e+01"
      ]
     },
     "execution_count": 14,
     "metadata": {},
     "output_type": "execute_result"
    }
   ],
   "source": [
    "monthly_sales_all[['diff','shop_item_cnt','shop_item_cnt_lag1']].describe()"
   ]
  },
  {
   "cell_type": "code",
   "execution_count": 15,
   "metadata": {},
   "outputs": [],
   "source": [
    "monthly_sales_all.to_hdf(r'../data2/tree_feats_diff_ex_1st_12month.h5','monthly_sales_all')"
   ]
  },
  {
   "cell_type": "code",
   "execution_count": null,
   "metadata": {},
   "outputs": [],
   "source": []
  },
  {
   "cell_type": "markdown",
   "metadata": {},
   "source": [
    "### Linear features"
   ]
  },
  {
   "cell_type": "markdown",
   "metadata": {},
   "source": [
    "- <strong>One-hot encode month</strong>"
   ]
  },
  {
   "cell_type": "code",
   "execution_count": 6,
   "metadata": {},
   "outputs": [],
   "source": [
    "enc = OneHotEncoder()"
   ]
  },
  {
   "cell_type": "code",
   "execution_count": 7,
   "metadata": {},
   "outputs": [
    {
     "data": {
      "text/plain": [
       "(12, 12)"
      ]
     },
     "execution_count": 7,
     "metadata": {},
     "output_type": "execute_result"
    }
   ],
   "source": [
    "m_onehot = enc.fit_transform(pd.DataFrame(list(range(1,13)))).toarray()\n",
    "m_onehot.shape\n",
    "# 12 levels -> 12 features, need to drop 1 to avoid multicolinearity (since we are first going to fit a linear model)\n",
    "\n",
    "# reshape(-1,1) -1 means unknown dimension which we just let numpy to figure out\n",
    "# since OneHotEncoder() takes 2-D array, we need to make our 1D series into a 2-D matrix format\n",
    "# we know there is one column, and let numpy to figure out how many rows there should be\n",
    "# <=> reshape.(rows_in_your_data,1)"
   ]
  },
  {
   "cell_type": "code",
   "execution_count": 8,
   "metadata": {
    "scrolled": false
   },
   "outputs": [
    {
     "data": {
      "text/html": [
       "<div>\n",
       "<style scoped>\n",
       "    .dataframe tbody tr th:only-of-type {\n",
       "        vertical-align: middle;\n",
       "    }\n",
       "\n",
       "    .dataframe tbody tr th {\n",
       "        vertical-align: top;\n",
       "    }\n",
       "\n",
       "    .dataframe thead th {\n",
       "        text-align: right;\n",
       "    }\n",
       "</style>\n",
       "<table border=\"1\" class=\"dataframe\">\n",
       "  <thead>\n",
       "    <tr style=\"text-align: right;\">\n",
       "      <th></th>\n",
       "      <th>month</th>\n",
       "      <th>m2</th>\n",
       "      <th>m3</th>\n",
       "      <th>m4</th>\n",
       "      <th>m5</th>\n",
       "      <th>m6</th>\n",
       "      <th>m7</th>\n",
       "      <th>m8</th>\n",
       "      <th>m9</th>\n",
       "      <th>m10</th>\n",
       "      <th>m11</th>\n",
       "      <th>m12</th>\n",
       "    </tr>\n",
       "  </thead>\n",
       "  <tbody>\n",
       "    <tr>\n",
       "      <th>0</th>\n",
       "      <td>1</td>\n",
       "      <td>0</td>\n",
       "      <td>0</td>\n",
       "      <td>0</td>\n",
       "      <td>0</td>\n",
       "      <td>0</td>\n",
       "      <td>0</td>\n",
       "      <td>0</td>\n",
       "      <td>0</td>\n",
       "      <td>0</td>\n",
       "      <td>0</td>\n",
       "      <td>0</td>\n",
       "    </tr>\n",
       "    <tr>\n",
       "      <th>1</th>\n",
       "      <td>2</td>\n",
       "      <td>1</td>\n",
       "      <td>0</td>\n",
       "      <td>0</td>\n",
       "      <td>0</td>\n",
       "      <td>0</td>\n",
       "      <td>0</td>\n",
       "      <td>0</td>\n",
       "      <td>0</td>\n",
       "      <td>0</td>\n",
       "      <td>0</td>\n",
       "      <td>0</td>\n",
       "    </tr>\n",
       "    <tr>\n",
       "      <th>2</th>\n",
       "      <td>3</td>\n",
       "      <td>0</td>\n",
       "      <td>1</td>\n",
       "      <td>0</td>\n",
       "      <td>0</td>\n",
       "      <td>0</td>\n",
       "      <td>0</td>\n",
       "      <td>0</td>\n",
       "      <td>0</td>\n",
       "      <td>0</td>\n",
       "      <td>0</td>\n",
       "      <td>0</td>\n",
       "    </tr>\n",
       "    <tr>\n",
       "      <th>3</th>\n",
       "      <td>4</td>\n",
       "      <td>0</td>\n",
       "      <td>0</td>\n",
       "      <td>1</td>\n",
       "      <td>0</td>\n",
       "      <td>0</td>\n",
       "      <td>0</td>\n",
       "      <td>0</td>\n",
       "      <td>0</td>\n",
       "      <td>0</td>\n",
       "      <td>0</td>\n",
       "      <td>0</td>\n",
       "    </tr>\n",
       "    <tr>\n",
       "      <th>4</th>\n",
       "      <td>5</td>\n",
       "      <td>0</td>\n",
       "      <td>0</td>\n",
       "      <td>0</td>\n",
       "      <td>1</td>\n",
       "      <td>0</td>\n",
       "      <td>0</td>\n",
       "      <td>0</td>\n",
       "      <td>0</td>\n",
       "      <td>0</td>\n",
       "      <td>0</td>\n",
       "      <td>0</td>\n",
       "    </tr>\n",
       "    <tr>\n",
       "      <th>5</th>\n",
       "      <td>6</td>\n",
       "      <td>0</td>\n",
       "      <td>0</td>\n",
       "      <td>0</td>\n",
       "      <td>0</td>\n",
       "      <td>1</td>\n",
       "      <td>0</td>\n",
       "      <td>0</td>\n",
       "      <td>0</td>\n",
       "      <td>0</td>\n",
       "      <td>0</td>\n",
       "      <td>0</td>\n",
       "    </tr>\n",
       "    <tr>\n",
       "      <th>6</th>\n",
       "      <td>7</td>\n",
       "      <td>0</td>\n",
       "      <td>0</td>\n",
       "      <td>0</td>\n",
       "      <td>0</td>\n",
       "      <td>0</td>\n",
       "      <td>1</td>\n",
       "      <td>0</td>\n",
       "      <td>0</td>\n",
       "      <td>0</td>\n",
       "      <td>0</td>\n",
       "      <td>0</td>\n",
       "    </tr>\n",
       "    <tr>\n",
       "      <th>7</th>\n",
       "      <td>8</td>\n",
       "      <td>0</td>\n",
       "      <td>0</td>\n",
       "      <td>0</td>\n",
       "      <td>0</td>\n",
       "      <td>0</td>\n",
       "      <td>0</td>\n",
       "      <td>1</td>\n",
       "      <td>0</td>\n",
       "      <td>0</td>\n",
       "      <td>0</td>\n",
       "      <td>0</td>\n",
       "    </tr>\n",
       "    <tr>\n",
       "      <th>8</th>\n",
       "      <td>9</td>\n",
       "      <td>0</td>\n",
       "      <td>0</td>\n",
       "      <td>0</td>\n",
       "      <td>0</td>\n",
       "      <td>0</td>\n",
       "      <td>0</td>\n",
       "      <td>0</td>\n",
       "      <td>1</td>\n",
       "      <td>0</td>\n",
       "      <td>0</td>\n",
       "      <td>0</td>\n",
       "    </tr>\n",
       "    <tr>\n",
       "      <th>9</th>\n",
       "      <td>10</td>\n",
       "      <td>0</td>\n",
       "      <td>0</td>\n",
       "      <td>0</td>\n",
       "      <td>0</td>\n",
       "      <td>0</td>\n",
       "      <td>0</td>\n",
       "      <td>0</td>\n",
       "      <td>0</td>\n",
       "      <td>1</td>\n",
       "      <td>0</td>\n",
       "      <td>0</td>\n",
       "    </tr>\n",
       "    <tr>\n",
       "      <th>10</th>\n",
       "      <td>11</td>\n",
       "      <td>0</td>\n",
       "      <td>0</td>\n",
       "      <td>0</td>\n",
       "      <td>0</td>\n",
       "      <td>0</td>\n",
       "      <td>0</td>\n",
       "      <td>0</td>\n",
       "      <td>0</td>\n",
       "      <td>0</td>\n",
       "      <td>1</td>\n",
       "      <td>0</td>\n",
       "    </tr>\n",
       "    <tr>\n",
       "      <th>11</th>\n",
       "      <td>12</td>\n",
       "      <td>0</td>\n",
       "      <td>0</td>\n",
       "      <td>0</td>\n",
       "      <td>0</td>\n",
       "      <td>0</td>\n",
       "      <td>0</td>\n",
       "      <td>0</td>\n",
       "      <td>0</td>\n",
       "      <td>0</td>\n",
       "      <td>0</td>\n",
       "      <td>1</td>\n",
       "    </tr>\n",
       "  </tbody>\n",
       "</table>\n",
       "</div>"
      ],
      "text/plain": [
       "    month  m2  m3  m4  m5  m6  m7  m8  m9  m10  m11  m12\n",
       "0       1   0   0   0   0   0   0   0   0    0    0    0\n",
       "1       2   1   0   0   0   0   0   0   0    0    0    0\n",
       "2       3   0   1   0   0   0   0   0   0    0    0    0\n",
       "3       4   0   0   1   0   0   0   0   0    0    0    0\n",
       "4       5   0   0   0   1   0   0   0   0    0    0    0\n",
       "5       6   0   0   0   0   1   0   0   0    0    0    0\n",
       "6       7   0   0   0   0   0   1   0   0    0    0    0\n",
       "7       8   0   0   0   0   0   0   1   0    0    0    0\n",
       "8       9   0   0   0   0   0   0   0   1    0    0    0\n",
       "9      10   0   0   0   0   0   0   0   0    1    0    0\n",
       "10     11   0   0   0   0   0   0   0   0    0    1    0\n",
       "11     12   0   0   0   0   0   0   0   0    0    0    1"
      ]
     },
     "execution_count": 8,
     "metadata": {},
     "output_type": "execute_result"
    }
   ],
   "source": [
    "m_onehot_df = pd.DataFrame(np.hstack((np.array(range(1,13)).reshape(12,1),m_onehot[:,1:])), columns=['month']+['m'+str(i) for i in range(2,13)], dtype='int8')\n",
    "m_onehot_df"
   ]
  },
  {
   "cell_type": "code",
   "execution_count": 9,
   "metadata": {},
   "outputs": [
    {
     "data": {
      "text/html": [
       "<div>\n",
       "<style scoped>\n",
       "    .dataframe tbody tr th:only-of-type {\n",
       "        vertical-align: middle;\n",
       "    }\n",
       "\n",
       "    .dataframe tbody tr th {\n",
       "        vertical-align: top;\n",
       "    }\n",
       "\n",
       "    .dataframe thead th {\n",
       "        text-align: right;\n",
       "    }\n",
       "</style>\n",
       "<table border=\"1\" class=\"dataframe\">\n",
       "  <thead>\n",
       "    <tr style=\"text-align: right;\">\n",
       "      <th></th>\n",
       "      <th>date_block_num</th>\n",
       "      <th>item_id</th>\n",
       "      <th>shop_id</th>\n",
       "      <th>diff</th>\n",
       "      <th>shop_cnt</th>\n",
       "      <th>item_cnt</th>\n",
       "      <th>cat_cnt</th>\n",
       "      <th>sys_cnt</th>\n",
       "      <th>cat_mix_cnt</th>\n",
       "      <th>cat_cnt_lag_1</th>\n",
       "      <th>...</th>\n",
       "      <th>m3</th>\n",
       "      <th>m4</th>\n",
       "      <th>m5</th>\n",
       "      <th>m6</th>\n",
       "      <th>m7</th>\n",
       "      <th>m8</th>\n",
       "      <th>m9</th>\n",
       "      <th>m10</th>\n",
       "      <th>m11</th>\n",
       "      <th>m12</th>\n",
       "    </tr>\n",
       "  </thead>\n",
       "  <tbody>\n",
       "    <tr>\n",
       "      <th>0</th>\n",
       "      <td>12</td>\n",
       "      <td>0</td>\n",
       "      <td>0</td>\n",
       "      <td>0.0</td>\n",
       "      <td>-0.036743</td>\n",
       "      <td>-0.063053</td>\n",
       "      <td>-0.657246</td>\n",
       "      <td>-0.234287</td>\n",
       "      <td>-0.017436</td>\n",
       "      <td>0.616480</td>\n",
       "      <td>...</td>\n",
       "      <td>0</td>\n",
       "      <td>0</td>\n",
       "      <td>0</td>\n",
       "      <td>0</td>\n",
       "      <td>0</td>\n",
       "      <td>0</td>\n",
       "      <td>0</td>\n",
       "      <td>0</td>\n",
       "      <td>0</td>\n",
       "      <td>0</td>\n",
       "    </tr>\n",
       "    <tr>\n",
       "      <th>1</th>\n",
       "      <td>13</td>\n",
       "      <td>0</td>\n",
       "      <td>0</td>\n",
       "      <td>0.0</td>\n",
       "      <td>-0.036743</td>\n",
       "      <td>-0.063053</td>\n",
       "      <td>-0.380846</td>\n",
       "      <td>-0.122279</td>\n",
       "      <td>-0.062781</td>\n",
       "      <td>-0.657246</td>\n",
       "      <td>...</td>\n",
       "      <td>0</td>\n",
       "      <td>0</td>\n",
       "      <td>0</td>\n",
       "      <td>0</td>\n",
       "      <td>0</td>\n",
       "      <td>0</td>\n",
       "      <td>0</td>\n",
       "      <td>0</td>\n",
       "      <td>0</td>\n",
       "      <td>0</td>\n",
       "    </tr>\n",
       "    <tr>\n",
       "      <th>2</th>\n",
       "      <td>14</td>\n",
       "      <td>0</td>\n",
       "      <td>0</td>\n",
       "      <td>0.0</td>\n",
       "      <td>-0.036743</td>\n",
       "      <td>-0.063053</td>\n",
       "      <td>0.423780</td>\n",
       "      <td>0.187376</td>\n",
       "      <td>0.003858</td>\n",
       "      <td>-0.380846</td>\n",
       "      <td>...</td>\n",
       "      <td>1</td>\n",
       "      <td>0</td>\n",
       "      <td>0</td>\n",
       "      <td>0</td>\n",
       "      <td>0</td>\n",
       "      <td>0</td>\n",
       "      <td>0</td>\n",
       "      <td>0</td>\n",
       "      <td>0</td>\n",
       "      <td>0</td>\n",
       "    </tr>\n",
       "  </tbody>\n",
       "</table>\n",
       "<p>3 rows × 58 columns</p>\n",
       "</div>"
      ],
      "text/plain": [
       "   date_block_num  item_id  shop_id  diff  shop_cnt  item_cnt   cat_cnt  \\\n",
       "0              12        0        0   0.0 -0.036743 -0.063053 -0.657246   \n",
       "1              13        0        0   0.0 -0.036743 -0.063053 -0.380846   \n",
       "2              14        0        0   0.0 -0.036743 -0.063053  0.423780   \n",
       "\n",
       "    sys_cnt  cat_mix_cnt  cat_cnt_lag_1 ...   m3  m4  m5  m6  m7  m8  m9  m10  \\\n",
       "0 -0.234287    -0.017436       0.616480 ...    0   0   0   0   0   0   0    0   \n",
       "1 -0.122279    -0.062781      -0.657246 ...    0   0   0   0   0   0   0    0   \n",
       "2  0.187376     0.003858      -0.380846 ...    1   0   0   0   0   0   0    0   \n",
       "\n",
       "   m11  m12  \n",
       "0    0    0  \n",
       "1    0    0  \n",
       "2    0    0  \n",
       "\n",
       "[3 rows x 58 columns]"
      ]
     },
     "execution_count": 9,
     "metadata": {},
     "output_type": "execute_result"
    }
   ],
   "source": [
    "monthly_sales_all = pd.merge(monthly_sales_all,m_onehot_df,how='left',on='month').drop(labels=['month'],axis=1)\n",
    "monthly_sales_all[:3]"
   ]
  },
  {
   "cell_type": "code",
   "execution_count": 10,
   "metadata": {
    "scrolled": false
   },
   "outputs": [
    {
     "data": {
      "text/plain": [
       "date_block_num           int8\n",
       "item_id                 int16\n",
       "shop_id                  int8\n",
       "diff                  float32\n",
       "shop_cnt              float32\n",
       "item_cnt              float32\n",
       "cat_cnt               float32\n",
       "sys_cnt               float32\n",
       "cat_mix_cnt           float32\n",
       "cat_cnt_lag_1         float32\n",
       "cat_mix_cnt_lag_1     float32\n",
       "diff_lag_1            float32\n",
       "item_cnt_lag_1        float32\n",
       "shop_cnt_lag_1        float32\n",
       "sys_cnt_lag_1         float32\n",
       "cat_cnt_lag_2         float32\n",
       "cat_mix_cnt_lag_2     float32\n",
       "diff_lag_2            float32\n",
       "item_cnt_lag_2        float32\n",
       "shop_cnt_lag_2        float32\n",
       "sys_cnt_lag_2         float32\n",
       "cat_cnt_lag_3         float32\n",
       "cat_mix_cnt_lag_3     float32\n",
       "diff_lag_3            float32\n",
       "item_cnt_lag_3        float32\n",
       "shop_cnt_lag_3        float32\n",
       "sys_cnt_lag_3         float32\n",
       "cat_cnt_lag_4         float32\n",
       "cat_mix_cnt_lag_4     float32\n",
       "diff_lag_4            float32\n",
       "item_cnt_lag_4        float32\n",
       "shop_cnt_lag_4        float32\n",
       "sys_cnt_lag_4         float32\n",
       "cat_cnt_lag_5         float32\n",
       "cat_mix_cnt_lag_5     float32\n",
       "diff_lag_5            float32\n",
       "item_cnt_lag_5        float32\n",
       "shop_cnt_lag_5        float32\n",
       "sys_cnt_lag_5         float32\n",
       "cat_cnt_lag_12        float32\n",
       "cat_mix_cnt_lag_12    float32\n",
       "diff_lag_12           float32\n",
       "item_cnt_lag_12       float32\n",
       "shop_cnt_lag_12       float32\n",
       "sys_cnt_lag_12        float32\n",
       "shop_item_cnt         float32\n",
       "shop_item_cnt_lag1    float32\n",
       "m2                       int8\n",
       "m3                       int8\n",
       "m4                       int8\n",
       "m5                       int8\n",
       "m6                       int8\n",
       "m7                       int8\n",
       "m8                       int8\n",
       "m9                       int8\n",
       "m10                      int8\n",
       "m11                      int8\n",
       "m12                      int8\n",
       "dtype: object"
      ]
     },
     "execution_count": 10,
     "metadata": {},
     "output_type": "execute_result"
    }
   ],
   "source": [
    "monthly_sales_all = downcast_dtypes(monthly_sales_all)\n",
    "monthly_sales_all.dtypes"
   ]
  },
  {
   "cell_type": "code",
   "execution_count": 18,
   "metadata": {},
   "outputs": [
    {
     "data": {
      "text/plain": [
       "count    2.878128e+07\n",
       "mean    -1.719106e-04\n",
       "std      2.627628e-02\n",
       "min     -1.000000e+00\n",
       "25%      0.000000e+00\n",
       "50%      0.000000e+00\n",
       "75%      0.000000e+00\n",
       "max      1.000000e+00\n",
       "Name: diff, dtype: float64"
      ]
     },
     "execution_count": 18,
     "metadata": {},
     "output_type": "execute_result"
    }
   ],
   "source": [
    "monthly_sales_all['diff'].describe()"
   ]
  },
  {
   "cell_type": "code",
   "execution_count": 19,
   "metadata": {
    "scrolled": true
   },
   "outputs": [
    {
     "data": {
      "text/plain": [
       "count    2.878128e+07\n",
       "mean    -3.438033e-03\n",
       "std      5.251659e-01\n",
       "min     -2.000000e+01\n",
       "25%      0.000000e+00\n",
       "50%      0.000000e+00\n",
       "75%      0.000000e+00\n",
       "max      2.000000e+01\n",
       "Name: diff, dtype: float64"
      ]
     },
     "execution_count": 19,
     "metadata": {},
     "output_type": "execute_result"
    }
   ],
   "source": [
    "# Need to scale diff back to [-20,20], for shop_item_cnt and shop_item_cnt_lag1 are unscaled\n",
    "temp = MinMaxScaler(feature_range=(-20,20)).fit_transform(monthly_sales_all[['diff']]).ravel()\n",
    "\n",
    "monthly_sales_all.loc[:,'diff'] = temp\n",
    "monthly_sales_all['diff'].describe()"
   ]
  },
  {
   "cell_type": "code",
   "execution_count": 20,
   "metadata": {},
   "outputs": [
    {
     "name": "stdout",
     "output_type": "stream",
     "text": [
      "Wall time: 1min 1s\n"
     ]
    }
   ],
   "source": [
    "%%time\n",
    "monthly_sales_all.to_hdf(r'../data2/lm_feat_diff_ex_1st_12_month.h5','monthly_sales_all')"
   ]
  },
  {
   "cell_type": "code",
   "execution_count": null,
   "metadata": {},
   "outputs": [],
   "source": []
  },
  {
   "cell_type": "code",
   "execution_count": null,
   "metadata": {},
   "outputs": [],
   "source": []
  },
  {
   "cell_type": "markdown",
   "metadata": {},
   "source": [
    "#### Predict w lag v RF w lag"
   ]
  },
  {
   "cell_type": "code",
   "execution_count": 51,
   "metadata": {},
   "outputs": [],
   "source": [
    "hold_out_month = 33\n",
    "val_month = 32"
   ]
  },
  {
   "cell_type": "code",
   "execution_count": 50,
   "metadata": {},
   "outputs": [],
   "source": [
    "feats = ['diff_lag_1']"
   ]
  },
  {
   "cell_type": "code",
   "execution_count": 51,
   "metadata": {
    "scrolled": true
   },
   "outputs": [
    {
     "data": {
      "text/html": [
       "<div>\n",
       "<style scoped>\n",
       "    .dataframe tbody tr th:only-of-type {\n",
       "        vertical-align: middle;\n",
       "    }\n",
       "\n",
       "    .dataframe tbody tr th {\n",
       "        vertical-align: top;\n",
       "    }\n",
       "\n",
       "    .dataframe thead th {\n",
       "        text-align: right;\n",
       "    }\n",
       "</style>\n",
       "<table border=\"1\" class=\"dataframe\">\n",
       "  <thead>\n",
       "    <tr style=\"text-align: right;\">\n",
       "      <th></th>\n",
       "      <th>date_block_num</th>\n",
       "      <th>item_id</th>\n",
       "      <th>shop_id</th>\n",
       "      <th>shop_item_cnt</th>\n",
       "      <th>diff</th>\n",
       "      <th>shop_cnt</th>\n",
       "      <th>item_cnt</th>\n",
       "      <th>item_category_id</th>\n",
       "      <th>cat_cnt</th>\n",
       "      <th>cat_cnt_lag_1</th>\n",
       "      <th>...</th>\n",
       "      <th>m3</th>\n",
       "      <th>m4</th>\n",
       "      <th>m5</th>\n",
       "      <th>m6</th>\n",
       "      <th>m7</th>\n",
       "      <th>m8</th>\n",
       "      <th>m9</th>\n",
       "      <th>m10</th>\n",
       "      <th>m11</th>\n",
       "      <th>m12</th>\n",
       "    </tr>\n",
       "  </thead>\n",
       "  <tbody>\n",
       "    <tr>\n",
       "      <th>0</th>\n",
       "      <td>12</td>\n",
       "      <td>0</td>\n",
       "      <td>0</td>\n",
       "      <td>0.0</td>\n",
       "      <td>0.0</td>\n",
       "      <td>0.0</td>\n",
       "      <td>0.0</td>\n",
       "      <td>40</td>\n",
       "      <td>-6536.0</td>\n",
       "      <td>3162.0</td>\n",
       "      <td>...</td>\n",
       "      <td>0</td>\n",
       "      <td>0</td>\n",
       "      <td>0</td>\n",
       "      <td>0</td>\n",
       "      <td>0</td>\n",
       "      <td>0</td>\n",
       "      <td>0</td>\n",
       "      <td>0</td>\n",
       "      <td>0</td>\n",
       "      <td>0</td>\n",
       "    </tr>\n",
       "    <tr>\n",
       "      <th>1</th>\n",
       "      <td>13</td>\n",
       "      <td>0</td>\n",
       "      <td>0</td>\n",
       "      <td>0.0</td>\n",
       "      <td>0.0</td>\n",
       "      <td>0.0</td>\n",
       "      <td>0.0</td>\n",
       "      <td>40</td>\n",
       "      <td>-3597.0</td>\n",
       "      <td>-6536.0</td>\n",
       "      <td>...</td>\n",
       "      <td>0</td>\n",
       "      <td>0</td>\n",
       "      <td>0</td>\n",
       "      <td>0</td>\n",
       "      <td>0</td>\n",
       "      <td>0</td>\n",
       "      <td>0</td>\n",
       "      <td>0</td>\n",
       "      <td>0</td>\n",
       "      <td>0</td>\n",
       "    </tr>\n",
       "    <tr>\n",
       "      <th>2</th>\n",
       "      <td>14</td>\n",
       "      <td>0</td>\n",
       "      <td>0</td>\n",
       "      <td>0.0</td>\n",
       "      <td>0.0</td>\n",
       "      <td>0.0</td>\n",
       "      <td>0.0</td>\n",
       "      <td>40</td>\n",
       "      <td>2796.0</td>\n",
       "      <td>-3597.0</td>\n",
       "      <td>...</td>\n",
       "      <td>1</td>\n",
       "      <td>0</td>\n",
       "      <td>0</td>\n",
       "      <td>0</td>\n",
       "      <td>0</td>\n",
       "      <td>0</td>\n",
       "      <td>0</td>\n",
       "      <td>0</td>\n",
       "      <td>0</td>\n",
       "      <td>0</td>\n",
       "    </tr>\n",
       "  </tbody>\n",
       "</table>\n",
       "<p>3 rows × 44 columns</p>\n",
       "</div>"
      ],
      "text/plain": [
       "   date_block_num  item_id  shop_id  shop_item_cnt  diff  shop_cnt  item_cnt  \\\n",
       "0              12        0        0            0.0   0.0       0.0       0.0   \n",
       "1              13        0        0            0.0   0.0       0.0       0.0   \n",
       "2              14        0        0            0.0   0.0       0.0       0.0   \n",
       "\n",
       "   item_category_id  cat_cnt  cat_cnt_lag_1 ...   m3  m4  m5  m6  m7  m8  m9  \\\n",
       "0                40  -6536.0         3162.0 ...    0   0   0   0   0   0   0   \n",
       "1                40  -3597.0        -6536.0 ...    0   0   0   0   0   0   0   \n",
       "2                40   2796.0        -3597.0 ...    1   0   0   0   0   0   0   \n",
       "\n",
       "   m10  m11  m12  \n",
       "0    0    0    0  \n",
       "1    0    0    0  \n",
       "2    0    0    0  \n",
       "\n",
       "[3 rows x 44 columns]"
      ]
     },
     "execution_count": 51,
     "metadata": {},
     "output_type": "execute_result"
    }
   ],
   "source": [
    "monthly_sales_all[:3]"
   ]
  },
  {
   "cell_type": "code",
   "execution_count": 81,
   "metadata": {},
   "outputs": [
    {
     "data": {
      "text/html": [
       "<div>\n",
       "<style scoped>\n",
       "    .dataframe tbody tr th:only-of-type {\n",
       "        vertical-align: middle;\n",
       "    }\n",
       "\n",
       "    .dataframe tbody tr th {\n",
       "        vertical-align: top;\n",
       "    }\n",
       "\n",
       "    .dataframe thead th {\n",
       "        text-align: right;\n",
       "    }\n",
       "</style>\n",
       "<table border=\"1\" class=\"dataframe\">\n",
       "  <thead>\n",
       "    <tr style=\"text-align: right;\">\n",
       "      <th></th>\n",
       "      <th>shop_id</th>\n",
       "      <th>item_id</th>\n",
       "      <th>shop_item_cnt</th>\n",
       "      <th>shop_item_cnt_lag_1</th>\n",
       "      <th>diff</th>\n",
       "      <th>diff_lag_1</th>\n",
       "      <th>item_cnt_lag_1</th>\n",
       "      <th>shop_cnt_lag_1</th>\n",
       "      <th>cat_cnt_lag_1</th>\n",
       "      <th>diff_lag_2</th>\n",
       "      <th>...</th>\n",
       "      <th>m3</th>\n",
       "      <th>m4</th>\n",
       "      <th>m5</th>\n",
       "      <th>m6</th>\n",
       "      <th>m7</th>\n",
       "      <th>m8</th>\n",
       "      <th>m9</th>\n",
       "      <th>m10</th>\n",
       "      <th>m11</th>\n",
       "      <th>m12</th>\n",
       "    </tr>\n",
       "  </thead>\n",
       "  <tbody>\n",
       "    <tr>\n",
       "      <th>20</th>\n",
       "      <td>0</td>\n",
       "      <td>0</td>\n",
       "      <td>0.0</td>\n",
       "      <td>NaN</td>\n",
       "      <td>0.0</td>\n",
       "      <td>0.0</td>\n",
       "      <td>0.0</td>\n",
       "      <td>0.0</td>\n",
       "      <td>-766.0</td>\n",
       "      <td>0.0</td>\n",
       "      <td>...</td>\n",
       "      <td>0</td>\n",
       "      <td>0</td>\n",
       "      <td>0</td>\n",
       "      <td>0</td>\n",
       "      <td>0</td>\n",
       "      <td>0</td>\n",
       "      <td>1</td>\n",
       "      <td>0</td>\n",
       "      <td>0</td>\n",
       "      <td>0</td>\n",
       "    </tr>\n",
       "    <tr>\n",
       "      <th>42</th>\n",
       "      <td>0</td>\n",
       "      <td>1</td>\n",
       "      <td>0.0</td>\n",
       "      <td>NaN</td>\n",
       "      <td>0.0</td>\n",
       "      <td>0.0</td>\n",
       "      <td>0.0</td>\n",
       "      <td>0.0</td>\n",
       "      <td>-16.0</td>\n",
       "      <td>0.0</td>\n",
       "      <td>...</td>\n",
       "      <td>0</td>\n",
       "      <td>0</td>\n",
       "      <td>0</td>\n",
       "      <td>0</td>\n",
       "      <td>0</td>\n",
       "      <td>0</td>\n",
       "      <td>1</td>\n",
       "      <td>0</td>\n",
       "      <td>0</td>\n",
       "      <td>0</td>\n",
       "    </tr>\n",
       "    <tr>\n",
       "      <th>64</th>\n",
       "      <td>0</td>\n",
       "      <td>2</td>\n",
       "      <td>0.0</td>\n",
       "      <td>NaN</td>\n",
       "      <td>0.0</td>\n",
       "      <td>0.0</td>\n",
       "      <td>0.0</td>\n",
       "      <td>0.0</td>\n",
       "      <td>-766.0</td>\n",
       "      <td>0.0</td>\n",
       "      <td>...</td>\n",
       "      <td>0</td>\n",
       "      <td>0</td>\n",
       "      <td>0</td>\n",
       "      <td>0</td>\n",
       "      <td>0</td>\n",
       "      <td>0</td>\n",
       "      <td>1</td>\n",
       "      <td>0</td>\n",
       "      <td>0</td>\n",
       "      <td>0</td>\n",
       "    </tr>\n",
       "  </tbody>\n",
       "</table>\n",
       "<p>3 rows × 40 columns</p>\n",
       "</div>"
      ],
      "text/plain": [
       "    shop_id  item_id  shop_item_cnt  shop_item_cnt_lag_1  diff  diff_lag_1  \\\n",
       "20        0        0            0.0                  NaN   0.0         0.0   \n",
       "42        0        1            0.0                  NaN   0.0         0.0   \n",
       "64        0        2            0.0                  NaN   0.0         0.0   \n",
       "\n",
       "    item_cnt_lag_1  shop_cnt_lag_1  cat_cnt_lag_1  diff_lag_2 ...   m3  m4  \\\n",
       "20             0.0             0.0         -766.0         0.0 ...    0   0   \n",
       "42             0.0             0.0          -16.0         0.0 ...    0   0   \n",
       "64             0.0             0.0         -766.0         0.0 ...    0   0   \n",
       "\n",
       "    m5  m6  m7  m8  m9  m10  m11  m12  \n",
       "20   0   0   0   0   1    0    0    0  \n",
       "42   0   0   0   0   1    0    0    0  \n",
       "64   0   0   0   0   1    0    0    0  \n",
       "\n",
       "[3 rows x 40 columns]"
      ]
     },
     "execution_count": 81,
     "metadata": {},
     "output_type": "execute_result"
    }
   ],
   "source": [
    "hold_out_df = monthly_sales_all.loc[monthly_sales_all.date_block_num == hold_out_month,\n",
    "                            ['shop_id','item_id','shop_item_cnt','shop_item_cnt_lag_1','diff']+feats]\n",
    "val = monthly_sales_all.loc[monthly_sales_all.date_block_num == val_month,\n",
    "                            ['shop_id','item_id','shop_item_cnt','shop_item_cnt_lag_1','diff']+feats]\n",
    "val[:3]"
   ]
  },
  {
   "cell_type": "markdown",
   "metadata": {},
   "source": [
    "#### Benchmark - on val and hold-out"
   ]
  },
  {
   "cell_type": "code",
   "execution_count": 54,
   "metadata": {},
   "outputs": [
    {
     "name": "stdout",
     "output_type": "stream",
     "text": [
      "Hold out BC (month 33):\n",
      "14.068433535527497\n"
     ]
    }
   ],
   "source": [
    "print('Hold out BC (month 33):')\n",
    "print(rmse_clip(y_true = hold_out_df.loc[hold_out_df.shop_item_cnt>0,'shop_item_cnt'],y_pred = hold_out_df.loc[hold_out_df.shop_item_cnt>0,'shop_item_cnt_lag_1']))"
   ]
  },
  {
   "cell_type": "code",
   "execution_count": 39,
   "metadata": {},
   "outputs": [
    {
     "name": "stdout",
     "output_type": "stream",
     "text": [
      "Val BC (month 32)\n",
      "18.07412546239703\n"
     ]
    }
   ],
   "source": [
    "print('Val BC (month 32)')\n",
    "print(rmse_clip(y_true = val.loc[val.shop_item_cnt>0,'shop_item_cnt'],y_pred = val.loc[val.shop_item_cnt>0,'diff']))"
   ]
  },
  {
   "cell_type": "markdown",
   "metadata": {},
   "source": [
    "#### Model"
   ]
  },
  {
   "cell_type": "code",
   "execution_count": 61,
   "metadata": {},
   "outputs": [
    {
     "data": {
      "text/plain": [
       "Index(['date_block_num', 'item_id', 'shop_id', 'diff', 'shop_cnt', 'item_cnt',\n",
       "       'item_category_id', 'cat_cnt', 'cat_cnt_lag_1', 'diff_lag_1',\n",
       "       'item_cnt_lag_1', 'shop_cnt_lag_1', 'cat_cnt_lag_2', 'diff_lag_2',\n",
       "       'item_cnt_lag_2', 'shop_cnt_lag_2', 'cat_cnt_lag_3', 'diff_lag_3',\n",
       "       'item_cnt_lag_3', 'shop_cnt_lag_3', 'cat_cnt_lag_4', 'diff_lag_4',\n",
       "       'item_cnt_lag_4', 'shop_cnt_lag_4', 'cat_cnt_lag_5', 'diff_lag_5',\n",
       "       'item_cnt_lag_5', 'shop_cnt_lag_5', 'cat_cnt_lag_12', 'diff_lag_12',\n",
       "       'item_cnt_lag_12', 'shop_cnt_lag_12', 'shop_item_cnt',\n",
       "       'shop_item_cnt_lag1', 'm2', 'm3', 'm4', 'm5', 'm6', 'm7', 'm8', 'm9',\n",
       "       'm10', 'm11', 'm12'],\n",
       "      dtype='object')"
      ]
     },
     "execution_count": 61,
     "metadata": {},
     "output_type": "execute_result"
    }
   ],
   "source": [
    "monthly_sales_all.columns"
   ]
  },
  {
   "cell_type": "code",
   "execution_count": 52,
   "metadata": {},
   "outputs": [],
   "source": [
    "feats = ['diff_lag_1',  'item_cnt_lag_1',  'shop_cnt_lag_1', 'cat_cnt_lag_1',\n",
    "         'diff_lag_2',  'item_cnt_lag_2',  'shop_cnt_lag_2', 'cat_cnt_lag_2',\n",
    "         'diff_lag_3',  'item_cnt_lag_3',  'shop_cnt_lag_3', 'cat_cnt_lag_3',\n",
    "         'diff_lag_4',  'item_cnt_lag_4',  'shop_cnt_lag_4', 'cat_cnt_lag_4',\n",
    "         'diff_lag_5',  'item_cnt_lag_5',  'shop_cnt_lag_5', 'cat_cnt_lag_5',\n",
    "         'diff_lag_12', 'item_cnt_lag_12', 'shop_cnt_lag_12','cat_cnt_lag_12',\n",
    "#          'month'\n",
    "         'm2', 'm3', 'm4', 'm5', 'm6', 'm7', 'm8', 'm9', 'm10', 'm11', 'm12'\n",
    "        ]"
   ]
  },
  {
   "cell_type": "code",
   "execution_count": 53,
   "metadata": {
    "scrolled": true
   },
   "outputs": [
    {
     "data": {
      "text/html": [
       "<div>\n",
       "<style scoped>\n",
       "    .dataframe tbody tr th:only-of-type {\n",
       "        vertical-align: middle;\n",
       "    }\n",
       "\n",
       "    .dataframe tbody tr th {\n",
       "        vertical-align: top;\n",
       "    }\n",
       "\n",
       "    .dataframe thead th {\n",
       "        text-align: right;\n",
       "    }\n",
       "</style>\n",
       "<table border=\"1\" class=\"dataframe\">\n",
       "  <thead>\n",
       "    <tr style=\"text-align: right;\">\n",
       "      <th></th>\n",
       "      <th>shop_id</th>\n",
       "      <th>item_id</th>\n",
       "      <th>shop_item_cnt</th>\n",
       "      <th>diff</th>\n",
       "      <th>shop_item_cnt_lag1</th>\n",
       "      <th>diff_lag_1</th>\n",
       "      <th>item_cnt_lag_1</th>\n",
       "      <th>shop_cnt_lag_1</th>\n",
       "      <th>cat_cnt_lag_1</th>\n",
       "      <th>diff_lag_2</th>\n",
       "      <th>...</th>\n",
       "      <th>m3</th>\n",
       "      <th>m4</th>\n",
       "      <th>m5</th>\n",
       "      <th>m6</th>\n",
       "      <th>m7</th>\n",
       "      <th>m8</th>\n",
       "      <th>m9</th>\n",
       "      <th>m10</th>\n",
       "      <th>m11</th>\n",
       "      <th>m12</th>\n",
       "    </tr>\n",
       "  </thead>\n",
       "  <tbody>\n",
       "    <tr>\n",
       "      <th>20</th>\n",
       "      <td>0</td>\n",
       "      <td>0</td>\n",
       "      <td>0.0</td>\n",
       "      <td>0.0</td>\n",
       "      <td>0.0</td>\n",
       "      <td>0.0</td>\n",
       "      <td>0.0</td>\n",
       "      <td>0.0</td>\n",
       "      <td>6.708333</td>\n",
       "      <td>0.0</td>\n",
       "      <td>...</td>\n",
       "      <td>0</td>\n",
       "      <td>0</td>\n",
       "      <td>0</td>\n",
       "      <td>0</td>\n",
       "      <td>0</td>\n",
       "      <td>0</td>\n",
       "      <td>1</td>\n",
       "      <td>0</td>\n",
       "      <td>0</td>\n",
       "      <td>0</td>\n",
       "    </tr>\n",
       "    <tr>\n",
       "      <th>42</th>\n",
       "      <td>0</td>\n",
       "      <td>1</td>\n",
       "      <td>0.0</td>\n",
       "      <td>0.0</td>\n",
       "      <td>0.0</td>\n",
       "      <td>0.0</td>\n",
       "      <td>0.0</td>\n",
       "      <td>0.0</td>\n",
       "      <td>-16.000000</td>\n",
       "      <td>0.0</td>\n",
       "      <td>...</td>\n",
       "      <td>0</td>\n",
       "      <td>0</td>\n",
       "      <td>0</td>\n",
       "      <td>0</td>\n",
       "      <td>0</td>\n",
       "      <td>0</td>\n",
       "      <td>1</td>\n",
       "      <td>0</td>\n",
       "      <td>0</td>\n",
       "      <td>0</td>\n",
       "    </tr>\n",
       "    <tr>\n",
       "      <th>64</th>\n",
       "      <td>0</td>\n",
       "      <td>2</td>\n",
       "      <td>0.0</td>\n",
       "      <td>0.0</td>\n",
       "      <td>0.0</td>\n",
       "      <td>0.0</td>\n",
       "      <td>0.0</td>\n",
       "      <td>0.0</td>\n",
       "      <td>-44.750004</td>\n",
       "      <td>0.0</td>\n",
       "      <td>...</td>\n",
       "      <td>0</td>\n",
       "      <td>0</td>\n",
       "      <td>0</td>\n",
       "      <td>0</td>\n",
       "      <td>0</td>\n",
       "      <td>0</td>\n",
       "      <td>1</td>\n",
       "      <td>0</td>\n",
       "      <td>0</td>\n",
       "      <td>0</td>\n",
       "    </tr>\n",
       "  </tbody>\n",
       "</table>\n",
       "<p>3 rows × 40 columns</p>\n",
       "</div>"
      ],
      "text/plain": [
       "    shop_id  item_id  shop_item_cnt  diff  shop_item_cnt_lag1  diff_lag_1  \\\n",
       "20        0        0            0.0   0.0                 0.0         0.0   \n",
       "42        0        1            0.0   0.0                 0.0         0.0   \n",
       "64        0        2            0.0   0.0                 0.0         0.0   \n",
       "\n",
       "    item_cnt_lag_1  shop_cnt_lag_1  cat_cnt_lag_1  diff_lag_2 ...   m3  m4  \\\n",
       "20             0.0             0.0       6.708333         0.0 ...    0   0   \n",
       "42             0.0             0.0     -16.000000         0.0 ...    0   0   \n",
       "64             0.0             0.0     -44.750004         0.0 ...    0   0   \n",
       "\n",
       "    m5  m6  m7  m8  m9  m10  m11  m12  \n",
       "20   0   0   0   0   1    0    0    0  \n",
       "42   0   0   0   0   1    0    0    0  \n",
       "64   0   0   0   0   1    0    0    0  \n",
       "\n",
       "[3 rows x 40 columns]"
      ]
     },
     "execution_count": 53,
     "metadata": {},
     "output_type": "execute_result"
    }
   ],
   "source": [
    "hold_out_df = monthly_sales_all.loc[monthly_sales_all.date_block_num == hold_out_month,\n",
    "                            ['shop_id','item_id','shop_item_cnt','diff','shop_item_cnt_lag1']+feats]\n",
    "val = monthly_sales_all.loc[monthly_sales_all.date_block_num == val_month,\n",
    "                            ['shop_id','item_id','shop_item_cnt','diff','shop_item_cnt_lag1']+feats]\n",
    "val[:3]"
   ]
  },
  {
   "cell_type": "code",
   "execution_count": 54,
   "metadata": {},
   "outputs": [
    {
     "data": {
      "text/plain": [
       "303"
      ]
     },
     "execution_count": 54,
     "metadata": {},
     "output_type": "execute_result"
    }
   ],
   "source": [
    "gc.collect()"
   ]
  },
  {
   "cell_type": "code",
   "execution_count": 55,
   "metadata": {},
   "outputs": [],
   "source": [
    "X_train = monthly_sales_all.loc[monthly_sales_all.date_block_num<val_month,feats]\n",
    "y_train = monthly_sales_all.loc[monthly_sales_all.date_block_num<val_month,'diff']"
   ]
  },
  {
   "cell_type": "code",
   "execution_count": 56,
   "metadata": {},
   "outputs": [
    {
     "data": {
      "text/plain": [
       "7"
      ]
     },
     "execution_count": 56,
     "metadata": {},
     "output_type": "execute_result"
    }
   ],
   "source": [
    "del monthly_sales_all\n",
    "gc.collect()"
   ]
  },
  {
   "cell_type": "code",
   "execution_count": 57,
   "metadata": {},
   "outputs": [
    {
     "name": "stdout",
     "output_type": "stream",
     "text": [
      "Wall time: 1min 39s\n"
     ]
    }
   ],
   "source": [
    "%%time\n",
    "corr = X_train.corr()"
   ]
  },
  {
   "cell_type": "code",
   "execution_count": 58,
   "metadata": {
    "scrolled": false
   },
   "outputs": [
    {
     "data": {
      "text/plain": [
       "<matplotlib.axes._subplots.AxesSubplot at 0x140058f4b70>"
      ]
     },
     "execution_count": 58,
     "metadata": {},
     "output_type": "execute_result"
    },
    {
     "data": {
      "image/png": "[encoded data removed]",
      "text/plain": [
       "<Figure size 1440x720 with 2 Axes>"
      ]
     },
     "metadata": {
      "needs_background": "light"
     },
     "output_type": "display_data"
    }
   ],
   "source": [
    "plt.figure(figsize=(20,10))\n",
    "sns.heatmap(corr)"
   ]
  },
  {
   "cell_type": "code",
   "execution_count": 59,
   "metadata": {},
   "outputs": [],
   "source": [
    "lm = LinearRegression()"
   ]
  },
  {
   "cell_type": "code",
   "execution_count": 61,
   "metadata": {},
   "outputs": [
    {
     "data": {
      "text/plain": [
       "LinearRegression(copy_X=True, fit_intercept=True, n_jobs=1, normalize=False)"
      ]
     },
     "execution_count": 61,
     "metadata": {},
     "output_type": "execute_result"
    }
   ],
   "source": [
    "lm.fit(X_train,y_train)"
   ]
  },
  {
   "cell_type": "code",
   "execution_count": 62,
   "metadata": {},
   "outputs": [],
   "source": [
    "pred_lm = lm.predict(val[feats])"
   ]
  },
  {
   "cell_type": "code",
   "execution_count": 63,
   "metadata": {},
   "outputs": [
    {
     "data": {
      "text/plain": [
       "18.140688926459283"
      ]
     },
     "execution_count": 63,
     "metadata": {},
     "output_type": "execute_result"
    }
   ],
   "source": [
    "rmse_clip(y_true = val.loc[val.shop_item_cnt>0,'shop_item_cnt'],\n",
    "          y_pred = pred_lm[val.shop_item_cnt>0]+ val.loc[val.shop_item_cnt>0,'shop_item_cnt_lag1'])"
   ]
  },
  {
   "cell_type": "code",
   "execution_count": 64,
   "metadata": {},
   "outputs": [
    {
     "data": {
      "text/plain": [
       "208"
      ]
     },
     "execution_count": 64,
     "metadata": {},
     "output_type": "execute_result"
    }
   ],
   "source": [
    "gc.collect()"
   ]
  },
  {
   "cell_type": "markdown",
   "metadata": {},
   "source": [
    "##### LGB"
   ]
  },
  {
   "cell_type": "code",
   "execution_count": 79,
   "metadata": {},
   "outputs": [
    {
     "name": "stdout",
     "output_type": "stream",
     "text": [
      "Wall time: 4.19 s\n"
     ]
    }
   ],
   "source": [
    "%%time\n",
    "monthly_sales_all = pd.read_hdf(r'../data2/monthly_diff_all_shop_item_w_lag.h5','monthly_sales_all')"
   ]
  },
  {
   "cell_type": "code",
   "execution_count": 74,
   "metadata": {},
   "outputs": [],
   "source": [
    "monthly_sales_all = monthly_sales_all[(monthly_sales_all.date_block_num>=12) & (monthly_sales_all.date_block_num<34)]"
   ]
  },
  {
   "cell_type": "code",
   "execution_count": 75,
   "metadata": {},
   "outputs": [],
   "source": [
    "feats = ['diff_lag_1',  'item_cnt_lag_1',  'shop_cnt_lag_1', 'cat_cnt_lag_1',\n",
    "         'diff_lag_2',  'item_cnt_lag_2',  'shop_cnt_lag_2', 'cat_cnt_lag_2',\n",
    "         'diff_lag_3',  'item_cnt_lag_3',  'shop_cnt_lag_3', 'cat_cnt_lag_3',\n",
    "         'diff_lag_4',  'item_cnt_lag_4',  'shop_cnt_lag_4', 'cat_cnt_lag_4',\n",
    "         'diff_lag_5',  'item_cnt_lag_5',  'shop_cnt_lag_5', 'cat_cnt_lag_5',\n",
    "         'diff_lag_12', 'item_cnt_lag_12', 'shop_cnt_lag_12','cat_cnt_lag_12',\n",
    "         'month'\n",
    "#          'm2', 'm3', 'm4', 'm5', 'm6', 'm7', 'm8', 'm9', 'm10', 'm11', 'm12'\n",
    "        ]"
   ]
  },
  {
   "cell_type": "code",
   "execution_count": 80,
   "metadata": {
    "scrolled": true
   },
   "outputs": [
    {
     "data": {
      "text/html": [
       "<div>\n",
       "<style scoped>\n",
       "    .dataframe tbody tr th:only-of-type {\n",
       "        vertical-align: middle;\n",
       "    }\n",
       "\n",
       "    .dataframe tbody tr th {\n",
       "        vertical-align: top;\n",
       "    }\n",
       "\n",
       "    .dataframe thead th {\n",
       "        text-align: right;\n",
       "    }\n",
       "</style>\n",
       "<table border=\"1\" class=\"dataframe\">\n",
       "  <thead>\n",
       "    <tr style=\"text-align: right;\">\n",
       "      <th></th>\n",
       "      <th>shop_id</th>\n",
       "      <th>item_id</th>\n",
       "      <th>shop_item_cnt</th>\n",
       "      <th>diff</th>\n",
       "      <th>shop_item_cnt_lag1</th>\n",
       "      <th>diff_lag_1</th>\n",
       "      <th>item_cnt_lag_1</th>\n",
       "      <th>shop_cnt_lag_1</th>\n",
       "      <th>cat_cnt_lag_1</th>\n",
       "      <th>diff_lag_2</th>\n",
       "      <th>...</th>\n",
       "      <th>cat_cnt_lag_4</th>\n",
       "      <th>diff_lag_5</th>\n",
       "      <th>item_cnt_lag_5</th>\n",
       "      <th>shop_cnt_lag_5</th>\n",
       "      <th>cat_cnt_lag_5</th>\n",
       "      <th>diff_lag_12</th>\n",
       "      <th>item_cnt_lag_12</th>\n",
       "      <th>shop_cnt_lag_12</th>\n",
       "      <th>cat_cnt_lag_12</th>\n",
       "      <th>month</th>\n",
       "    </tr>\n",
       "  </thead>\n",
       "  <tbody>\n",
       "    <tr>\n",
       "      <th>31</th>\n",
       "      <td>0</td>\n",
       "      <td>0</td>\n",
       "      <td>0.0</td>\n",
       "      <td>0.0</td>\n",
       "      <td>0.0</td>\n",
       "      <td>0.0</td>\n",
       "      <td>0.0</td>\n",
       "      <td>0.0</td>\n",
       "      <td>6.708333</td>\n",
       "      <td>0.0</td>\n",
       "      <td>...</td>\n",
       "      <td>-30.770832</td>\n",
       "      <td>0.0</td>\n",
       "      <td>0.0</td>\n",
       "      <td>0.0</td>\n",
       "      <td>-150.583328</td>\n",
       "      <td>0.0</td>\n",
       "      <td>1.0</td>\n",
       "      <td>0.0</td>\n",
       "      <td>-70.187492</td>\n",
       "      <td>9</td>\n",
       "    </tr>\n",
       "    <tr>\n",
       "      <th>65</th>\n",
       "      <td>0</td>\n",
       "      <td>1</td>\n",
       "      <td>0.0</td>\n",
       "      <td>0.0</td>\n",
       "      <td>0.0</td>\n",
       "      <td>0.0</td>\n",
       "      <td>0.0</td>\n",
       "      <td>0.0</td>\n",
       "      <td>-16.000000</td>\n",
       "      <td>0.0</td>\n",
       "      <td>...</td>\n",
       "      <td>-54.000000</td>\n",
       "      <td>0.0</td>\n",
       "      <td>0.0</td>\n",
       "      <td>0.0</td>\n",
       "      <td>-5.000000</td>\n",
       "      <td>0.0</td>\n",
       "      <td>0.0</td>\n",
       "      <td>0.0</td>\n",
       "      <td>13.000000</td>\n",
       "      <td>9</td>\n",
       "    </tr>\n",
       "    <tr>\n",
       "      <th>99</th>\n",
       "      <td>0</td>\n",
       "      <td>2</td>\n",
       "      <td>0.0</td>\n",
       "      <td>0.0</td>\n",
       "      <td>0.0</td>\n",
       "      <td>0.0</td>\n",
       "      <td>0.0</td>\n",
       "      <td>0.0</td>\n",
       "      <td>-44.750004</td>\n",
       "      <td>0.0</td>\n",
       "      <td>...</td>\n",
       "      <td>0.250000</td>\n",
       "      <td>0.0</td>\n",
       "      <td>0.0</td>\n",
       "      <td>0.0</td>\n",
       "      <td>-61.458336</td>\n",
       "      <td>0.0</td>\n",
       "      <td>-1.0</td>\n",
       "      <td>0.0</td>\n",
       "      <td>-81.750000</td>\n",
       "      <td>9</td>\n",
       "    </tr>\n",
       "  </tbody>\n",
       "</table>\n",
       "<p>3 rows × 30 columns</p>\n",
       "</div>"
      ],
      "text/plain": [
       "    shop_id  item_id  shop_item_cnt  diff  shop_item_cnt_lag1  diff_lag_1  \\\n",
       "31        0        0            0.0   0.0                 0.0         0.0   \n",
       "65        0        1            0.0   0.0                 0.0         0.0   \n",
       "99        0        2            0.0   0.0                 0.0         0.0   \n",
       "\n",
       "    item_cnt_lag_1  shop_cnt_lag_1  cat_cnt_lag_1  diff_lag_2  ...    \\\n",
       "31             0.0             0.0       6.708333         0.0  ...     \n",
       "65             0.0             0.0     -16.000000         0.0  ...     \n",
       "99             0.0             0.0     -44.750004         0.0  ...     \n",
       "\n",
       "    cat_cnt_lag_4  diff_lag_5  item_cnt_lag_5  shop_cnt_lag_5  cat_cnt_lag_5  \\\n",
       "31     -30.770832         0.0             0.0             0.0    -150.583328   \n",
       "65     -54.000000         0.0             0.0             0.0      -5.000000   \n",
       "99       0.250000         0.0             0.0             0.0     -61.458336   \n",
       "\n",
       "    diff_lag_12  item_cnt_lag_12  shop_cnt_lag_12  cat_cnt_lag_12  month  \n",
       "31          0.0              1.0              0.0      -70.187492      9  \n",
       "65          0.0              0.0              0.0       13.000000      9  \n",
       "99          0.0             -1.0              0.0      -81.750000      9  \n",
       "\n",
       "[3 rows x 30 columns]"
      ]
     },
     "execution_count": 80,
     "metadata": {},
     "output_type": "execute_result"
    }
   ],
   "source": [
    "hold_out_df = monthly_sales_all.loc[monthly_sales_all.date_block_num == hold_out_month,\n",
    "                            ['shop_id','item_id','shop_item_cnt','diff','shop_item_cnt_lag1']+feats]\n",
    "val = monthly_sales_all.loc[monthly_sales_all.date_block_num == val_month,\n",
    "                            ['shop_id','item_id','shop_item_cnt','diff','shop_item_cnt_lag1']+feats]\n",
    "val[:3]"
   ]
  },
  {
   "cell_type": "code",
   "execution_count": 76,
   "metadata": {},
   "outputs": [],
   "source": [
    "X_train = monthly_sales_all.loc[monthly_sales_all.date_block_num<val_month,feats]\n",
    "y_train = monthly_sales_all.loc[monthly_sales_all.date_block_num<val_month,'diff']"
   ]
  },
  {
   "cell_type": "code",
   "execution_count": 77,
   "metadata": {},
   "outputs": [
    {
     "data": {
      "text/plain": [
       "82"
      ]
     },
     "execution_count": 77,
     "metadata": {},
     "output_type": "execute_result"
    }
   ],
   "source": [
    "del monthly_sales_all\n",
    "gc.collect()"
   ]
  },
  {
   "cell_type": "code",
   "execution_count": 81,
   "metadata": {},
   "outputs": [
    {
     "name": "stdout",
     "output_type": "stream",
     "text": [
      "Wall time: 1min 53s\n"
     ]
    }
   ],
   "source": [
    "%%time\n",
    "lgb_params = {\n",
    "               'feature_fraction': 0.75,\n",
    "               'metric': 'rmse',\n",
    "               'nthread':7, \n",
    "               'min_data_in_leaf': 2**7, \n",
    "               'bagging_fraction': 0.75, \n",
    "               'learning_rate': 0.03, \n",
    "               'objective': 'mse', \n",
    "               'bagging_seed': 2**7, \n",
    "               'num_leaves': 2**7,\n",
    "               'bagging_freq':1,\n",
    "               'verbose':0 \n",
    "              }\n",
    "\n",
    "model = lgb.train(lgb_params, lgb.Dataset(X_train, label=y_train), 100)"
   ]
  },
  {
   "cell_type": "code",
   "execution_count": 82,
   "metadata": {},
   "outputs": [
    {
     "name": "stdout",
     "output_type": "stream",
     "text": [
      "Val (32): 18.10268846314692\n"
     ]
    }
   ],
   "source": [
    "pred_lgb = model.predict(val[feats])\n",
    "print(\"Val (32):\",\n",
    "      rmse_clip(y_true = val.loc[val.shop_item_cnt>0,'shop_item_cnt'],\n",
    "                y_pred = pred_lgb[val.shop_item_cnt>0] + val.loc[val.shop_item_cnt>0,'shop_item_cnt_lag1']))"
   ]
  },
  {
   "cell_type": "code",
   "execution_count": 83,
   "metadata": {},
   "outputs": [
    {
     "name": "stdout",
     "output_type": "stream",
     "text": [
      "Val (32): 2.0313532785726696\n"
     ]
    }
   ],
   "source": [
    "print(\"Val (32):\",\n",
    "      rmse_clip(y_true = val.loc[(val.shop_item_cnt>0) & (val.shop_item_cnt<20),'shop_item_cnt'],\n",
    "                y_pred = pred_lgb[(val.shop_item_cnt>0) & (val.shop_item_cnt<20)] + val.loc[(val.shop_item_cnt>0) & (val.shop_item_cnt<20),'shop_item_cnt_lag1']))"
   ]
  },
  {
   "cell_type": "code",
   "execution_count": 84,
   "metadata": {},
   "outputs": [
    {
     "data": {
      "text/plain": [
       "<matplotlib.axes._subplots.AxesSubplot at 0x1400fc68b70>"
      ]
     },
     "execution_count": 84,
     "metadata": {},
     "output_type": "execute_result"
    },
    {
     "data": {
      "image/png": "[encoded data removed]",
      "text/plain": [
       "<Figure size 1440x1440 with 1 Axes>"
      ]
     },
     "metadata": {
      "needs_background": "light"
     },
     "output_type": "display_data"
    }
   ],
   "source": [
    "lgb.plot_importance(model, figsize=(20,20))"
   ]
  },
  {
   "cell_type": "code",
   "execution_count": null,
   "metadata": {},
   "outputs": [],
   "source": []
  },
  {
   "cell_type": "code",
   "execution_count": 85,
   "metadata": {
    "scrolled": true
   },
   "outputs": [
    {
     "data": {
      "text/plain": [
       "<matplotlib.collections.PathCollection at 0x1400fde0240>"
      ]
     },
     "execution_count": 85,
     "metadata": {},
     "output_type": "execute_result"
    },
    {
     "data": {
      "image/png": "[encoded data removed]",
      "text/plain": [
       "<Figure size 432x288 with 1 Axes>"
      ]
     },
     "metadata": {
      "needs_background": "light"
     },
     "output_type": "display_data"
    }
   ],
   "source": [
    "plt.scatter(pred_lgb[val.shop_item_cnt>0],pred_lm[val.shop_item_cnt>0])"
   ]
  },
  {
   "cell_type": "code",
   "execution_count": 55,
   "metadata": {},
   "outputs": [
    {
     "data": {
      "text/plain": [
       "([<matplotlib.axis.XTick at 0x221021380f0>,\n",
       "  <matplotlib.axis.XTick at 0x221021cbeb8>,\n",
       "  <matplotlib.axis.XTick at 0x221021c4b38>,\n",
       "  <matplotlib.axis.XTick at 0x22102238390>,\n",
       "  <matplotlib.axis.XTick at 0x221022389e8>,\n",
       "  <matplotlib.axis.XTick at 0x2210223d080>,\n",
       "  <matplotlib.axis.XTick at 0x2210223d710>,\n",
       "  <matplotlib.axis.XTick at 0x2210223dda0>,\n",
       "  <matplotlib.axis.XTick at 0x22102244470>,\n",
       "  <matplotlib.axis.XTick at 0x22102244b00>,\n",
       "  <matplotlib.axis.XTick at 0x2210224a1d0>,\n",
       "  <matplotlib.axis.XTick at 0x2210224a860>,\n",
       "  <matplotlib.axis.XTick at 0x2210224aef0>,\n",
       "  <matplotlib.axis.XTick at 0x2210224f5c0>,\n",
       "  <matplotlib.axis.XTick at 0x2210224fc50>,\n",
       "  <matplotlib.axis.XTick at 0x22102256320>,\n",
       "  <matplotlib.axis.XTick at 0x221022569b0>,\n",
       "  <matplotlib.axis.XTick at 0x2210225c080>,\n",
       "  <matplotlib.axis.XTick at 0x2210225c710>,\n",
       "  <matplotlib.axis.XTick at 0x2210225cda0>,\n",
       "  <matplotlib.axis.XTick at 0x22102263470>,\n",
       "  <matplotlib.axis.XTick at 0x22102263b00>,\n",
       "  <matplotlib.axis.XTick at 0x2210226a1d0>,\n",
       "  <matplotlib.axis.XTick at 0x2210226a860>,\n",
       "  <matplotlib.axis.XTick at 0x2210226aef0>,\n",
       "  <matplotlib.axis.XTick at 0x2210226e5c0>,\n",
       "  <matplotlib.axis.XTick at 0x2210226ec50>,\n",
       "  <matplotlib.axis.XTick at 0x22102274320>,\n",
       "  <matplotlib.axis.XTick at 0x221022749b0>,\n",
       "  <matplotlib.axis.XTick at 0x2210227b080>,\n",
       "  <matplotlib.axis.XTick at 0x2210227b710>,\n",
       "  <matplotlib.axis.XTick at 0x2210227bda0>,\n",
       "  <matplotlib.axis.XTick at 0x22102284470>,\n",
       "  <matplotlib.axis.XTick at 0x22102284b00>,\n",
       "  <matplotlib.axis.XTick at 0x2210228b1d0>],\n",
       " <a list of 35 Text xticklabel objects>)"
      ]
     },
     "execution_count": 55,
     "metadata": {},
     "output_type": "execute_result"
    },
    {
     "data": {
      "image/png": "[encoded data removed]",
      "text/plain": [
       "<matplotlib.figure.Figure at 0x22102dd29b0>"
      ]
     },
     "metadata": {},
     "output_type": "display_data"
    }
   ],
   "source": [
    "plt.figure(figsize=(20,5))\n",
    "ticks = list(range(len(lm.coef_)))\n",
    "plt.bar(ticks,height=lm.coef_)\n",
    "plt.xticks(ticks,feats,rotation=90)"
   ]
  },
  {
   "cell_type": "markdown",
   "metadata": {},
   "source": [
    "### Ok, why doesn't score improve???"
   ]
  },
  {
   "cell_type": "code",
   "execution_count": 57,
   "metadata": {},
   "outputs": [
    {
     "data": {
      "text/plain": [
       "(29652, 40)"
      ]
     },
     "execution_count": 57,
     "metadata": {},
     "output_type": "execute_result"
    }
   ],
   "source": [
    "val['lm_pred'] = pred_lm\n",
    "val['lgb_pred'] = pred_lgb\n",
    "val2 = val[val.shop_item_cnt>0]\n",
    "val2.shape"
   ]
  },
  {
   "cell_type": "code",
   "execution_count": 58,
   "metadata": {},
   "outputs": [
    {
     "data": {
      "text/plain": [
       "<matplotlib.axes._subplots.AxesSubplot at 0x22102e29e48>"
      ]
     },
     "execution_count": 58,
     "metadata": {},
     "output_type": "execute_result"
    },
    {
     "data": {
      "text/plain": [
       "<matplotlib.figure.Figure at 0x22102133f60>"
      ]
     },
     "metadata": {},
     "output_type": "display_data"
    },
    {
     "data": {
      "image/png": "[encoded data removed]",
      "text/plain": [
       "<matplotlib.figure.Figure at 0x22102d9c550>"
      ]
     },
     "metadata": {},
     "output_type": "display_data"
    }
   ],
   "source": [
    "plt.figure(figsize=(20,5))\n",
    "val2[['shop_item_cnt','shop_item_cnt_lag_1','lm_pred','lgb_pred']].plot()\n",
    "\n",
    "## Ok there seems to be Extremely high sales of in month 32"
   ]
  },
  {
   "cell_type": "code",
   "execution_count": 59,
   "metadata": {
    "scrolled": true
   },
   "outputs": [
    {
     "data": {
      "text/plain": [
       "<matplotlib.axes._subplots.AxesSubplot at 0x22102e2e5c0>"
      ]
     },
     "execution_count": 59,
     "metadata": {},
     "output_type": "execute_result"
    },
    {
     "data": {
      "image/png": "[encoded data removed]",
      "text/plain": [
       "<matplotlib.figure.Figure at 0x22102e8a550>"
      ]
     },
     "metadata": {},
     "output_type": "display_data"
    }
   ],
   "source": [
    "val2.loc[val2.shop_item_cnt<20,['shop_item_cnt','shop_item_cnt_lag_1','lm_pred','lgb_pred']].plot()"
   ]
  },
  {
   "cell_type": "code",
   "execution_count": 60,
   "metadata": {},
   "outputs": [
    {
     "name": "stdout",
     "output_type": "stream",
     "text": [
      "shop_item_cnt_lag_1 2.2048763591676313\n",
      "lm_pred 2.061136715617056\n",
      "lgb_pred 2.0084886509731676\n"
     ]
    }
   ],
   "source": [
    "for col in ['shop_item_cnt_lag_1','lm_pred','lgb_pred']:\n",
    "    print(col,rmse_clip(val2.loc[val2.shop_item_cnt<20,'shop_item_cnt'],val2.loc[val2.shop_item_cnt<20,col]))"
   ]
  },
  {
   "cell_type": "markdown",
   "metadata": {},
   "source": [
    "<strong>Not too bad for the normal range... \n",
    "\n",
    "Stacking will work;\n",
    "\n",
    "Since there is improvement, create a submission w only time-based features </strong>"
   ]
  },
  {
   "cell_type": "code",
   "execution_count": null,
   "metadata": {},
   "outputs": [],
   "source": []
  },
  {
   "cell_type": "markdown",
   "metadata": {},
   "source": [
    "### Create a new submission"
   ]
  },
  {
   "cell_type": "code",
   "execution_count": 92,
   "metadata": {},
   "outputs": [
    {
     "name": "stdout",
     "output_type": "stream",
     "text": [
      "Wall time: 7.4 s\n"
     ]
    }
   ],
   "source": [
    "%%time\n",
    "monthly_sales_all = pd.read_hdf(r'../data2/monthly_diff_all_shop_item_w_lag.h5','monthly_sales_all')"
   ]
  },
  {
   "cell_type": "code",
   "execution_count": 93,
   "metadata": {},
   "outputs": [],
   "source": [
    "monthly_sales_all = monthly_sales_all[(monthly_sales_all.date_block_num>=12) & (monthly_sales_all.date_block_num<34)]"
   ]
  },
  {
   "cell_type": "code",
   "execution_count": 94,
   "metadata": {},
   "outputs": [
    {
     "data": {
      "text/html": [
       "<div>\n",
       "<style scoped>\n",
       "    .dataframe tbody tr th:only-of-type {\n",
       "        vertical-align: middle;\n",
       "    }\n",
       "\n",
       "    .dataframe tbody tr th {\n",
       "        vertical-align: top;\n",
       "    }\n",
       "\n",
       "    .dataframe thead th {\n",
       "        text-align: right;\n",
       "    }\n",
       "</style>\n",
       "<table border=\"1\" class=\"dataframe\">\n",
       "  <thead>\n",
       "    <tr style=\"text-align: right;\">\n",
       "      <th></th>\n",
       "      <th>date_block_num</th>\n",
       "      <th>item_id</th>\n",
       "      <th>shop_id</th>\n",
       "      <th>diff</th>\n",
       "      <th>shop_cnt</th>\n",
       "      <th>item_cnt</th>\n",
       "      <th>cat_cnt</th>\n",
       "      <th>cat_cnt_lag_1</th>\n",
       "      <th>diff_lag_1</th>\n",
       "      <th>item_cnt_lag_1</th>\n",
       "      <th>...</th>\n",
       "      <th>m3</th>\n",
       "      <th>m4</th>\n",
       "      <th>m5</th>\n",
       "      <th>m6</th>\n",
       "      <th>m7</th>\n",
       "      <th>m8</th>\n",
       "      <th>m9</th>\n",
       "      <th>m10</th>\n",
       "      <th>m11</th>\n",
       "      <th>m12</th>\n",
       "    </tr>\n",
       "  </thead>\n",
       "  <tbody>\n",
       "    <tr>\n",
       "      <th>0</th>\n",
       "      <td>12</td>\n",
       "      <td>0</td>\n",
       "      <td>0</td>\n",
       "      <td>0.0</td>\n",
       "      <td>0.0</td>\n",
       "      <td>0.0</td>\n",
       "      <td>-129.145828</td>\n",
       "      <td>118.541672</td>\n",
       "      <td>0.0</td>\n",
       "      <td>0.0</td>\n",
       "      <td>...</td>\n",
       "      <td>0</td>\n",
       "      <td>0</td>\n",
       "      <td>0</td>\n",
       "      <td>0</td>\n",
       "      <td>0</td>\n",
       "      <td>0</td>\n",
       "      <td>0</td>\n",
       "      <td>0</td>\n",
       "      <td>0</td>\n",
       "      <td>0</td>\n",
       "    </tr>\n",
       "    <tr>\n",
       "      <th>1</th>\n",
       "      <td>13</td>\n",
       "      <td>0</td>\n",
       "      <td>0</td>\n",
       "      <td>0.0</td>\n",
       "      <td>0.0</td>\n",
       "      <td>0.0</td>\n",
       "      <td>-248.187500</td>\n",
       "      <td>-129.145828</td>\n",
       "      <td>0.0</td>\n",
       "      <td>0.0</td>\n",
       "      <td>...</td>\n",
       "      <td>0</td>\n",
       "      <td>0</td>\n",
       "      <td>0</td>\n",
       "      <td>0</td>\n",
       "      <td>0</td>\n",
       "      <td>0</td>\n",
       "      <td>0</td>\n",
       "      <td>0</td>\n",
       "      <td>0</td>\n",
       "      <td>0</td>\n",
       "    </tr>\n",
       "    <tr>\n",
       "      <th>2</th>\n",
       "      <td>14</td>\n",
       "      <td>0</td>\n",
       "      <td>0</td>\n",
       "      <td>0.0</td>\n",
       "      <td>0.0</td>\n",
       "      <td>0.0</td>\n",
       "      <td>-28.187494</td>\n",
       "      <td>-248.187500</td>\n",
       "      <td>0.0</td>\n",
       "      <td>0.0</td>\n",
       "      <td>...</td>\n",
       "      <td>1</td>\n",
       "      <td>0</td>\n",
       "      <td>0</td>\n",
       "      <td>0</td>\n",
       "      <td>0</td>\n",
       "      <td>0</td>\n",
       "      <td>0</td>\n",
       "      <td>0</td>\n",
       "      <td>0</td>\n",
       "      <td>0</td>\n",
       "    </tr>\n",
       "  </tbody>\n",
       "</table>\n",
       "<p>3 rows × 45 columns</p>\n",
       "</div>"
      ],
      "text/plain": [
       "   date_block_num  item_id  shop_id  diff  shop_cnt  item_cnt     cat_cnt  \\\n",
       "0              12        0        0   0.0       0.0       0.0 -129.145828   \n",
       "1              13        0        0   0.0       0.0       0.0 -248.187500   \n",
       "2              14        0        0   0.0       0.0       0.0  -28.187494   \n",
       "\n",
       "   cat_cnt_lag_1  diff_lag_1  item_cnt_lag_1 ...   m3  m4  m5  m6  m7  m8  m9  \\\n",
       "0     118.541672         0.0             0.0 ...    0   0   0   0   0   0   0   \n",
       "1    -129.145828         0.0             0.0 ...    0   0   0   0   0   0   0   \n",
       "2    -248.187500         0.0             0.0 ...    1   0   0   0   0   0   0   \n",
       "\n",
       "   m10  m11  m12  \n",
       "0    0    0    0  \n",
       "1    0    0    0  \n",
       "2    0    0    0  \n",
       "\n",
       "[3 rows x 45 columns]"
      ]
     },
     "execution_count": 94,
     "metadata": {},
     "output_type": "execute_result"
    }
   ],
   "source": [
    "monthly_sales_all = pd.merge(monthly_sales_all,m_onehot_df,how='left',on='month')#.drop(labels=['month'],axis=1)\n",
    "monthly_sales_all[:3]"
   ]
  },
  {
   "cell_type": "code",
   "execution_count": 95,
   "metadata": {},
   "outputs": [],
   "source": [
    "X_train = monthly_sales_all[feats]"
   ]
  },
  {
   "cell_type": "code",
   "execution_count": 96,
   "metadata": {},
   "outputs": [],
   "source": [
    "y_train = monthly_sales_all['diff']"
   ]
  },
  {
   "cell_type": "code",
   "execution_count": 97,
   "metadata": {},
   "outputs": [
    {
     "data": {
      "text/plain": [
       "307"
      ]
     },
     "execution_count": 97,
     "metadata": {},
     "output_type": "execute_result"
    }
   ],
   "source": [
    "del monthly_sales_all\n",
    "gc.collect()"
   ]
  },
  {
   "cell_type": "code",
   "execution_count": 98,
   "metadata": {},
   "outputs": [
    {
     "name": "stdout",
     "output_type": "stream",
     "text": [
      "Wall time: 2min 13s\n"
     ]
    }
   ],
   "source": [
    "%%time\n",
    "lgb_params = {\n",
    "               'feature_fraction': 0.75,\n",
    "               'metric': 'rmse',\n",
    "               'nthread':7, \n",
    "               'min_data_in_leaf': 2**7, \n",
    "               'bagging_fraction': 0.75, \n",
    "               'learning_rate': 0.03, \n",
    "               'objective': 'mse', \n",
    "               'bagging_seed': 2**7, \n",
    "               'num_leaves': 2**7,\n",
    "               'bagging_freq':1,\n",
    "               'verbose':0 \n",
    "              }\n",
    "\n",
    "model = lgb.train(lgb_params, lgb.Dataset(X_train, label=y_train), 100)"
   ]
  },
  {
   "cell_type": "code",
   "execution_count": 99,
   "metadata": {},
   "outputs": [
    {
     "data": {
      "text/plain": [
       "<matplotlib.axes._subplots.AxesSubplot at 0x140708ca7b8>"
      ]
     },
     "execution_count": 99,
     "metadata": {},
     "output_type": "execute_result"
    },
    {
     "data": {
      "image/png": "[encoded data removed]",
      "text/plain": [
       "<Figure size 1440x1440 with 1 Axes>"
      ]
     },
     "metadata": {
      "needs_background": "light"
     },
     "output_type": "display_data"
    }
   ],
   "source": [
    "lgb.plot_importance(model,figsize=(20,20))"
   ]
  },
  {
   "cell_type": "markdown",
   "metadata": {},
   "source": [
    "#### Read in test data and get features"
   ]
  },
  {
   "cell_type": "code",
   "execution_count": 100,
   "metadata": {},
   "outputs": [
    {
     "data": {
      "text/html": [
       "<div>\n",
       "<style scoped>\n",
       "    .dataframe tbody tr th:only-of-type {\n",
       "        vertical-align: middle;\n",
       "    }\n",
       "\n",
       "    .dataframe tbody tr th {\n",
       "        vertical-align: top;\n",
       "    }\n",
       "\n",
       "    .dataframe thead th {\n",
       "        text-align: right;\n",
       "    }\n",
       "</style>\n",
       "<table border=\"1\" class=\"dataframe\">\n",
       "  <thead>\n",
       "    <tr style=\"text-align: right;\">\n",
       "      <th></th>\n",
       "      <th>ID</th>\n",
       "      <th>shop_id</th>\n",
       "      <th>item_id</th>\n",
       "    </tr>\n",
       "  </thead>\n",
       "  <tbody>\n",
       "    <tr>\n",
       "      <th>0</th>\n",
       "      <td>0</td>\n",
       "      <td>5</td>\n",
       "      <td>5037</td>\n",
       "    </tr>\n",
       "    <tr>\n",
       "      <th>1</th>\n",
       "      <td>1</td>\n",
       "      <td>5</td>\n",
       "      <td>5320</td>\n",
       "    </tr>\n",
       "    <tr>\n",
       "      <th>2</th>\n",
       "      <td>2</td>\n",
       "      <td>5</td>\n",
       "      <td>5233</td>\n",
       "    </tr>\n",
       "  </tbody>\n",
       "</table>\n",
       "</div>"
      ],
      "text/plain": [
       "   ID  shop_id  item_id\n",
       "0   0        5     5037\n",
       "1   1        5     5320\n",
       "2   2        5     5233"
      ]
     },
     "execution_count": 100,
     "metadata": {},
     "output_type": "execute_result"
    }
   ],
   "source": [
    "test = pd.read_csv(r'../data/test.csv.gz')\n",
    "test[:3]"
   ]
  },
  {
   "cell_type": "code",
   "execution_count": 101,
   "metadata": {
    "scrolled": true
   },
   "outputs": [
    {
     "name": "stdout",
     "output_type": "stream",
     "text": [
      "Wall time: 47.6 s\n"
     ]
    }
   ],
   "source": [
    "%%time\n",
    "monthly_sales_all = pd.read_hdf(r'../data2/monthly_diff_all_shop_item_w_lag.h5','monthly_sales_all')"
   ]
  },
  {
   "cell_type": "code",
   "execution_count": 102,
   "metadata": {},
   "outputs": [
    {
     "data": {
      "text/plain": [
       "44"
      ]
     },
     "execution_count": 102,
     "metadata": {},
     "output_type": "execute_result"
    }
   ],
   "source": [
    "gc.collect()"
   ]
  },
  {
   "cell_type": "code",
   "execution_count": 103,
   "metadata": {},
   "outputs": [
    {
     "data": {
      "text/html": [
       "<div>\n",
       "<style scoped>\n",
       "    .dataframe tbody tr th:only-of-type {\n",
       "        vertical-align: middle;\n",
       "    }\n",
       "\n",
       "    .dataframe tbody tr th {\n",
       "        vertical-align: top;\n",
       "    }\n",
       "\n",
       "    .dataframe thead th {\n",
       "        text-align: right;\n",
       "    }\n",
       "</style>\n",
       "<table border=\"1\" class=\"dataframe\">\n",
       "  <thead>\n",
       "    <tr style=\"text-align: right;\">\n",
       "      <th></th>\n",
       "      <th>date_block_num</th>\n",
       "      <th>item_id</th>\n",
       "      <th>shop_id</th>\n",
       "      <th>diff</th>\n",
       "      <th>shop_cnt</th>\n",
       "      <th>item_cnt</th>\n",
       "      <th>cat_cnt</th>\n",
       "      <th>cat_cnt_lag_1</th>\n",
       "      <th>diff_lag_1</th>\n",
       "      <th>item_cnt_lag_1</th>\n",
       "      <th>...</th>\n",
       "      <th>m3</th>\n",
       "      <th>m4</th>\n",
       "      <th>m5</th>\n",
       "      <th>m6</th>\n",
       "      <th>m7</th>\n",
       "      <th>m8</th>\n",
       "      <th>m9</th>\n",
       "      <th>m10</th>\n",
       "      <th>m11</th>\n",
       "      <th>m12</th>\n",
       "    </tr>\n",
       "  </thead>\n",
       "  <tbody>\n",
       "    <tr>\n",
       "      <th>0</th>\n",
       "      <td>34</td>\n",
       "      <td>0</td>\n",
       "      <td>0</td>\n",
       "      <td>0.0</td>\n",
       "      <td>0.0</td>\n",
       "      <td>0.0</td>\n",
       "      <td>-178.541656</td>\n",
       "      <td>44.812500</td>\n",
       "      <td>0.0</td>\n",
       "      <td>0.0</td>\n",
       "      <td>...</td>\n",
       "      <td>0</td>\n",
       "      <td>0</td>\n",
       "      <td>0</td>\n",
       "      <td>0</td>\n",
       "      <td>0</td>\n",
       "      <td>0</td>\n",
       "      <td>0</td>\n",
       "      <td>0</td>\n",
       "      <td>1</td>\n",
       "      <td>0</td>\n",
       "    </tr>\n",
       "    <tr>\n",
       "      <th>1</th>\n",
       "      <td>34</td>\n",
       "      <td>1</td>\n",
       "      <td>0</td>\n",
       "      <td>0.0</td>\n",
       "      <td>0.0</td>\n",
       "      <td>0.0</td>\n",
       "      <td>-184.000000</td>\n",
       "      <td>1.000000</td>\n",
       "      <td>0.0</td>\n",
       "      <td>0.0</td>\n",
       "      <td>...</td>\n",
       "      <td>0</td>\n",
       "      <td>0</td>\n",
       "      <td>0</td>\n",
       "      <td>0</td>\n",
       "      <td>0</td>\n",
       "      <td>0</td>\n",
       "      <td>0</td>\n",
       "      <td>0</td>\n",
       "      <td>1</td>\n",
       "      <td>0</td>\n",
       "    </tr>\n",
       "    <tr>\n",
       "      <th>2</th>\n",
       "      <td>34</td>\n",
       "      <td>2</td>\n",
       "      <td>0</td>\n",
       "      <td>0.0</td>\n",
       "      <td>0.0</td>\n",
       "      <td>0.0</td>\n",
       "      <td>-202.583344</td>\n",
       "      <td>0.791667</td>\n",
       "      <td>0.0</td>\n",
       "      <td>0.0</td>\n",
       "      <td>...</td>\n",
       "      <td>0</td>\n",
       "      <td>0</td>\n",
       "      <td>0</td>\n",
       "      <td>0</td>\n",
       "      <td>0</td>\n",
       "      <td>0</td>\n",
       "      <td>0</td>\n",
       "      <td>0</td>\n",
       "      <td>1</td>\n",
       "      <td>0</td>\n",
       "    </tr>\n",
       "  </tbody>\n",
       "</table>\n",
       "<p>3 rows × 45 columns</p>\n",
       "</div>"
      ],
      "text/plain": [
       "   date_block_num  item_id  shop_id  diff  shop_cnt  item_cnt     cat_cnt  \\\n",
       "0              34        0        0   0.0       0.0       0.0 -178.541656   \n",
       "1              34        1        0   0.0       0.0       0.0 -184.000000   \n",
       "2              34        2        0   0.0       0.0       0.0 -202.583344   \n",
       "\n",
       "   cat_cnt_lag_1  diff_lag_1  item_cnt_lag_1 ...   m3  m4  m5  m6  m7  m8  m9  \\\n",
       "0      44.812500         0.0             0.0 ...    0   0   0   0   0   0   0   \n",
       "1       1.000000         0.0             0.0 ...    0   0   0   0   0   0   0   \n",
       "2       0.791667         0.0             0.0 ...    0   0   0   0   0   0   0   \n",
       "\n",
       "   m10  m11  m12  \n",
       "0    0    1    0  \n",
       "1    0    1    0  \n",
       "2    0    1    0  \n",
       "\n",
       "[3 rows x 45 columns]"
      ]
     },
     "execution_count": 103,
     "metadata": {},
     "output_type": "execute_result"
    }
   ],
   "source": [
    "monthly_sales_all = pd.merge(monthly_sales_all[monthly_sales_all.date_block_num==34],m_onehot_df,how='left',on='month')\n",
    "monthly_sales_all[:3]"
   ]
  },
  {
   "cell_type": "code",
   "execution_count": 104,
   "metadata": {
    "scrolled": true
   },
   "outputs": [
    {
     "name": "stdout",
     "output_type": "stream",
     "text": [
      "(214200, 46)\n"
     ]
    },
    {
     "data": {
      "text/html": [
       "<div>\n",
       "<style scoped>\n",
       "    .dataframe tbody tr th:only-of-type {\n",
       "        vertical-align: middle;\n",
       "    }\n",
       "\n",
       "    .dataframe tbody tr th {\n",
       "        vertical-align: top;\n",
       "    }\n",
       "\n",
       "    .dataframe thead th {\n",
       "        text-align: right;\n",
       "    }\n",
       "</style>\n",
       "<table border=\"1\" class=\"dataframe\">\n",
       "  <thead>\n",
       "    <tr style=\"text-align: right;\">\n",
       "      <th></th>\n",
       "      <th>ID</th>\n",
       "      <th>shop_id</th>\n",
       "      <th>item_id</th>\n",
       "      <th>date_block_num</th>\n",
       "      <th>diff</th>\n",
       "      <th>shop_cnt</th>\n",
       "      <th>item_cnt</th>\n",
       "      <th>cat_cnt</th>\n",
       "      <th>cat_cnt_lag_1</th>\n",
       "      <th>diff_lag_1</th>\n",
       "      <th>...</th>\n",
       "      <th>m3</th>\n",
       "      <th>m4</th>\n",
       "      <th>m5</th>\n",
       "      <th>m6</th>\n",
       "      <th>m7</th>\n",
       "      <th>m8</th>\n",
       "      <th>m9</th>\n",
       "      <th>m10</th>\n",
       "      <th>m11</th>\n",
       "      <th>m12</th>\n",
       "    </tr>\n",
       "  </thead>\n",
       "  <tbody>\n",
       "    <tr>\n",
       "      <th>0</th>\n",
       "      <td>0</td>\n",
       "      <td>5</td>\n",
       "      <td>5037</td>\n",
       "      <td>34.0</td>\n",
       "      <td>0.0</td>\n",
       "      <td>-1054.0</td>\n",
       "      <td>-25.0</td>\n",
       "      <td>-242.414429</td>\n",
       "      <td>-136.683411</td>\n",
       "      <td>-1.0</td>\n",
       "      <td>...</td>\n",
       "      <td>0.0</td>\n",
       "      <td>0.0</td>\n",
       "      <td>0.0</td>\n",
       "      <td>0.0</td>\n",
       "      <td>0.0</td>\n",
       "      <td>0.0</td>\n",
       "      <td>0.0</td>\n",
       "      <td>0.0</td>\n",
       "      <td>1</td>\n",
       "      <td>0.0</td>\n",
       "    </tr>\n",
       "    <tr>\n",
       "      <th>1</th>\n",
       "      <td>1</td>\n",
       "      <td>5</td>\n",
       "      <td>5320</td>\n",
       "      <td>0.0</td>\n",
       "      <td>0.0</td>\n",
       "      <td>0.0</td>\n",
       "      <td>0.0</td>\n",
       "      <td>0.000000</td>\n",
       "      <td>0.000000</td>\n",
       "      <td>0.0</td>\n",
       "      <td>...</td>\n",
       "      <td>0.0</td>\n",
       "      <td>0.0</td>\n",
       "      <td>0.0</td>\n",
       "      <td>0.0</td>\n",
       "      <td>0.0</td>\n",
       "      <td>0.0</td>\n",
       "      <td>0.0</td>\n",
       "      <td>0.0</td>\n",
       "      <td>1</td>\n",
       "      <td>0.0</td>\n",
       "    </tr>\n",
       "    <tr>\n",
       "      <th>2</th>\n",
       "      <td>2</td>\n",
       "      <td>5</td>\n",
       "      <td>5233</td>\n",
       "      <td>34.0</td>\n",
       "      <td>-1.0</td>\n",
       "      <td>-1054.0</td>\n",
       "      <td>-42.0</td>\n",
       "      <td>-586.295654</td>\n",
       "      <td>-534.433777</td>\n",
       "      <td>-2.0</td>\n",
       "      <td>...</td>\n",
       "      <td>0.0</td>\n",
       "      <td>0.0</td>\n",
       "      <td>0.0</td>\n",
       "      <td>0.0</td>\n",
       "      <td>0.0</td>\n",
       "      <td>0.0</td>\n",
       "      <td>0.0</td>\n",
       "      <td>0.0</td>\n",
       "      <td>1</td>\n",
       "      <td>0.0</td>\n",
       "    </tr>\n",
       "  </tbody>\n",
       "</table>\n",
       "<p>3 rows × 46 columns</p>\n",
       "</div>"
      ],
      "text/plain": [
       "   ID  shop_id  item_id  date_block_num  diff  shop_cnt  item_cnt     cat_cnt  \\\n",
       "0   0        5     5037            34.0   0.0   -1054.0     -25.0 -242.414429   \n",
       "1   1        5     5320             0.0   0.0       0.0       0.0    0.000000   \n",
       "2   2        5     5233            34.0  -1.0   -1054.0     -42.0 -586.295654   \n",
       "\n",
       "   cat_cnt_lag_1  diff_lag_1 ...    m3   m4   m5   m6   m7   m8   m9  m10  \\\n",
       "0    -136.683411        -1.0 ...   0.0  0.0  0.0  0.0  0.0  0.0  0.0  0.0   \n",
       "1       0.000000         0.0 ...   0.0  0.0  0.0  0.0  0.0  0.0  0.0  0.0   \n",
       "2    -534.433777        -2.0 ...   0.0  0.0  0.0  0.0  0.0  0.0  0.0  0.0   \n",
       "\n",
       "   m11  m12  \n",
       "0    1  0.0  \n",
       "1    1  0.0  \n",
       "2    1  0.0  \n",
       "\n",
       "[3 rows x 46 columns]"
      ]
     },
     "execution_count": 104,
     "metadata": {},
     "output_type": "execute_result"
    }
   ],
   "source": [
    "test2 = pd.merge(test,monthly_sales_all,on=['shop_id','item_id'],how='left').fillna(0)\n",
    "test2.loc[:,'m11'] = 1\n",
    "print(test2.shape)\n",
    "test2[:3]"
   ]
  },
  {
   "cell_type": "code",
   "execution_count": 105,
   "metadata": {},
   "outputs": [],
   "source": [
    "test2['item_cnt_month'] = (model.predict(test2[feats]) + test2['shop_item_cnt_lag1']).clip(0,20)"
   ]
  },
  {
   "cell_type": "code",
   "execution_count": 106,
   "metadata": {},
   "outputs": [],
   "source": [
    "test2[['ID','item_cnt_month']].to_csv(r'../output/14_1020_lgb_time_feats_on_diff_cat_top3.csv',index=False)"
   ]
  },
  {
   "cell_type": "code",
   "execution_count": null,
   "metadata": {},
   "outputs": [],
   "source": []
  },
  {
   "cell_type": "code",
   "execution_count": null,
   "metadata": {},
   "outputs": [],
   "source": []
  },
  {
   "cell_type": "code",
   "execution_count": null,
   "metadata": {},
   "outputs": [],
   "source": []
  }
 ],
 "metadata": {
  "kernelspec": {
   "display_name": "Python 3",
   "language": "python",
   "name": "python3"
  },
  "language_info": {
   "codemirror_mode": {
    "name": "ipython",
    "version": 3
   },
   "file_extension": ".py",
   "mimetype": "text/x-python",
   "name": "python",
   "nbconvert_exporter": "python",
   "pygments_lexer": "ipython3",
   "version": "3.7.0"
  }
 },
 "nbformat": 4,
 "nbformat_minor": 2
}
