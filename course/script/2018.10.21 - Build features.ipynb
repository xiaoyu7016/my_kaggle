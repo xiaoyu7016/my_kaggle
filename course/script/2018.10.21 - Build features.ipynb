{
 "cells": [
  {
   "cell_type": "markdown",
   "metadata": {
    "collapsed": true
   },
   "source": [
    "## LB\n",
    "### 1.022\n",
    "### 1.019 (clip item_cnt_day to [0,20] before feature engineering)\n",
    "\n"
   ]
  },
  {
   "cell_type": "code",
   "execution_count": 1,
   "metadata": {},
   "outputs": [
    {
     "name": "stderr",
     "output_type": "stream",
     "text": [
      "C:\\ProgramData\\Anaconda3\\lib\\site-packages\\sklearn\\ensemble\\weight_boosting.py:29: DeprecationWarning: numpy.core.umath_tests is an internal NumPy module and should not be imported. It will be removed in a future NumPy release.\n",
      "  from numpy.core.umath_tests import inner1d\n"
     ]
    }
   ],
   "source": [
    "import os\n",
    "import re\n",
    "import pandas as pd\n",
    "import numpy as np\n",
    "\n",
    "import matplotlib.pyplot as plt\n",
    "import seaborn as sns\n",
    "%matplotlib inline\n",
    "\n",
    "# preprocessing\n",
    "from sklearn.preprocessing import OneHotEncoder\n",
    "from sklearn.preprocessing import MinMaxScaler\n",
    "\n",
    "from sklearn import model_selection\n",
    "\n",
    "from sklearn.linear_model import LinearRegression\n",
    "from sklearn.svm import LinearSVR\n",
    "import lightgbm as lgb\n",
    "from sklearn.ensemble import GradientBoostingRegressor, RandomForestRegressor\n",
    "\n",
    "from itertools import product # to expand month-shop-item combo\n",
    "\n",
    "import pickle\n",
    "\n",
    "import gc\n",
    "import warnings\n",
    "warnings.filterwarnings('ignore')\n",
    "\n",
    "from tqdm import tqdm_notebook"
   ]
  },
  {
   "cell_type": "code",
   "execution_count": 2,
   "metadata": {},
   "outputs": [],
   "source": [
    "def rmse_clip(y_true, y_pred):\n",
    "    y_pred = y_pred.clip(0,20)\n",
    "    rmse = np.sqrt(np.mean((y_true - y_pred)**2))\n",
    "    return(rmse)"
   ]
  },
  {
   "cell_type": "code",
   "execution_count": 8,
   "metadata": {},
   "outputs": [],
   "source": [
    "def downcast_dtypes(df):\n",
    "    '''\n",
    "        Changes column types in the dataframe: \n",
    "                \n",
    "                `float64` type to `float32`\n",
    "                `int64`   type to `int32`\n",
    "    '''\n",
    "    \n",
    "    # Select columns to downcast\n",
    "    float_cols = [c for c in df if df[c].dtype == \"float64\"]\n",
    "    int_cols =   [c for c in df if df[c].dtype == \"int64\" or df[c].dtype == \"int32\"]\n",
    "    \n",
    "    # Downcast\n",
    "    df[float_cols] = df[float_cols].astype(np.float32)\n",
    "    df[int_cols]   = df[int_cols].astype(np.int32)\n",
    "    \n",
    "    return df"
   ]
  },
  {
   "cell_type": "markdown",
   "metadata": {},
   "source": [
    "### Read in Data"
   ]
  },
  {
   "cell_type": "code",
   "execution_count": 4,
   "metadata": {},
   "outputs": [
    {
     "data": {
      "text/plain": [
       "(2935849, 6)"
      ]
     },
     "execution_count": 4,
     "metadata": {},
     "output_type": "execute_result"
    }
   ],
   "source": [
    "train = pd.read_csv(r'../data/sales_train.csv.gz')\n",
    "train.shape"
   ]
  },
  {
   "cell_type": "code",
   "execution_count": 5,
   "metadata": {},
   "outputs": [
    {
     "data": {
      "text/html": [
       "<div>\n",
       "<style scoped>\n",
       "    .dataframe tbody tr th:only-of-type {\n",
       "        vertical-align: middle;\n",
       "    }\n",
       "\n",
       "    .dataframe tbody tr th {\n",
       "        vertical-align: top;\n",
       "    }\n",
       "\n",
       "    .dataframe thead th {\n",
       "        text-align: right;\n",
       "    }\n",
       "</style>\n",
       "<table border=\"1\" class=\"dataframe\">\n",
       "  <thead>\n",
       "    <tr style=\"text-align: right;\">\n",
       "      <th></th>\n",
       "      <th>date</th>\n",
       "      <th>date_block_num</th>\n",
       "      <th>shop_id</th>\n",
       "      <th>item_id</th>\n",
       "      <th>item_price</th>\n",
       "      <th>item_cnt_day</th>\n",
       "    </tr>\n",
       "  </thead>\n",
       "  <tbody>\n",
       "    <tr>\n",
       "      <th>0</th>\n",
       "      <td>02.01.2013</td>\n",
       "      <td>0</td>\n",
       "      <td>59</td>\n",
       "      <td>22154</td>\n",
       "      <td>999.0</td>\n",
       "      <td>1.0</td>\n",
       "    </tr>\n",
       "    <tr>\n",
       "      <th>1</th>\n",
       "      <td>03.01.2013</td>\n",
       "      <td>0</td>\n",
       "      <td>25</td>\n",
       "      <td>2552</td>\n",
       "      <td>899.0</td>\n",
       "      <td>1.0</td>\n",
       "    </tr>\n",
       "    <tr>\n",
       "      <th>2</th>\n",
       "      <td>05.01.2013</td>\n",
       "      <td>0</td>\n",
       "      <td>25</td>\n",
       "      <td>2552</td>\n",
       "      <td>899.0</td>\n",
       "      <td>-1.0</td>\n",
       "    </tr>\n",
       "  </tbody>\n",
       "</table>\n",
       "</div>"
      ],
      "text/plain": [
       "         date  date_block_num  shop_id  item_id  item_price  item_cnt_day\n",
       "0  02.01.2013               0       59    22154       999.0           1.0\n",
       "1  03.01.2013               0       25     2552       899.0           1.0\n",
       "2  05.01.2013               0       25     2552       899.0          -1.0"
      ]
     },
     "execution_count": 5,
     "metadata": {},
     "output_type": "execute_result"
    }
   ],
   "source": [
    "train[:3]"
   ]
  },
  {
   "cell_type": "markdown",
   "metadata": {},
   "source": [
    "#### Read in item categories"
   ]
  },
  {
   "cell_type": "code",
   "execution_count": 6,
   "metadata": {},
   "outputs": [
    {
     "data": {
      "text/html": [
       "<div>\n",
       "<style scoped>\n",
       "    .dataframe tbody tr th:only-of-type {\n",
       "        vertical-align: middle;\n",
       "    }\n",
       "\n",
       "    .dataframe tbody tr th {\n",
       "        vertical-align: top;\n",
       "    }\n",
       "\n",
       "    .dataframe thead th {\n",
       "        text-align: right;\n",
       "    }\n",
       "</style>\n",
       "<table border=\"1\" class=\"dataframe\">\n",
       "  <thead>\n",
       "    <tr style=\"text-align: right;\">\n",
       "      <th></th>\n",
       "      <th>item_id</th>\n",
       "      <th>item_category_id</th>\n",
       "      <th>item_category_id1</th>\n",
       "      <th>item_category_id2</th>\n",
       "      <th>item_category_id3</th>\n",
       "      <th>sys</th>\n",
       "      <th>product</th>\n",
       "      <th>cat1</th>\n",
       "      <th>cat2</th>\n",
       "      <th>cat3</th>\n",
       "      <th>cat1_prob</th>\n",
       "      <th>cat2_prob</th>\n",
       "      <th>cat3_prob</th>\n",
       "      <th>item_category_id2.1</th>\n",
       "    </tr>\n",
       "  </thead>\n",
       "  <tbody>\n",
       "    <tr>\n",
       "      <th>0</th>\n",
       "      <td>0</td>\n",
       "      <td>40</td>\n",
       "      <td>40-16</td>\n",
       "      <td>40-23</td>\n",
       "      <td>40-10</td>\n",
       "      <td>dvd</td>\n",
       "      <td>cinema</td>\n",
       "      <td>16.0</td>\n",
       "      <td>23.0</td>\n",
       "      <td>10.0</td>\n",
       "      <td>0.520833</td>\n",
       "      <td>0.020833</td>\n",
       "      <td>0.020833</td>\n",
       "      <td>40-23</td>\n",
       "    </tr>\n",
       "    <tr>\n",
       "      <th>1</th>\n",
       "      <td>1</td>\n",
       "      <td>76</td>\n",
       "      <td>76-0</td>\n",
       "      <td>76-0</td>\n",
       "      <td>76-0</td>\n",
       "      <td>pc</td>\n",
       "      <td>programs</td>\n",
       "      <td>0.0</td>\n",
       "      <td>0.0</td>\n",
       "      <td>0.0</td>\n",
       "      <td>1.000000</td>\n",
       "      <td>0.000000</td>\n",
       "      <td>0.000000</td>\n",
       "      <td>76-0</td>\n",
       "    </tr>\n",
       "    <tr>\n",
       "      <th>2</th>\n",
       "      <td>2</td>\n",
       "      <td>40</td>\n",
       "      <td>40-23</td>\n",
       "      <td>40-22</td>\n",
       "      <td>40-1</td>\n",
       "      <td>dvd</td>\n",
       "      <td>cinema</td>\n",
       "      <td>23.0</td>\n",
       "      <td>22.0</td>\n",
       "      <td>1.0</td>\n",
       "      <td>0.041667</td>\n",
       "      <td>0.041667</td>\n",
       "      <td>0.041667</td>\n",
       "      <td>40-22</td>\n",
       "    </tr>\n",
       "  </tbody>\n",
       "</table>\n",
       "</div>"
      ],
      "text/plain": [
       "   item_id  item_category_id item_category_id1 item_category_id2  \\\n",
       "0        0                40             40-16             40-23   \n",
       "1        1                76              76-0              76-0   \n",
       "2        2                40             40-23             40-22   \n",
       "\n",
       "  item_category_id3  sys   product  cat1  cat2  cat3  cat1_prob  cat2_prob  \\\n",
       "0             40-10  dvd    cinema  16.0  23.0  10.0   0.520833   0.020833   \n",
       "1              76-0   pc  programs   0.0   0.0   0.0   1.000000   0.000000   \n",
       "2              40-1  dvd    cinema  23.0  22.0   1.0   0.041667   0.041667   \n",
       "\n",
       "   cat3_prob item_category_id2.1  \n",
       "0   0.020833               40-23  \n",
       "1   0.000000                76-0  \n",
       "2   0.041667               40-22  "
      ]
     },
     "execution_count": 6,
     "metadata": {},
     "output_type": "execute_result"
    }
   ],
   "source": [
    "items0 = pd.read_csv(r'../data2/item_category2.csv')\n",
    "# shops0 = pd.read_csv(r'../data/shops.csv')\n",
    "# item_cat0 = pd.read_csv(r'../data/item_categories.csv')\n",
    "items0 = downcast_dtypes(items0)\n",
    "items0[:3]# ok contains name of the item/cat/shop; ABBYY FineReader??"
   ]
  },
  {
   "cell_type": "code",
   "execution_count": 7,
   "metadata": {
    "scrolled": true
   },
   "outputs": [
    {
     "data": {
      "text/html": [
       "<div>\n",
       "<style scoped>\n",
       "    .dataframe tbody tr th:only-of-type {\n",
       "        vertical-align: middle;\n",
       "    }\n",
       "\n",
       "    .dataframe tbody tr th {\n",
       "        vertical-align: top;\n",
       "    }\n",
       "\n",
       "    .dataframe thead th {\n",
       "        text-align: right;\n",
       "    }\n",
       "</style>\n",
       "<table border=\"1\" class=\"dataframe\">\n",
       "  <thead>\n",
       "    <tr style=\"text-align: right;\">\n",
       "      <th></th>\n",
       "      <th>date</th>\n",
       "      <th>date_block_num</th>\n",
       "      <th>shop_id</th>\n",
       "      <th>item_id</th>\n",
       "      <th>item_price</th>\n",
       "      <th>item_cnt_day</th>\n",
       "    </tr>\n",
       "  </thead>\n",
       "  <tbody>\n",
       "    <tr>\n",
       "      <th>1</th>\n",
       "      <td>03.01.2013</td>\n",
       "      <td>0</td>\n",
       "      <td>25</td>\n",
       "      <td>2552</td>\n",
       "      <td>899.0</td>\n",
       "      <td>1.0</td>\n",
       "    </tr>\n",
       "    <tr>\n",
       "      <th>2</th>\n",
       "      <td>05.01.2013</td>\n",
       "      <td>0</td>\n",
       "      <td>25</td>\n",
       "      <td>2552</td>\n",
       "      <td>899.0</td>\n",
       "      <td>-1.0</td>\n",
       "    </tr>\n",
       "  </tbody>\n",
       "</table>\n",
       "</div>"
      ],
      "text/plain": [
       "         date  date_block_num  shop_id  item_id  item_price  item_cnt_day\n",
       "1  03.01.2013               0       25     2552       899.0           1.0\n",
       "2  05.01.2013               0       25     2552       899.0          -1.0"
      ]
     },
     "execution_count": 7,
     "metadata": {},
     "output_type": "execute_result"
    }
   ],
   "source": [
    "train[(train.shop_id==25)&(train.item_id==2552)]  \n",
    "# looks like return. looks like negative rows should be removed\n",
    "# Or make a \"returned?\" feature"
   ]
  },
  {
   "cell_type": "code",
   "execution_count": 8,
   "metadata": {
    "scrolled": true
   },
   "outputs": [
    {
     "data": {
      "text/plain": [
       "0"
      ]
     },
     "execution_count": 8,
     "metadata": {},
     "output_type": "execute_result"
    }
   ],
   "source": [
    "(train['item_cnt_day']==0).sum()"
   ]
  },
  {
   "cell_type": "code",
   "execution_count": 9,
   "metadata": {},
   "outputs": [
    {
     "name": "stdout",
     "output_type": "stream",
     "text": [
      "(2928493, 6)\n"
     ]
    }
   ],
   "source": [
    "train2 = downcast_dtypes(train[train.item_cnt_day>0])\n",
    "# train2 = train[(train.item_cnt_day>0) & train.shop_id.isin(test.shop_id.unique())]\n",
    "\n",
    "print(train2.shape)\n",
    "\n",
    "train2['date2'] = pd.to_datetime(train2['date'],format='%d.%m.%Y')\n",
    "train2.drop(labels='date',axis=1,inplace=True)\n",
    "\n",
    "# print(train2.shop_id.nunique())\n",
    "# pickle.dump(train2,open(r'../data2/train_42shops.pkl','wb'))\n",
    "del train"
   ]
  },
  {
   "cell_type": "markdown",
   "metadata": {},
   "source": [
    "### Make features for linear model\n",
    "#### 1. Expand the month/shop/item grid"
   ]
  },
  {
   "cell_type": "code",
   "execution_count": 10,
   "metadata": {},
   "outputs": [
    {
     "name": "stdout",
     "output_type": "stream",
     "text": [
      "60 21804 34\n"
     ]
    },
    {
     "data": {
      "text/html": [
       "<div>\n",
       "<style scoped>\n",
       "    .dataframe tbody tr th:only-of-type {\n",
       "        vertical-align: middle;\n",
       "    }\n",
       "\n",
       "    .dataframe tbody tr th {\n",
       "        vertical-align: top;\n",
       "    }\n",
       "\n",
       "    .dataframe thead th {\n",
       "        text-align: right;\n",
       "    }\n",
       "</style>\n",
       "<table border=\"1\" class=\"dataframe\">\n",
       "  <thead>\n",
       "    <tr style=\"text-align: right;\">\n",
       "      <th></th>\n",
       "      <th>shop_id</th>\n",
       "      <th>item_id</th>\n",
       "      <th>date_block_num</th>\n",
       "    </tr>\n",
       "  </thead>\n",
       "  <tbody>\n",
       "    <tr>\n",
       "      <th>0</th>\n",
       "      <td>59</td>\n",
       "      <td>22154</td>\n",
       "      <td>0</td>\n",
       "    </tr>\n",
       "    <tr>\n",
       "      <th>1</th>\n",
       "      <td>59</td>\n",
       "      <td>22154</td>\n",
       "      <td>1</td>\n",
       "    </tr>\n",
       "    <tr>\n",
       "      <th>2</th>\n",
       "      <td>59</td>\n",
       "      <td>22154</td>\n",
       "      <td>2</td>\n",
       "    </tr>\n",
       "  </tbody>\n",
       "</table>\n",
       "</div>"
      ],
      "text/plain": [
       "   shop_id  item_id  date_block_num\n",
       "0       59    22154               0\n",
       "1       59    22154               1\n",
       "2       59    22154               2"
      ]
     },
     "execution_count": 10,
     "metadata": {},
     "output_type": "execute_result"
    }
   ],
   "source": [
    "shops_in_tr = train2.shop_id.unique()\n",
    "items_in_tr = train2.item_id.unique()\n",
    "months_in_tr =train2.date_block_num.unique()\n",
    "print(len(shops_in_tr),len(items_in_tr),len(months_in_tr))\n",
    "\n",
    "grid = np.array(list(product(*[shops_in_tr,items_in_tr,months_in_tr])),dtype='int32')\n",
    "\n",
    "grid = pd.DataFrame(grid,columns=['shop_id','item_id','date_block_num'],dtype='int32')\n",
    "grid[:3]"
   ]
  },
  {
   "cell_type": "code",
   "execution_count": 11,
   "metadata": {},
   "outputs": [],
   "source": [
    "del shops_in_tr\n",
    "del items_in_tr\n",
    "del months_in_tr"
   ]
  },
  {
   "cell_type": "markdown",
   "metadata": {
    "collapsed": true
   },
   "source": [
    "#### 2. Aggregate sales by month"
   ]
  },
  {
   "cell_type": "code",
   "execution_count": 12,
   "metadata": {
    "scrolled": true
   },
   "outputs": [
    {
     "data": {
      "text/html": [
       "<div>\n",
       "<style scoped>\n",
       "    .dataframe tbody tr th:only-of-type {\n",
       "        vertical-align: middle;\n",
       "    }\n",
       "\n",
       "    .dataframe tbody tr th {\n",
       "        vertical-align: top;\n",
       "    }\n",
       "\n",
       "    .dataframe thead th {\n",
       "        text-align: right;\n",
       "    }\n",
       "</style>\n",
       "<table border=\"1\" class=\"dataframe\">\n",
       "  <thead>\n",
       "    <tr style=\"text-align: right;\">\n",
       "      <th></th>\n",
       "      <th>date_block_num</th>\n",
       "      <th>shop_id</th>\n",
       "      <th>item_id</th>\n",
       "      <th>item_price</th>\n",
       "      <th>item_cnt_day</th>\n",
       "      <th>date2</th>\n",
       "      <th>item_category_id</th>\n",
       "      <th>sys</th>\n",
       "      <th>item_category_id1</th>\n",
       "      <th>item_category_id2</th>\n",
       "      <th>item_category_id3</th>\n",
       "      <th>cat1_prob</th>\n",
       "      <th>cat2_prob</th>\n",
       "      <th>cat3_prob</th>\n",
       "    </tr>\n",
       "  </thead>\n",
       "  <tbody>\n",
       "    <tr>\n",
       "      <th>0</th>\n",
       "      <td>0</td>\n",
       "      <td>59</td>\n",
       "      <td>22154</td>\n",
       "      <td>999.000000</td>\n",
       "      <td>1.0</td>\n",
       "      <td>2013-01-02</td>\n",
       "      <td>37</td>\n",
       "      <td>blu-ray</td>\n",
       "      <td>37-9</td>\n",
       "      <td>37-15</td>\n",
       "      <td>37-21</td>\n",
       "      <td>0.617850</td>\n",
       "      <td>0.016615</td>\n",
       "      <td>0.016615</td>\n",
       "    </tr>\n",
       "    <tr>\n",
       "      <th>1</th>\n",
       "      <td>0</td>\n",
       "      <td>25</td>\n",
       "      <td>2552</td>\n",
       "      <td>899.000000</td>\n",
       "      <td>1.0</td>\n",
       "      <td>2013-01-03</td>\n",
       "      <td>58</td>\n",
       "      <td>other</td>\n",
       "      <td>58-1</td>\n",
       "      <td>58-6</td>\n",
       "      <td>58-8</td>\n",
       "      <td>0.723831</td>\n",
       "      <td>0.018411</td>\n",
       "      <td>0.018411</td>\n",
       "    </tr>\n",
       "    <tr>\n",
       "      <th>2</th>\n",
       "      <td>0</td>\n",
       "      <td>25</td>\n",
       "      <td>2554</td>\n",
       "      <td>1709.050049</td>\n",
       "      <td>1.0</td>\n",
       "      <td>2013-01-06</td>\n",
       "      <td>58</td>\n",
       "      <td>other</td>\n",
       "      <td>58-1</td>\n",
       "      <td>58-0</td>\n",
       "      <td>58-6</td>\n",
       "      <td>0.441094</td>\n",
       "      <td>0.258686</td>\n",
       "      <td>0.021444</td>\n",
       "    </tr>\n",
       "  </tbody>\n",
       "</table>\n",
       "</div>"
      ],
      "text/plain": [
       "   date_block_num  shop_id  item_id   item_price  item_cnt_day      date2  \\\n",
       "0               0       59    22154   999.000000           1.0 2013-01-02   \n",
       "1               0       25     2552   899.000000           1.0 2013-01-03   \n",
       "2               0       25     2554  1709.050049           1.0 2013-01-06   \n",
       "\n",
       "   item_category_id      sys item_category_id1 item_category_id2  \\\n",
       "0                37  blu-ray              37-9             37-15   \n",
       "1                58    other              58-1              58-6   \n",
       "2                58    other              58-1              58-0   \n",
       "\n",
       "  item_category_id3  cat1_prob  cat2_prob  cat3_prob  \n",
       "0             37-21   0.617850   0.016615   0.016615  \n",
       "1              58-8   0.723831   0.018411   0.018411  \n",
       "2              58-6   0.441094   0.258686   0.021444  "
      ]
     },
     "execution_count": 12,
     "metadata": {},
     "output_type": "execute_result"
    }
   ],
   "source": [
    "train2 = pd.merge(train2, items0[['item_id','item_category_id','sys',\n",
    "                                  'item_category_id1','item_category_id2','item_category_id3',\n",
    "                                  'cat1_prob','cat2_prob','cat3_prob']],how='left')\n",
    "train2[:3]"
   ]
  },
  {
   "cell_type": "markdown",
   "metadata": {},
   "source": [
    "##### 2.1 Clipping daily sales item_cnt_day"
   ]
  },
  {
   "cell_type": "code",
   "execution_count": 13,
   "metadata": {},
   "outputs": [
    {
     "data": {
      "text/plain": [
       "count    2.928493e+06\n",
       "mean     1.248337e+00\n",
       "std      2.612679e+00\n",
       "min      1.000000e+00\n",
       "25%      1.000000e+00\n",
       "50%      1.000000e+00\n",
       "75%      1.000000e+00\n",
       "max      2.169000e+03\n",
       "Name: item_cnt_day, dtype: float64"
      ]
     },
     "execution_count": 13,
     "metadata": {},
     "output_type": "execute_result"
    }
   ],
   "source": [
    "train2.item_cnt_day.describe()"
   ]
  },
  {
   "cell_type": "code",
   "execution_count": 14,
   "metadata": {},
   "outputs": [
    {
     "data": {
      "text/plain": [
       "8.0"
      ]
     },
     "execution_count": 14,
     "metadata": {},
     "output_type": "execute_result"
    }
   ],
   "source": [
    "np.percentile(train2.item_cnt_day,99.5) "
   ]
  },
  {
   "cell_type": "code",
   "execution_count": 15,
   "metadata": {},
   "outputs": [],
   "source": [
    "train2.loc[:,'item_cnt_day'] = train2.item_cnt_day.clip(0,20)"
   ]
  },
  {
   "cell_type": "markdown",
   "metadata": {},
   "source": [
    "##### 2.2 Aggregate sales by month"
   ]
  },
  {
   "cell_type": "code",
   "execution_count": 16,
   "metadata": {},
   "outputs": [],
   "source": [
    "# monthly sales by shop-item\n",
    "train2.sort_values(by=['date_block_num','shop_id','item_id','date2'],inplace=True)\n",
    "\n",
    "temp = train2.groupby(['date_block_num','shop_id','item_id'],as_index=False).agg({'item_cnt_day':{'shop_item_cnt':'sum'}})\n",
    "temp.columns = [col[0] if col[-1]=='' else col[-1] for col in temp.columns.values]\n",
    "\n",
    "monthly_sales_all = pd.merge(grid, temp, how='left',on=['date_block_num','shop_id','item_id']).fillna(0)\n",
    "\n",
    "\n",
    "# monthly sales by shop\n",
    "temp = train2.groupby(['date_block_num','shop_id'],as_index=False).agg({'item_cnt_day':{'shop_cnt':'sum'}})\n",
    "temp.columns = [col[0] if col[-1]=='' else col[-1] for col in temp.columns.values]\n",
    "\n",
    "monthly_sales_all=pd.merge(monthly_sales_all,temp,how='left',on=['date_block_num','shop_id']).fillna(0)\n",
    "\n",
    "\n",
    "# monthly sales by item\n",
    "temp = train2.groupby(['date_block_num','item_id'],as_index=False).agg({'item_cnt_day':{'item_cnt':'sum'}})\n",
    "temp.columns = [col[0] if col[-1]=='' else col[-1] for col in temp.columns.values]\n",
    "\n",
    "monthly_sales_all=pd.merge(monthly_sales_all,temp,how='left',on=['date_block_num','item_id']).fillna(0)"
   ]
  },
  {
   "cell_type": "code",
   "execution_count": 17,
   "metadata": {},
   "outputs": [],
   "source": [
    "# monthly sales by cat/sys\n",
    "# first, get item_category_id1 of each item on the LHS\n",
    "monthly_sales_all = pd.merge(monthly_sales_all,items0[['item_id','item_category_id','sys',\n",
    "                                                       'item_category_id1','item_category_id2','item_category_id3',\n",
    "                                                       'cat1_prob','cat2_prob','cat3_prob']],\n",
    "                             how='left',on='item_id')\n",
    "# by sys\n",
    "temp = train2.groupby(['date_block_num','sys'],as_index=False).agg({'item_cnt_day':{'sys_cnt':'sum'}})\n",
    "temp.columns = [col[0] if col[-1]=='' else col[-1] for col in temp.columns.values]\n",
    "monthly_sales_all=pd.merge(monthly_sales_all,temp,how='left',on=['date_block_num','sys']).fillna(0)\n",
    "\n",
    "# by cat\n",
    "temp = train2.groupby(['date_block_num','item_category_id'],as_index=False).agg({'item_cnt_day':{'cat_cnt':'sum'}})\n",
    "temp.columns = [col[0] if col[-1]=='' else col[-1] for col in temp.columns.values]\n",
    "monthly_sales_all=pd.merge(monthly_sales_all,temp,how='left',on=['date_block_num','item_category_id']).fillna(0)"
   ]
  },
  {
   "cell_type": "code",
   "execution_count": 18,
   "metadata": {},
   "outputs": [
    {
     "name": "stdout",
     "output_type": "stream",
     "text": [
      "(44480160, 19)\n"
     ]
    },
    {
     "data": {
      "text/html": [
       "<div>\n",
       "<style scoped>\n",
       "    .dataframe tbody tr th:only-of-type {\n",
       "        vertical-align: middle;\n",
       "    }\n",
       "\n",
       "    .dataframe tbody tr th {\n",
       "        vertical-align: top;\n",
       "    }\n",
       "\n",
       "    .dataframe thead th {\n",
       "        text-align: right;\n",
       "    }\n",
       "</style>\n",
       "<table border=\"1\" class=\"dataframe\">\n",
       "  <thead>\n",
       "    <tr style=\"text-align: right;\">\n",
       "      <th></th>\n",
       "      <th>shop_id</th>\n",
       "      <th>item_id</th>\n",
       "      <th>date_block_num</th>\n",
       "      <th>shop_item_cnt</th>\n",
       "      <th>shop_cnt</th>\n",
       "      <th>item_cnt</th>\n",
       "      <th>item_category_id</th>\n",
       "      <th>sys</th>\n",
       "      <th>item_category_id1</th>\n",
       "      <th>item_category_id2</th>\n",
       "      <th>item_category_id3</th>\n",
       "      <th>cat1_prob</th>\n",
       "      <th>cat2_prob</th>\n",
       "      <th>cat3_prob</th>\n",
       "      <th>sys_cnt</th>\n",
       "      <th>cat_cnt</th>\n",
       "      <th>cat1_cnt</th>\n",
       "      <th>cat2_cnt</th>\n",
       "      <th>cat3_cnt</th>\n",
       "    </tr>\n",
       "  </thead>\n",
       "  <tbody>\n",
       "    <tr>\n",
       "      <th>0</th>\n",
       "      <td>59</td>\n",
       "      <td>22154</td>\n",
       "      <td>0</td>\n",
       "      <td>1.0</td>\n",
       "      <td>2026.0</td>\n",
       "      <td>18.0</td>\n",
       "      <td>37</td>\n",
       "      <td>blu-ray</td>\n",
       "      <td>37-9</td>\n",
       "      <td>37-15</td>\n",
       "      <td>37-21</td>\n",
       "      <td>0.61785</td>\n",
       "      <td>0.016615</td>\n",
       "      <td>0.016615</td>\n",
       "      <td>7860.0</td>\n",
       "      <td>6132.0</td>\n",
       "      <td>113.0</td>\n",
       "      <td>2873.0</td>\n",
       "      <td>361.0</td>\n",
       "    </tr>\n",
       "    <tr>\n",
       "      <th>1</th>\n",
       "      <td>59</td>\n",
       "      <td>22154</td>\n",
       "      <td>1</td>\n",
       "      <td>0.0</td>\n",
       "      <td>1906.0</td>\n",
       "      <td>6.0</td>\n",
       "      <td>37</td>\n",
       "      <td>blu-ray</td>\n",
       "      <td>37-9</td>\n",
       "      <td>37-15</td>\n",
       "      <td>37-21</td>\n",
       "      <td>0.61785</td>\n",
       "      <td>0.016615</td>\n",
       "      <td>0.016615</td>\n",
       "      <td>7786.0</td>\n",
       "      <td>6340.0</td>\n",
       "      <td>303.0</td>\n",
       "      <td>3793.0</td>\n",
       "      <td>522.0</td>\n",
       "    </tr>\n",
       "    <tr>\n",
       "      <th>2</th>\n",
       "      <td>59</td>\n",
       "      <td>22154</td>\n",
       "      <td>2</td>\n",
       "      <td>0.0</td>\n",
       "      <td>2032.0</td>\n",
       "      <td>2.0</td>\n",
       "      <td>37</td>\n",
       "      <td>blu-ray</td>\n",
       "      <td>37-9</td>\n",
       "      <td>37-15</td>\n",
       "      <td>37-21</td>\n",
       "      <td>0.61785</td>\n",
       "      <td>0.016615</td>\n",
       "      <td>0.016615</td>\n",
       "      <td>7709.0</td>\n",
       "      <td>6113.0</td>\n",
       "      <td>218.0</td>\n",
       "      <td>2823.0</td>\n",
       "      <td>398.0</td>\n",
       "    </tr>\n",
       "  </tbody>\n",
       "</table>\n",
       "</div>"
      ],
      "text/plain": [
       "   shop_id  item_id  date_block_num  shop_item_cnt  shop_cnt  item_cnt  \\\n",
       "0       59    22154               0            1.0    2026.0      18.0   \n",
       "1       59    22154               1            0.0    1906.0       6.0   \n",
       "2       59    22154               2            0.0    2032.0       2.0   \n",
       "\n",
       "   item_category_id      sys item_category_id1 item_category_id2  \\\n",
       "0                37  blu-ray              37-9             37-15   \n",
       "1                37  blu-ray              37-9             37-15   \n",
       "2                37  blu-ray              37-9             37-15   \n",
       "\n",
       "  item_category_id3  cat1_prob  cat2_prob  cat3_prob  sys_cnt  cat_cnt  \\\n",
       "0             37-21    0.61785   0.016615   0.016615   7860.0   6132.0   \n",
       "1             37-21    0.61785   0.016615   0.016615   7786.0   6340.0   \n",
       "2             37-21    0.61785   0.016615   0.016615   7709.0   6113.0   \n",
       "\n",
       "   cat1_cnt  cat2_cnt  cat3_cnt  \n",
       "0     113.0    2873.0     361.0  \n",
       "1     303.0    3793.0     522.0  \n",
       "2     218.0    2823.0     398.0  "
      ]
     },
     "execution_count": 18,
     "metadata": {},
     "output_type": "execute_result"
    }
   ],
   "source": [
    "#  monthly sales by finer cat (created from LDA)\n",
    "temp = train2.groupby(['date_block_num','item_category_id1'],as_index=False).agg({'item_cnt_day':{'cat1_cnt':'sum'}})\n",
    "temp.columns = [col[0] if col[-1]=='' else col[-1] for col in temp.columns.values]\n",
    "monthly_sales_all=pd.merge(monthly_sales_all,temp,how='left',on=['date_block_num','item_category_id1']).fillna(0)\n",
    "\n",
    "temp = train2.groupby(['date_block_num','item_category_id2'],as_index=False).agg({'item_cnt_day':{'cat2_cnt':'sum'}})\n",
    "temp.columns = [col[0] if col[-1]=='' else col[-1] for col in temp.columns.values]\n",
    "monthly_sales_all=pd.merge(monthly_sales_all,temp,how='left',on=['date_block_num','item_category_id2']).fillna(0)\n",
    "\n",
    "temp = train2.groupby(['date_block_num','item_category_id3'],as_index=False).agg({'item_cnt_day':{'cat3_cnt':'sum'}})\n",
    "temp.columns = [col[0] if col[-1]=='' else col[-1] for col in temp.columns.values]\n",
    "monthly_sales_all=pd.merge(monthly_sales_all,temp,how='left',on=['date_block_num','item_category_id3']).fillna(0)\n",
    "\n",
    "# downcast types to save memory\n",
    "monthly_sales_all=downcast_dtypes(monthly_sales_all)\n",
    "print(monthly_sales_all.shape)\n",
    "monthly_sales_all[:3]"
   ]
  },
  {
   "cell_type": "code",
   "execution_count": 19,
   "metadata": {},
   "outputs": [],
   "source": [
    "monthly_sales_all['cat_mix_cnt'] = monthly_sales_all.cat1_cnt * monthly_sales_all.cat1_prob + \\\n",
    "                               monthly_sales_all.cat2_cnt * monthly_sales_all.cat2_prob + \\\n",
    "                               monthly_sales_all.cat3_cnt * monthly_sales_all.cat3_prob"
   ]
  },
  {
   "cell_type": "code",
   "execution_count": 20,
   "metadata": {},
   "outputs": [
    {
     "data": {
      "text/html": [
       "<div>\n",
       "<style scoped>\n",
       "    .dataframe tbody tr th:only-of-type {\n",
       "        vertical-align: middle;\n",
       "    }\n",
       "\n",
       "    .dataframe tbody tr th {\n",
       "        vertical-align: top;\n",
       "    }\n",
       "\n",
       "    .dataframe thead th {\n",
       "        text-align: right;\n",
       "    }\n",
       "</style>\n",
       "<table border=\"1\" class=\"dataframe\">\n",
       "  <thead>\n",
       "    <tr style=\"text-align: right;\">\n",
       "      <th></th>\n",
       "      <th>shop_id</th>\n",
       "      <th>item_id</th>\n",
       "      <th>date_block_num</th>\n",
       "      <th>shop_item_cnt</th>\n",
       "      <th>shop_cnt</th>\n",
       "      <th>item_cnt</th>\n",
       "      <th>sys_cnt</th>\n",
       "      <th>cat_cnt</th>\n",
       "      <th>cat_mix_cnt</th>\n",
       "    </tr>\n",
       "  </thead>\n",
       "  <tbody>\n",
       "    <tr>\n",
       "      <th>0</th>\n",
       "      <td>59</td>\n",
       "      <td>22154</td>\n",
       "      <td>0</td>\n",
       "      <td>1.0</td>\n",
       "      <td>2026.0</td>\n",
       "      <td>18.0</td>\n",
       "      <td>7860.0</td>\n",
       "      <td>6132.0</td>\n",
       "      <td>123.550667</td>\n",
       "    </tr>\n",
       "    <tr>\n",
       "      <th>1</th>\n",
       "      <td>59</td>\n",
       "      <td>22154</td>\n",
       "      <td>1</td>\n",
       "      <td>0.0</td>\n",
       "      <td>1906.0</td>\n",
       "      <td>6.0</td>\n",
       "      <td>7786.0</td>\n",
       "      <td>6340.0</td>\n",
       "      <td>258.903198</td>\n",
       "    </tr>\n",
       "    <tr>\n",
       "      <th>2</th>\n",
       "      <td>59</td>\n",
       "      <td>22154</td>\n",
       "      <td>2</td>\n",
       "      <td>0.0</td>\n",
       "      <td>2032.0</td>\n",
       "      <td>2.0</td>\n",
       "      <td>7709.0</td>\n",
       "      <td>6113.0</td>\n",
       "      <td>188.208893</td>\n",
       "    </tr>\n",
       "  </tbody>\n",
       "</table>\n",
       "</div>"
      ],
      "text/plain": [
       "   shop_id  item_id  date_block_num  shop_item_cnt  shop_cnt  item_cnt  \\\n",
       "0       59    22154               0            1.0    2026.0      18.0   \n",
       "1       59    22154               1            0.0    1906.0       6.0   \n",
       "2       59    22154               2            0.0    2032.0       2.0   \n",
       "\n",
       "   sys_cnt  cat_cnt  cat_mix_cnt  \n",
       "0   7860.0   6132.0   123.550667  \n",
       "1   7786.0   6340.0   258.903198  \n",
       "2   7709.0   6113.0   188.208893  "
      ]
     },
     "execution_count": 20,
     "metadata": {},
     "output_type": "execute_result"
    }
   ],
   "source": [
    "to_drop = [col for col in monthly_sales_all.columns if re.search(re.compile('item_category_id|_prob|cat[0-9]'), col) is not None]\n",
    "monthly_sales_all.drop(labels=to_drop+['sys'],axis=1,inplace=True)\n",
    "monthly_sales_all[:3]"
   ]
  },
  {
   "cell_type": "code",
   "execution_count": 21,
   "metadata": {},
   "outputs": [
    {
     "data": {
      "text/plain": [
       "MinMaxScaler(copy=True, feature_range=(0, 1))"
      ]
     },
     "execution_count": 21,
     "metadata": {},
     "output_type": "execute_result"
    }
   ],
   "source": [
    "scaler = MinMaxScaler()\n",
    "scaler"
   ]
  },
  {
   "cell_type": "code",
   "execution_count": 22,
   "metadata": {},
   "outputs": [
    {
     "data": {
      "text/html": [
       "<div>\n",
       "<style scoped>\n",
       "    .dataframe tbody tr th:only-of-type {\n",
       "        vertical-align: middle;\n",
       "    }\n",
       "\n",
       "    .dataframe tbody tr th {\n",
       "        vertical-align: top;\n",
       "    }\n",
       "\n",
       "    .dataframe thead th {\n",
       "        text-align: right;\n",
       "    }\n",
       "</style>\n",
       "<table border=\"1\" class=\"dataframe\">\n",
       "  <thead>\n",
       "    <tr style=\"text-align: right;\">\n",
       "      <th></th>\n",
       "      <th>shop_id</th>\n",
       "      <th>item_id</th>\n",
       "      <th>date_block_num</th>\n",
       "      <th>shop_item_cnt</th>\n",
       "      <th>shop_cnt</th>\n",
       "      <th>item_cnt</th>\n",
       "      <th>sys_cnt</th>\n",
       "      <th>cat_cnt</th>\n",
       "      <th>cat_mix_cnt</th>\n",
       "    </tr>\n",
       "  </thead>\n",
       "  <tbody>\n",
       "    <tr>\n",
       "      <th>0</th>\n",
       "      <td>59</td>\n",
       "      <td>22154</td>\n",
       "      <td>0</td>\n",
       "      <td>1.0</td>\n",
       "      <td>2026.0</td>\n",
       "      <td>18.0</td>\n",
       "      <td>7860.0</td>\n",
       "      <td>6132.0</td>\n",
       "      <td>123.550667</td>\n",
       "    </tr>\n",
       "    <tr>\n",
       "      <th>1</th>\n",
       "      <td>59</td>\n",
       "      <td>22154</td>\n",
       "      <td>1</td>\n",
       "      <td>0.0</td>\n",
       "      <td>1906.0</td>\n",
       "      <td>6.0</td>\n",
       "      <td>7786.0</td>\n",
       "      <td>6340.0</td>\n",
       "      <td>258.903198</td>\n",
       "    </tr>\n",
       "    <tr>\n",
       "      <th>2</th>\n",
       "      <td>59</td>\n",
       "      <td>22154</td>\n",
       "      <td>2</td>\n",
       "      <td>0.0</td>\n",
       "      <td>2032.0</td>\n",
       "      <td>2.0</td>\n",
       "      <td>7709.0</td>\n",
       "      <td>6113.0</td>\n",
       "      <td>188.208893</td>\n",
       "    </tr>\n",
       "  </tbody>\n",
       "</table>\n",
       "</div>"
      ],
      "text/plain": [
       "   shop_id  item_id  date_block_num  shop_item_cnt  shop_cnt  item_cnt  \\\n",
       "0       59    22154               0            1.0    2026.0      18.0   \n",
       "1       59    22154               1            0.0    1906.0       6.0   \n",
       "2       59    22154               2            0.0    2032.0       2.0   \n",
       "\n",
       "   sys_cnt  cat_cnt  cat_mix_cnt  \n",
       "0   7860.0   6132.0   123.550667  \n",
       "1   7786.0   6340.0   258.903198  \n",
       "2   7709.0   6113.0   188.208893  "
      ]
     },
     "execution_count": 22,
     "metadata": {},
     "output_type": "execute_result"
    }
   ],
   "source": [
    "monthly_sales_all[:3]"
   ]
  },
  {
   "cell_type": "code",
   "execution_count": 23,
   "metadata": {},
   "outputs": [
    {
     "data": {
      "text/html": [
       "<div>\n",
       "<style scoped>\n",
       "    .dataframe tbody tr th:only-of-type {\n",
       "        vertical-align: middle;\n",
       "    }\n",
       "\n",
       "    .dataframe tbody tr th {\n",
       "        vertical-align: top;\n",
       "    }\n",
       "\n",
       "    .dataframe thead th {\n",
       "        text-align: right;\n",
       "    }\n",
       "</style>\n",
       "<table border=\"1\" class=\"dataframe\">\n",
       "  <thead>\n",
       "    <tr style=\"text-align: right;\">\n",
       "      <th></th>\n",
       "      <th>shop_id</th>\n",
       "      <th>item_id</th>\n",
       "      <th>date_block_num</th>\n",
       "      <th>shop_item_cnt</th>\n",
       "      <th>shop_cnt</th>\n",
       "      <th>item_cnt</th>\n",
       "      <th>sys_cnt</th>\n",
       "      <th>cat_cnt</th>\n",
       "      <th>cat_mix_cnt</th>\n",
       "    </tr>\n",
       "  </thead>\n",
       "  <tbody>\n",
       "    <tr>\n",
       "      <th>0</th>\n",
       "      <td>59</td>\n",
       "      <td>22154</td>\n",
       "      <td>0</td>\n",
       "      <td>0.001618</td>\n",
       "      <td>0.129814</td>\n",
       "      <td>0.001871</td>\n",
       "      <td>0.164116</td>\n",
       "      <td>0.168986</td>\n",
       "      <td>0.012844</td>\n",
       "    </tr>\n",
       "    <tr>\n",
       "      <th>1</th>\n",
       "      <td>59</td>\n",
       "      <td>22154</td>\n",
       "      <td>1</td>\n",
       "      <td>0.000000</td>\n",
       "      <td>0.122125</td>\n",
       "      <td>0.000624</td>\n",
       "      <td>0.162571</td>\n",
       "      <td>0.174718</td>\n",
       "      <td>0.026916</td>\n",
       "    </tr>\n",
       "    <tr>\n",
       "      <th>2</th>\n",
       "      <td>59</td>\n",
       "      <td>22154</td>\n",
       "      <td>2</td>\n",
       "      <td>0.000000</td>\n",
       "      <td>0.130198</td>\n",
       "      <td>0.000208</td>\n",
       "      <td>0.160963</td>\n",
       "      <td>0.168463</td>\n",
       "      <td>0.019566</td>\n",
       "    </tr>\n",
       "  </tbody>\n",
       "</table>\n",
       "</div>"
      ],
      "text/plain": [
       "   shop_id  item_id  date_block_num  shop_item_cnt  shop_cnt  item_cnt  \\\n",
       "0       59    22154               0       0.001618  0.129814  0.001871   \n",
       "1       59    22154               1       0.000000  0.122125  0.000624   \n",
       "2       59    22154               2       0.000000  0.130198  0.000208   \n",
       "\n",
       "    sys_cnt   cat_cnt  cat_mix_cnt  \n",
       "0  0.164116  0.168986     0.012844  \n",
       "1  0.162571  0.174718     0.026916  \n",
       "2  0.160963  0.168463     0.019566  "
      ]
     },
     "execution_count": 23,
     "metadata": {},
     "output_type": "execute_result"
    }
   ],
   "source": [
    "temp = scaler.fit_transform(monthly_sales_all[['shop_item_cnt','shop_cnt','item_cnt','sys_cnt','cat_cnt','cat_mix_cnt']])\n",
    "monthly_sales_all.loc[:,['shop_item_cnt','shop_cnt','item_cnt','sys_cnt','cat_cnt','cat_mix_cnt']] = temp\n",
    "monthly_sales_all[:3]"
   ]
  },
  {
   "cell_type": "code",
   "execution_count": 24,
   "metadata": {},
   "outputs": [
    {
     "data": {
      "text/plain": [
       "shop_id             int32\n",
       "item_id             int32\n",
       "date_block_num      int32\n",
       "shop_item_cnt     float32\n",
       "shop_cnt          float32\n",
       "item_cnt          float32\n",
       "sys_cnt           float32\n",
       "cat_cnt           float32\n",
       "cat_mix_cnt       float32\n",
       "dtype: object"
      ]
     },
     "execution_count": 24,
     "metadata": {},
     "output_type": "execute_result"
    }
   ],
   "source": [
    "monthly_sales_all = downcast_dtypes(monthly_sales_all)\n",
    "monthly_sales_all.dtypes"
   ]
  },
  {
   "cell_type": "code",
   "execution_count": 25,
   "metadata": {},
   "outputs": [
    {
     "data": {
      "text/plain": [
       "shop_id              59.0\n",
       "item_id           22169.0\n",
       "date_block_num       33.0\n",
       "shop_item_cnt         1.0\n",
       "shop_cnt              1.0\n",
       "item_cnt              1.0\n",
       "sys_cnt               1.0\n",
       "cat_cnt               1.0\n",
       "cat_mix_cnt           1.0\n",
       "dtype: float64"
      ]
     },
     "execution_count": 25,
     "metadata": {},
     "output_type": "execute_result"
    }
   ],
   "source": [
    "monthly_sales_all.max()"
   ]
  },
  {
   "cell_type": "code",
   "execution_count": 26,
   "metadata": {},
   "outputs": [],
   "source": [
    "del grid\n",
    "del train2\n",
    "del temp"
   ]
  },
  {
   "cell_type": "markdown",
   "metadata": {},
   "source": [
    "##### Append block 34"
   ]
  },
  {
   "cell_type": "code",
   "execution_count": 27,
   "metadata": {},
   "outputs": [
    {
     "name": "stdout",
     "output_type": "stream",
     "text": [
      "[34]\n"
     ]
    },
    {
     "data": {
      "text/html": [
       "<div>\n",
       "<style scoped>\n",
       "    .dataframe tbody tr th:only-of-type {\n",
       "        vertical-align: middle;\n",
       "    }\n",
       "\n",
       "    .dataframe tbody tr th {\n",
       "        vertical-align: top;\n",
       "    }\n",
       "\n",
       "    .dataframe thead th {\n",
       "        text-align: right;\n",
       "    }\n",
       "</style>\n",
       "<table border=\"1\" class=\"dataframe\">\n",
       "  <thead>\n",
       "    <tr style=\"text-align: right;\">\n",
       "      <th></th>\n",
       "      <th>shop_id</th>\n",
       "      <th>item_id</th>\n",
       "      <th>date_block_num</th>\n",
       "    </tr>\n",
       "  </thead>\n",
       "  <tbody>\n",
       "    <tr>\n",
       "      <th>33</th>\n",
       "      <td>59</td>\n",
       "      <td>22154</td>\n",
       "      <td>34</td>\n",
       "    </tr>\n",
       "    <tr>\n",
       "      <th>67</th>\n",
       "      <td>59</td>\n",
       "      <td>2552</td>\n",
       "      <td>34</td>\n",
       "    </tr>\n",
       "    <tr>\n",
       "      <th>101</th>\n",
       "      <td>59</td>\n",
       "      <td>2554</td>\n",
       "      <td>34</td>\n",
       "    </tr>\n",
       "  </tbody>\n",
       "</table>\n",
       "</div>"
      ],
      "text/plain": [
       "     shop_id  item_id  date_block_num\n",
       "33        59    22154              34\n",
       "67        59     2552              34\n",
       "101       59     2554              34"
      ]
     },
     "execution_count": 27,
     "metadata": {},
     "output_type": "execute_result"
    }
   ],
   "source": [
    "test_block = monthly_sales_all.loc[monthly_sales_all.date_block_num==33,['shop_id','item_id','date_block_num']]\n",
    "test_block.loc[:,'date_block_num'] += 1\n",
    "print(test_block.date_block_num.unique())\n",
    "test_block[:3]"
   ]
  },
  {
   "cell_type": "code",
   "execution_count": 28,
   "metadata": {},
   "outputs": [],
   "source": [
    "monthly_sales_all = pd.concat([monthly_sales_all,test_block],ignore_index=True).fillna(0)"
   ]
  },
  {
   "cell_type": "code",
   "execution_count": 29,
   "metadata": {},
   "outputs": [
    {
     "name": "stdout",
     "output_type": "stream",
     "text": [
      "(45788400, 9)\n"
     ]
    },
    {
     "data": {
      "text/html": [
       "<div>\n",
       "<style scoped>\n",
       "    .dataframe tbody tr th:only-of-type {\n",
       "        vertical-align: middle;\n",
       "    }\n",
       "\n",
       "    .dataframe tbody tr th {\n",
       "        vertical-align: top;\n",
       "    }\n",
       "\n",
       "    .dataframe thead th {\n",
       "        text-align: right;\n",
       "    }\n",
       "</style>\n",
       "<table border=\"1\" class=\"dataframe\">\n",
       "  <thead>\n",
       "    <tr style=\"text-align: right;\">\n",
       "      <th></th>\n",
       "      <th>cat_cnt</th>\n",
       "      <th>cat_mix_cnt</th>\n",
       "      <th>date_block_num</th>\n",
       "      <th>item_cnt</th>\n",
       "      <th>item_id</th>\n",
       "      <th>shop_cnt</th>\n",
       "      <th>shop_id</th>\n",
       "      <th>shop_item_cnt</th>\n",
       "      <th>sys_cnt</th>\n",
       "    </tr>\n",
       "  </thead>\n",
       "  <tbody>\n",
       "    <tr>\n",
       "      <th>0</th>\n",
       "      <td>0.168986</td>\n",
       "      <td>0.012844</td>\n",
       "      <td>0</td>\n",
       "      <td>0.001871</td>\n",
       "      <td>22154</td>\n",
       "      <td>0.129814</td>\n",
       "      <td>59</td>\n",
       "      <td>0.001618</td>\n",
       "      <td>0.164116</td>\n",
       "    </tr>\n",
       "    <tr>\n",
       "      <th>1</th>\n",
       "      <td>0.174718</td>\n",
       "      <td>0.026916</td>\n",
       "      <td>1</td>\n",
       "      <td>0.000624</td>\n",
       "      <td>22154</td>\n",
       "      <td>0.122125</td>\n",
       "      <td>59</td>\n",
       "      <td>0.000000</td>\n",
       "      <td>0.162571</td>\n",
       "    </tr>\n",
       "    <tr>\n",
       "      <th>2</th>\n",
       "      <td>0.168463</td>\n",
       "      <td>0.019566</td>\n",
       "      <td>2</td>\n",
       "      <td>0.000208</td>\n",
       "      <td>22154</td>\n",
       "      <td>0.130198</td>\n",
       "      <td>59</td>\n",
       "      <td>0.000000</td>\n",
       "      <td>0.160963</td>\n",
       "    </tr>\n",
       "  </tbody>\n",
       "</table>\n",
       "</div>"
      ],
      "text/plain": [
       "    cat_cnt  cat_mix_cnt  date_block_num  item_cnt  item_id  shop_cnt  \\\n",
       "0  0.168986     0.012844               0  0.001871    22154  0.129814   \n",
       "1  0.174718     0.026916               1  0.000624    22154  0.122125   \n",
       "2  0.168463     0.019566               2  0.000208    22154  0.130198   \n",
       "\n",
       "   shop_id  shop_item_cnt   sys_cnt  \n",
       "0       59       0.001618  0.164116  \n",
       "1       59       0.000000  0.162571  \n",
       "2       59       0.000000  0.160963  "
      ]
     },
     "execution_count": 29,
     "metadata": {},
     "output_type": "execute_result"
    }
   ],
   "source": [
    "print(monthly_sales_all.shape)\n",
    "monthly_sales_all[:3]"
   ]
  },
  {
   "cell_type": "code",
   "execution_count": 30,
   "metadata": {},
   "outputs": [],
   "source": [
    "del test_block"
   ]
  },
  {
   "cell_type": "code",
   "execution_count": 31,
   "metadata": {},
   "outputs": [
    {
     "name": "stdout",
     "output_type": "stream",
     "text": [
      "Wall time: 18.7 s\n"
     ]
    }
   ],
   "source": [
    "%%time\n",
    "monthly_sales_all.to_hdf(r'../data2/monthly_sales_no_lag.h5','monthly_sales_all')"
   ]
  },
  {
   "cell_type": "code",
   "execution_count": null,
   "metadata": {},
   "outputs": [],
   "source": []
  },
  {
   "cell_type": "markdown",
   "metadata": {},
   "source": [
    "### Start building features"
   ]
  },
  {
   "cell_type": "markdown",
   "metadata": {},
   "source": [
    "#### Set up time-based features"
   ]
  },
  {
   "cell_type": "code",
   "execution_count": 65,
   "metadata": {
    "scrolled": true
   },
   "outputs": [
    {
     "data": {
      "text/plain": [
       "<matplotlib.axes._subplots.AxesSubplot at 0x272815bc4e0>"
      ]
     },
     "execution_count": 65,
     "metadata": {},
     "output_type": "execute_result"
    },
    {
     "data": {
      "image/png": "[encoded data removed]",
      "text/plain": [
       "<Figure size 1440x360 with 1 Axes>"
      ]
     },
     "metadata": {
      "needs_background": "light"
     },
     "output_type": "display_data"
    }
   ],
   "source": [
    "# Clear seasonality - spike in Dec; March\n",
    "# Also a clear downward sloping trend\n",
    "plt.figure(figsize=(20,5))\n",
    "monthly_sales_all[monthly_sales_all.date_block_num<34].groupby(['date_block_num'])['shop_item_cnt'].sum().plot() "
   ]
  },
  {
   "cell_type": "markdown",
   "metadata": {},
   "source": [
    "<strong>Since we have lag features, we are just going to build the features on entire monthly_sales data w/o spliting monthly_sales and X_val. \n",
    "    \n",
    "However, make sure we do feature selection only on the monthly_sales portion (where date_block_num < hold_out_month) </strong>"
   ]
  },
  {
   "cell_type": "code",
   "execution_count": 11,
   "metadata": {},
   "outputs": [
    {
     "data": {
      "text/html": [
       "<div>\n",
       "<style scoped>\n",
       "    .dataframe tbody tr th:only-of-type {\n",
       "        vertical-align: middle;\n",
       "    }\n",
       "\n",
       "    .dataframe tbody tr th {\n",
       "        vertical-align: top;\n",
       "    }\n",
       "\n",
       "    .dataframe thead th {\n",
       "        text-align: right;\n",
       "    }\n",
       "</style>\n",
       "<table border=\"1\" class=\"dataframe\">\n",
       "  <thead>\n",
       "    <tr style=\"text-align: right;\">\n",
       "      <th></th>\n",
       "      <th>cat_cnt</th>\n",
       "      <th>cat_mix_cnt</th>\n",
       "      <th>date_block_num</th>\n",
       "      <th>item_cnt</th>\n",
       "      <th>item_id</th>\n",
       "      <th>shop_cnt</th>\n",
       "      <th>shop_id</th>\n",
       "      <th>shop_item_cnt</th>\n",
       "      <th>sys_cnt</th>\n",
       "    </tr>\n",
       "  </thead>\n",
       "  <tbody>\n",
       "    <tr>\n",
       "      <th>0</th>\n",
       "      <td>0.168986</td>\n",
       "      <td>0.012844</td>\n",
       "      <td>0</td>\n",
       "      <td>0.001871</td>\n",
       "      <td>22154</td>\n",
       "      <td>0.129814</td>\n",
       "      <td>59</td>\n",
       "      <td>0.001618</td>\n",
       "      <td>0.164116</td>\n",
       "    </tr>\n",
       "    <tr>\n",
       "      <th>1</th>\n",
       "      <td>0.174718</td>\n",
       "      <td>0.026916</td>\n",
       "      <td>1</td>\n",
       "      <td>0.000624</td>\n",
       "      <td>22154</td>\n",
       "      <td>0.122125</td>\n",
       "      <td>59</td>\n",
       "      <td>0.000000</td>\n",
       "      <td>0.162571</td>\n",
       "    </tr>\n",
       "    <tr>\n",
       "      <th>2</th>\n",
       "      <td>0.168463</td>\n",
       "      <td>0.019566</td>\n",
       "      <td>2</td>\n",
       "      <td>0.000208</td>\n",
       "      <td>22154</td>\n",
       "      <td>0.130198</td>\n",
       "      <td>59</td>\n",
       "      <td>0.000000</td>\n",
       "      <td>0.160963</td>\n",
       "    </tr>\n",
       "  </tbody>\n",
       "</table>\n",
       "</div>"
      ],
      "text/plain": [
       "    cat_cnt  cat_mix_cnt  date_block_num  item_cnt  item_id  shop_cnt  \\\n",
       "0  0.168986     0.012844               0  0.001871    22154  0.129814   \n",
       "1  0.174718     0.026916               1  0.000624    22154  0.122125   \n",
       "2  0.168463     0.019566               2  0.000208    22154  0.130198   \n",
       "\n",
       "   shop_id  shop_item_cnt   sys_cnt  \n",
       "0       59       0.001618  0.164116  \n",
       "1       59       0.000000  0.162571  \n",
       "2       59       0.000000  0.160963  "
      ]
     },
     "execution_count": 11,
     "metadata": {},
     "output_type": "execute_result"
    }
   ],
   "source": [
    "monthly_sales_all = pd.read_hdf(r'../data2/monthly_sales_no_lag.h5','monthly_sales_all')\n",
    "monthly_sales_all[:3]"
   ]
  },
  {
   "cell_type": "code",
   "execution_count": 5,
   "metadata": {},
   "outputs": [
    {
     "data": {
      "text/plain": [
       "['cat_cnt', 'cat_mix_cnt', 'item_cnt', 'shop_cnt', 'shop_item_cnt', 'sys_cnt']"
      ]
     },
     "execution_count": 5,
     "metadata": {},
     "output_type": "execute_result"
    }
   ],
   "source": [
    "index_cols = ['shop_id','item_id','date_block_num']\n",
    "cols_to_rename = list(monthly_sales_all.columns.difference(index_cols)) # all columns except these four\n",
    "shift_range = [1,2,3,4,5,12]\n",
    "cols_to_rename"
   ]
  },
  {
   "cell_type": "code",
   "execution_count": 6,
   "metadata": {
    "scrolled": true
   },
   "outputs": [
    {
     "data": {
      "text/plain": [
       "11"
      ]
     },
     "execution_count": 6,
     "metadata": {},
     "output_type": "execute_result"
    }
   ],
   "source": [
    "gc.collect()"
   ]
  },
  {
   "cell_type": "code",
   "execution_count": 7,
   "metadata": {},
   "outputs": [
    {
     "data": {
      "application/vnd.jupyter.widget-view+json": {
       "model_id": "ddb764e2f25c472bbbceb52150d544c0",
       "version_major": 2,
       "version_minor": 0
      },
      "text/plain": [
       "HBox(children=(IntProgress(value=0, max=6), HTML(value='')))"
      ]
     },
     "metadata": {},
     "output_type": "display_data"
    },
    {
     "name": "stdout",
     "output_type": "stream",
     "text": [
      "\n"
     ]
    }
   ],
   "source": [
    "for month_shift in tqdm_notebook(shift_range):\n",
    "    \n",
    "    \"\"\"Take the entire data set, add 1 to date_block_num, and rename the columns that we want to create a lag for\"\"\"\n",
    "    \n",
    "    train_shift = monthly_sales_all[index_cols + cols_to_rename].copy()\n",
    "    \n",
    "    train_shift['date_block_num'] = train_shift['date_block_num'] + month_shift\n",
    "    \n",
    "    foo = lambda x: '{}_lag_{}'.format(x, month_shift) if x in cols_to_rename else x\n",
    "    train_shift = train_shift.rename(columns=foo)\n",
    "\n",
    "    monthly_sales_all = pd.merge(monthly_sales_all, train_shift, on=index_cols, how='left').fillna(0)\n",
    "\n",
    "del train_shift"
   ]
  },
  {
   "cell_type": "code",
   "execution_count": 8,
   "metadata": {},
   "outputs": [],
   "source": [
    "monthly_sales_all['month'] = (np.mod(monthly_sales_all.date_block_num,12)+1).astype('int8')"
   ]
  },
  {
   "cell_type": "code",
   "execution_count": 9,
   "metadata": {},
   "outputs": [
    {
     "name": "stdout",
     "output_type": "stream",
     "text": [
      "Wall time: 1min 25s\n"
     ]
    }
   ],
   "source": [
    "%%time\n",
    "monthly_sales_all.to_hdf(r'../data2/monthly_sales_normalized_w_lags.h5','monthly_sales_all')"
   ]
  },
  {
   "cell_type": "code",
   "execution_count": null,
   "metadata": {},
   "outputs": [],
   "source": []
  },
  {
   "cell_type": "code",
   "execution_count": null,
   "metadata": {},
   "outputs": [],
   "source": [
    "# # List of all lagged features\n",
    "# fit_cols = [col for col in monthly_sales_all.columns if col[-1] in [str(item) for item in shift_range]] \n",
    "# # We will drop these at fitting stage\n",
    "# to_drop_cols = list(set(list(monthly_sales_all.columns)) - (set(fit_cols)|set(index_cols))) + ['date_block_num'] \n",
    "# to_drop_cols"
   ]
  },
  {
   "cell_type": "markdown",
   "metadata": {},
   "source": [
    "#### Tree model feat + moving average"
   ]
  },
  {
   "cell_type": "code",
   "execution_count": 16,
   "metadata": {},
   "outputs": [
    {
     "name": "stdout",
     "output_type": "stream",
     "text": [
      "Wall time: 1min 10s\n"
     ]
    }
   ],
   "source": [
    "%%time\n",
    "monthly_sales_all = pd.read_hdf(r'../data2/monthly_sales_normalized_w_lags.h5','monthly_sales_all')"
   ]
  },
  {
   "cell_type": "code",
   "execution_count": 17,
   "metadata": {},
   "outputs": [
    {
     "data": {
      "text/plain": [
       "34"
      ]
     },
     "execution_count": 17,
     "metadata": {},
     "output_type": "execute_result"
    }
   ],
   "source": [
    "monthly_sales_all.date_block_num.max()"
   ]
  },
  {
   "cell_type": "code",
   "execution_count": 18,
   "metadata": {},
   "outputs": [],
   "source": [
    "monthly_sales_all = monthly_sales_all[monthly_sales_all.date_block_num>=12]"
   ]
  },
  {
   "cell_type": "code",
   "execution_count": 19,
   "metadata": {},
   "outputs": [
    {
     "data": {
      "text/plain": [
       "(30089520, 46)"
      ]
     },
     "execution_count": 19,
     "metadata": {},
     "output_type": "execute_result"
    }
   ],
   "source": [
    "monthly_sales_all.shape"
   ]
  },
  {
   "cell_type": "code",
   "execution_count": 5,
   "metadata": {},
   "outputs": [],
   "source": [
    "monthly_sales_all['shop_item_ma1'] = (1/3) * (monthly_sales_all['shop_item_cnt_lag_1'] + monthly_sales_all['shop_item_cnt_lag_2'] + monthly_sales_all['shop_item_cnt_lag_3'])\n",
    "monthly_sales_all['shop_item_ma2'] = (1/3) * (monthly_sales_all['shop_item_cnt_lag_2'] + monthly_sales_all['shop_item_cnt_lag_3'] + monthly_sales_all['shop_item_cnt_lag_4'])\n",
    "monthly_sales_all['shop_item_ma3'] = (1/3) * (monthly_sales_all['shop_item_cnt_lag_3'] + monthly_sales_all['shop_item_cnt_lag_4'] + monthly_sales_all['shop_item_cnt_lag_5'])\n",
    "\n",
    "monthly_sales_all['item_ma1'] = (1/3) * (monthly_sales_all['item_cnt_lag_1'] + monthly_sales_all['item_cnt_lag_2'] + monthly_sales_all['item_cnt_lag_3'])\n",
    "monthly_sales_all['item_ma2'] = (1/3) * (monthly_sales_all['item_cnt_lag_2'] + monthly_sales_all['item_cnt_lag_3'] + monthly_sales_all['item_cnt_lag_4'])\n",
    "monthly_sales_all['item_ma3'] = (1/3) * (monthly_sales_all['item_cnt_lag_3'] + monthly_sales_all['item_cnt_lag_4'] + monthly_sales_all['item_cnt_lag_5'])\n",
    "\n",
    "monthly_sales_all['shop_ma1'] = (1/3) * (monthly_sales_all['shop_cnt_lag_1'] + monthly_sales_all['shop_cnt_lag_2'] + monthly_sales_all['shop_cnt_lag_3'])\n",
    "monthly_sales_all['shop_ma2'] = (1/3) * (monthly_sales_all['shop_cnt_lag_2'] + monthly_sales_all['shop_cnt_lag_3'] + monthly_sales_all['shop_cnt_lag_4'])\n",
    "monthly_sales_all['shop_ma3'] = (1/3) * (monthly_sales_all['shop_cnt_lag_3'] + monthly_sales_all['shop_cnt_lag_4'] + monthly_sales_all['shop_cnt_lag_5'])\n",
    "\n",
    "monthly_sales_all['cat_ma1'] = (1/3) * (monthly_sales_all['cat_cnt_lag_1'] + monthly_sales_all['cat_cnt_lag_2'] + monthly_sales_all['cat_cnt_lag_3'])\n",
    "monthly_sales_all['cat_ma2'] = (1/3) * (monthly_sales_all['cat_cnt_lag_2'] + monthly_sales_all['cat_cnt_lag_3'] + monthly_sales_all['cat_cnt_lag_4'])\n",
    "monthly_sales_all['cat_ma3'] = (1/3) * (monthly_sales_all['cat_cnt_lag_3'] + monthly_sales_all['cat_cnt_lag_4'] + monthly_sales_all['cat_cnt_lag_5'])"
   ]
  },
  {
   "cell_type": "code",
   "execution_count": 6,
   "metadata": {},
   "outputs": [],
   "source": [
    "monthly_sales_all['cat_mix_ma1'] = (1/3) * (monthly_sales_all['cat_mix_cnt_lag_1'] + monthly_sales_all['cat_mix_cnt_lag_2'] + monthly_sales_all['cat_mix_cnt_lag_3'])\n",
    "monthly_sales_all['cat_mix_ma2'] = (1/3) * (monthly_sales_all['cat_mix_cnt_lag_2'] + monthly_sales_all['cat_mix_cnt_lag_3'] + monthly_sales_all['cat_mix_cnt_lag_4'])\n",
    "monthly_sales_all['cat_mix_ma3'] = (1/3) * (monthly_sales_all['cat_mix_cnt_lag_3'] + monthly_sales_all['cat_mix_cnt_lag_4'] + monthly_sales_all['cat_mix_cnt_lag_5'])\n",
    "\n",
    "monthly_sales_all['sys_ma1'] = (1/3) * (monthly_sales_all['sys_cnt_lag_1'] + monthly_sales_all['sys_cnt_lag_2'] + monthly_sales_all['sys_cnt_lag_3'])\n",
    "monthly_sales_all['sys_ma2'] = (1/3) * (monthly_sales_all['sys_cnt_lag_2'] + monthly_sales_all['sys_cnt_lag_3'] + monthly_sales_all['sys_cnt_lag_4'])\n",
    "monthly_sales_all['sys_ma3'] = (1/3) * (monthly_sales_all['sys_cnt_lag_3'] + monthly_sales_all['sys_cnt_lag_4'] + monthly_sales_all['sys_cnt_lag_5'])"
   ]
  },
  {
   "cell_type": "code",
   "execution_count": 9,
   "metadata": {},
   "outputs": [],
   "source": [
    "monthly_sales_all=downcast_dtypes(monthly_sales_all)"
   ]
  },
  {
   "cell_type": "code",
   "execution_count": 10,
   "metadata": {},
   "outputs": [],
   "source": [
    "monthly_sales_all.drop(labels=['cat_cnt','cat_mix_cnt','item_cnt','shop_cnt','sys_cnt','shop_item_cnt'],axis=1,inplace=True)"
   ]
  },
  {
   "cell_type": "code",
   "execution_count": 11,
   "metadata": {},
   "outputs": [
    {
     "data": {
      "text/html": [
       "<div>\n",
       "<style scoped>\n",
       "    .dataframe tbody tr th:only-of-type {\n",
       "        vertical-align: middle;\n",
       "    }\n",
       "\n",
       "    .dataframe tbody tr th {\n",
       "        vertical-align: top;\n",
       "    }\n",
       "\n",
       "    .dataframe thead th {\n",
       "        text-align: right;\n",
       "    }\n",
       "</style>\n",
       "<table border=\"1\" class=\"dataframe\">\n",
       "  <thead>\n",
       "    <tr style=\"text-align: right;\">\n",
       "      <th></th>\n",
       "      <th>shop_id</th>\n",
       "      <th>item_id</th>\n",
       "      <th>date_block_num</th>\n",
       "      <th>shop_item_cnt</th>\n",
       "      <th>shop_item_cnt_lag1</th>\n",
       "    </tr>\n",
       "  </thead>\n",
       "  <tbody>\n",
       "    <tr>\n",
       "      <th>13194007</th>\n",
       "      <td>0</td>\n",
       "      <td>0</td>\n",
       "      <td>1</td>\n",
       "      <td>0.0</td>\n",
       "      <td>0.0</td>\n",
       "    </tr>\n",
       "    <tr>\n",
       "      <th>13194008</th>\n",
       "      <td>0</td>\n",
       "      <td>0</td>\n",
       "      <td>2</td>\n",
       "      <td>0.0</td>\n",
       "      <td>0.0</td>\n",
       "    </tr>\n",
       "    <tr>\n",
       "      <th>13194009</th>\n",
       "      <td>0</td>\n",
       "      <td>0</td>\n",
       "      <td>3</td>\n",
       "      <td>0.0</td>\n",
       "      <td>0.0</td>\n",
       "    </tr>\n",
       "  </tbody>\n",
       "</table>\n",
       "</div>"
      ],
      "text/plain": [
       "          shop_id  item_id  date_block_num  shop_item_cnt  shop_item_cnt_lag1\n",
       "13194007        0        0               1            0.0                 0.0\n",
       "13194008        0        0               2            0.0                 0.0\n",
       "13194009        0        0               3            0.0                 0.0"
      ]
     },
     "execution_count": 11,
     "metadata": {},
     "output_type": "execute_result"
    }
   ],
   "source": [
    "temp = pd.read_hdf(r'../data2/temp.h5','monthly_sales_all')\n",
    "temp[:3]"
   ]
  },
  {
   "cell_type": "code",
   "execution_count": 12,
   "metadata": {
    "scrolled": false
   },
   "outputs": [
    {
     "data": {
      "text/html": [
       "<div>\n",
       "<style scoped>\n",
       "    .dataframe tbody tr th:only-of-type {\n",
       "        vertical-align: middle;\n",
       "    }\n",
       "\n",
       "    .dataframe tbody tr th {\n",
       "        vertical-align: top;\n",
       "    }\n",
       "\n",
       "    .dataframe thead th {\n",
       "        text-align: right;\n",
       "    }\n",
       "</style>\n",
       "<table border=\"1\" class=\"dataframe\">\n",
       "  <thead>\n",
       "    <tr style=\"text-align: right;\">\n",
       "      <th></th>\n",
       "      <th>date_block_num</th>\n",
       "      <th>item_id</th>\n",
       "      <th>shop_id</th>\n",
       "      <th>cat_cnt_lag_1</th>\n",
       "      <th>cat_mix_cnt_lag_1</th>\n",
       "      <th>item_cnt_lag_1</th>\n",
       "      <th>shop_cnt_lag_1</th>\n",
       "      <th>shop_item_cnt_lag_1</th>\n",
       "      <th>sys_cnt_lag_1</th>\n",
       "      <th>cat_cnt_lag_2</th>\n",
       "      <th>...</th>\n",
       "      <th>cat_ma1</th>\n",
       "      <th>cat_ma2</th>\n",
       "      <th>cat_ma3</th>\n",
       "      <th>cat_mix_ma1</th>\n",
       "      <th>cat_mix_ma2</th>\n",
       "      <th>cat_mix_ma3</th>\n",
       "      <th>sys_ma1</th>\n",
       "      <th>sys_ma2</th>\n",
       "      <th>sys_ma3</th>\n",
       "      <th>shop_item_cnt</th>\n",
       "    </tr>\n",
       "  </thead>\n",
       "  <tbody>\n",
       "    <tr>\n",
       "      <th>0</th>\n",
       "      <td>12</td>\n",
       "      <td>22154</td>\n",
       "      <td>59</td>\n",
       "      <td>0.275278</td>\n",
       "      <td>0.023307</td>\n",
       "      <td>0.000104</td>\n",
       "      <td>0.153649</td>\n",
       "      <td>0.0</td>\n",
       "      <td>0.253001</td>\n",
       "      <td>0.205060</td>\n",
       "      <td>...</td>\n",
       "      <td>0.224314</td>\n",
       "      <td>0.203314</td>\n",
       "      <td>0.215265</td>\n",
       "      <td>0.019308</td>\n",
       "      <td>0.024600</td>\n",
       "      <td>0.025013</td>\n",
       "      <td>0.204268</td>\n",
       "      <td>0.181899</td>\n",
       "      <td>0.190598</td>\n",
       "      <td>0.0</td>\n",
       "    </tr>\n",
       "    <tr>\n",
       "      <th>1</th>\n",
       "      <td>13</td>\n",
       "      <td>22154</td>\n",
       "      <td>59</td>\n",
       "      <td>0.207926</td>\n",
       "      <td>0.019834</td>\n",
       "      <td>0.000000</td>\n",
       "      <td>0.096111</td>\n",
       "      <td>0.0</td>\n",
       "      <td>0.187877</td>\n",
       "      <td>0.275278</td>\n",
       "      <td>...</td>\n",
       "      <td>0.229421</td>\n",
       "      <td>0.224314</td>\n",
       "      <td>0.203314</td>\n",
       "      <td>0.019718</td>\n",
       "      <td>0.019308</td>\n",
       "      <td>0.024600</td>\n",
       "      <td>0.209182</td>\n",
       "      <td>0.204268</td>\n",
       "      <td>0.181899</td>\n",
       "      <td>0.0</td>\n",
       "    </tr>\n",
       "    <tr>\n",
       "      <th>2</th>\n",
       "      <td>14</td>\n",
       "      <td>22154</td>\n",
       "      <td>59</td>\n",
       "      <td>0.166561</td>\n",
       "      <td>0.022149</td>\n",
       "      <td>0.000000</td>\n",
       "      <td>0.091497</td>\n",
       "      <td>0.0</td>\n",
       "      <td>0.152736</td>\n",
       "      <td>0.207926</td>\n",
       "      <td>...</td>\n",
       "      <td>0.216588</td>\n",
       "      <td>0.229421</td>\n",
       "      <td>0.224314</td>\n",
       "      <td>0.021764</td>\n",
       "      <td>0.019718</td>\n",
       "      <td>0.019308</td>\n",
       "      <td>0.197872</td>\n",
       "      <td>0.209182</td>\n",
       "      <td>0.204268</td>\n",
       "      <td>0.0</td>\n",
       "    </tr>\n",
       "  </tbody>\n",
       "</table>\n",
       "<p>3 rows × 59 columns</p>\n",
       "</div>"
      ],
      "text/plain": [
       "   date_block_num  item_id  shop_id  cat_cnt_lag_1  cat_mix_cnt_lag_1  \\\n",
       "0              12    22154       59       0.275278           0.023307   \n",
       "1              13    22154       59       0.207926           0.019834   \n",
       "2              14    22154       59       0.166561           0.022149   \n",
       "\n",
       "   item_cnt_lag_1  shop_cnt_lag_1  shop_item_cnt_lag_1  sys_cnt_lag_1  \\\n",
       "0        0.000104        0.153649                  0.0       0.253001   \n",
       "1        0.000000        0.096111                  0.0       0.187877   \n",
       "2        0.000000        0.091497                  0.0       0.152736   \n",
       "\n",
       "   cat_cnt_lag_2      ...         cat_ma1   cat_ma2   cat_ma3  cat_mix_ma1  \\\n",
       "0       0.205060      ...        0.224314  0.203314  0.215265     0.019308   \n",
       "1       0.275278      ...        0.229421  0.224314  0.203314     0.019718   \n",
       "2       0.207926      ...        0.216588  0.229421  0.224314     0.021764   \n",
       "\n",
       "   cat_mix_ma2  cat_mix_ma3   sys_ma1   sys_ma2   sys_ma3  shop_item_cnt  \n",
       "0     0.024600     0.025013  0.204268  0.181899  0.190598            0.0  \n",
       "1     0.019308     0.024600  0.209182  0.204268  0.181899            0.0  \n",
       "2     0.019718     0.019308  0.197872  0.209182  0.204268            0.0  \n",
       "\n",
       "[3 rows x 59 columns]"
      ]
     },
     "execution_count": 12,
     "metadata": {},
     "output_type": "execute_result"
    }
   ],
   "source": [
    "monthly_sales_all = pd.merge(monthly_sales_all,temp[['shop_id','item_id','date_block_num','shop_item_cnt']],how='left')\n",
    "monthly_sales_all[:3]"
   ]
  },
  {
   "cell_type": "code",
   "execution_count": 13,
   "metadata": {},
   "outputs": [
    {
     "data": {
      "text/plain": [
       "34"
      ]
     },
     "execution_count": 13,
     "metadata": {},
     "output_type": "execute_result"
    }
   ],
   "source": [
    "monthly_sales_all.date_block_num.max()"
   ]
  },
  {
   "cell_type": "code",
   "execution_count": 14,
   "metadata": {},
   "outputs": [
    {
     "data": {
      "text/plain": [
       "56"
      ]
     },
     "execution_count": 14,
     "metadata": {},
     "output_type": "execute_result"
    }
   ],
   "source": [
    "gc.collect()"
   ]
  },
  {
   "cell_type": "code",
   "execution_count": 15,
   "metadata": {},
   "outputs": [],
   "source": [
    "monthly_sales_all.to_hdf(r'../data2/tree_feats_ex_1st_12month.h5','monthly_sales_all')"
   ]
  },
  {
   "cell_type": "markdown",
   "metadata": {},
   "source": [
    "#### Linear model feat + one_hot month\n",
    "- <strong>One-hot encode month</strong>"
   ]
  },
  {
   "cell_type": "code",
   "execution_count": 20,
   "metadata": {},
   "outputs": [],
   "source": [
    "enc = OneHotEncoder()"
   ]
  },
  {
   "cell_type": "code",
   "execution_count": 21,
   "metadata": {},
   "outputs": [
    {
     "data": {
      "text/plain": [
       "array([[1., 0., 0., 0., 0., 0., 0., 0., 0., 0., 0., 0.],\n",
       "       [0., 1., 0., 0., 0., 0., 0., 0., 0., 0., 0., 0.],\n",
       "       [0., 0., 1., 0., 0., 0., 0., 0., 0., 0., 0., 0.],\n",
       "       [0., 0., 0., 1., 0., 0., 0., 0., 0., 0., 0., 0.],\n",
       "       [0., 0., 0., 0., 1., 0., 0., 0., 0., 0., 0., 0.],\n",
       "       [0., 0., 0., 0., 0., 1., 0., 0., 0., 0., 0., 0.],\n",
       "       [0., 0., 0., 0., 0., 0., 1., 0., 0., 0., 0., 0.],\n",
       "       [0., 0., 0., 0., 0., 0., 0., 1., 0., 0., 0., 0.],\n",
       "       [0., 0., 0., 0., 0., 0., 0., 0., 1., 0., 0., 0.],\n",
       "       [0., 0., 0., 0., 0., 0., 0., 0., 0., 1., 0., 0.],\n",
       "       [0., 0., 0., 0., 0., 0., 0., 0., 0., 0., 1., 0.],\n",
       "       [0., 0., 0., 0., 0., 0., 0., 0., 0., 0., 0., 1.]])"
      ]
     },
     "execution_count": 21,
     "metadata": {},
     "output_type": "execute_result"
    }
   ],
   "source": [
    "enc.fit_transform(pd.DataFrame(list(range(1,13)))).toarray()"
   ]
  },
  {
   "cell_type": "code",
   "execution_count": 22,
   "metadata": {},
   "outputs": [
    {
     "data": {
      "text/plain": [
       "(12, 12)"
      ]
     },
     "execution_count": 22,
     "metadata": {},
     "output_type": "execute_result"
    }
   ],
   "source": [
    "m_onehot = enc.fit_transform(pd.DataFrame(list(range(1,13)))).toarray()\n",
    "m_onehot.shape\n",
    "# 12 levels -> 12 features, need to drop 1 to avoid multicolinearity (since we are first going to fit a linear model)\n",
    "\n",
    "# reshape(-1,1) -1 means unknown dimension which we just let numpy to figure out\n",
    "# since OneHotEncoder() takes 2-D array, we need to make our 1D series into a 2-D matrix format\n",
    "# we know there is one column, and let numpy to figure out how many rows there should be\n",
    "# <=> reshape.(rows_in_your_data,1)"
   ]
  },
  {
   "cell_type": "code",
   "execution_count": 23,
   "metadata": {
    "scrolled": false
   },
   "outputs": [
    {
     "data": {
      "text/html": [
       "<div>\n",
       "<style scoped>\n",
       "    .dataframe tbody tr th:only-of-type {\n",
       "        vertical-align: middle;\n",
       "    }\n",
       "\n",
       "    .dataframe tbody tr th {\n",
       "        vertical-align: top;\n",
       "    }\n",
       "\n",
       "    .dataframe thead th {\n",
       "        text-align: right;\n",
       "    }\n",
       "</style>\n",
       "<table border=\"1\" class=\"dataframe\">\n",
       "  <thead>\n",
       "    <tr style=\"text-align: right;\">\n",
       "      <th></th>\n",
       "      <th>month</th>\n",
       "      <th>m2</th>\n",
       "      <th>m3</th>\n",
       "      <th>m4</th>\n",
       "      <th>m5</th>\n",
       "      <th>m6</th>\n",
       "      <th>m7</th>\n",
       "      <th>m8</th>\n",
       "      <th>m9</th>\n",
       "      <th>m10</th>\n",
       "      <th>m11</th>\n",
       "      <th>m12</th>\n",
       "    </tr>\n",
       "  </thead>\n",
       "  <tbody>\n",
       "    <tr>\n",
       "      <th>0</th>\n",
       "      <td>1</td>\n",
       "      <td>0</td>\n",
       "      <td>0</td>\n",
       "      <td>0</td>\n",
       "      <td>0</td>\n",
       "      <td>0</td>\n",
       "      <td>0</td>\n",
       "      <td>0</td>\n",
       "      <td>0</td>\n",
       "      <td>0</td>\n",
       "      <td>0</td>\n",
       "      <td>0</td>\n",
       "    </tr>\n",
       "    <tr>\n",
       "      <th>1</th>\n",
       "      <td>2</td>\n",
       "      <td>1</td>\n",
       "      <td>0</td>\n",
       "      <td>0</td>\n",
       "      <td>0</td>\n",
       "      <td>0</td>\n",
       "      <td>0</td>\n",
       "      <td>0</td>\n",
       "      <td>0</td>\n",
       "      <td>0</td>\n",
       "      <td>0</td>\n",
       "      <td>0</td>\n",
       "    </tr>\n",
       "    <tr>\n",
       "      <th>2</th>\n",
       "      <td>3</td>\n",
       "      <td>0</td>\n",
       "      <td>1</td>\n",
       "      <td>0</td>\n",
       "      <td>0</td>\n",
       "      <td>0</td>\n",
       "      <td>0</td>\n",
       "      <td>0</td>\n",
       "      <td>0</td>\n",
       "      <td>0</td>\n",
       "      <td>0</td>\n",
       "      <td>0</td>\n",
       "    </tr>\n",
       "    <tr>\n",
       "      <th>3</th>\n",
       "      <td>4</td>\n",
       "      <td>0</td>\n",
       "      <td>0</td>\n",
       "      <td>1</td>\n",
       "      <td>0</td>\n",
       "      <td>0</td>\n",
       "      <td>0</td>\n",
       "      <td>0</td>\n",
       "      <td>0</td>\n",
       "      <td>0</td>\n",
       "      <td>0</td>\n",
       "      <td>0</td>\n",
       "    </tr>\n",
       "    <tr>\n",
       "      <th>4</th>\n",
       "      <td>5</td>\n",
       "      <td>0</td>\n",
       "      <td>0</td>\n",
       "      <td>0</td>\n",
       "      <td>1</td>\n",
       "      <td>0</td>\n",
       "      <td>0</td>\n",
       "      <td>0</td>\n",
       "      <td>0</td>\n",
       "      <td>0</td>\n",
       "      <td>0</td>\n",
       "      <td>0</td>\n",
       "    </tr>\n",
       "    <tr>\n",
       "      <th>5</th>\n",
       "      <td>6</td>\n",
       "      <td>0</td>\n",
       "      <td>0</td>\n",
       "      <td>0</td>\n",
       "      <td>0</td>\n",
       "      <td>1</td>\n",
       "      <td>0</td>\n",
       "      <td>0</td>\n",
       "      <td>0</td>\n",
       "      <td>0</td>\n",
       "      <td>0</td>\n",
       "      <td>0</td>\n",
       "    </tr>\n",
       "    <tr>\n",
       "      <th>6</th>\n",
       "      <td>7</td>\n",
       "      <td>0</td>\n",
       "      <td>0</td>\n",
       "      <td>0</td>\n",
       "      <td>0</td>\n",
       "      <td>0</td>\n",
       "      <td>1</td>\n",
       "      <td>0</td>\n",
       "      <td>0</td>\n",
       "      <td>0</td>\n",
       "      <td>0</td>\n",
       "      <td>0</td>\n",
       "    </tr>\n",
       "    <tr>\n",
       "      <th>7</th>\n",
       "      <td>8</td>\n",
       "      <td>0</td>\n",
       "      <td>0</td>\n",
       "      <td>0</td>\n",
       "      <td>0</td>\n",
       "      <td>0</td>\n",
       "      <td>0</td>\n",
       "      <td>1</td>\n",
       "      <td>0</td>\n",
       "      <td>0</td>\n",
       "      <td>0</td>\n",
       "      <td>0</td>\n",
       "    </tr>\n",
       "    <tr>\n",
       "      <th>8</th>\n",
       "      <td>9</td>\n",
       "      <td>0</td>\n",
       "      <td>0</td>\n",
       "      <td>0</td>\n",
       "      <td>0</td>\n",
       "      <td>0</td>\n",
       "      <td>0</td>\n",
       "      <td>0</td>\n",
       "      <td>1</td>\n",
       "      <td>0</td>\n",
       "      <td>0</td>\n",
       "      <td>0</td>\n",
       "    </tr>\n",
       "    <tr>\n",
       "      <th>9</th>\n",
       "      <td>10</td>\n",
       "      <td>0</td>\n",
       "      <td>0</td>\n",
       "      <td>0</td>\n",
       "      <td>0</td>\n",
       "      <td>0</td>\n",
       "      <td>0</td>\n",
       "      <td>0</td>\n",
       "      <td>0</td>\n",
       "      <td>1</td>\n",
       "      <td>0</td>\n",
       "      <td>0</td>\n",
       "    </tr>\n",
       "    <tr>\n",
       "      <th>10</th>\n",
       "      <td>11</td>\n",
       "      <td>0</td>\n",
       "      <td>0</td>\n",
       "      <td>0</td>\n",
       "      <td>0</td>\n",
       "      <td>0</td>\n",
       "      <td>0</td>\n",
       "      <td>0</td>\n",
       "      <td>0</td>\n",
       "      <td>0</td>\n",
       "      <td>1</td>\n",
       "      <td>0</td>\n",
       "    </tr>\n",
       "    <tr>\n",
       "      <th>11</th>\n",
       "      <td>12</td>\n",
       "      <td>0</td>\n",
       "      <td>0</td>\n",
       "      <td>0</td>\n",
       "      <td>0</td>\n",
       "      <td>0</td>\n",
       "      <td>0</td>\n",
       "      <td>0</td>\n",
       "      <td>0</td>\n",
       "      <td>0</td>\n",
       "      <td>0</td>\n",
       "      <td>1</td>\n",
       "    </tr>\n",
       "  </tbody>\n",
       "</table>\n",
       "</div>"
      ],
      "text/plain": [
       "    month  m2  m3  m4  m5  m6  m7  m8  m9  m10  m11  m12\n",
       "0       1   0   0   0   0   0   0   0   0    0    0    0\n",
       "1       2   1   0   0   0   0   0   0   0    0    0    0\n",
       "2       3   0   1   0   0   0   0   0   0    0    0    0\n",
       "3       4   0   0   1   0   0   0   0   0    0    0    0\n",
       "4       5   0   0   0   1   0   0   0   0    0    0    0\n",
       "5       6   0   0   0   0   1   0   0   0    0    0    0\n",
       "6       7   0   0   0   0   0   1   0   0    0    0    0\n",
       "7       8   0   0   0   0   0   0   1   0    0    0    0\n",
       "8       9   0   0   0   0   0   0   0   1    0    0    0\n",
       "9      10   0   0   0   0   0   0   0   0    1    0    0\n",
       "10     11   0   0   0   0   0   0   0   0    0    1    0\n",
       "11     12   0   0   0   0   0   0   0   0    0    0    1"
      ]
     },
     "execution_count": 23,
     "metadata": {},
     "output_type": "execute_result"
    }
   ],
   "source": [
    "m_onehot_df = pd.DataFrame(np.hstack((np.array(range(1,13)).reshape(12,1),m_onehot[:,1:])), columns=['month']+['m'+str(i) for i in range(2,13)], dtype='int8')\n",
    "m_onehot_df"
   ]
  },
  {
   "cell_type": "code",
   "execution_count": 24,
   "metadata": {},
   "outputs": [
    {
     "data": {
      "text/html": [
       "<div>\n",
       "<style scoped>\n",
       "    .dataframe tbody tr th:only-of-type {\n",
       "        vertical-align: middle;\n",
       "    }\n",
       "\n",
       "    .dataframe tbody tr th {\n",
       "        vertical-align: top;\n",
       "    }\n",
       "\n",
       "    .dataframe thead th {\n",
       "        text-align: right;\n",
       "    }\n",
       "</style>\n",
       "<table border=\"1\" class=\"dataframe\">\n",
       "  <thead>\n",
       "    <tr style=\"text-align: right;\">\n",
       "      <th></th>\n",
       "      <th>cat_cnt</th>\n",
       "      <th>cat_mix_cnt</th>\n",
       "      <th>date_block_num</th>\n",
       "      <th>item_cnt</th>\n",
       "      <th>item_id</th>\n",
       "      <th>shop_cnt</th>\n",
       "      <th>shop_id</th>\n",
       "      <th>shop_item_cnt</th>\n",
       "      <th>sys_cnt</th>\n",
       "      <th>cat_cnt_lag_1</th>\n",
       "      <th>...</th>\n",
       "      <th>m3</th>\n",
       "      <th>m4</th>\n",
       "      <th>m5</th>\n",
       "      <th>m6</th>\n",
       "      <th>m7</th>\n",
       "      <th>m8</th>\n",
       "      <th>m9</th>\n",
       "      <th>m10</th>\n",
       "      <th>m11</th>\n",
       "      <th>m12</th>\n",
       "    </tr>\n",
       "  </thead>\n",
       "  <tbody>\n",
       "    <tr>\n",
       "      <th>0</th>\n",
       "      <td>0.207926</td>\n",
       "      <td>0.019834</td>\n",
       "      <td>12</td>\n",
       "      <td>0.0</td>\n",
       "      <td>22154</td>\n",
       "      <td>0.096111</td>\n",
       "      <td>59</td>\n",
       "      <td>0.0</td>\n",
       "      <td>0.187877</td>\n",
       "      <td>0.275278</td>\n",
       "      <td>...</td>\n",
       "      <td>0</td>\n",
       "      <td>0</td>\n",
       "      <td>0</td>\n",
       "      <td>0</td>\n",
       "      <td>0</td>\n",
       "      <td>0</td>\n",
       "      <td>0</td>\n",
       "      <td>0</td>\n",
       "      <td>0</td>\n",
       "      <td>0</td>\n",
       "    </tr>\n",
       "    <tr>\n",
       "      <th>1</th>\n",
       "      <td>0.166561</td>\n",
       "      <td>0.022149</td>\n",
       "      <td>13</td>\n",
       "      <td>0.0</td>\n",
       "      <td>22154</td>\n",
       "      <td>0.091497</td>\n",
       "      <td>59</td>\n",
       "      <td>0.0</td>\n",
       "      <td>0.152736</td>\n",
       "      <td>0.207926</td>\n",
       "      <td>...</td>\n",
       "      <td>0</td>\n",
       "      <td>0</td>\n",
       "      <td>0</td>\n",
       "      <td>0</td>\n",
       "      <td>0</td>\n",
       "      <td>0</td>\n",
       "      <td>0</td>\n",
       "      <td>0</td>\n",
       "      <td>0</td>\n",
       "      <td>0</td>\n",
       "    </tr>\n",
       "    <tr>\n",
       "      <th>2</th>\n",
       "      <td>0.174553</td>\n",
       "      <td>0.014695</td>\n",
       "      <td>14</td>\n",
       "      <td>0.0</td>\n",
       "      <td>22154</td>\n",
       "      <td>0.094509</td>\n",
       "      <td>59</td>\n",
       "      <td>0.0</td>\n",
       "      <td>0.164888</td>\n",
       "      <td>0.166561</td>\n",
       "      <td>...</td>\n",
       "      <td>1</td>\n",
       "      <td>0</td>\n",
       "      <td>0</td>\n",
       "      <td>0</td>\n",
       "      <td>0</td>\n",
       "      <td>0</td>\n",
       "      <td>0</td>\n",
       "      <td>0</td>\n",
       "      <td>0</td>\n",
       "      <td>0</td>\n",
       "    </tr>\n",
       "  </tbody>\n",
       "</table>\n",
       "<p>3 rows × 56 columns</p>\n",
       "</div>"
      ],
      "text/plain": [
       "    cat_cnt  cat_mix_cnt  date_block_num  item_cnt  item_id  shop_cnt  \\\n",
       "0  0.207926     0.019834              12       0.0    22154  0.096111   \n",
       "1  0.166561     0.022149              13       0.0    22154  0.091497   \n",
       "2  0.174553     0.014695              14       0.0    22154  0.094509   \n",
       "\n",
       "   shop_id  shop_item_cnt   sys_cnt  cat_cnt_lag_1 ...   m3  m4  m5  m6  m7  \\\n",
       "0       59            0.0  0.187877       0.275278 ...    0   0   0   0   0   \n",
       "1       59            0.0  0.152736       0.207926 ...    0   0   0   0   0   \n",
       "2       59            0.0  0.164888       0.166561 ...    1   0   0   0   0   \n",
       "\n",
       "   m8  m9  m10  m11  m12  \n",
       "0   0   0    0    0    0  \n",
       "1   0   0    0    0    0  \n",
       "2   0   0    0    0    0  \n",
       "\n",
       "[3 rows x 56 columns]"
      ]
     },
     "execution_count": 24,
     "metadata": {},
     "output_type": "execute_result"
    }
   ],
   "source": [
    "monthly_sales_all = pd.merge(monthly_sales_all,m_onehot_df,how='left',on='month').drop(labels=['month'],axis=1)\n",
    "monthly_sales_all[:3]"
   ]
  },
  {
   "cell_type": "code",
   "execution_count": 4,
   "metadata": {},
   "outputs": [],
   "source": [
    "monthly_sales_all=pd.read_hdf(r'../data2/lm_feat_ex_1st_12_month.h5','monthly_sales_all')"
   ]
  },
  {
   "cell_type": "code",
   "execution_count": 25,
   "metadata": {},
   "outputs": [],
   "source": [
    "monthly_sales_all.drop(labels=['cat_cnt','cat_mix_cnt','item_cnt','shop_cnt','sys_cnt','shop_item_cnt'],axis=1,inplace=True)"
   ]
  },
  {
   "cell_type": "code",
   "execution_count": 26,
   "metadata": {},
   "outputs": [
    {
     "data": {
      "text/html": [
       "<div>\n",
       "<style scoped>\n",
       "    .dataframe tbody tr th:only-of-type {\n",
       "        vertical-align: middle;\n",
       "    }\n",
       "\n",
       "    .dataframe tbody tr th {\n",
       "        vertical-align: top;\n",
       "    }\n",
       "\n",
       "    .dataframe thead th {\n",
       "        text-align: right;\n",
       "    }\n",
       "</style>\n",
       "<table border=\"1\" class=\"dataframe\">\n",
       "  <thead>\n",
       "    <tr style=\"text-align: right;\">\n",
       "      <th></th>\n",
       "      <th>shop_id</th>\n",
       "      <th>item_id</th>\n",
       "      <th>date_block_num</th>\n",
       "      <th>shop_item_cnt</th>\n",
       "      <th>shop_item_cnt_lag1</th>\n",
       "    </tr>\n",
       "  </thead>\n",
       "  <tbody>\n",
       "    <tr>\n",
       "      <th>13194007</th>\n",
       "      <td>0</td>\n",
       "      <td>0</td>\n",
       "      <td>1</td>\n",
       "      <td>0.0</td>\n",
       "      <td>0.0</td>\n",
       "    </tr>\n",
       "    <tr>\n",
       "      <th>13194008</th>\n",
       "      <td>0</td>\n",
       "      <td>0</td>\n",
       "      <td>2</td>\n",
       "      <td>0.0</td>\n",
       "      <td>0.0</td>\n",
       "    </tr>\n",
       "    <tr>\n",
       "      <th>13194009</th>\n",
       "      <td>0</td>\n",
       "      <td>0</td>\n",
       "      <td>3</td>\n",
       "      <td>0.0</td>\n",
       "      <td>0.0</td>\n",
       "    </tr>\n",
       "  </tbody>\n",
       "</table>\n",
       "</div>"
      ],
      "text/plain": [
       "          shop_id  item_id  date_block_num  shop_item_cnt  shop_item_cnt_lag1\n",
       "13194007        0        0               1            0.0                 0.0\n",
       "13194008        0        0               2            0.0                 0.0\n",
       "13194009        0        0               3            0.0                 0.0"
      ]
     },
     "execution_count": 26,
     "metadata": {},
     "output_type": "execute_result"
    }
   ],
   "source": [
    "temp = pd.read_hdf(r'../data2/temp.h5','monthly_sales_all')\n",
    "temp[:3]"
   ]
  },
  {
   "cell_type": "code",
   "execution_count": 27,
   "metadata": {
    "scrolled": true
   },
   "outputs": [
    {
     "data": {
      "text/html": [
       "<div>\n",
       "<style scoped>\n",
       "    .dataframe tbody tr th:only-of-type {\n",
       "        vertical-align: middle;\n",
       "    }\n",
       "\n",
       "    .dataframe tbody tr th {\n",
       "        vertical-align: top;\n",
       "    }\n",
       "\n",
       "    .dataframe thead th {\n",
       "        text-align: right;\n",
       "    }\n",
       "</style>\n",
       "<table border=\"1\" class=\"dataframe\">\n",
       "  <thead>\n",
       "    <tr style=\"text-align: right;\">\n",
       "      <th></th>\n",
       "      <th>date_block_num</th>\n",
       "      <th>item_id</th>\n",
       "      <th>shop_id</th>\n",
       "      <th>cat_cnt_lag_1</th>\n",
       "      <th>cat_mix_cnt_lag_1</th>\n",
       "      <th>item_cnt_lag_1</th>\n",
       "      <th>shop_cnt_lag_1</th>\n",
       "      <th>shop_item_cnt_lag_1</th>\n",
       "      <th>sys_cnt_lag_1</th>\n",
       "      <th>cat_cnt_lag_2</th>\n",
       "      <th>...</th>\n",
       "      <th>m4</th>\n",
       "      <th>m5</th>\n",
       "      <th>m6</th>\n",
       "      <th>m7</th>\n",
       "      <th>m8</th>\n",
       "      <th>m9</th>\n",
       "      <th>m10</th>\n",
       "      <th>m11</th>\n",
       "      <th>m12</th>\n",
       "      <th>shop_item_cnt</th>\n",
       "    </tr>\n",
       "  </thead>\n",
       "  <tbody>\n",
       "    <tr>\n",
       "      <th>0</th>\n",
       "      <td>12</td>\n",
       "      <td>22154</td>\n",
       "      <td>59</td>\n",
       "      <td>0.275278</td>\n",
       "      <td>0.023307</td>\n",
       "      <td>0.000104</td>\n",
       "      <td>0.153649</td>\n",
       "      <td>0.0</td>\n",
       "      <td>0.253001</td>\n",
       "      <td>0.205060</td>\n",
       "      <td>...</td>\n",
       "      <td>0</td>\n",
       "      <td>0</td>\n",
       "      <td>0</td>\n",
       "      <td>0</td>\n",
       "      <td>0</td>\n",
       "      <td>0</td>\n",
       "      <td>0</td>\n",
       "      <td>0</td>\n",
       "      <td>0</td>\n",
       "      <td>0.0</td>\n",
       "    </tr>\n",
       "    <tr>\n",
       "      <th>1</th>\n",
       "      <td>13</td>\n",
       "      <td>22154</td>\n",
       "      <td>59</td>\n",
       "      <td>0.207926</td>\n",
       "      <td>0.019834</td>\n",
       "      <td>0.000000</td>\n",
       "      <td>0.096111</td>\n",
       "      <td>0.0</td>\n",
       "      <td>0.187877</td>\n",
       "      <td>0.275278</td>\n",
       "      <td>...</td>\n",
       "      <td>0</td>\n",
       "      <td>0</td>\n",
       "      <td>0</td>\n",
       "      <td>0</td>\n",
       "      <td>0</td>\n",
       "      <td>0</td>\n",
       "      <td>0</td>\n",
       "      <td>0</td>\n",
       "      <td>0</td>\n",
       "      <td>0.0</td>\n",
       "    </tr>\n",
       "    <tr>\n",
       "      <th>2</th>\n",
       "      <td>14</td>\n",
       "      <td>22154</td>\n",
       "      <td>59</td>\n",
       "      <td>0.166561</td>\n",
       "      <td>0.022149</td>\n",
       "      <td>0.000000</td>\n",
       "      <td>0.091497</td>\n",
       "      <td>0.0</td>\n",
       "      <td>0.152736</td>\n",
       "      <td>0.207926</td>\n",
       "      <td>...</td>\n",
       "      <td>0</td>\n",
       "      <td>0</td>\n",
       "      <td>0</td>\n",
       "      <td>0</td>\n",
       "      <td>0</td>\n",
       "      <td>0</td>\n",
       "      <td>0</td>\n",
       "      <td>0</td>\n",
       "      <td>0</td>\n",
       "      <td>0.0</td>\n",
       "    </tr>\n",
       "  </tbody>\n",
       "</table>\n",
       "<p>3 rows × 51 columns</p>\n",
       "</div>"
      ],
      "text/plain": [
       "   date_block_num  item_id  shop_id  cat_cnt_lag_1  cat_mix_cnt_lag_1  \\\n",
       "0              12    22154       59       0.275278           0.023307   \n",
       "1              13    22154       59       0.207926           0.019834   \n",
       "2              14    22154       59       0.166561           0.022149   \n",
       "\n",
       "   item_cnt_lag_1  shop_cnt_lag_1  shop_item_cnt_lag_1  sys_cnt_lag_1  \\\n",
       "0        0.000104        0.153649                  0.0       0.253001   \n",
       "1        0.000000        0.096111                  0.0       0.187877   \n",
       "2        0.000000        0.091497                  0.0       0.152736   \n",
       "\n",
       "   cat_cnt_lag_2      ...        m4  m5  m6  m7  m8  m9  m10  m11  m12  \\\n",
       "0       0.205060      ...         0   0   0   0   0   0    0    0    0   \n",
       "1       0.275278      ...         0   0   0   0   0   0    0    0    0   \n",
       "2       0.207926      ...         0   0   0   0   0   0    0    0    0   \n",
       "\n",
       "   shop_item_cnt  \n",
       "0            0.0  \n",
       "1            0.0  \n",
       "2            0.0  \n",
       "\n",
       "[3 rows x 51 columns]"
      ]
     },
     "execution_count": 27,
     "metadata": {},
     "output_type": "execute_result"
    }
   ],
   "source": [
    "monthly_sales_all = pd.merge(monthly_sales_all,temp[['shop_id','item_id','date_block_num','shop_item_cnt']],how='left')\n",
    "monthly_sales_all[:3]"
   ]
  },
  {
   "cell_type": "code",
   "execution_count": 28,
   "metadata": {},
   "outputs": [
    {
     "data": {
      "text/plain": [
       "34"
      ]
     },
     "execution_count": 28,
     "metadata": {},
     "output_type": "execute_result"
    }
   ],
   "source": [
    "monthly_sales_allly_sales_all.date_block_num.max()"
   ]
  },
  {
   "cell_type": "code",
   "execution_count": 29,
   "metadata": {
    "scrolled": false
   },
   "outputs": [],
   "source": [
    "monthly_sales_all.to_hdf(r'../data2/lm_feat_ex_1st_12_month.h5',\"monthly_sales_all\")"
   ]
  },
  {
   "cell_type": "markdown",
   "metadata": {},
   "source": [
    "#### Predict w lag v RF w lag"
   ]
  },
  {
   "cell_type": "code",
   "execution_count": 5,
   "metadata": {},
   "outputs": [],
   "source": [
    "hold_out_month = 33\n",
    "val_month = 32"
   ]
  },
  {
   "cell_type": "code",
   "execution_count": 25,
   "metadata": {},
   "outputs": [],
   "source": [
    "feats = ['shop_item_cnt_lag_1']"
   ]
  },
  {
   "cell_type": "code",
   "execution_count": 26,
   "metadata": {},
   "outputs": [
    {
     "data": {
      "text/html": [
       "<div>\n",
       "<style scoped>\n",
       "    .dataframe tbody tr th:only-of-type {\n",
       "        vertical-align: middle;\n",
       "    }\n",
       "\n",
       "    .dataframe tbody tr th {\n",
       "        vertical-align: top;\n",
       "    }\n",
       "\n",
       "    .dataframe thead th {\n",
       "        text-align: right;\n",
       "    }\n",
       "</style>\n",
       "<table border=\"1\" class=\"dataframe\">\n",
       "  <thead>\n",
       "    <tr style=\"text-align: right;\">\n",
       "      <th></th>\n",
       "      <th>shop_id</th>\n",
       "      <th>item_id</th>\n",
       "      <th>shop_item_cnt</th>\n",
       "      <th>shop_item_cnt_lag_1</th>\n",
       "    </tr>\n",
       "  </thead>\n",
       "  <tbody>\n",
       "    <tr>\n",
       "      <th>20</th>\n",
       "      <td>59</td>\n",
       "      <td>22154</td>\n",
       "      <td>0.0</td>\n",
       "      <td>0.0</td>\n",
       "    </tr>\n",
       "    <tr>\n",
       "      <th>42</th>\n",
       "      <td>59</td>\n",
       "      <td>2552</td>\n",
       "      <td>0.0</td>\n",
       "      <td>0.0</td>\n",
       "    </tr>\n",
       "    <tr>\n",
       "      <th>64</th>\n",
       "      <td>59</td>\n",
       "      <td>2554</td>\n",
       "      <td>0.0</td>\n",
       "      <td>0.0</td>\n",
       "    </tr>\n",
       "  </tbody>\n",
       "</table>\n",
       "</div>"
      ],
      "text/plain": [
       "    shop_id  item_id  shop_item_cnt  shop_item_cnt_lag_1\n",
       "20       59    22154            0.0                  0.0\n",
       "42       59     2552            0.0                  0.0\n",
       "64       59     2554            0.0                  0.0"
      ]
     },
     "execution_count": 26,
     "metadata": {},
     "output_type": "execute_result"
    }
   ],
   "source": [
    "hold_out_df = monthly_sales_all.loc[monthly_sales_all.date_block_num == hold_out_month,\n",
    "                            ['shop_id','item_id','shop_item_cnt']+feats]\n",
    "val = monthly_sales_all.loc[monthly_sales_all.date_block_num == val_month,\n",
    "                            ['shop_id','item_id','shop_item_cnt']+feats]\n",
    "val[:3]"
   ]
  },
  {
   "cell_type": "markdown",
   "metadata": {},
   "source": [
    "#### Benchmark - on val and hold-out"
   ]
  },
  {
   "cell_type": "code",
   "execution_count": 27,
   "metadata": {},
   "outputs": [
    {
     "name": "stdout",
     "output_type": "stream",
     "text": [
      "Hold out BC (month 33):\n",
      "14.705079551774736\n"
     ]
    }
   ],
   "source": [
    "print('Hold out BC (month 33):')\n",
    "print(rmse_clip(y_true = hold_out_df.loc[hold_out_df.shop_item_cnt>0,'shop_item_cnt'],y_pred = hold_out_df.loc[hold_out_df.shop_item_cnt>0,'shop_item_cnt_lag_1']))"
   ]
  },
  {
   "cell_type": "code",
   "execution_count": 28,
   "metadata": {},
   "outputs": [
    {
     "name": "stdout",
     "output_type": "stream",
     "text": [
      "Val BC (month 32)\n",
      "18.614049777549585\n"
     ]
    }
   ],
   "source": [
    "print('Val BC (month 32)')\n",
    "print(rmse_clip(y_true = val.loc[val.shop_item_cnt>0,'shop_item_cnt'],y_pred = val.loc[val.shop_item_cnt>0,'shop_item_cnt_lag_1']))"
   ]
  },
  {
   "cell_type": "markdown",
   "metadata": {},
   "source": [
    "#### Model"
   ]
  },
  {
   "cell_type": "code",
   "execution_count": 2,
   "metadata": {},
   "outputs": [
    {
     "data": {
      "text/html": [
       "<div>\n",
       "<style scoped>\n",
       "    .dataframe tbody tr th:only-of-type {\n",
       "        vertical-align: middle;\n",
       "    }\n",
       "\n",
       "    .dataframe tbody tr th {\n",
       "        vertical-align: top;\n",
       "    }\n",
       "\n",
       "    .dataframe thead th {\n",
       "        text-align: right;\n",
       "    }\n",
       "</style>\n",
       "<table border=\"1\" class=\"dataframe\">\n",
       "  <thead>\n",
       "    <tr style=\"text-align: right;\">\n",
       "      <th></th>\n",
       "      <th>date_block_num</th>\n",
       "      <th>item_id</th>\n",
       "      <th>shop_id</th>\n",
       "      <th>cat_cnt_lag_1</th>\n",
       "      <th>cat_mix_cnt_lag_1</th>\n",
       "      <th>item_cnt_lag_1</th>\n",
       "      <th>shop_cnt_lag_1</th>\n",
       "      <th>shop_item_cnt_lag_1</th>\n",
       "      <th>sys_cnt_lag_1</th>\n",
       "      <th>cat_cnt_lag_2</th>\n",
       "      <th>...</th>\n",
       "      <th>cat_ma1</th>\n",
       "      <th>cat_ma2</th>\n",
       "      <th>cat_ma3</th>\n",
       "      <th>cat_mix_ma1</th>\n",
       "      <th>cat_mix_ma2</th>\n",
       "      <th>cat_mix_ma3</th>\n",
       "      <th>sys_ma1</th>\n",
       "      <th>sys_ma2</th>\n",
       "      <th>sys_ma3</th>\n",
       "      <th>shop_item_cnt</th>\n",
       "    </tr>\n",
       "  </thead>\n",
       "  <tbody>\n",
       "    <tr>\n",
       "      <th>0</th>\n",
       "      <td>12</td>\n",
       "      <td>22154</td>\n",
       "      <td>59</td>\n",
       "      <td>0.275278</td>\n",
       "      <td>0.023307</td>\n",
       "      <td>0.000104</td>\n",
       "      <td>0.153649</td>\n",
       "      <td>0.0</td>\n",
       "      <td>0.253001</td>\n",
       "      <td>0.205060</td>\n",
       "      <td>...</td>\n",
       "      <td>0.224314</td>\n",
       "      <td>0.203314</td>\n",
       "      <td>0.215265</td>\n",
       "      <td>0.019308</td>\n",
       "      <td>0.024600</td>\n",
       "      <td>0.025013</td>\n",
       "      <td>0.204268</td>\n",
       "      <td>0.181899</td>\n",
       "      <td>0.190598</td>\n",
       "      <td>0.0</td>\n",
       "    </tr>\n",
       "    <tr>\n",
       "      <th>1</th>\n",
       "      <td>13</td>\n",
       "      <td>22154</td>\n",
       "      <td>59</td>\n",
       "      <td>0.207926</td>\n",
       "      <td>0.019834</td>\n",
       "      <td>0.000000</td>\n",
       "      <td>0.096111</td>\n",
       "      <td>0.0</td>\n",
       "      <td>0.187877</td>\n",
       "      <td>0.275278</td>\n",
       "      <td>...</td>\n",
       "      <td>0.229421</td>\n",
       "      <td>0.224314</td>\n",
       "      <td>0.203314</td>\n",
       "      <td>0.019718</td>\n",
       "      <td>0.019308</td>\n",
       "      <td>0.024600</td>\n",
       "      <td>0.209182</td>\n",
       "      <td>0.204268</td>\n",
       "      <td>0.181899</td>\n",
       "      <td>0.0</td>\n",
       "    </tr>\n",
       "    <tr>\n",
       "      <th>2</th>\n",
       "      <td>14</td>\n",
       "      <td>22154</td>\n",
       "      <td>59</td>\n",
       "      <td>0.166561</td>\n",
       "      <td>0.022149</td>\n",
       "      <td>0.000000</td>\n",
       "      <td>0.091497</td>\n",
       "      <td>0.0</td>\n",
       "      <td>0.152736</td>\n",
       "      <td>0.207926</td>\n",
       "      <td>...</td>\n",
       "      <td>0.216588</td>\n",
       "      <td>0.229421</td>\n",
       "      <td>0.224314</td>\n",
       "      <td>0.021764</td>\n",
       "      <td>0.019718</td>\n",
       "      <td>0.019308</td>\n",
       "      <td>0.197872</td>\n",
       "      <td>0.209182</td>\n",
       "      <td>0.204268</td>\n",
       "      <td>0.0</td>\n",
       "    </tr>\n",
       "  </tbody>\n",
       "</table>\n",
       "<p>3 rows × 59 columns</p>\n",
       "</div>"
      ],
      "text/plain": [
       "   date_block_num  item_id  shop_id  cat_cnt_lag_1  cat_mix_cnt_lag_1  \\\n",
       "0              12    22154       59       0.275278           0.023307   \n",
       "1              13    22154       59       0.207926           0.019834   \n",
       "2              14    22154       59       0.166561           0.022149   \n",
       "\n",
       "   item_cnt_lag_1  shop_cnt_lag_1  shop_item_cnt_lag_1  sys_cnt_lag_1  \\\n",
       "0        0.000104        0.153649                  0.0       0.253001   \n",
       "1        0.000000        0.096111                  0.0       0.187877   \n",
       "2        0.000000        0.091497                  0.0       0.152736   \n",
       "\n",
       "   cat_cnt_lag_2      ...         cat_ma1   cat_ma2   cat_ma3  cat_mix_ma1  \\\n",
       "0       0.205060      ...        0.224314  0.203314  0.215265     0.019308   \n",
       "1       0.275278      ...        0.229421  0.224314  0.203314     0.019718   \n",
       "2       0.207926      ...        0.216588  0.229421  0.224314     0.021764   \n",
       "\n",
       "   cat_mix_ma2  cat_mix_ma3   sys_ma1   sys_ma2   sys_ma3  shop_item_cnt  \n",
       "0     0.024600     0.025013  0.204268  0.181899  0.190598            0.0  \n",
       "1     0.019308     0.024600  0.209182  0.204268  0.181899            0.0  \n",
       "2     0.019718     0.019308  0.197872  0.209182  0.204268            0.0  \n",
       "\n",
       "[3 rows x 59 columns]"
      ]
     },
     "execution_count": 2,
     "metadata": {},
     "output_type": "execute_result"
    }
   ],
   "source": [
    "monthly_sales_all=pd.read_hdf(r'../data2/tree_feats_ex_1st_12month.hd','monthly_sales_all')\n",
    "monthly_sales_all[:3]"
   ]
  },
  {
   "cell_type": "code",
   "execution_count": 3,
   "metadata": {},
   "outputs": [],
   "source": [
    "to_drop = ['shop_id','item_id','date_block_num','shop_item_cnt']"
   ]
  },
  {
   "cell_type": "code",
   "execution_count": 6,
   "metadata": {
    "scrolled": true
   },
   "outputs": [
    {
     "data": {
      "text/html": [
       "<div>\n",
       "<style scoped>\n",
       "    .dataframe tbody tr th:only-of-type {\n",
       "        vertical-align: middle;\n",
       "    }\n",
       "\n",
       "    .dataframe tbody tr th {\n",
       "        vertical-align: top;\n",
       "    }\n",
       "\n",
       "    .dataframe thead th {\n",
       "        text-align: right;\n",
       "    }\n",
       "</style>\n",
       "<table border=\"1\" class=\"dataframe\">\n",
       "  <thead>\n",
       "    <tr style=\"text-align: right;\">\n",
       "      <th></th>\n",
       "      <th>date_block_num</th>\n",
       "      <th>item_id</th>\n",
       "      <th>shop_id</th>\n",
       "      <th>cat_cnt_lag_1</th>\n",
       "      <th>cat_mix_cnt_lag_1</th>\n",
       "      <th>item_cnt_lag_1</th>\n",
       "      <th>shop_cnt_lag_1</th>\n",
       "      <th>shop_item_cnt_lag_1</th>\n",
       "      <th>sys_cnt_lag_1</th>\n",
       "      <th>cat_cnt_lag_2</th>\n",
       "      <th>...</th>\n",
       "      <th>cat_ma1</th>\n",
       "      <th>cat_ma2</th>\n",
       "      <th>cat_ma3</th>\n",
       "      <th>cat_mix_ma1</th>\n",
       "      <th>cat_mix_ma2</th>\n",
       "      <th>cat_mix_ma3</th>\n",
       "      <th>sys_ma1</th>\n",
       "      <th>sys_ma2</th>\n",
       "      <th>sys_ma3</th>\n",
       "      <th>shop_item_cnt</th>\n",
       "    </tr>\n",
       "  </thead>\n",
       "  <tbody>\n",
       "    <tr>\n",
       "      <th>20</th>\n",
       "      <td>32</td>\n",
       "      <td>22154</td>\n",
       "      <td>59</td>\n",
       "      <td>0.094690</td>\n",
       "      <td>0.010409</td>\n",
       "      <td>0.000624</td>\n",
       "      <td>0.074069</td>\n",
       "      <td>0.0</td>\n",
       "      <td>0.086860</td>\n",
       "      <td>0.090914</td>\n",
       "      <td>...</td>\n",
       "      <td>0.096417</td>\n",
       "      <td>0.095167</td>\n",
       "      <td>0.107826</td>\n",
       "      <td>0.009926</td>\n",
       "      <td>0.009531</td>\n",
       "      <td>0.009945</td>\n",
       "      <td>0.087459</td>\n",
       "      <td>0.087918</td>\n",
       "      <td>0.100655</td>\n",
       "      <td>0.0</td>\n",
       "    </tr>\n",
       "    <tr>\n",
       "      <th>42</th>\n",
       "      <td>32</td>\n",
       "      <td>2552</td>\n",
       "      <td>59</td>\n",
       "      <td>0.007882</td>\n",
       "      <td>0.003196</td>\n",
       "      <td>0.000000</td>\n",
       "      <td>0.074069</td>\n",
       "      <td>0.0</td>\n",
       "      <td>0.413651</td>\n",
       "      <td>0.010417</td>\n",
       "      <td>...</td>\n",
       "      <td>0.009489</td>\n",
       "      <td>0.009636</td>\n",
       "      <td>0.009811</td>\n",
       "      <td>0.004176</td>\n",
       "      <td>0.004190</td>\n",
       "      <td>0.004222</td>\n",
       "      <td>0.404207</td>\n",
       "      <td>0.395862</td>\n",
       "      <td>0.383014</td>\n",
       "      <td>0.0</td>\n",
       "    </tr>\n",
       "    <tr>\n",
       "      <th>64</th>\n",
       "      <td>32</td>\n",
       "      <td>2554</td>\n",
       "      <td>59</td>\n",
       "      <td>0.007882</td>\n",
       "      <td>0.002027</td>\n",
       "      <td>0.000000</td>\n",
       "      <td>0.074069</td>\n",
       "      <td>0.0</td>\n",
       "      <td>0.413651</td>\n",
       "      <td>0.010417</td>\n",
       "      <td>...</td>\n",
       "      <td>0.009489</td>\n",
       "      <td>0.009636</td>\n",
       "      <td>0.009811</td>\n",
       "      <td>0.002587</td>\n",
       "      <td>0.002622</td>\n",
       "      <td>0.002701</td>\n",
       "      <td>0.404207</td>\n",
       "      <td>0.395862</td>\n",
       "      <td>0.383014</td>\n",
       "      <td>0.0</td>\n",
       "    </tr>\n",
       "  </tbody>\n",
       "</table>\n",
       "<p>3 rows × 59 columns</p>\n",
       "</div>"
      ],
      "text/plain": [
       "    date_block_num  item_id  shop_id  cat_cnt_lag_1  cat_mix_cnt_lag_1  \\\n",
       "20              32    22154       59       0.094690           0.010409   \n",
       "42              32     2552       59       0.007882           0.003196   \n",
       "64              32     2554       59       0.007882           0.002027   \n",
       "\n",
       "    item_cnt_lag_1  shop_cnt_lag_1  shop_item_cnt_lag_1  sys_cnt_lag_1  \\\n",
       "20        0.000624        0.074069                  0.0       0.086860   \n",
       "42        0.000000        0.074069                  0.0       0.413651   \n",
       "64        0.000000        0.074069                  0.0       0.413651   \n",
       "\n",
       "    cat_cnt_lag_2      ...         cat_ma1   cat_ma2   cat_ma3  cat_mix_ma1  \\\n",
       "20       0.090914      ...        0.096417  0.095167  0.107826     0.009926   \n",
       "42       0.010417      ...        0.009489  0.009636  0.009811     0.004176   \n",
       "64       0.010417      ...        0.009489  0.009636  0.009811     0.002587   \n",
       "\n",
       "    cat_mix_ma2  cat_mix_ma3   sys_ma1   sys_ma2   sys_ma3  shop_item_cnt  \n",
       "20     0.009531     0.009945  0.087459  0.087918  0.100655            0.0  \n",
       "42     0.004190     0.004222  0.404207  0.395862  0.383014            0.0  \n",
       "64     0.002622     0.002701  0.404207  0.395862  0.383014            0.0  \n",
       "\n",
       "[3 rows x 59 columns]"
      ]
     },
     "execution_count": 6,
     "metadata": {},
     "output_type": "execute_result"
    }
   ],
   "source": [
    "hold_out_df = monthly_sales_all[monthly_sales_all.date_block_num == hold_out_month]\n",
    "val = monthly_sales_all.loc[monthly_sales_all.date_block_num == val_month]\n",
    "val[:3]"
   ]
  },
  {
   "cell_type": "code",
   "execution_count": 7,
   "metadata": {},
   "outputs": [
    {
     "data": {
      "text/plain": [
       "11"
      ]
     },
     "execution_count": 7,
     "metadata": {},
     "output_type": "execute_result"
    }
   ],
   "source": [
    "gc.collect()"
   ]
  },
  {
   "cell_type": "code",
   "execution_count": 8,
   "metadata": {},
   "outputs": [],
   "source": [
    "X_train = monthly_sales_all[monthly_sales_all.date_block_num<val_month].drop(labels=to_drop,axis=1)\n",
    "y_train = monthly_sales_all.loc[monthly_sales_all.date_block_num<val_month,'shop_item_cnt']"
   ]
  },
  {
   "cell_type": "code",
   "execution_count": 9,
   "metadata": {},
   "outputs": [
    {
     "data": {
      "text/plain": [
       "0"
      ]
     },
     "execution_count": 9,
     "metadata": {},
     "output_type": "execute_result"
    }
   ],
   "source": [
    "del monthly_sales_all\n",
    "gc.collect()"
   ]
  },
  {
   "cell_type": "code",
   "execution_count": 36,
   "metadata": {},
   "outputs": [
    {
     "name": "stdout",
     "output_type": "stream",
     "text": [
      "Wall time: 3min 12s\n"
     ]
    }
   ],
   "source": [
    "%%time\n",
    "corr = X_train.corr()"
   ]
  },
  {
   "cell_type": "code",
   "execution_count": 37,
   "metadata": {
    "scrolled": false
   },
   "outputs": [
    {
     "data": {
      "text/plain": [
       "<matplotlib.axes._subplots.AxesSubplot at 0x1a4156445f8>"
      ]
     },
     "execution_count": 37,
     "metadata": {},
     "output_type": "execute_result"
    },
    {
     "data": {
      "image/png": "[encoded data removed]",
      "text/plain": [
       "<Figure size 1440x720 with 2 Axes>"
      ]
     },
     "metadata": {
      "needs_background": "light"
     },
     "output_type": "display_data"
    }
   ],
   "source": [
    "plt.figure(figsize=(20,10))\n",
    "sns.heatmap(corr)"
   ]
  },
  {
   "cell_type": "code",
   "execution_count": 38,
   "metadata": {},
   "outputs": [],
   "source": [
    "lm = LinearRegression()"
   ]
  },
  {
   "cell_type": "code",
   "execution_count": 39,
   "metadata": {},
   "outputs": [
    {
     "data": {
      "text/plain": [
       "LinearRegression(copy_X=True, fit_intercept=True, n_jobs=1, normalize=False)"
      ]
     },
     "execution_count": 39,
     "metadata": {},
     "output_type": "execute_result"
    }
   ],
   "source": [
    "lm.fit(X_train,y_train)"
   ]
  },
  {
   "cell_type": "code",
   "execution_count": 41,
   "metadata": {},
   "outputs": [],
   "source": [
    "pred_lm = lm.predict(val.drop(labels=to_drop,axis=1))"
   ]
  },
  {
   "cell_type": "code",
   "execution_count": 42,
   "metadata": {},
   "outputs": [
    {
     "data": {
      "text/plain": [
       "18.111878163659185"
      ]
     },
     "execution_count": 42,
     "metadata": {},
     "output_type": "execute_result"
    }
   ],
   "source": [
    "rmse_clip(y_true = val.loc[val.shop_item_cnt>0,'shop_item_cnt'],y_pred = pred_lm[val.shop_item_cnt>0])"
   ]
  },
  {
   "cell_type": "code",
   "execution_count": 53,
   "metadata": {},
   "outputs": [
    {
     "data": {
      "text/plain": [
       "([<matplotlib.axis.XTick at 0x1a41642b208>,\n",
       "  <matplotlib.axis.XTick at 0x1a416421b00>,\n",
       "  <matplotlib.axis.XTick at 0x1a4164217f0>,\n",
       "  <matplotlib.axis.XTick at 0x1a416259828>,\n",
       "  <matplotlib.axis.XTick at 0x1a416259cc0>,\n",
       "  <matplotlib.axis.XTick at 0x1a4162640f0>,\n",
       "  <matplotlib.axis.XTick at 0x1a416264588>,\n",
       "  <matplotlib.axis.XTick at 0x1a416264a90>,\n",
       "  <matplotlib.axis.XTick at 0x1a416264e80>,\n",
       "  <matplotlib.axis.XTick at 0x1a41626b4e0>,\n",
       "  <matplotlib.axis.XTick at 0x1a41626b9e8>,\n",
       "  <matplotlib.axis.XTick at 0x1a41626bef0>,\n",
       "  <matplotlib.axis.XTick at 0x1a416274438>,\n",
       "  <matplotlib.axis.XTick at 0x1a41626b7f0>,\n",
       "  <matplotlib.axis.XTick at 0x1a4162649e8>,\n",
       "  <matplotlib.axis.XTick at 0x1a416274588>,\n",
       "  <matplotlib.axis.XTick at 0x1a416274dd8>,\n",
       "  <matplotlib.axis.XTick at 0x1a41627b320>,\n",
       "  <matplotlib.axis.XTick at 0x1a41627b828>,\n",
       "  <matplotlib.axis.XTick at 0x1a41627bd30>,\n",
       "  <matplotlib.axis.XTick at 0x1a416283278>,\n",
       "  <matplotlib.axis.XTick at 0x1a416283780>,\n",
       "  <matplotlib.axis.XTick at 0x1a41627b7f0>,\n",
       "  <matplotlib.axis.XTick at 0x1a416274b00>,\n",
       "  <matplotlib.axis.XTick at 0x1a416283eb8>,\n",
       "  <matplotlib.axis.XTick at 0x1a41628e198>,\n",
       "  <matplotlib.axis.XTick at 0x1a41628e668>,\n",
       "  <matplotlib.axis.XTick at 0x1a41628eb70>,\n",
       "  <matplotlib.axis.XTick at 0x1a416295128>,\n",
       "  <matplotlib.axis.XTick at 0x1a4162955c0>,\n",
       "  <matplotlib.axis.XTick at 0x1a416295ac8>,\n",
       "  <matplotlib.axis.XTick at 0x1a416295c88>,\n",
       "  <matplotlib.axis.XTick at 0x1a4162953c8>,\n",
       "  <matplotlib.axis.XTick at 0x1a41628ec18>,\n",
       "  <matplotlib.axis.XTick at 0x1a41629c358>,\n",
       "  <matplotlib.axis.XTick at 0x1a41629c860>,\n",
       "  <matplotlib.axis.XTick at 0x1a41629cd68>,\n",
       "  <matplotlib.axis.XTick at 0x1a4162a72b0>,\n",
       "  <matplotlib.axis.XTick at 0x1a4162a77b8>,\n",
       "  <matplotlib.axis.XTick at 0x1a4162a7cc0>,\n",
       "  <matplotlib.axis.XTick at 0x1a4162ae208>,\n",
       "  <matplotlib.axis.XTick at 0x1a4162a7d68>,\n",
       "  <matplotlib.axis.XTick at 0x1a41629c6d8>,\n",
       "  <matplotlib.axis.XTick at 0x1a4162ae438>,\n",
       "  <matplotlib.axis.XTick at 0x1a4162aea58>,\n",
       "  <matplotlib.axis.XTick at 0x1a4162aef60>,\n",
       "  <matplotlib.axis.XTick at 0x1a4162b64a8>],\n",
       " <a list of 47 Text xticklabel objects>)"
      ]
     },
     "execution_count": 53,
     "metadata": {},
     "output_type": "execute_result"
    },
    {
     "data": {
      "image/png": "[encoded data removed]",
      "text/plain": [
       "<Figure size 1440x360 with 1 Axes>"
      ]
     },
     "metadata": {
      "needs_background": "light"
     },
     "output_type": "display_data"
    }
   ],
   "source": [
    "plt.figure(figsize=(20,5))\n",
    "ticks = list(range(len(lm.coef_)))\n",
    "plt.bar(ticks,height=lm.coef_)\n",
    "plt.xticks(ticks,X_train.columns,rotation=90)"
   ]
  },
  {
   "cell_type": "code",
   "execution_count": 10,
   "metadata": {},
   "outputs": [
    {
     "data": {
      "text/plain": [
       "0"
      ]
     },
     "execution_count": 10,
     "metadata": {},
     "output_type": "execute_result"
    }
   ],
   "source": [
    "gc.collect()"
   ]
  },
  {
   "cell_type": "code",
   "execution_count": 11,
   "metadata": {},
   "outputs": [
    {
     "name": "stdout",
     "output_type": "stream",
     "text": [
      "Wall time: 3min 25s\n"
     ]
    }
   ],
   "source": [
    "%%time\n",
    "lgb_params = {\n",
    "               'feature_fraction': 0.75,\n",
    "               'metric': 'rmse',\n",
    "               'nthread':7, \n",
    "               'min_data_in_leaf': 2**7, \n",
    "               'bagging_fraction': 0.75, \n",
    "               'learning_rate': 0.03, \n",
    "               'objective': 'mse', \n",
    "               'bagging_seed': 2**7, \n",
    "               'num_leaves': 2**7,\n",
    "               'bagging_freq':1,\n",
    "               'verbose':0 \n",
    "              }\n",
    "\n",
    "model = lgb.train(lgb_params, lgb.Dataset(X_train, label=y_train), 100)"
   ]
  },
  {
   "cell_type": "code",
   "execution_count": 12,
   "metadata": {},
   "outputs": [
    {
     "data": {
      "text/plain": [
       "<matplotlib.axes._subplots.AxesSubplot at 0x28eeef64860>"
      ]
     },
     "execution_count": 12,
     "metadata": {},
     "output_type": "execute_result"
    },
    {
     "data": {
      "image/png": "[encoded data removed]",
      "text/plain": [
       "<Figure size 1440x1440 with 1 Axes>"
      ]
     },
     "metadata": {
      "needs_background": "light"
     },
     "output_type": "display_data"
    }
   ],
   "source": [
    "lgb.plot_importance(model,figsize=(20,20))"
   ]
  },
  {
   "cell_type": "code",
   "execution_count": 15,
   "metadata": {},
   "outputs": [
    {
     "name": "stdout",
     "output_type": "stream",
     "text": [
      "Val (32): 18.146224749347237\n"
     ]
    }
   ],
   "source": [
    "pred_lgb = model.predict(val.drop(labels=to_drop,axis=1))\n",
    "print(\"Val (32):\",rmse_clip(y_true = val.loc[val.shop_item_cnt>0,'shop_item_cnt'],y_pred = pred_lgb[val.shop_item_cnt>0]))"
   ]
  },
  {
   "cell_type": "code",
   "execution_count": 63,
   "metadata": {
    "scrolled": false
   },
   "outputs": [
    {
     "data": {
      "text/plain": [
       "<matplotlib.collections.PathCollection at 0x1a415c0d630>"
      ]
     },
     "execution_count": 63,
     "metadata": {},
     "output_type": "execute_result"
    },
    {
     "data": {
      "image/png": "[encoded data removed]",
      "text/plain": [
       "<Figure size 432x288 with 1 Axes>"
      ]
     },
     "metadata": {
      "needs_background": "light"
     },
     "output_type": "display_data"
    }
   ],
   "source": [
    "plt.scatter(pred_lgb[val.shop_item_cnt>0],pred_lm[val.shop_item_cnt>0])"
   ]
  },
  {
   "cell_type": "markdown",
   "metadata": {},
   "source": [
    "### Ok, why doesn't score improve???"
   ]
  },
  {
   "cell_type": "code",
   "execution_count": 58,
   "metadata": {},
   "outputs": [
    {
     "data": {
      "text/plain": [
       "(29652, 40)"
      ]
     },
     "execution_count": 58,
     "metadata": {},
     "output_type": "execute_result"
    }
   ],
   "source": [
    "val['lm_pred'] = pred_lm\n",
    "val['lgb_pred'] = pred_lgb\n",
    "val2 = val[val.shop_item_cnt>0]\n",
    "val2.shape"
   ]
  },
  {
   "cell_type": "code",
   "execution_count": 59,
   "metadata": {},
   "outputs": [
    {
     "data": {
      "text/plain": [
       "<matplotlib.axes._subplots.AxesSubplot at 0x2e8827c6358>"
      ]
     },
     "execution_count": 59,
     "metadata": {},
     "output_type": "execute_result"
    },
    {
     "data": {
      "text/plain": [
       "<Figure size 1440x360 with 0 Axes>"
      ]
     },
     "metadata": {},
     "output_type": "display_data"
    },
    {
     "data": {
      "image/png": "[encoded data removed]",
      "text/plain": [
       "<Figure size 432x288 with 1 Axes>"
      ]
     },
     "metadata": {
      "needs_background": "light"
     },
     "output_type": "display_data"
    }
   ],
   "source": [
    "plt.figure(figsize=(20,5))\n",
    "val2[['shop_item_cnt','shop_item_cnt_lag_1','lm_pred','lgb_pred']].plot()\n",
    "\n",
    "## Ok there seems to be Extremely high sales of in month 32"
   ]
  },
  {
   "cell_type": "code",
   "execution_count": 60,
   "metadata": {
    "scrolled": true
   },
   "outputs": [
    {
     "data": {
      "text/plain": [
       "<matplotlib.axes._subplots.AxesSubplot at 0x2e8828249b0>"
      ]
     },
     "execution_count": 60,
     "metadata": {},
     "output_type": "execute_result"
    },
    {
     "data": {
      "image/png": "[encoded data removed]",
      "text/plain": [
       "<Figure size 432x288 with 1 Axes>"
      ]
     },
     "metadata": {
      "needs_background": "light"
     },
     "output_type": "display_data"
    }
   ],
   "source": [
    "val2.loc[val2.shop_item_cnt<20,['shop_item_cnt','shop_item_cnt_lag_1','lm_pred','lgb_pred']].plot()"
   ]
  },
  {
   "cell_type": "code",
   "execution_count": 61,
   "metadata": {},
   "outputs": [
    {
     "name": "stdout",
     "output_type": "stream",
     "text": [
      "shop_item_cnt_lag_1 2.2048763591676313\n",
      "lm_pred 2.0309925796546033\n",
      "lgb_pred 1.9952929508725705\n"
     ]
    }
   ],
   "source": [
    "for col in ['shop_item_cnt_lag_1','lm_pred','lgb_pred']:\n",
    "    print(col,rmse_clip(val2.loc[val2.shop_item_cnt<20,'shop_item_cnt'],val2.loc[val2.shop_item_cnt<20,col]))"
   ]
  },
  {
   "cell_type": "markdown",
   "metadata": {},
   "source": [
    "<strong>Not too bad for the normal range... \n",
    "\n",
    "Stacking will work;\n",
    "\n",
    "Since there is improvement, create a submission w only time-based features </strong>"
   ]
  },
  {
   "cell_type": "code",
   "execution_count": null,
   "metadata": {},
   "outputs": [],
   "source": []
  },
  {
   "cell_type": "markdown",
   "metadata": {},
   "source": [
    "### Create a new submission"
   ]
  },
  {
   "cell_type": "code",
   "execution_count": 62,
   "metadata": {},
   "outputs": [
    {
     "name": "stdout",
     "output_type": "stream",
     "text": [
      "Wall time: 47.7 s\n"
     ]
    }
   ],
   "source": [
    "%%time\n",
    "monthly_sales_all = pd.read_hdf(r'../data2/monthly_sales_all_shop_item_w_lag_cat_top3_avg.h5','monthly_sales_all')"
   ]
  },
  {
   "cell_type": "code",
   "execution_count": 63,
   "metadata": {},
   "outputs": [],
   "source": [
    "monthly_sales_all = monthly_sales_all[(monthly_sales_all.date_block_num>=12) & (monthly_sales_all.date_block_num<34)]"
   ]
  },
  {
   "cell_type": "code",
   "execution_count": 64,
   "metadata": {},
   "outputs": [
    {
     "data": {
      "text/html": [
       "<div>\n",
       "<style scoped>\n",
       "    .dataframe tbody tr th:only-of-type {\n",
       "        vertical-align: middle;\n",
       "    }\n",
       "\n",
       "    .dataframe tbody tr th {\n",
       "        vertical-align: top;\n",
       "    }\n",
       "\n",
       "    .dataframe thead th {\n",
       "        text-align: right;\n",
       "    }\n",
       "</style>\n",
       "<table border=\"1\" class=\"dataframe\">\n",
       "  <thead>\n",
       "    <tr style=\"text-align: right;\">\n",
       "      <th></th>\n",
       "      <th>cat_cnt</th>\n",
       "      <th>date_block_num</th>\n",
       "      <th>item_cnt</th>\n",
       "      <th>item_id</th>\n",
       "      <th>shop_cnt</th>\n",
       "      <th>shop_id</th>\n",
       "      <th>shop_item_cnt</th>\n",
       "      <th>cat_cnt_lag_1</th>\n",
       "      <th>item_cnt_lag_1</th>\n",
       "      <th>shop_cnt_lag_1</th>\n",
       "      <th>...</th>\n",
       "      <th>m3</th>\n",
       "      <th>m4</th>\n",
       "      <th>m5</th>\n",
       "      <th>m6</th>\n",
       "      <th>m7</th>\n",
       "      <th>m8</th>\n",
       "      <th>m9</th>\n",
       "      <th>m10</th>\n",
       "      <th>m11</th>\n",
       "      <th>m12</th>\n",
       "    </tr>\n",
       "  </thead>\n",
       "  <tbody>\n",
       "    <tr>\n",
       "      <th>0</th>\n",
       "      <td>190.784729</td>\n",
       "      <td>12</td>\n",
       "      <td>0.0</td>\n",
       "      <td>22154</td>\n",
       "      <td>1500.0</td>\n",
       "      <td>59</td>\n",
       "      <td>0.0</td>\n",
       "      <td>224.190857</td>\n",
       "      <td>1.0</td>\n",
       "      <td>2398.0</td>\n",
       "      <td>...</td>\n",
       "      <td>0</td>\n",
       "      <td>0</td>\n",
       "      <td>0</td>\n",
       "      <td>0</td>\n",
       "      <td>0</td>\n",
       "      <td>0</td>\n",
       "      <td>0</td>\n",
       "      <td>0</td>\n",
       "      <td>0</td>\n",
       "      <td>0</td>\n",
       "    </tr>\n",
       "    <tr>\n",
       "      <th>1</th>\n",
       "      <td>213.054642</td>\n",
       "      <td>13</td>\n",
       "      <td>0.0</td>\n",
       "      <td>22154</td>\n",
       "      <td>1428.0</td>\n",
       "      <td>59</td>\n",
       "      <td>0.0</td>\n",
       "      <td>190.784729</td>\n",
       "      <td>0.0</td>\n",
       "      <td>1500.0</td>\n",
       "      <td>...</td>\n",
       "      <td>0</td>\n",
       "      <td>0</td>\n",
       "      <td>0</td>\n",
       "      <td>0</td>\n",
       "      <td>0</td>\n",
       "      <td>0</td>\n",
       "      <td>0</td>\n",
       "      <td>0</td>\n",
       "      <td>0</td>\n",
       "      <td>0</td>\n",
       "    </tr>\n",
       "    <tr>\n",
       "      <th>2</th>\n",
       "      <td>141.346558</td>\n",
       "      <td>14</td>\n",
       "      <td>0.0</td>\n",
       "      <td>22154</td>\n",
       "      <td>1475.0</td>\n",
       "      <td>59</td>\n",
       "      <td>0.0</td>\n",
       "      <td>213.054642</td>\n",
       "      <td>0.0</td>\n",
       "      <td>1428.0</td>\n",
       "      <td>...</td>\n",
       "      <td>1</td>\n",
       "      <td>0</td>\n",
       "      <td>0</td>\n",
       "      <td>0</td>\n",
       "      <td>0</td>\n",
       "      <td>0</td>\n",
       "      <td>0</td>\n",
       "      <td>0</td>\n",
       "      <td>0</td>\n",
       "      <td>0</td>\n",
       "    </tr>\n",
       "  </tbody>\n",
       "</table>\n",
       "<p>3 rows × 42 columns</p>\n",
       "</div>"
      ],
      "text/plain": [
       "      cat_cnt  date_block_num  item_cnt  item_id  shop_cnt  shop_id  \\\n",
       "0  190.784729              12       0.0    22154    1500.0       59   \n",
       "1  213.054642              13       0.0    22154    1428.0       59   \n",
       "2  141.346558              14       0.0    22154    1475.0       59   \n",
       "\n",
       "   shop_item_cnt  cat_cnt_lag_1  item_cnt_lag_1  shop_cnt_lag_1 ...   m3  m4  \\\n",
       "0            0.0     224.190857             1.0          2398.0 ...    0   0   \n",
       "1            0.0     190.784729             0.0          1500.0 ...    0   0   \n",
       "2            0.0     213.054642             0.0          1428.0 ...    1   0   \n",
       "\n",
       "   m5  m6  m7  m8  m9  m10  m11  m12  \n",
       "0   0   0   0   0   0    0    0    0  \n",
       "1   0   0   0   0   0    0    0    0  \n",
       "2   0   0   0   0   0    0    0    0  \n",
       "\n",
       "[3 rows x 42 columns]"
      ]
     },
     "execution_count": 64,
     "metadata": {},
     "output_type": "execute_result"
    }
   ],
   "source": [
    "monthly_sales_all = pd.merge(monthly_sales_all,m_onehot_df,how='left',on='month').drop(labels=['month'],axis=1)\n",
    "monthly_sales_all[:3]"
   ]
  },
  {
   "cell_type": "code",
   "execution_count": 65,
   "metadata": {},
   "outputs": [],
   "source": [
    "X_train = monthly_sales_all[feats]"
   ]
  },
  {
   "cell_type": "code",
   "execution_count": 66,
   "metadata": {},
   "outputs": [],
   "source": [
    "y_train = monthly_sales_all['shop_item_cnt']"
   ]
  },
  {
   "cell_type": "code",
   "execution_count": 67,
   "metadata": {},
   "outputs": [
    {
     "data": {
      "text/plain": [
       "84"
      ]
     },
     "execution_count": 67,
     "metadata": {},
     "output_type": "execute_result"
    }
   ],
   "source": [
    "del monthly_sales_all\n",
    "gc.collect()"
   ]
  },
  {
   "cell_type": "code",
   "execution_count": 68,
   "metadata": {},
   "outputs": [
    {
     "name": "stdout",
     "output_type": "stream",
     "text": [
      "Wall time: 2min 10s\n"
     ]
    }
   ],
   "source": [
    "%%time\n",
    "lgb_params = {\n",
    "               'feature_fraction': 0.75,\n",
    "               'metric': 'rmse',\n",
    "               'nthread':7, \n",
    "               'min_data_in_leaf': 2**7, \n",
    "               'bagging_fraction': 0.75, \n",
    "               'learning_rate': 0.03, \n",
    "               'objective': 'mse', \n",
    "               'bagging_seed': 2**7, \n",
    "               'num_leaves': 2**7,\n",
    "               'bagging_freq':1,\n",
    "               'verbose':0 \n",
    "              }\n",
    "\n",
    "model = lgb.train(lgb_params, lgb.Dataset(X_train, label=y_train), 100)"
   ]
  },
  {
   "cell_type": "code",
   "execution_count": 69,
   "metadata": {},
   "outputs": [
    {
     "data": {
      "text/plain": [
       "<matplotlib.axes._subplots.AxesSubplot at 0x2e8828b19b0>"
      ]
     },
     "execution_count": 69,
     "metadata": {},
     "output_type": "execute_result"
    },
    {
     "data": {
      "image/png": "[encoded data removed]",
      "text/plain": [
       "<Figure size 1440x1440 with 1 Axes>"
      ]
     },
     "metadata": {
      "needs_background": "light"
     },
     "output_type": "display_data"
    }
   ],
   "source": [
    "lgb.plot_importance(model,figsize=(20,20))"
   ]
  },
  {
   "cell_type": "markdown",
   "metadata": {},
   "source": [
    "#### Read in test data and get features"
   ]
  },
  {
   "cell_type": "code",
   "execution_count": 70,
   "metadata": {},
   "outputs": [
    {
     "data": {
      "text/html": [
       "<div>\n",
       "<style scoped>\n",
       "    .dataframe tbody tr th:only-of-type {\n",
       "        vertical-align: middle;\n",
       "    }\n",
       "\n",
       "    .dataframe tbody tr th {\n",
       "        vertical-align: top;\n",
       "    }\n",
       "\n",
       "    .dataframe thead th {\n",
       "        text-align: right;\n",
       "    }\n",
       "</style>\n",
       "<table border=\"1\" class=\"dataframe\">\n",
       "  <thead>\n",
       "    <tr style=\"text-align: right;\">\n",
       "      <th></th>\n",
       "      <th>ID</th>\n",
       "      <th>shop_id</th>\n",
       "      <th>item_id</th>\n",
       "    </tr>\n",
       "  </thead>\n",
       "  <tbody>\n",
       "    <tr>\n",
       "      <th>0</th>\n",
       "      <td>0</td>\n",
       "      <td>5</td>\n",
       "      <td>5037</td>\n",
       "    </tr>\n",
       "    <tr>\n",
       "      <th>1</th>\n",
       "      <td>1</td>\n",
       "      <td>5</td>\n",
       "      <td>5320</td>\n",
       "    </tr>\n",
       "    <tr>\n",
       "      <th>2</th>\n",
       "      <td>2</td>\n",
       "      <td>5</td>\n",
       "      <td>5233</td>\n",
       "    </tr>\n",
       "  </tbody>\n",
       "</table>\n",
       "</div>"
      ],
      "text/plain": [
       "   ID  shop_id  item_id\n",
       "0   0        5     5037\n",
       "1   1        5     5320\n",
       "2   2        5     5233"
      ]
     },
     "execution_count": 70,
     "metadata": {},
     "output_type": "execute_result"
    }
   ],
   "source": [
    "test = pd.read_csv(r'../data/test.csv.gz')\n",
    "test[:3]"
   ]
  },
  {
   "cell_type": "code",
   "execution_count": 71,
   "metadata": {
    "scrolled": true
   },
   "outputs": [
    {
     "name": "stdout",
     "output_type": "stream",
     "text": [
      "Wall time: 48.1 s\n"
     ]
    }
   ],
   "source": [
    "%%time\n",
    "monthly_sales_all = pd.read_hdf(r'../data2/monthly_sales_all_shop_item_w_lag_cat_top3_avg.h5','monthly_sales_all')"
   ]
  },
  {
   "cell_type": "code",
   "execution_count": 72,
   "metadata": {},
   "outputs": [],
   "source": [
    "monthly_sales_all = monthly_sales_all[monthly_sales_all.date_block_num==34]"
   ]
  },
  {
   "cell_type": "code",
   "execution_count": 73,
   "metadata": {},
   "outputs": [
    {
     "data": {
      "text/plain": [
       "49"
      ]
     },
     "execution_count": 73,
     "metadata": {},
     "output_type": "execute_result"
    }
   ],
   "source": [
    "gc.collect()"
   ]
  },
  {
   "cell_type": "code",
   "execution_count": 74,
   "metadata": {},
   "outputs": [
    {
     "data": {
      "text/html": [
       "<div>\n",
       "<style scoped>\n",
       "    .dataframe tbody tr th:only-of-type {\n",
       "        vertical-align: middle;\n",
       "    }\n",
       "\n",
       "    .dataframe tbody tr th {\n",
       "        vertical-align: top;\n",
       "    }\n",
       "\n",
       "    .dataframe thead th {\n",
       "        text-align: right;\n",
       "    }\n",
       "</style>\n",
       "<table border=\"1\" class=\"dataframe\">\n",
       "  <thead>\n",
       "    <tr style=\"text-align: right;\">\n",
       "      <th></th>\n",
       "      <th>cat_cnt</th>\n",
       "      <th>date_block_num</th>\n",
       "      <th>item_cnt</th>\n",
       "      <th>item_id</th>\n",
       "      <th>shop_cnt</th>\n",
       "      <th>shop_id</th>\n",
       "      <th>shop_item_cnt</th>\n",
       "      <th>cat_cnt_lag_1</th>\n",
       "      <th>item_cnt_lag_1</th>\n",
       "      <th>shop_cnt_lag_1</th>\n",
       "      <th>...</th>\n",
       "      <th>m3</th>\n",
       "      <th>m4</th>\n",
       "      <th>m5</th>\n",
       "      <th>m6</th>\n",
       "      <th>m7</th>\n",
       "      <th>m8</th>\n",
       "      <th>m9</th>\n",
       "      <th>m10</th>\n",
       "      <th>m11</th>\n",
       "      <th>m12</th>\n",
       "    </tr>\n",
       "  </thead>\n",
       "  <tbody>\n",
       "    <tr>\n",
       "      <th>0</th>\n",
       "      <td>0.0</td>\n",
       "      <td>34</td>\n",
       "      <td>0.0</td>\n",
       "      <td>22154</td>\n",
       "      <td>0.0</td>\n",
       "      <td>59</td>\n",
       "      <td>0.0</td>\n",
       "      <td>124.611938</td>\n",
       "      <td>5.0</td>\n",
       "      <td>792.0</td>\n",
       "      <td>...</td>\n",
       "      <td>0</td>\n",
       "      <td>0</td>\n",
       "      <td>0</td>\n",
       "      <td>0</td>\n",
       "      <td>0</td>\n",
       "      <td>0</td>\n",
       "      <td>0</td>\n",
       "      <td>0</td>\n",
       "      <td>1</td>\n",
       "      <td>0</td>\n",
       "    </tr>\n",
       "    <tr>\n",
       "      <th>1</th>\n",
       "      <td>0.0</td>\n",
       "      <td>34</td>\n",
       "      <td>0.0</td>\n",
       "      <td>2552</td>\n",
       "      <td>0.0</td>\n",
       "      <td>59</td>\n",
       "      <td>0.0</td>\n",
       "      <td>31.488197</td>\n",
       "      <td>0.0</td>\n",
       "      <td>792.0</td>\n",
       "      <td>...</td>\n",
       "      <td>0</td>\n",
       "      <td>0</td>\n",
       "      <td>0</td>\n",
       "      <td>0</td>\n",
       "      <td>0</td>\n",
       "      <td>0</td>\n",
       "      <td>0</td>\n",
       "      <td>0</td>\n",
       "      <td>1</td>\n",
       "      <td>0</td>\n",
       "    </tr>\n",
       "    <tr>\n",
       "      <th>2</th>\n",
       "      <td>0.0</td>\n",
       "      <td>34</td>\n",
       "      <td>0.0</td>\n",
       "      <td>2554</td>\n",
       "      <td>0.0</td>\n",
       "      <td>59</td>\n",
       "      <td>0.0</td>\n",
       "      <td>20.733076</td>\n",
       "      <td>0.0</td>\n",
       "      <td>792.0</td>\n",
       "      <td>...</td>\n",
       "      <td>0</td>\n",
       "      <td>0</td>\n",
       "      <td>0</td>\n",
       "      <td>0</td>\n",
       "      <td>0</td>\n",
       "      <td>0</td>\n",
       "      <td>0</td>\n",
       "      <td>0</td>\n",
       "      <td>1</td>\n",
       "      <td>0</td>\n",
       "    </tr>\n",
       "  </tbody>\n",
       "</table>\n",
       "<p>3 rows × 43 columns</p>\n",
       "</div>"
      ],
      "text/plain": [
       "   cat_cnt  date_block_num  item_cnt  item_id  shop_cnt  shop_id  \\\n",
       "0      0.0              34       0.0    22154       0.0       59   \n",
       "1      0.0              34       0.0     2552       0.0       59   \n",
       "2      0.0              34       0.0     2554       0.0       59   \n",
       "\n",
       "   shop_item_cnt  cat_cnt_lag_1  item_cnt_lag_1  shop_cnt_lag_1 ...   m3  m4  \\\n",
       "0            0.0     124.611938             5.0           792.0 ...    0   0   \n",
       "1            0.0      31.488197             0.0           792.0 ...    0   0   \n",
       "2            0.0      20.733076             0.0           792.0 ...    0   0   \n",
       "\n",
       "   m5  m6  m7  m8  m9  m10  m11  m12  \n",
       "0   0   0   0   0   0    0    1    0  \n",
       "1   0   0   0   0   0    0    1    0  \n",
       "2   0   0   0   0   0    0    1    0  \n",
       "\n",
       "[3 rows x 43 columns]"
      ]
     },
     "execution_count": 74,
     "metadata": {},
     "output_type": "execute_result"
    }
   ],
   "source": [
    "monthly_sales_all = pd.merge(monthly_sales_all,m_onehot_df,how='left',on='month')\n",
    "monthly_sales_all[:3]"
   ]
  },
  {
   "cell_type": "code",
   "execution_count": 75,
   "metadata": {
    "scrolled": true
   },
   "outputs": [
    {
     "name": "stdout",
     "output_type": "stream",
     "text": [
      "(214200, 44)\n"
     ]
    },
    {
     "data": {
      "text/html": [
       "<div>\n",
       "<style scoped>\n",
       "    .dataframe tbody tr th:only-of-type {\n",
       "        vertical-align: middle;\n",
       "    }\n",
       "\n",
       "    .dataframe tbody tr th {\n",
       "        vertical-align: top;\n",
       "    }\n",
       "\n",
       "    .dataframe thead th {\n",
       "        text-align: right;\n",
       "    }\n",
       "</style>\n",
       "<table border=\"1\" class=\"dataframe\">\n",
       "  <thead>\n",
       "    <tr style=\"text-align: right;\">\n",
       "      <th></th>\n",
       "      <th>ID</th>\n",
       "      <th>shop_id</th>\n",
       "      <th>item_id</th>\n",
       "      <th>cat_cnt</th>\n",
       "      <th>date_block_num</th>\n",
       "      <th>item_cnt</th>\n",
       "      <th>shop_cnt</th>\n",
       "      <th>shop_item_cnt</th>\n",
       "      <th>cat_cnt_lag_1</th>\n",
       "      <th>item_cnt_lag_1</th>\n",
       "      <th>...</th>\n",
       "      <th>m3</th>\n",
       "      <th>m4</th>\n",
       "      <th>m5</th>\n",
       "      <th>m6</th>\n",
       "      <th>m7</th>\n",
       "      <th>m8</th>\n",
       "      <th>m9</th>\n",
       "      <th>m10</th>\n",
       "      <th>m11</th>\n",
       "      <th>m12</th>\n",
       "    </tr>\n",
       "  </thead>\n",
       "  <tbody>\n",
       "    <tr>\n",
       "      <th>0</th>\n",
       "      <td>0</td>\n",
       "      <td>5</td>\n",
       "      <td>5037</td>\n",
       "      <td>0.0</td>\n",
       "      <td>34.0</td>\n",
       "      <td>0.0</td>\n",
       "      <td>0.0</td>\n",
       "      <td>0.0</td>\n",
       "      <td>242.414429</td>\n",
       "      <td>25.0</td>\n",
       "      <td>...</td>\n",
       "      <td>0.0</td>\n",
       "      <td>0.0</td>\n",
       "      <td>0.0</td>\n",
       "      <td>0.0</td>\n",
       "      <td>0.0</td>\n",
       "      <td>0.0</td>\n",
       "      <td>0.0</td>\n",
       "      <td>0.0</td>\n",
       "      <td>1</td>\n",
       "      <td>0.0</td>\n",
       "    </tr>\n",
       "    <tr>\n",
       "      <th>1</th>\n",
       "      <td>1</td>\n",
       "      <td>5</td>\n",
       "      <td>5320</td>\n",
       "      <td>0.0</td>\n",
       "      <td>0.0</td>\n",
       "      <td>0.0</td>\n",
       "      <td>0.0</td>\n",
       "      <td>0.0</td>\n",
       "      <td>0.000000</td>\n",
       "      <td>0.0</td>\n",
       "      <td>...</td>\n",
       "      <td>0.0</td>\n",
       "      <td>0.0</td>\n",
       "      <td>0.0</td>\n",
       "      <td>0.0</td>\n",
       "      <td>0.0</td>\n",
       "      <td>0.0</td>\n",
       "      <td>0.0</td>\n",
       "      <td>0.0</td>\n",
       "      <td>1</td>\n",
       "      <td>0.0</td>\n",
       "    </tr>\n",
       "    <tr>\n",
       "      <th>2</th>\n",
       "      <td>2</td>\n",
       "      <td>5</td>\n",
       "      <td>5233</td>\n",
       "      <td>0.0</td>\n",
       "      <td>34.0</td>\n",
       "      <td>0.0</td>\n",
       "      <td>0.0</td>\n",
       "      <td>0.0</td>\n",
       "      <td>586.295654</td>\n",
       "      <td>42.0</td>\n",
       "      <td>...</td>\n",
       "      <td>0.0</td>\n",
       "      <td>0.0</td>\n",
       "      <td>0.0</td>\n",
       "      <td>0.0</td>\n",
       "      <td>0.0</td>\n",
       "      <td>0.0</td>\n",
       "      <td>0.0</td>\n",
       "      <td>0.0</td>\n",
       "      <td>1</td>\n",
       "      <td>0.0</td>\n",
       "    </tr>\n",
       "  </tbody>\n",
       "</table>\n",
       "<p>3 rows × 44 columns</p>\n",
       "</div>"
      ],
      "text/plain": [
       "   ID  shop_id  item_id  cat_cnt  date_block_num  item_cnt  shop_cnt  \\\n",
       "0   0        5     5037      0.0            34.0       0.0       0.0   \n",
       "1   1        5     5320      0.0             0.0       0.0       0.0   \n",
       "2   2        5     5233      0.0            34.0       0.0       0.0   \n",
       "\n",
       "   shop_item_cnt  cat_cnt_lag_1  item_cnt_lag_1 ...    m3   m4   m5   m6   m7  \\\n",
       "0            0.0     242.414429            25.0 ...   0.0  0.0  0.0  0.0  0.0   \n",
       "1            0.0       0.000000             0.0 ...   0.0  0.0  0.0  0.0  0.0   \n",
       "2            0.0     586.295654            42.0 ...   0.0  0.0  0.0  0.0  0.0   \n",
       "\n",
       "    m8   m9  m10  m11  m12  \n",
       "0  0.0  0.0  0.0    1  0.0  \n",
       "1  0.0  0.0  0.0    1  0.0  \n",
       "2  0.0  0.0  0.0    1  0.0  \n",
       "\n",
       "[3 rows x 44 columns]"
      ]
     },
     "execution_count": 75,
     "metadata": {},
     "output_type": "execute_result"
    }
   ],
   "source": [
    "test2 = pd.merge(test,monthly_sales_all,on=['shop_id','item_id'],how='left').fillna(0)\n",
    "test2.loc[:,'m11'] = 1\n",
    "print(test2.shape)\n",
    "test2[:3]"
   ]
  },
  {
   "cell_type": "code",
   "execution_count": 76,
   "metadata": {},
   "outputs": [],
   "source": [
    "test2['item_cnt_month'] = model.predict(test2[feats]).clip(0,20)"
   ]
  },
  {
   "cell_type": "code",
   "execution_count": 77,
   "metadata": {},
   "outputs": [],
   "source": [
    "test2[['ID','item_cnt_month']].to_csv(r'../output/15_1020_lgb_time_feats_cat_top3_clipX.csv',index=False)"
   ]
  },
  {
   "cell_type": "code",
   "execution_count": null,
   "metadata": {},
   "outputs": [],
   "source": []
  },
  {
   "cell_type": "code",
   "execution_count": null,
   "metadata": {},
   "outputs": [],
   "source": []
  },
  {
   "cell_type": "code",
   "execution_count": null,
   "metadata": {},
   "outputs": [],
   "source": []
  }
 ],
 "metadata": {
  "kernelspec": {
   "display_name": "Python 3",
   "language": "python",
   "name": "python3"
  },
  "language_info": {
   "codemirror_mode": {
    "name": "ipython",
    "version": 3
   },
   "file_extension": ".py",
   "mimetype": "text/x-python",
   "name": "python",
   "nbconvert_exporter": "python",
   "pygments_lexer": "ipython3",
   "version": "3.7.0"
  }
 },
 "nbformat": 4,
 "nbformat_minor": 2
}
