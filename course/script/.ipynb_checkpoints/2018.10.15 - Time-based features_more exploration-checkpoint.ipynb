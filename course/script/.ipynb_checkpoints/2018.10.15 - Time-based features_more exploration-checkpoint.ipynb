{
 "cells": [
  {
   "cell_type": "markdown",
   "metadata": {
    "collapsed": true
   },
   "source": [
    "#### Where I am...\n",
    "Scored 1.018 with time-based features\n",
    "- first 12 months excluded (to account for an obvious downward trend overtime)\n",
    "- one-hot encoded month (to capture spikes in Dec, Mar, etc.)\n",
    "- lag 1-5, 12 of sales by\n",
    "    - shop-item\n",
    "    - shop\n",
    "    - item \n",
    "    - category\n",
    "\n",
    "#### Ideas\n",
    "1. More to explore in the time features\n",
    "    - trend (e.g. sales go down from last month? how long is the trend?) \n",
    "    - moving average? --> similar performance\n",
    "2. Other features\n",
    "    - category/product names?\n",
    "    - \\# shops sold in?\n",
    "    - price change?\n",
    "3. Parameter tuning\n",
    "4. Ensemble"
   ]
  },
  {
   "cell_type": "code",
   "execution_count": 1,
   "metadata": {},
   "outputs": [],
   "source": [
    "import os\n",
    "import re\n",
    "import pandas as pd\n",
    "import numpy as np\n",
    "\n",
    "import matplotlib.pyplot as plt\n",
    "import seaborn as sns\n",
    "%matplotlib inline\n",
    "\n",
    "# preprocessing\n",
    "from sklearn.preprocessing import OneHotEncoder\n",
    "\n",
    "from sklearn import model_selection\n",
    "from sklearn.linear_model import LinearRegression\n",
    "import lightgbm as lgb\n",
    "from sklearn.ensemble import GradientBoostingRegressor, RandomForestRegressor\n",
    "\n",
    "from itertools import product # to expand month-shop-item combo\n",
    "\n",
    "import pickle\n",
    "\n",
    "import gc\n",
    "import warnings\n",
    "warnings.filterwarnings('ignore')\n",
    "\n",
    "from tqdm import tqdm_notebook"
   ]
  },
  {
   "cell_type": "code",
   "execution_count": 2,
   "metadata": {},
   "outputs": [],
   "source": [
    "def rmse_clip(y_true, y_pred):\n",
    "    y_pred = y_pred.clip(0,20)\n",
    "    rmse = np.sqrt(np.mean((y_true - y_pred)**2))\n",
    "    return(rmse)"
   ]
  },
  {
   "cell_type": "code",
   "execution_count": 3,
   "metadata": {},
   "outputs": [],
   "source": [
    "def downcast_dtypes(df):\n",
    "    '''\n",
    "        Changes column types in the dataframe: \n",
    "                \n",
    "                `float64` type to `float32`\n",
    "                `int64`   type to `int32`\n",
    "    '''\n",
    "    \n",
    "    # Select columns to downcast\n",
    "    float_cols = [c for c in df if df[c].dtype == \"float64\"]\n",
    "    int_cols =   [c for c in df if df[c].dtype == \"int64\" or df[c].dtype == \"int32\"]\n",
    "    \n",
    "    # Downcast\n",
    "    df[float_cols] = df[float_cols].astype(np.float32)\n",
    "    df[int_cols]   = df[int_cols].astype(np.int16)\n",
    "    \n",
    "    return df"
   ]
  },
  {
   "cell_type": "markdown",
   "metadata": {},
   "source": [
    "### Read in Data"
   ]
  },
  {
   "cell_type": "code",
   "execution_count": 66,
   "metadata": {},
   "outputs": [
    {
     "name": "stdout",
     "output_type": "stream",
     "text": [
      "Wall time: 9.33 s\n"
     ]
    }
   ],
   "source": [
    "%%time\n",
    "monthly_sales_all = pd.read_hdf(r'../data2/monthly_sales_all_shop_item_w_lag.h5','monthly_sales_all')"
   ]
  },
  {
   "cell_type": "code",
   "execution_count": 67,
   "metadata": {},
   "outputs": [],
   "source": [
    "monthly_sales_all = monthly_sales_all[monthly_sales_all.date_block_num>=12]"
   ]
  },
  {
   "cell_type": "markdown",
   "metadata": {},
   "source": [
    "### Make trend and dur features"
   ]
  },
  {
   "cell_type": "code",
   "execution_count": null,
   "metadata": {},
   "outputs": [],
   "source": [
    "monthly_sales_all['shop_item_trd_1'] = ((monthly_sales_all['shop_item_cnt_lag_1'] - monthly_sales_all['shop_item_cnt_lag_2'])>=0).astype(np.int32)\n",
    "monthly_sales_all['shop_trd_1'] = ((monthly_sales_all['shop_cnt_lag_1'] - monthly_sales_all['shop_cnt_lag_2'])>=0).astype(np.int32)\n",
    "monthly_sales_all['item_trd_1'] = ((monthly_sales_all['item_cnt_lag_1'] - monthly_sales_all['item_cnt_lag_2'])>=0).astype(np.int32)\n",
    "monthly_sales_all['cat_trd_1']  = ((monthly_sales_all['cat_cnt_lag_1']  - monthly_sales_all['cat_cnt_lag_2'])>=0).astype(np.int32)\n",
    "\n",
    "monthly_sales_all['shop_item_trd_2'] = ((monthly_sales_all['shop_item_cnt_lag_2'] - monthly_sales_all['shop_item_cnt_lag_3'])>=0).astype(np.int32)\n",
    "monthly_sales_all['shop_trd_2'] = ((monthly_sales_all['shop_cnt_lag_2'] - monthly_sales_all['shop_cnt_lag_3'])>=0).astype(np.int32)\n",
    "monthly_sales_all['item_trd_2'] = ((monthly_sales_all['item_cnt_lag_2'] - monthly_sales_all['item_cnt_lag_3'])>=0).astype(np.int32)\n",
    "monthly_sales_all['cat_trd_2']  = ((monthly_sales_all['cat_cnt_lag_2']  - monthly_sales_all['cat_cnt_lag_3'])>=0).astype(np.int32)\n",
    "\n",
    "monthly_sales_all['shop_item_trd_3'] = ((monthly_sales_all['shop_item_cnt_lag_3'] - monthly_sales_all['shop_item_cnt_lag_4'])>=0).astype(np.int32)\n",
    "monthly_sales_all['shop_trd_3'] = ((monthly_sales_all['shop_cnt_lag_3'] - monthly_sales_all['shop_cnt_lag_4'])>=0).astype(np.int32)\n",
    "monthly_sales_all['item_trd_3'] = ((monthly_sales_all['item_cnt_lag_3'] - monthly_sales_all['item_cnt_lag_4'])>=0).astype(np.int32)\n",
    "monthly_sales_all['cat_trd_3']  = ((monthly_sales_all['cat_cnt_lag_3']  - monthly_sales_all['cat_cnt_lag_4'])>=0).astype(np.int32)\n",
    "\n",
    "monthly_sales_all['shop_item_trd_12'] = ((monthly_sales_all['shop_item_cnt_lag_1'] - monthly_sales_all['shop_item_cnt_lag_12'])>=0).astype(np.int32)\n",
    "monthly_sales_all['shop_trd_12'] = ((monthly_sales_all['shop_cnt_lag_1'] - monthly_sales_all['shop_cnt_lag_12'])>=0).astype(np.int32)\n",
    "monthly_sales_all['item_trd_12'] = ((monthly_sales_all['item_cnt_lag_1'] - monthly_sales_all['item_cnt_lag_12'])>=0).astype(np.int32)\n",
    "monthly_sales_all['cat_trd_12']  = ((monthly_sales_all['cat_cnt_lag_1']  - monthly_sales_all['cat_cnt_lag_12'])>=0).astype(np.int32)"
   ]
  },
  {
   "cell_type": "code",
   "execution_count": null,
   "metadata": {},
   "outputs": [],
   "source": [
    "monthly_sales_all['shop_item_ma1'] = (1/3) * (monthly_sales_all['shop_item_cnt_lag_1'] + monthly_sales_all['shop_item_cnt_lag_2'] + monthly_sales_all['shop_item_cnt_lag_3'])\n",
    "monthly_sales_all['shop_item_ma2'] = (1/3) * (monthly_sales_all['shop_item_cnt_lag_2'] + monthly_sales_all['shop_item_cnt_lag_3'] + monthly_sales_all['shop_item_cnt_lag_4'])\n",
    "monthly_sales_all['shop_item_ma3'] = (1/3) * (monthly_sales_all['shop_item_cnt_lag_3'] + monthly_sales_all['shop_item_cnt_lag_4'] + monthly_sales_all['shop_item_cnt_lag_5'])\n",
    "\n",
    "monthly_sales_all['item_ma1'] = (1/3) * (monthly_sales_all['item_cnt_lag_1'] + monthly_sales_all['item_cnt_lag_2'] + monthly_sales_all['item_cnt_lag_3'])\n",
    "monthly_sales_all['item_ma2'] = (1/3) * (monthly_sales_all['item_cnt_lag_2'] + monthly_sales_all['item_cnt_lag_3'] + monthly_sales_all['item_cnt_lag_4'])\n",
    "monthly_sales_all['item_ma3'] = (1/3) * (monthly_sales_all['item_cnt_lag_3'] + monthly_sales_all['item_cnt_lag_4'] + monthly_sales_all['item_cnt_lag_5'])\n",
    "\n",
    "monthly_sales_all['shop_ma1'] = (1/3) * (monthly_sales_all['shop_cnt_lag_1'] + monthly_sales_all['shop_cnt_lag_2'] + monthly_sales_all['shop_cnt_lag_3'])\n",
    "monthly_sales_all['shop_ma2'] = (1/3) * (monthly_sales_all['shop_cnt_lag_2'] + monthly_sales_all['shop_cnt_lag_3'] + monthly_sales_all['shop_cnt_lag_4'])\n",
    "monthly_sales_all['shop_ma3'] = (1/3) * (monthly_sales_all['shop_cnt_lag_3'] + monthly_sales_all['shop_cnt_lag_4'] + monthly_sales_all['shop_cnt_lag_5'])\n",
    "\n",
    "monthly_sales_all['cat_ma1'] = (1/3) * (monthly_sales_all['cat_cnt_lag_1'] + monthly_sales_all['cat_cnt_lag_2'] + monthly_sales_all['cat_cnt_lag_3'])\n",
    "monthly_sales_all['cat_ma2'] = (1/3) * (monthly_sales_all['cat_cnt_lag_2'] + monthly_sales_all['cat_cnt_lag_3'] + monthly_sales_all['cat_cnt_lag_4'])\n",
    "monthly_sales_all['cat_ma3'] = (1/3) * (monthly_sales_all['cat_cnt_lag_3'] + monthly_sales_all['cat_cnt_lag_4'] + monthly_sales_all['cat_cnt_lag_5'])"
   ]
  },
  {
   "cell_type": "code",
   "execution_count": 13,
   "metadata": {},
   "outputs": [],
   "source": [
    "monthly_sales_all = downcast_dtypes(monthly_sales_all)"
   ]
  },
  {
   "cell_type": "markdown",
   "metadata": {},
   "source": [
    "- <strong>One-hot encode month</strong>"
   ]
  },
  {
   "cell_type": "code",
   "execution_count": 72,
   "metadata": {},
   "outputs": [],
   "source": [
    "enc = OneHotEncoder()"
   ]
  },
  {
   "cell_type": "code",
   "execution_count": 73,
   "metadata": {},
   "outputs": [
    {
     "data": {
      "text/plain": [
       "(12, 12)"
      ]
     },
     "execution_count": 73,
     "metadata": {},
     "output_type": "execute_result"
    }
   ],
   "source": [
    "m_onehot = enc.fit_transform(pd.Series(list(range(1,13))).reshape(-1,1)).toarray()\n",
    "m_onehot.shape\n",
    "# 12 levels -> 12 features, need to drop 1 to avoid multicolinearity (since we are first going to fit a linear model)\n",
    "\n",
    "# reshape(-1,1) -1 means unknown dimension which we just let numpy to figure out\n",
    "# since OneHotEncoder() takes 2-D array, we need to make our 1D series into a 2-D matrix format\n",
    "# we know there is one column, and let numpy to figure out how many rows there should be\n",
    "# <=> reshape.(rows_in_your_data,1)"
   ]
  },
  {
   "cell_type": "code",
   "execution_count": 74,
   "metadata": {
    "scrolled": true
   },
   "outputs": [
    {
     "data": {
      "text/html": [
       "<div>\n",
       "<style scoped>\n",
       "    .dataframe tbody tr th:only-of-type {\n",
       "        vertical-align: middle;\n",
       "    }\n",
       "\n",
       "    .dataframe tbody tr th {\n",
       "        vertical-align: top;\n",
       "    }\n",
       "\n",
       "    .dataframe thead th {\n",
       "        text-align: right;\n",
       "    }\n",
       "</style>\n",
       "<table border=\"1\" class=\"dataframe\">\n",
       "  <thead>\n",
       "    <tr style=\"text-align: right;\">\n",
       "      <th></th>\n",
       "      <th>month</th>\n",
       "      <th>m2</th>\n",
       "      <th>m3</th>\n",
       "      <th>m4</th>\n",
       "      <th>m5</th>\n",
       "      <th>m6</th>\n",
       "      <th>m7</th>\n",
       "      <th>m8</th>\n",
       "      <th>m9</th>\n",
       "      <th>m10</th>\n",
       "      <th>m11</th>\n",
       "      <th>m12</th>\n",
       "    </tr>\n",
       "  </thead>\n",
       "  <tbody>\n",
       "    <tr>\n",
       "      <th>0</th>\n",
       "      <td>1</td>\n",
       "      <td>0</td>\n",
       "      <td>0</td>\n",
       "      <td>0</td>\n",
       "      <td>0</td>\n",
       "      <td>0</td>\n",
       "      <td>0</td>\n",
       "      <td>0</td>\n",
       "      <td>0</td>\n",
       "      <td>0</td>\n",
       "      <td>0</td>\n",
       "      <td>0</td>\n",
       "    </tr>\n",
       "    <tr>\n",
       "      <th>1</th>\n",
       "      <td>2</td>\n",
       "      <td>1</td>\n",
       "      <td>0</td>\n",
       "      <td>0</td>\n",
       "      <td>0</td>\n",
       "      <td>0</td>\n",
       "      <td>0</td>\n",
       "      <td>0</td>\n",
       "      <td>0</td>\n",
       "      <td>0</td>\n",
       "      <td>0</td>\n",
       "      <td>0</td>\n",
       "    </tr>\n",
       "    <tr>\n",
       "      <th>2</th>\n",
       "      <td>3</td>\n",
       "      <td>0</td>\n",
       "      <td>1</td>\n",
       "      <td>0</td>\n",
       "      <td>0</td>\n",
       "      <td>0</td>\n",
       "      <td>0</td>\n",
       "      <td>0</td>\n",
       "      <td>0</td>\n",
       "      <td>0</td>\n",
       "      <td>0</td>\n",
       "      <td>0</td>\n",
       "    </tr>\n",
       "    <tr>\n",
       "      <th>3</th>\n",
       "      <td>4</td>\n",
       "      <td>0</td>\n",
       "      <td>0</td>\n",
       "      <td>1</td>\n",
       "      <td>0</td>\n",
       "      <td>0</td>\n",
       "      <td>0</td>\n",
       "      <td>0</td>\n",
       "      <td>0</td>\n",
       "      <td>0</td>\n",
       "      <td>0</td>\n",
       "      <td>0</td>\n",
       "    </tr>\n",
       "    <tr>\n",
       "      <th>4</th>\n",
       "      <td>5</td>\n",
       "      <td>0</td>\n",
       "      <td>0</td>\n",
       "      <td>0</td>\n",
       "      <td>1</td>\n",
       "      <td>0</td>\n",
       "      <td>0</td>\n",
       "      <td>0</td>\n",
       "      <td>0</td>\n",
       "      <td>0</td>\n",
       "      <td>0</td>\n",
       "      <td>0</td>\n",
       "    </tr>\n",
       "    <tr>\n",
       "      <th>5</th>\n",
       "      <td>6</td>\n",
       "      <td>0</td>\n",
       "      <td>0</td>\n",
       "      <td>0</td>\n",
       "      <td>0</td>\n",
       "      <td>1</td>\n",
       "      <td>0</td>\n",
       "      <td>0</td>\n",
       "      <td>0</td>\n",
       "      <td>0</td>\n",
       "      <td>0</td>\n",
       "      <td>0</td>\n",
       "    </tr>\n",
       "    <tr>\n",
       "      <th>6</th>\n",
       "      <td>7</td>\n",
       "      <td>0</td>\n",
       "      <td>0</td>\n",
       "      <td>0</td>\n",
       "      <td>0</td>\n",
       "      <td>0</td>\n",
       "      <td>1</td>\n",
       "      <td>0</td>\n",
       "      <td>0</td>\n",
       "      <td>0</td>\n",
       "      <td>0</td>\n",
       "      <td>0</td>\n",
       "    </tr>\n",
       "    <tr>\n",
       "      <th>7</th>\n",
       "      <td>8</td>\n",
       "      <td>0</td>\n",
       "      <td>0</td>\n",
       "      <td>0</td>\n",
       "      <td>0</td>\n",
       "      <td>0</td>\n",
       "      <td>0</td>\n",
       "      <td>1</td>\n",
       "      <td>0</td>\n",
       "      <td>0</td>\n",
       "      <td>0</td>\n",
       "      <td>0</td>\n",
       "    </tr>\n",
       "    <tr>\n",
       "      <th>8</th>\n",
       "      <td>9</td>\n",
       "      <td>0</td>\n",
       "      <td>0</td>\n",
       "      <td>0</td>\n",
       "      <td>0</td>\n",
       "      <td>0</td>\n",
       "      <td>0</td>\n",
       "      <td>0</td>\n",
       "      <td>1</td>\n",
       "      <td>0</td>\n",
       "      <td>0</td>\n",
       "      <td>0</td>\n",
       "    </tr>\n",
       "    <tr>\n",
       "      <th>9</th>\n",
       "      <td>10</td>\n",
       "      <td>0</td>\n",
       "      <td>0</td>\n",
       "      <td>0</td>\n",
       "      <td>0</td>\n",
       "      <td>0</td>\n",
       "      <td>0</td>\n",
       "      <td>0</td>\n",
       "      <td>0</td>\n",
       "      <td>1</td>\n",
       "      <td>0</td>\n",
       "      <td>0</td>\n",
       "    </tr>\n",
       "    <tr>\n",
       "      <th>10</th>\n",
       "      <td>11</td>\n",
       "      <td>0</td>\n",
       "      <td>0</td>\n",
       "      <td>0</td>\n",
       "      <td>0</td>\n",
       "      <td>0</td>\n",
       "      <td>0</td>\n",
       "      <td>0</td>\n",
       "      <td>0</td>\n",
       "      <td>0</td>\n",
       "      <td>1</td>\n",
       "      <td>0</td>\n",
       "    </tr>\n",
       "    <tr>\n",
       "      <th>11</th>\n",
       "      <td>12</td>\n",
       "      <td>0</td>\n",
       "      <td>0</td>\n",
       "      <td>0</td>\n",
       "      <td>0</td>\n",
       "      <td>0</td>\n",
       "      <td>0</td>\n",
       "      <td>0</td>\n",
       "      <td>0</td>\n",
       "      <td>0</td>\n",
       "      <td>0</td>\n",
       "      <td>1</td>\n",
       "    </tr>\n",
       "  </tbody>\n",
       "</table>\n",
       "</div>"
      ],
      "text/plain": [
       "    month  m2  m3  m4  m5  m6  m7  m8  m9  m10  m11  m12\n",
       "0       1   0   0   0   0   0   0   0   0    0    0    0\n",
       "1       2   1   0   0   0   0   0   0   0    0    0    0\n",
       "2       3   0   1   0   0   0   0   0   0    0    0    0\n",
       "3       4   0   0   1   0   0   0   0   0    0    0    0\n",
       "4       5   0   0   0   1   0   0   0   0    0    0    0\n",
       "5       6   0   0   0   0   1   0   0   0    0    0    0\n",
       "6       7   0   0   0   0   0   1   0   0    0    0    0\n",
       "7       8   0   0   0   0   0   0   1   0    0    0    0\n",
       "8       9   0   0   0   0   0   0   0   1    0    0    0\n",
       "9      10   0   0   0   0   0   0   0   0    1    0    0\n",
       "10     11   0   0   0   0   0   0   0   0    0    1    0\n",
       "11     12   0   0   0   0   0   0   0   0    0    0    1"
      ]
     },
     "execution_count": 74,
     "metadata": {},
     "output_type": "execute_result"
    }
   ],
   "source": [
    "m_onehot_df = pd.DataFrame(np.hstack((np.array(range(1,13)).reshape(12,1),m_onehot[:,1:])), columns=['month']+['m'+str(i) for i in range(2,13)], dtype='int32')\n",
    "m_onehot_df"
   ]
  },
  {
   "cell_type": "code",
   "execution_count": 75,
   "metadata": {},
   "outputs": [
    {
     "data": {
      "text/html": [
       "<div>\n",
       "<style scoped>\n",
       "    .dataframe tbody tr th:only-of-type {\n",
       "        vertical-align: middle;\n",
       "    }\n",
       "\n",
       "    .dataframe tbody tr th {\n",
       "        vertical-align: top;\n",
       "    }\n",
       "\n",
       "    .dataframe thead th {\n",
       "        text-align: right;\n",
       "    }\n",
       "</style>\n",
       "<table border=\"1\" class=\"dataframe\">\n",
       "  <thead>\n",
       "    <tr style=\"text-align: right;\">\n",
       "      <th></th>\n",
       "      <th>cat_cnt</th>\n",
       "      <th>date_block_num</th>\n",
       "      <th>item_category_id</th>\n",
       "      <th>item_cnt</th>\n",
       "      <th>item_id</th>\n",
       "      <th>shop_cnt</th>\n",
       "      <th>shop_id</th>\n",
       "      <th>shop_item_cnt</th>\n",
       "      <th>cat_cnt_lag_1</th>\n",
       "      <th>item_cnt_lag_1</th>\n",
       "      <th>...</th>\n",
       "      <th>m3</th>\n",
       "      <th>m4</th>\n",
       "      <th>m5</th>\n",
       "      <th>m6</th>\n",
       "      <th>m7</th>\n",
       "      <th>m8</th>\n",
       "      <th>m9</th>\n",
       "      <th>m10</th>\n",
       "      <th>m11</th>\n",
       "      <th>m12</th>\n",
       "    </tr>\n",
       "  </thead>\n",
       "  <tbody>\n",
       "    <tr>\n",
       "      <th>0</th>\n",
       "      <td>7545.0</td>\n",
       "      <td>12</td>\n",
       "      <td>37</td>\n",
       "      <td>0.0</td>\n",
       "      <td>22154</td>\n",
       "      <td>1500.0</td>\n",
       "      <td>59</td>\n",
       "      <td>0.0</td>\n",
       "      <td>9989.0</td>\n",
       "      <td>1.0</td>\n",
       "      <td>...</td>\n",
       "      <td>0</td>\n",
       "      <td>0</td>\n",
       "      <td>0</td>\n",
       "      <td>0</td>\n",
       "      <td>0</td>\n",
       "      <td>0</td>\n",
       "      <td>0</td>\n",
       "      <td>0</td>\n",
       "      <td>0</td>\n",
       "      <td>0</td>\n",
       "    </tr>\n",
       "    <tr>\n",
       "      <th>1</th>\n",
       "      <td>6044.0</td>\n",
       "      <td>13</td>\n",
       "      <td>37</td>\n",
       "      <td>0.0</td>\n",
       "      <td>22154</td>\n",
       "      <td>1428.0</td>\n",
       "      <td>59</td>\n",
       "      <td>0.0</td>\n",
       "      <td>7545.0</td>\n",
       "      <td>0.0</td>\n",
       "      <td>...</td>\n",
       "      <td>0</td>\n",
       "      <td>0</td>\n",
       "      <td>0</td>\n",
       "      <td>0</td>\n",
       "      <td>0</td>\n",
       "      <td>0</td>\n",
       "      <td>0</td>\n",
       "      <td>0</td>\n",
       "      <td>0</td>\n",
       "      <td>0</td>\n",
       "    </tr>\n",
       "    <tr>\n",
       "      <th>2</th>\n",
       "      <td>6334.0</td>\n",
       "      <td>14</td>\n",
       "      <td>37</td>\n",
       "      <td>0.0</td>\n",
       "      <td>22154</td>\n",
       "      <td>1475.0</td>\n",
       "      <td>59</td>\n",
       "      <td>0.0</td>\n",
       "      <td>6044.0</td>\n",
       "      <td>0.0</td>\n",
       "      <td>...</td>\n",
       "      <td>1</td>\n",
       "      <td>0</td>\n",
       "      <td>0</td>\n",
       "      <td>0</td>\n",
       "      <td>0</td>\n",
       "      <td>0</td>\n",
       "      <td>0</td>\n",
       "      <td>0</td>\n",
       "      <td>0</td>\n",
       "      <td>0</td>\n",
       "    </tr>\n",
       "  </tbody>\n",
       "</table>\n",
       "<p>3 rows × 59 columns</p>\n",
       "</div>"
      ],
      "text/plain": [
       "   cat_cnt  date_block_num  item_category_id  item_cnt  item_id  shop_cnt  \\\n",
       "0   7545.0              12                37       0.0    22154    1500.0   \n",
       "1   6044.0              13                37       0.0    22154    1428.0   \n",
       "2   6334.0              14                37       0.0    22154    1475.0   \n",
       "\n",
       "   shop_id  shop_item_cnt  cat_cnt_lag_1  item_cnt_lag_1 ...   m3  m4  m5  m6  \\\n",
       "0       59            0.0         9989.0             1.0 ...    0   0   0   0   \n",
       "1       59            0.0         7545.0             0.0 ...    0   0   0   0   \n",
       "2       59            0.0         6044.0             0.0 ...    1   0   0   0   \n",
       "\n",
       "   m7  m8  m9  m10  m11  m12  \n",
       "0   0   0   0    0    0    0  \n",
       "1   0   0   0    0    0    0  \n",
       "2   0   0   0    0    0    0  \n",
       "\n",
       "[3 rows x 59 columns]"
      ]
     },
     "execution_count": 75,
     "metadata": {},
     "output_type": "execute_result"
    }
   ],
   "source": [
    "monthly_sales_all = pd.merge(monthly_sales_all,m_onehot_df,how='left',on='month').drop(labels=['month'],axis=1)\n",
    "monthly_sales_all[:3]"
   ]
  },
  {
   "cell_type": "code",
   "execution_count": 30,
   "metadata": {},
   "outputs": [
    {
     "name": "stdout",
     "output_type": "stream",
     "text": [
      "Wall time: 1min 45s\n"
     ]
    }
   ],
   "source": [
    "%%time\n",
    "monthly_sales_all.to_hdf(r'../data2/monthly_sales_ex_fst_12m_w_lag_1hot_tr.h5','monthly_sales_all')"
   ]
  },
  {
   "cell_type": "code",
   "execution_count": null,
   "metadata": {},
   "outputs": [],
   "source": []
  },
  {
   "cell_type": "markdown",
   "metadata": {},
   "source": [
    "#### Predict w lag v RF w lag"
   ]
  },
  {
   "cell_type": "code",
   "execution_count": 4,
   "metadata": {},
   "outputs": [],
   "source": [
    "hold_out_month = 33\n",
    "val_month = 32"
   ]
  },
  {
   "cell_type": "markdown",
   "metadata": {},
   "source": [
    "#### Benchmark - on val and hold-out"
   ]
  },
  {
   "cell_type": "code",
   "execution_count": 12,
   "metadata": {},
   "outputs": [
    {
     "name": "stdout",
     "output_type": "stream",
     "text": [
      "Hold out BC (month 33):\n",
      "14.38222156410965\n",
      "Val BC (month 32)\n",
      "18.07412546239703\n"
     ]
    }
   ],
   "source": [
    "feats = ['shop_item_cnt_lag_1']\n",
    "\n",
    "hold_out_df = monthly_sales_all.loc[monthly_sales_all.date_block_num == hold_out_month,\n",
    "                            ['shop_id','item_id','shop_item_cnt']+feats]\n",
    "val = monthly_sales_all.loc[monthly_sales_all.date_block_num == val_month,\n",
    "                            ['shop_id','item_id','shop_item_cnt']+feats]\n",
    "\n",
    "print('Hold out BC (month 33):')\n",
    "print(rmse_clip(y_true = hold_out_df.loc[hold_out_df.shop_item_cnt>0,'shop_item_cnt'],y_pred = hold_out_df.loc[hold_out_df.shop_item_cnt>0,'shop_item_cnt_lag_1']))\n",
    "\n",
    "print('Val BC (month 32)')\n",
    "print(rmse_clip(y_true = val.loc[val.shop_item_cnt>0,'shop_item_cnt'],y_pred = val.loc[val.shop_item_cnt>0,'shop_item_cnt_lag_1']))"
   ]
  },
  {
   "cell_type": "markdown",
   "metadata": {},
   "source": [
    "#### Model"
   ]
  },
  {
   "cell_type": "markdown",
   "metadata": {},
   "source": [
    "##### LGB"
   ]
  },
  {
   "cell_type": "code",
   "execution_count": 7,
   "metadata": {},
   "outputs": [],
   "source": [
    "feats = ['shop_item_cnt_lag_1',  'item_cnt_lag_1',  'shop_cnt_lag_1', 'cat_cnt_lag_1',\n",
    "         'shop_item_cnt_lag_2',  'item_cnt_lag_2',  'shop_cnt_lag_2', 'cat_cnt_lag_2',\n",
    "         'shop_item_cnt_lag_3',  'item_cnt_lag_3',  'shop_cnt_lag_3', 'cat_cnt_lag_3',\n",
    "         'shop_item_cnt_lag_4',  'item_cnt_lag_4',  'shop_cnt_lag_4', 'cat_cnt_lag_4',\n",
    "         'shop_item_cnt_lag_5',  'item_cnt_lag_5',  'shop_cnt_lag_5', 'cat_cnt_lag_5',\n",
    "         'shop_item_cnt_lag_12', 'item_cnt_lag_12', 'shop_cnt_lag_12','cat_cnt_lag_12',\n",
    "         'm2', 'm3', 'm4', 'm5', 'm6', 'm7', 'm8', 'm9', 'm10', 'm11', 'm12',\n",
    "#          'shop_item_trd_1', 'shop_trd_1', 'item_trd_1', 'cat_trd_1',\n",
    "#          'shop_item_trd_2', 'shop_trd_2', 'item_trd_2', 'cat_trd_2',\n",
    "#          'shop_item_trd_3', 'shop_trd_3', 'item_trd_3', 'cat_trd_3',\n",
    "#          'shop_item_trd_12', 'shop_trd_12', 'item_trd_12', 'cat_trd_12',\n",
    "         'shop_item_ma1', 'shop_item_ma2', 'shop_item_ma3', \n",
    "         'item_ma1', 'item_ma2', 'item_ma3',\n",
    "         'shop_ma1', 'shop_ma2', 'shop_ma3', \n",
    "         'cat_ma1', 'cat_ma2', 'cat_ma3'\n",
    "        ]"
   ]
  },
  {
   "cell_type": "code",
   "execution_count": 6,
   "metadata": {},
   "outputs": [
    {
     "name": "stdout",
     "output_type": "stream",
     "text": [
      "Wall time: 10.3 s\n"
     ]
    }
   ],
   "source": [
    "%%time\n",
    "monthly_sales_all = pd.read_hdf(r'../data2/monthly_sales_ex_fst_12m_w_lag_1hot_tr.h5','monthly_sales_all')"
   ]
  },
  {
   "cell_type": "code",
   "execution_count": 7,
   "metadata": {
    "scrolled": true
   },
   "outputs": [
    {
     "data": {
      "text/html": [
       "<div>\n",
       "<style scoped>\n",
       "    .dataframe tbody tr th:only-of-type {\n",
       "        vertical-align: middle;\n",
       "    }\n",
       "\n",
       "    .dataframe tbody tr th {\n",
       "        vertical-align: top;\n",
       "    }\n",
       "\n",
       "    .dataframe thead th {\n",
       "        text-align: right;\n",
       "    }\n",
       "</style>\n",
       "<table border=\"1\" class=\"dataframe\">\n",
       "  <thead>\n",
       "    <tr style=\"text-align: right;\">\n",
       "      <th></th>\n",
       "      <th>shop_id</th>\n",
       "      <th>item_id</th>\n",
       "      <th>shop_item_cnt</th>\n",
       "      <th>shop_item_cnt_lag_1</th>\n",
       "      <th>item_cnt_lag_1</th>\n",
       "      <th>shop_cnt_lag_1</th>\n",
       "      <th>cat_cnt_lag_1</th>\n",
       "      <th>shop_item_cnt_lag_2</th>\n",
       "      <th>item_cnt_lag_2</th>\n",
       "      <th>shop_cnt_lag_2</th>\n",
       "      <th>...</th>\n",
       "      <th>shop_item_ma3</th>\n",
       "      <th>item_ma1</th>\n",
       "      <th>item_ma2</th>\n",
       "      <th>item_ma3</th>\n",
       "      <th>shop_ma1</th>\n",
       "      <th>shop_ma2</th>\n",
       "      <th>shop_ma3</th>\n",
       "      <th>cat_ma1</th>\n",
       "      <th>cat_ma2</th>\n",
       "      <th>cat_ma3</th>\n",
       "    </tr>\n",
       "  </thead>\n",
       "  <tbody>\n",
       "    <tr>\n",
       "      <th>20</th>\n",
       "      <td>59</td>\n",
       "      <td>22154</td>\n",
       "      <td>0.0</td>\n",
       "      <td>0.0</td>\n",
       "      <td>6.0</td>\n",
       "      <td>1216.0</td>\n",
       "      <td>3436.0</td>\n",
       "      <td>0.0</td>\n",
       "      <td>8.0</td>\n",
       "      <td>998.0</td>\n",
       "      <td>...</td>\n",
       "      <td>0.0</td>\n",
       "      <td>4.666667</td>\n",
       "      <td>2.666667</td>\n",
       "      <td>0.000000</td>\n",
       "      <td>1042.333374</td>\n",
       "      <td>943.0</td>\n",
       "      <td>962.0</td>\n",
       "      <td>3498.666748</td>\n",
       "      <td>3453.333252</td>\n",
       "      <td>3912.666748</td>\n",
       "    </tr>\n",
       "    <tr>\n",
       "      <th>42</th>\n",
       "      <td>59</td>\n",
       "      <td>2552</td>\n",
       "      <td>0.0</td>\n",
       "      <td>0.0</td>\n",
       "      <td>0.0</td>\n",
       "      <td>1216.0</td>\n",
       "      <td>286.0</td>\n",
       "      <td>0.0</td>\n",
       "      <td>0.0</td>\n",
       "      <td>998.0</td>\n",
       "      <td>...</td>\n",
       "      <td>0.0</td>\n",
       "      <td>0.000000</td>\n",
       "      <td>0.333333</td>\n",
       "      <td>0.333333</td>\n",
       "      <td>1042.333374</td>\n",
       "      <td>943.0</td>\n",
       "      <td>962.0</td>\n",
       "      <td>344.333344</td>\n",
       "      <td>349.666656</td>\n",
       "      <td>356.000000</td>\n",
       "    </tr>\n",
       "    <tr>\n",
       "      <th>64</th>\n",
       "      <td>59</td>\n",
       "      <td>2554</td>\n",
       "      <td>0.0</td>\n",
       "      <td>0.0</td>\n",
       "      <td>0.0</td>\n",
       "      <td>1216.0</td>\n",
       "      <td>286.0</td>\n",
       "      <td>0.0</td>\n",
       "      <td>0.0</td>\n",
       "      <td>998.0</td>\n",
       "      <td>...</td>\n",
       "      <td>0.0</td>\n",
       "      <td>0.000000</td>\n",
       "      <td>0.000000</td>\n",
       "      <td>0.000000</td>\n",
       "      <td>1042.333374</td>\n",
       "      <td>943.0</td>\n",
       "      <td>962.0</td>\n",
       "      <td>344.333344</td>\n",
       "      <td>349.666656</td>\n",
       "      <td>356.000000</td>\n",
       "    </tr>\n",
       "  </tbody>\n",
       "</table>\n",
       "<p>3 rows × 54 columns</p>\n",
       "</div>"
      ],
      "text/plain": [
       "    shop_id  item_id  shop_item_cnt  shop_item_cnt_lag_1  item_cnt_lag_1  \\\n",
       "20       59    22154            0.0                  0.0             6.0   \n",
       "42       59     2552            0.0                  0.0             0.0   \n",
       "64       59     2554            0.0                  0.0             0.0   \n",
       "\n",
       "    shop_cnt_lag_1  cat_cnt_lag_1  shop_item_cnt_lag_2  item_cnt_lag_2  \\\n",
       "20          1216.0         3436.0                  0.0             8.0   \n",
       "42          1216.0          286.0                  0.0             0.0   \n",
       "64          1216.0          286.0                  0.0             0.0   \n",
       "\n",
       "    shop_cnt_lag_2     ...       shop_item_ma3  item_ma1  item_ma2  item_ma3  \\\n",
       "20           998.0     ...                 0.0  4.666667  2.666667  0.000000   \n",
       "42           998.0     ...                 0.0  0.000000  0.333333  0.333333   \n",
       "64           998.0     ...                 0.0  0.000000  0.000000  0.000000   \n",
       "\n",
       "       shop_ma1  shop_ma2  shop_ma3      cat_ma1      cat_ma2      cat_ma3  \n",
       "20  1042.333374     943.0     962.0  3498.666748  3453.333252  3912.666748  \n",
       "42  1042.333374     943.0     962.0   344.333344   349.666656   356.000000  \n",
       "64  1042.333374     943.0     962.0   344.333344   349.666656   356.000000  \n",
       "\n",
       "[3 rows x 54 columns]"
      ]
     },
     "execution_count": 7,
     "metadata": {},
     "output_type": "execute_result"
    }
   ],
   "source": [
    "hold_out_df = monthly_sales_all.loc[monthly_sales_all.date_block_num == hold_out_month,\n",
    "                            ['shop_id','item_id','shop_item_cnt']+feats]\n",
    "val = monthly_sales_all.loc[monthly_sales_all.date_block_num == val_month,\n",
    "                            ['shop_id','item_id','shop_item_cnt']+feats]\n",
    "val[:3]"
   ]
  },
  {
   "cell_type": "code",
   "execution_count": 8,
   "metadata": {},
   "outputs": [],
   "source": [
    "X_train = monthly_sales_all.loc[monthly_sales_all.date_block_num<val_month,feats]\n",
    "y_train = monthly_sales_all.loc[monthly_sales_all.date_block_num<val_month,'shop_item_cnt']"
   ]
  },
  {
   "cell_type": "code",
   "execution_count": 9,
   "metadata": {},
   "outputs": [
    {
     "data": {
      "text/plain": [
       "129"
      ]
     },
     "execution_count": 9,
     "metadata": {},
     "output_type": "execute_result"
    }
   ],
   "source": [
    "del monthly_sales_all\n",
    "# del model\n",
    "gc.collect()"
   ]
  },
  {
   "cell_type": "code",
   "execution_count": 10,
   "metadata": {},
   "outputs": [
    {
     "name": "stdout",
     "output_type": "stream",
     "text": [
      "Wall time: 8min 56s\n"
     ]
    }
   ],
   "source": [
    "%%time\n",
    "lgb_params = {\n",
    "               'feature_fraction': 0.75,\n",
    "               'metric': 'rmse',\n",
    "               'nthread':3, \n",
    "               'min_data_in_leaf': 2**7, \n",
    "               'bagging_fraction': 0.75, \n",
    "               'learning_rate': 0.03, \n",
    "               'objective': 'mse', \n",
    "               'bagging_seed': 2**7, \n",
    "               'num_leaves': 2**7,\n",
    "               'bagging_freq':1,\n",
    "               'verbose':0 \n",
    "              }\n",
    "\n",
    "model = lgb.train(lgb_params, lgb.Dataset(X_train, label=y_train), 100)"
   ]
  },
  {
   "cell_type": "code",
   "execution_count": 11,
   "metadata": {},
   "outputs": [
    {
     "name": "stdout",
     "output_type": "stream",
     "text": [
      "Val (32): 18.128761044343264\n",
      "Val (32): 2.0063761261838415\n"
     ]
    }
   ],
   "source": [
    "pred_lgb = model.predict(val[feats])\n",
    "print(\"Val (32):\",rmse_clip(y_true = val.loc[val.shop_item_cnt>0,'shop_item_cnt'],y_pred = pred_lgb[val.shop_item_cnt>0]))\n",
    "print(\"Val (32):\",rmse_clip(y_true = val.loc[(val.shop_item_cnt>0) & (val.shop_item_cnt<20),'shop_item_cnt'],y_pred = pred_lgb[(val.shop_item_cnt>0)&(val.shop_item_cnt<20)]))"
   ]
  },
  {
   "cell_type": "code",
   "execution_count": 14,
   "metadata": {
    "scrolled": false
   },
   "outputs": [
    {
     "data": {
      "text/plain": [
       "<matplotlib.axes._subplots.AxesSubplot at 0x1e5e43e5be0>"
      ]
     },
     "execution_count": 14,
     "metadata": {},
     "output_type": "execute_result"
    },
    {
     "data": {
      "image/png": "[encoded data removed]",
      "text/plain": [
       "<matplotlib.figure.Figure at 0x1e5e4397320>"
      ]
     },
     "metadata": {},
     "output_type": "display_data"
    }
   ],
   "source": [
    "lgb.plot_importance(model,figsize=(20,20))"
   ]
  },
  {
   "cell_type": "code",
   "execution_count": null,
   "metadata": {},
   "outputs": [],
   "source": []
  },
  {
   "cell_type": "code",
   "execution_count": null,
   "metadata": {},
   "outputs": [],
   "source": []
  },
  {
   "cell_type": "markdown",
   "metadata": {},
   "source": [
    "##### Linear Regression"
   ]
  },
  {
   "cell_type": "code",
   "execution_count": 40,
   "metadata": {},
   "outputs": [],
   "source": [
    "feats = ['shop_item_cnt_lag_1',  'item_cnt_lag_1',  'shop_cnt_lag_1', 'cat_cnt_lag_1',\n",
    "         'shop_item_cnt_lag_2',  'item_cnt_lag_2',  'shop_cnt_lag_2', #'cat_cnt_lag_2',\n",
    "         'shop_item_cnt_lag_3',  'item_cnt_lag_3',  'shop_cnt_lag_3', #'cat_cnt_lag_3',\n",
    "         'shop_item_cnt_lag_4',  'item_cnt_lag_4',  'shop_cnt_lag_4', #'cat_cnt_lag_4',\n",
    "         'shop_item_cnt_lag_5',  'item_cnt_lag_5',  'shop_cnt_lag_5', #'cat_cnt_lag_5',\n",
    "         'shop_item_cnt_lag_12', 'item_cnt_lag_12', 'shop_cnt_lag_12',#'cat_cnt_lag_12',\n",
    "         'm2', 'm3', 'm4', 'm5', 'm6', 'm7', 'm8', 'm9', 'm10', 'm11', 'm12',\n",
    "         'shop_item_trd_1', 'shop_trd_1', 'item_trd_1', 'cat_trd_1'\n",
    "        ]"
   ]
  },
  {
   "cell_type": "code",
   "execution_count": 15,
   "metadata": {
    "scrolled": true
   },
   "outputs": [
    {
     "data": {
      "text/html": [
       "<div>\n",
       "<style scoped>\n",
       "    .dataframe tbody tr th:only-of-type {\n",
       "        vertical-align: middle;\n",
       "    }\n",
       "\n",
       "    .dataframe tbody tr th {\n",
       "        vertical-align: top;\n",
       "    }\n",
       "\n",
       "    .dataframe thead th {\n",
       "        text-align: right;\n",
       "    }\n",
       "</style>\n",
       "<table border=\"1\" class=\"dataframe\">\n",
       "  <thead>\n",
       "    <tr style=\"text-align: right;\">\n",
       "      <th></th>\n",
       "      <th>shop_id</th>\n",
       "      <th>item_id</th>\n",
       "      <th>shop_item_cnt</th>\n",
       "      <th>shop_item_cnt_lag_1</th>\n",
       "      <th>item_cnt_lag_1</th>\n",
       "      <th>shop_cnt_lag_1</th>\n",
       "      <th>cat_cnt_lag_1</th>\n",
       "      <th>shop_item_cnt_lag_2</th>\n",
       "      <th>item_cnt_lag_2</th>\n",
       "      <th>shop_cnt_lag_2</th>\n",
       "      <th>...</th>\n",
       "      <th>m7</th>\n",
       "      <th>m8</th>\n",
       "      <th>m9</th>\n",
       "      <th>m10</th>\n",
       "      <th>m11</th>\n",
       "      <th>m12</th>\n",
       "      <th>shop_item_trd_1</th>\n",
       "      <th>shop_trd_1</th>\n",
       "      <th>item_trd_1</th>\n",
       "      <th>cat_trd_1</th>\n",
       "    </tr>\n",
       "  </thead>\n",
       "  <tbody>\n",
       "    <tr>\n",
       "      <th>20</th>\n",
       "      <td>59</td>\n",
       "      <td>22154</td>\n",
       "      <td>0.0</td>\n",
       "      <td>0.0</td>\n",
       "      <td>6.0</td>\n",
       "      <td>1216.0</td>\n",
       "      <td>3436.0</td>\n",
       "      <td>0.0</td>\n",
       "      <td>8.0</td>\n",
       "      <td>998.0</td>\n",
       "      <td>...</td>\n",
       "      <td>0</td>\n",
       "      <td>0</td>\n",
       "      <td>1</td>\n",
       "      <td>0</td>\n",
       "      <td>0</td>\n",
       "      <td>0</td>\n",
       "      <td>1</td>\n",
       "      <td>0</td>\n",
       "      <td>0</td>\n",
       "      <td>0</td>\n",
       "    </tr>\n",
       "    <tr>\n",
       "      <th>42</th>\n",
       "      <td>59</td>\n",
       "      <td>2552</td>\n",
       "      <td>0.0</td>\n",
       "      <td>0.0</td>\n",
       "      <td>0.0</td>\n",
       "      <td>1216.0</td>\n",
       "      <td>286.0</td>\n",
       "      <td>0.0</td>\n",
       "      <td>0.0</td>\n",
       "      <td>998.0</td>\n",
       "      <td>...</td>\n",
       "      <td>0</td>\n",
       "      <td>0</td>\n",
       "      <td>1</td>\n",
       "      <td>0</td>\n",
       "      <td>0</td>\n",
       "      <td>0</td>\n",
       "      <td>1</td>\n",
       "      <td>0</td>\n",
       "      <td>1</td>\n",
       "      <td>1</td>\n",
       "    </tr>\n",
       "    <tr>\n",
       "      <th>64</th>\n",
       "      <td>59</td>\n",
       "      <td>2554</td>\n",
       "      <td>0.0</td>\n",
       "      <td>0.0</td>\n",
       "      <td>0.0</td>\n",
       "      <td>1216.0</td>\n",
       "      <td>286.0</td>\n",
       "      <td>0.0</td>\n",
       "      <td>0.0</td>\n",
       "      <td>998.0</td>\n",
       "      <td>...</td>\n",
       "      <td>0</td>\n",
       "      <td>0</td>\n",
       "      <td>1</td>\n",
       "      <td>0</td>\n",
       "      <td>0</td>\n",
       "      <td>0</td>\n",
       "      <td>1</td>\n",
       "      <td>0</td>\n",
       "      <td>1</td>\n",
       "      <td>1</td>\n",
       "    </tr>\n",
       "  </tbody>\n",
       "</table>\n",
       "<p>3 rows × 37 columns</p>\n",
       "</div>"
      ],
      "text/plain": [
       "    shop_id  item_id  shop_item_cnt  shop_item_cnt_lag_1  item_cnt_lag_1  \\\n",
       "20       59    22154            0.0                  0.0             6.0   \n",
       "42       59     2552            0.0                  0.0             0.0   \n",
       "64       59     2554            0.0                  0.0             0.0   \n",
       "\n",
       "    shop_cnt_lag_1  cat_cnt_lag_1  shop_item_cnt_lag_2  item_cnt_lag_2  \\\n",
       "20          1216.0         3436.0                  0.0             8.0   \n",
       "42          1216.0          286.0                  0.0             0.0   \n",
       "64          1216.0          286.0                  0.0             0.0   \n",
       "\n",
       "    shop_cnt_lag_2    ...      m7  m8  m9  m10  m11  m12  shop_item_trd_1  \\\n",
       "20           998.0    ...       0   0   1    0    0    0                1   \n",
       "42           998.0    ...       0   0   1    0    0    0                1   \n",
       "64           998.0    ...       0   0   1    0    0    0                1   \n",
       "\n",
       "    shop_trd_1  item_trd_1  cat_trd_1  \n",
       "20           0           0          0  \n",
       "42           0           1          1  \n",
       "64           0           1          1  \n",
       "\n",
       "[3 rows x 37 columns]"
      ]
     },
     "execution_count": 15,
     "metadata": {},
     "output_type": "execute_result"
    }
   ],
   "source": [
    "hold_out_df = monthly_sales_all.loc[monthly_sales_all.date_block_num == hold_out_month,\n",
    "                            ['shop_id','item_id','shop_item_cnt']+feats]\n",
    "val = monthly_sales_all.loc[monthly_sales_all.date_block_num == val_month,\n",
    "                            ['shop_id','item_id','shop_item_cnt']+feats]\n",
    "val[:3]"
   ]
  },
  {
   "cell_type": "code",
   "execution_count": 16,
   "metadata": {},
   "outputs": [
    {
     "data": {
      "text/plain": [
       "196"
      ]
     },
     "execution_count": 16,
     "metadata": {},
     "output_type": "execute_result"
    }
   ],
   "source": [
    "gc.collect()"
   ]
  },
  {
   "cell_type": "code",
   "execution_count": 17,
   "metadata": {},
   "outputs": [],
   "source": [
    "X_train = monthly_sales_all.loc[monthly_sales_all.date_block_num<val_month,feats]\n",
    "y_train = monthly_sales_all.loc[monthly_sales_all.date_block_num<val_month,'shop_item_cnt']"
   ]
  },
  {
   "cell_type": "code",
   "execution_count": 18,
   "metadata": {},
   "outputs": [
    {
     "data": {
      "text/plain": [
       "49"
      ]
     },
     "execution_count": 18,
     "metadata": {},
     "output_type": "execute_result"
    }
   ],
   "source": [
    "del monthly_sales_all\n",
    "gc.collect()"
   ]
  },
  {
   "cell_type": "code",
   "execution_count": 45,
   "metadata": {},
   "outputs": [
    {
     "name": "stdout",
     "output_type": "stream",
     "text": [
      "Wall time: 1min 23s\n"
     ]
    }
   ],
   "source": [
    "%%time\n",
    "corr = X_train.corr()"
   ]
  },
  {
   "cell_type": "code",
   "execution_count": 46,
   "metadata": {
    "scrolled": true
   },
   "outputs": [
    {
     "data": {
      "text/plain": [
       "<matplotlib.axes._subplots.AxesSubplot at 0x22102011358>"
      ]
     },
     "execution_count": 46,
     "metadata": {},
     "output_type": "execute_result"
    },
    {
     "data": {
      "image/png": "[encoded data removed]",
      "text/plain": [
       "<matplotlib.figure.Figure at 0x22101e134e0>"
      ]
     },
     "metadata": {},
     "output_type": "display_data"
    }
   ],
   "source": [
    "plt.figure(figsize=(20,10))\n",
    "sns.heatmap(corr)"
   ]
  },
  {
   "cell_type": "code",
   "execution_count": 20,
   "metadata": {},
   "outputs": [],
   "source": [
    "lm = LinearRegression()"
   ]
  },
  {
   "cell_type": "code",
   "execution_count": 21,
   "metadata": {},
   "outputs": [
    {
     "name": "stdout",
     "output_type": "stream",
     "text": [
      "Wall time: 1min 5s\n"
     ]
    },
    {
     "data": {
      "text/plain": [
       "LinearRegression(copy_X=True, fit_intercept=True, n_jobs=1, normalize=False)"
      ]
     },
     "execution_count": 21,
     "metadata": {},
     "output_type": "execute_result"
    }
   ],
   "source": [
    "%%time\n",
    "lm.fit(X_train,y_train)"
   ]
  },
  {
   "cell_type": "code",
   "execution_count": 22,
   "metadata": {},
   "outputs": [],
   "source": [
    "pred_lm = lm.predict(val[feats])"
   ]
  },
  {
   "cell_type": "code",
   "execution_count": 23,
   "metadata": {},
   "outputs": [
    {
     "data": {
      "text/plain": [
       "18.161080853494752"
      ]
     },
     "execution_count": 23,
     "metadata": {},
     "output_type": "execute_result"
    }
   ],
   "source": [
    "rmse_clip(y_true = val.loc[val.shop_item_cnt>0,'shop_item_cnt'],y_pred = pred_lm[val.shop_item_cnt>0])"
   ]
  },
  {
   "cell_type": "code",
   "execution_count": 51,
   "metadata": {},
   "outputs": [
    {
     "data": {
      "text/plain": [
       "158"
      ]
     },
     "execution_count": 51,
     "metadata": {},
     "output_type": "execute_result"
    }
   ],
   "source": [
    "gc.collect()"
   ]
  },
  {
   "cell_type": "code",
   "execution_count": 42,
   "metadata": {},
   "outputs": [
    {
     "data": {
      "text/plain": [
       "([<matplotlib.axis.XTick at 0x1a8220169b0>,\n",
       "  <matplotlib.axis.XTick at 0x1a8220100f0>,\n",
       "  <matplotlib.axis.XTick at 0x1a822010eb8>,\n",
       "  <matplotlib.axis.XTick at 0x1a8212c3a58>,\n",
       "  <matplotlib.axis.XTick at 0x1a822041630>,\n",
       "  <matplotlib.axis.XTick at 0x1a8220417f0>,\n",
       "  <matplotlib.axis.XTick at 0x1a822041e80>,\n",
       "  <matplotlib.axis.XTick at 0x1a822173550>,\n",
       "  <matplotlib.axis.XTick at 0x1a822173be0>,\n",
       "  <matplotlib.axis.XTick at 0x1a8221782b0>,\n",
       "  <matplotlib.axis.XTick at 0x1a822178940>,\n",
       "  <matplotlib.axis.XTick at 0x1a822178fd0>,\n",
       "  <matplotlib.axis.XTick at 0x1a8221806a0>,\n",
       "  <matplotlib.axis.XTick at 0x1a822180d30>,\n",
       "  <matplotlib.axis.XTick at 0x1a822184400>,\n",
       "  <matplotlib.axis.XTick at 0x1a822184a90>,\n",
       "  <matplotlib.axis.XTick at 0x1a82218b160>,\n",
       "  <matplotlib.axis.XTick at 0x1a82218b7f0>,\n",
       "  <matplotlib.axis.XTick at 0x1a82218be80>,\n",
       "  <matplotlib.axis.XTick at 0x1a822191550>,\n",
       "  <matplotlib.axis.XTick at 0x1a822191be0>,\n",
       "  <matplotlib.axis.XTick at 0x1a8221972b0>,\n",
       "  <matplotlib.axis.XTick at 0x1a822197940>,\n",
       "  <matplotlib.axis.XTick at 0x1a8220211d0>,\n",
       "  <matplotlib.axis.XTick at 0x1a82219c1d0>,\n",
       "  <matplotlib.axis.XTick at 0x1a82219c860>,\n",
       "  <matplotlib.axis.XTick at 0x1a82219cef0>,\n",
       "  <matplotlib.axis.XTick at 0x1a8221a25c0>,\n",
       "  <matplotlib.axis.XTick at 0x1a8221a2c50>,\n",
       "  <matplotlib.axis.XTick at 0x1a8221a9320>,\n",
       "  <matplotlib.axis.XTick at 0x1a8221a99b0>,\n",
       "  <matplotlib.axis.XTick at 0x1a8221af080>,\n",
       "  <matplotlib.axis.XTick at 0x1a8221af710>,\n",
       "  <matplotlib.axis.XTick at 0x1a8221afda0>],\n",
       " <a list of 34 Text xticklabel objects>)"
      ]
     },
     "execution_count": 42,
     "metadata": {},
     "output_type": "execute_result"
    },
    {
     "data": {
      "image/png": "[encoded data removed]",
      "text/plain": [
       "<matplotlib.figure.Figure at 0x1a822033c88>"
      ]
     },
     "metadata": {},
     "output_type": "display_data"
    }
   ],
   "source": [
    "# This is not a good graph; features are not standardized, so the magnitude of coef is meaningless\n",
    "plt.figure(figsize=(20,5))\n",
    "ticks = list(range(len(lm.coef_)))\n",
    "plt.bar(ticks,height=lm.coef_)\n",
    "plt.xticks(ticks,feats,rotation=90)"
   ]
  },
  {
   "cell_type": "code",
   "execution_count": 64,
   "metadata": {
    "scrolled": true
   },
   "outputs": [
    {
     "data": {
      "text/plain": [
       "<matplotlib.collections.PathCollection at 0x1a823e103c8>"
      ]
     },
     "execution_count": 64,
     "metadata": {},
     "output_type": "execute_result"
    },
    {
     "data": {
      "image/png": "[encoded data removed]",
      "text/plain": [
       "<matplotlib.figure.Figure at 0x1a822033d68>"
      ]
     },
     "metadata": {},
     "output_type": "display_data"
    }
   ],
   "source": [
    "plt.scatter(pred_lgb[val.shop_item_cnt>0],pred_lm[val.shop_item_cnt>0])"
   ]
  },
  {
   "cell_type": "markdown",
   "metadata": {},
   "source": [
    "### Ok, why doesn't score improve???"
   ]
  },
  {
   "cell_type": "code",
   "execution_count": 66,
   "metadata": {},
   "outputs": [
    {
     "data": {
      "text/plain": [
       "(29652, 44)"
      ]
     },
     "execution_count": 66,
     "metadata": {},
     "output_type": "execute_result"
    }
   ],
   "source": [
    "val['lm_pred'] = pred_lm\n",
    "val['lgb_pred'] = pred_lgb\n",
    "val2 = val[val.shop_item_cnt>0]\n",
    "val2.shape"
   ]
  },
  {
   "cell_type": "code",
   "execution_count": 67,
   "metadata": {},
   "outputs": [
    {
     "data": {
      "text/plain": [
       "<matplotlib.axes._subplots.AxesSubplot at 0x1a823e204e0>"
      ]
     },
     "execution_count": 67,
     "metadata": {},
     "output_type": "execute_result"
    },
    {
     "data": {
      "text/plain": [
       "<matplotlib.figure.Figure at 0x1a824b372e8>"
      ]
     },
     "metadata": {},
     "output_type": "display_data"
    },
    {
     "data": {
      "image/png": "[encoded data removed]",
      "text/plain": [
       "<matplotlib.figure.Figure at 0x1a823e62048>"
      ]
     },
     "metadata": {},
     "output_type": "display_data"
    }
   ],
   "source": [
    "plt.figure(figsize=(20,5))\n",
    "val2[['shop_item_cnt','shop_item_cnt_lag_1','lm_pred','lgb_pred']].plot()\n",
    "\n",
    "## Ok there seems to be Extremely high sales of in month 32"
   ]
  },
  {
   "cell_type": "code",
   "execution_count": 68,
   "metadata": {
    "scrolled": true
   },
   "outputs": [
    {
     "data": {
      "text/plain": [
       "<matplotlib.axes._subplots.AxesSubplot at 0x1a823ea76a0>"
      ]
     },
     "execution_count": 68,
     "metadata": {},
     "output_type": "execute_result"
    },
    {
     "data": {
      "image/png": "[encoded data removed]",
      "text/plain": [
       "<matplotlib.figure.Figure at 0x1a8243210f0>"
      ]
     },
     "metadata": {},
     "output_type": "display_data"
    }
   ],
   "source": [
    "val2.loc[val2.shop_item_cnt<20,['shop_item_cnt','shop_item_cnt_lag_1','lm_pred','lgb_pred']].plot()"
   ]
  },
  {
   "cell_type": "code",
   "execution_count": 69,
   "metadata": {},
   "outputs": [
    {
     "name": "stdout",
     "output_type": "stream",
     "text": [
      "shop_item_cnt_lag_1 2.2048763591676313\n",
      "lm_pred 2.0309601108176945\n",
      "lgb_pred 1.770148685377452\n"
     ]
    }
   ],
   "source": [
    "# Result below is for adding in 1 trend\n",
    "for col in ['shop_item_cnt_lag_1','lm_pred','lgb_pred']:\n",
    "    print(col,rmse_clip(val2.loc[val2.shop_item_cnt<20,'shop_item_cnt'],val2.loc[val2.shop_item_cnt<20,col]))"
   ]
  },
  {
   "cell_type": "markdown",
   "metadata": {},
   "source": [
    "<strong>Not too bad for the normal range... \n",
    "\n",
    "Stacking will work;\n",
    "\n",
    "Since there is improvement, create a submission w only time-based features </strong>"
   ]
  },
  {
   "cell_type": "code",
   "execution_count": null,
   "metadata": {},
   "outputs": [],
   "source": []
  },
  {
   "cell_type": "code",
   "execution_count": null,
   "metadata": {},
   "outputs": [],
   "source": []
  },
  {
   "cell_type": "code",
   "execution_count": null,
   "metadata": {},
   "outputs": [],
   "source": []
  },
  {
   "cell_type": "code",
   "execution_count": null,
   "metadata": {},
   "outputs": [],
   "source": []
  },
  {
   "cell_type": "code",
   "execution_count": null,
   "metadata": {},
   "outputs": [],
   "source": []
  },
  {
   "cell_type": "markdown",
   "metadata": {},
   "source": [
    "### Create a new submission"
   ]
  },
  {
   "cell_type": "code",
   "execution_count": 4,
   "metadata": {},
   "outputs": [
    {
     "name": "stdout",
     "output_type": "stream",
     "text": [
      "Wall time: 10.3 s\n"
     ]
    }
   ],
   "source": [
    "%%time\n",
    "monthly_sales_all = pd.read_hdf(r'../data2/monthly_sales_ex_fst_12m_w_lag_1hot_tr.h5','monthly_sales_all')"
   ]
  },
  {
   "cell_type": "code",
   "execution_count": 5,
   "metadata": {},
   "outputs": [],
   "source": [
    "monthly_sales_all = monthly_sales_all[monthly_sales_all.date_block_num<34]"
   ]
  },
  {
   "cell_type": "code",
   "execution_count": 8,
   "metadata": {},
   "outputs": [],
   "source": [
    "X_train = monthly_sales_all[feats]"
   ]
  },
  {
   "cell_type": "code",
   "execution_count": 9,
   "metadata": {},
   "outputs": [],
   "source": [
    "y_train = monthly_sales_all['shop_item_cnt']"
   ]
  },
  {
   "cell_type": "code",
   "execution_count": 10,
   "metadata": {},
   "outputs": [
    {
     "data": {
      "text/plain": [
       "30"
      ]
     },
     "execution_count": 10,
     "metadata": {},
     "output_type": "execute_result"
    }
   ],
   "source": [
    "del monthly_sales_all\n",
    "gc.collect()"
   ]
  },
  {
   "cell_type": "code",
   "execution_count": 11,
   "metadata": {},
   "outputs": [
    {
     "name": "stdout",
     "output_type": "stream",
     "text": [
      "Wall time: 12min 4s\n"
     ]
    }
   ],
   "source": [
    "%%time\n",
    "lgb_params = {\n",
    "               'feature_fraction': 0.75,\n",
    "               'metric': 'rmse',\n",
    "               'nthread':1, \n",
    "               'min_data_in_leaf': 2**7, \n",
    "               'bagging_fraction': 0.75, \n",
    "               'learning_rate': 0.03, \n",
    "               'objective': 'mse', \n",
    "               'bagging_seed': 2**7, \n",
    "               'num_leaves': 2**7,\n",
    "               'bagging_freq':1,\n",
    "               'verbose':0 \n",
    "              }\n",
    "\n",
    "model = lgb.train(lgb_params, lgb.Dataset(X_train, label=y_train), 100)"
   ]
  },
  {
   "cell_type": "code",
   "execution_count": 12,
   "metadata": {},
   "outputs": [
    {
     "data": {
      "text/plain": [
       "<matplotlib.axes._subplots.AxesSubplot at 0x23438c5ac18>"
      ]
     },
     "execution_count": 12,
     "metadata": {},
     "output_type": "execute_result"
    },
    {
     "data": {
      "image/png": "[encoded data removed]",
      "text/plain": [
       "<matplotlib.figure.Figure at 0x23438c5acf8>"
      ]
     },
     "metadata": {},
     "output_type": "display_data"
    }
   ],
   "source": [
    "lgb.plot_importance(model,figsize=(20,20))"
   ]
  },
  {
   "cell_type": "markdown",
   "metadata": {},
   "source": [
    "#### Read in test data and get features"
   ]
  },
  {
   "cell_type": "code",
   "execution_count": 13,
   "metadata": {},
   "outputs": [
    {
     "data": {
      "text/html": [
       "<div>\n",
       "<style scoped>\n",
       "    .dataframe tbody tr th:only-of-type {\n",
       "        vertical-align: middle;\n",
       "    }\n",
       "\n",
       "    .dataframe tbody tr th {\n",
       "        vertical-align: top;\n",
       "    }\n",
       "\n",
       "    .dataframe thead th {\n",
       "        text-align: right;\n",
       "    }\n",
       "</style>\n",
       "<table border=\"1\" class=\"dataframe\">\n",
       "  <thead>\n",
       "    <tr style=\"text-align: right;\">\n",
       "      <th></th>\n",
       "      <th>ID</th>\n",
       "      <th>shop_id</th>\n",
       "      <th>item_id</th>\n",
       "    </tr>\n",
       "  </thead>\n",
       "  <tbody>\n",
       "    <tr>\n",
       "      <th>0</th>\n",
       "      <td>0</td>\n",
       "      <td>5</td>\n",
       "      <td>5037</td>\n",
       "    </tr>\n",
       "    <tr>\n",
       "      <th>1</th>\n",
       "      <td>1</td>\n",
       "      <td>5</td>\n",
       "      <td>5320</td>\n",
       "    </tr>\n",
       "    <tr>\n",
       "      <th>2</th>\n",
       "      <td>2</td>\n",
       "      <td>5</td>\n",
       "      <td>5233</td>\n",
       "    </tr>\n",
       "  </tbody>\n",
       "</table>\n",
       "</div>"
      ],
      "text/plain": [
       "   ID  shop_id  item_id\n",
       "0   0        5     5037\n",
       "1   1        5     5320\n",
       "2   2        5     5233"
      ]
     },
     "execution_count": 13,
     "metadata": {},
     "output_type": "execute_result"
    }
   ],
   "source": [
    "test = pd.read_csv(r'../data/test.csv.gz')\n",
    "test[:3]"
   ]
  },
  {
   "cell_type": "code",
   "execution_count": 14,
   "metadata": {
    "scrolled": true
   },
   "outputs": [
    {
     "name": "stdout",
     "output_type": "stream",
     "text": [
      "Wall time: 12.2 s\n"
     ]
    }
   ],
   "source": [
    "%%time\n",
    "monthly_sales_all = pd.read_hdf(r'../data2/monthly_sales_ex_fst_12m_w_lag_1hot_tr.h5','monthly_sales_all')"
   ]
  },
  {
   "cell_type": "code",
   "execution_count": 15,
   "metadata": {},
   "outputs": [],
   "source": [
    "monthly_sales_all = monthly_sales_all[monthly_sales_all.date_block_num==34]"
   ]
  },
  {
   "cell_type": "code",
   "execution_count": 16,
   "metadata": {},
   "outputs": [
    {
     "data": {
      "text/plain": [
       "1732"
      ]
     },
     "execution_count": 16,
     "metadata": {},
     "output_type": "execute_result"
    }
   ],
   "source": [
    "gc.collect()"
   ]
  },
  {
   "cell_type": "code",
   "execution_count": 17,
   "metadata": {
    "scrolled": true
   },
   "outputs": [
    {
     "name": "stdout",
     "output_type": "stream",
     "text": [
      "(214200, 72)\n"
     ]
    },
    {
     "data": {
      "text/html": [
       "<div>\n",
       "<style scoped>\n",
       "    .dataframe tbody tr th:only-of-type {\n",
       "        vertical-align: middle;\n",
       "    }\n",
       "\n",
       "    .dataframe tbody tr th {\n",
       "        vertical-align: top;\n",
       "    }\n",
       "\n",
       "    .dataframe thead th {\n",
       "        text-align: right;\n",
       "    }\n",
       "</style>\n",
       "<table border=\"1\" class=\"dataframe\">\n",
       "  <thead>\n",
       "    <tr style=\"text-align: right;\">\n",
       "      <th></th>\n",
       "      <th>ID</th>\n",
       "      <th>shop_id</th>\n",
       "      <th>item_id</th>\n",
       "      <th>cat_cnt</th>\n",
       "      <th>date_block_num</th>\n",
       "      <th>item_category_id</th>\n",
       "      <th>item_cnt</th>\n",
       "      <th>shop_cnt</th>\n",
       "      <th>shop_item_cnt</th>\n",
       "      <th>cat_cnt_lag_1</th>\n",
       "      <th>...</th>\n",
       "      <th>shop_item_ma3</th>\n",
       "      <th>item_ma1</th>\n",
       "      <th>item_ma2</th>\n",
       "      <th>item_ma3</th>\n",
       "      <th>shop_ma1</th>\n",
       "      <th>shop_ma2</th>\n",
       "      <th>shop_ma3</th>\n",
       "      <th>cat_ma1</th>\n",
       "      <th>cat_ma2</th>\n",
       "      <th>cat_ma3</th>\n",
       "    </tr>\n",
       "  </thead>\n",
       "  <tbody>\n",
       "    <tr>\n",
       "      <th>0</th>\n",
       "      <td>0</td>\n",
       "      <td>5</td>\n",
       "      <td>5037</td>\n",
       "      <td>0.0</td>\n",
       "      <td>34.0</td>\n",
       "      <td>19.0</td>\n",
       "      <td>0.0</td>\n",
       "      <td>0.0</td>\n",
       "      <td>0.0</td>\n",
       "      <td>2450.0</td>\n",
       "      <td>...</td>\n",
       "      <td>1.666667</td>\n",
       "      <td>85.000000</td>\n",
       "      <td>94.666664</td>\n",
       "      <td>92.666664</td>\n",
       "      <td>1149.666626</td>\n",
       "      <td>1129.666626</td>\n",
       "      <td>1082.0</td>\n",
       "      <td>3707.333252</td>\n",
       "      <td>3954.0</td>\n",
       "      <td>3785.666748</td>\n",
       "    </tr>\n",
       "    <tr>\n",
       "      <th>1</th>\n",
       "      <td>1</td>\n",
       "      <td>5</td>\n",
       "      <td>5320</td>\n",
       "      <td>0.0</td>\n",
       "      <td>0.0</td>\n",
       "      <td>0.0</td>\n",
       "      <td>0.0</td>\n",
       "      <td>0.0</td>\n",
       "      <td>0.0</td>\n",
       "      <td>0.0</td>\n",
       "      <td>...</td>\n",
       "      <td>0.000000</td>\n",
       "      <td>0.000000</td>\n",
       "      <td>0.000000</td>\n",
       "      <td>0.000000</td>\n",
       "      <td>0.000000</td>\n",
       "      <td>0.000000</td>\n",
       "      <td>0.0</td>\n",
       "      <td>0.000000</td>\n",
       "      <td>0.0</td>\n",
       "      <td>0.000000</td>\n",
       "    </tr>\n",
       "    <tr>\n",
       "      <th>2</th>\n",
       "      <td>2</td>\n",
       "      <td>5</td>\n",
       "      <td>5233</td>\n",
       "      <td>0.0</td>\n",
       "      <td>34.0</td>\n",
       "      <td>19.0</td>\n",
       "      <td>0.0</td>\n",
       "      <td>0.0</td>\n",
       "      <td>0.0</td>\n",
       "      <td>2450.0</td>\n",
       "      <td>...</td>\n",
       "      <td>1.000000</td>\n",
       "      <td>90.666664</td>\n",
       "      <td>89.000000</td>\n",
       "      <td>102.000000</td>\n",
       "      <td>1149.666626</td>\n",
       "      <td>1129.666626</td>\n",
       "      <td>1082.0</td>\n",
       "      <td>3707.333252</td>\n",
       "      <td>3954.0</td>\n",
       "      <td>3785.666748</td>\n",
       "    </tr>\n",
       "  </tbody>\n",
       "</table>\n",
       "<p>3 rows × 72 columns</p>\n",
       "</div>"
      ],
      "text/plain": [
       "   ID  shop_id  item_id  cat_cnt  date_block_num  item_category_id  item_cnt  \\\n",
       "0   0        5     5037      0.0            34.0              19.0       0.0   \n",
       "1   1        5     5320      0.0             0.0               0.0       0.0   \n",
       "2   2        5     5233      0.0            34.0              19.0       0.0   \n",
       "\n",
       "   shop_cnt  shop_item_cnt  cat_cnt_lag_1     ...       shop_item_ma3  \\\n",
       "0       0.0            0.0         2450.0     ...            1.666667   \n",
       "1       0.0            0.0            0.0     ...            0.000000   \n",
       "2       0.0            0.0         2450.0     ...            1.000000   \n",
       "\n",
       "    item_ma1   item_ma2    item_ma3     shop_ma1     shop_ma2  shop_ma3  \\\n",
       "0  85.000000  94.666664   92.666664  1149.666626  1129.666626    1082.0   \n",
       "1   0.000000   0.000000    0.000000     0.000000     0.000000       0.0   \n",
       "2  90.666664  89.000000  102.000000  1149.666626  1129.666626    1082.0   \n",
       "\n",
       "       cat_ma1  cat_ma2      cat_ma3  \n",
       "0  3707.333252   3954.0  3785.666748  \n",
       "1     0.000000      0.0     0.000000  \n",
       "2  3707.333252   3954.0  3785.666748  \n",
       "\n",
       "[3 rows x 72 columns]"
      ]
     },
     "execution_count": 17,
     "metadata": {},
     "output_type": "execute_result"
    }
   ],
   "source": [
    "test2 = pd.merge(test,monthly_sales_all,on=['shop_id','item_id'],how='left').fillna(0)\n",
    "test2.loc[:,'m11'] = 1\n",
    "print(test2.shape)\n",
    "test2[:3]"
   ]
  },
  {
   "cell_type": "code",
   "execution_count": 18,
   "metadata": {},
   "outputs": [],
   "source": [
    "test2['item_cnt_month'] = model.predict(test2[feats]).clip(0,20)"
   ]
  },
  {
   "cell_type": "code",
   "execution_count": 19,
   "metadata": {},
   "outputs": [],
   "source": [
    "test2[['ID','item_cnt_month']].to_csv(r'../output/11_1015_lgb_time_feats+ma.csv',index=False)"
   ]
  },
  {
   "cell_type": "code",
   "execution_count": null,
   "metadata": {},
   "outputs": [],
   "source": []
  },
  {
   "cell_type": "code",
   "execution_count": null,
   "metadata": {},
   "outputs": [],
   "source": []
  },
  {
   "cell_type": "code",
   "execution_count": null,
   "metadata": {},
   "outputs": [],
   "source": []
  }
 ],
 "metadata": {
  "kernelspec": {
   "display_name": "Python 3",
   "language": "python",
   "name": "python3"
  },
  "language_info": {
   "codemirror_mode": {
    "name": "ipython",
    "version": 3
   },
   "file_extension": ".py",
   "mimetype": "text/x-python",
   "name": "python",
   "nbconvert_exporter": "python",
   "pygments_lexer": "ipython3",
   "version": "3.6.4"
  }
 },
 "nbformat": 4,
 "nbformat_minor": 2
}
