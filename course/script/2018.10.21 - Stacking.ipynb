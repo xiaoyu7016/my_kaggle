{
 "cells": [
  {
   "cell_type": "markdown",
   "metadata": {
    "collapsed": true
   },
   "source": [
    "## LB\n",
    "### 1.022\n",
    "### 1.019 (clip item_cnt_day to [0,20] before feature engineering)\n",
    "\n",
    "### Update 1023 - clip target to [0,20]\n"
   ]
  },
  {
   "cell_type": "code",
   "execution_count": 4,
   "metadata": {},
   "outputs": [],
   "source": [
    "import os\n",
    "import re\n",
    "import pandas as pd\n",
    "import numpy as np\n",
    "\n",
    "import matplotlib.pyplot as plt\n",
    "import seaborn as sns\n",
    "%matplotlib inline\n",
    "\n",
    "from sklearn import model_selection\n",
    "\n",
    "from sklearn.linear_model import LinearRegression, LassoCV\n",
    "# from sklearn.svm import LinearSVR\n",
    "import lightgbm as lgb\n",
    "from sklearn.ensemble import GradientBoostingRegressor, RandomForestRegressor\n",
    "\n",
    "import pickle\n",
    "\n",
    "import gc\n",
    "import warnings\n",
    "warnings.filterwarnings('ignore')\n",
    "\n",
    "from tqdm import tqdm_notebook"
   ]
  },
  {
   "cell_type": "code",
   "execution_count": 5,
   "metadata": {},
   "outputs": [],
   "source": [
    "def rmse_clip(y_true, y_pred):\n",
    "    y_pred = y_pred.clip(0,20)\n",
    "    rmse = np.sqrt(np.mean((y_true - y_pred)**2))\n",
    "    return(rmse)"
   ]
  },
  {
   "cell_type": "code",
   "execution_count": 6,
   "metadata": {},
   "outputs": [],
   "source": [
    "to_drop = ['shop_id','item_id','date_block_num','shop_item_cnt']"
   ]
  },
  {
   "cell_type": "code",
   "execution_count": 11,
   "metadata": {},
   "outputs": [
    {
     "data": {
      "text/plain": [
       "[28, 29, 30, 31, 32, 33]"
      ]
     },
     "execution_count": 11,
     "metadata": {},
     "output_type": "execute_result"
    }
   ],
   "source": [
    "val_month = list(range(28,34))\n",
    "val_month"
   ]
  },
  {
   "cell_type": "markdown",
   "metadata": {},
   "source": [
    "### Linear model"
   ]
  },
  {
   "cell_type": "code",
   "execution_count": 5,
   "metadata": {},
   "outputs": [
    {
     "name": "stdout",
     "output_type": "stream",
     "text": [
      "(28781280, 51)\n"
     ]
    },
    {
     "data": {
      "text/html": [
       "<div>\n",
       "<style scoped>\n",
       "    .dataframe tbody tr th:only-of-type {\n",
       "        vertical-align: middle;\n",
       "    }\n",
       "\n",
       "    .dataframe tbody tr th {\n",
       "        vertical-align: top;\n",
       "    }\n",
       "\n",
       "    .dataframe thead th {\n",
       "        text-align: right;\n",
       "    }\n",
       "</style>\n",
       "<table border=\"1\" class=\"dataframe\">\n",
       "  <thead>\n",
       "    <tr style=\"text-align: right;\">\n",
       "      <th></th>\n",
       "      <th>date_block_num</th>\n",
       "      <th>item_id</th>\n",
       "      <th>shop_id</th>\n",
       "      <th>cat_cnt_lag_1</th>\n",
       "      <th>cat_mix_cnt_lag_1</th>\n",
       "      <th>item_cnt_lag_1</th>\n",
       "      <th>shop_cnt_lag_1</th>\n",
       "      <th>shop_item_cnt_lag_1</th>\n",
       "      <th>sys_cnt_lag_1</th>\n",
       "      <th>cat_cnt_lag_2</th>\n",
       "      <th>...</th>\n",
       "      <th>m4</th>\n",
       "      <th>m5</th>\n",
       "      <th>m6</th>\n",
       "      <th>m7</th>\n",
       "      <th>m8</th>\n",
       "      <th>m9</th>\n",
       "      <th>m10</th>\n",
       "      <th>m11</th>\n",
       "      <th>m12</th>\n",
       "      <th>shop_item_cnt</th>\n",
       "    </tr>\n",
       "  </thead>\n",
       "  <tbody>\n",
       "    <tr>\n",
       "      <th>0</th>\n",
       "      <td>12</td>\n",
       "      <td>22154</td>\n",
       "      <td>59</td>\n",
       "      <td>0.275278</td>\n",
       "      <td>0.023307</td>\n",
       "      <td>0.000104</td>\n",
       "      <td>0.153649</td>\n",
       "      <td>0.0</td>\n",
       "      <td>0.253001</td>\n",
       "      <td>0.205060</td>\n",
       "      <td>...</td>\n",
       "      <td>0</td>\n",
       "      <td>0</td>\n",
       "      <td>0</td>\n",
       "      <td>0</td>\n",
       "      <td>0</td>\n",
       "      <td>0</td>\n",
       "      <td>0</td>\n",
       "      <td>0</td>\n",
       "      <td>0</td>\n",
       "      <td>0.0</td>\n",
       "    </tr>\n",
       "    <tr>\n",
       "      <th>1</th>\n",
       "      <td>13</td>\n",
       "      <td>22154</td>\n",
       "      <td>59</td>\n",
       "      <td>0.207926</td>\n",
       "      <td>0.019834</td>\n",
       "      <td>0.000000</td>\n",
       "      <td>0.096111</td>\n",
       "      <td>0.0</td>\n",
       "      <td>0.187877</td>\n",
       "      <td>0.275278</td>\n",
       "      <td>...</td>\n",
       "      <td>0</td>\n",
       "      <td>0</td>\n",
       "      <td>0</td>\n",
       "      <td>0</td>\n",
       "      <td>0</td>\n",
       "      <td>0</td>\n",
       "      <td>0</td>\n",
       "      <td>0</td>\n",
       "      <td>0</td>\n",
       "      <td>0.0</td>\n",
       "    </tr>\n",
       "    <tr>\n",
       "      <th>2</th>\n",
       "      <td>14</td>\n",
       "      <td>22154</td>\n",
       "      <td>59</td>\n",
       "      <td>0.166561</td>\n",
       "      <td>0.022149</td>\n",
       "      <td>0.000000</td>\n",
       "      <td>0.091497</td>\n",
       "      <td>0.0</td>\n",
       "      <td>0.152736</td>\n",
       "      <td>0.207926</td>\n",
       "      <td>...</td>\n",
       "      <td>0</td>\n",
       "      <td>0</td>\n",
       "      <td>0</td>\n",
       "      <td>0</td>\n",
       "      <td>0</td>\n",
       "      <td>0</td>\n",
       "      <td>0</td>\n",
       "      <td>0</td>\n",
       "      <td>0</td>\n",
       "      <td>0.0</td>\n",
       "    </tr>\n",
       "  </tbody>\n",
       "</table>\n",
       "<p>3 rows × 51 columns</p>\n",
       "</div>"
      ],
      "text/plain": [
       "   date_block_num  item_id  shop_id  cat_cnt_lag_1  cat_mix_cnt_lag_1  \\\n",
       "0              12    22154       59       0.275278           0.023307   \n",
       "1              13    22154       59       0.207926           0.019834   \n",
       "2              14    22154       59       0.166561           0.022149   \n",
       "\n",
       "   item_cnt_lag_1  shop_cnt_lag_1  shop_item_cnt_lag_1  sys_cnt_lag_1  \\\n",
       "0        0.000104        0.153649                  0.0       0.253001   \n",
       "1        0.000000        0.096111                  0.0       0.187877   \n",
       "2        0.000000        0.091497                  0.0       0.152736   \n",
       "\n",
       "   cat_cnt_lag_2      ...        m4  m5  m6  m7  m8  m9  m10  m11  m12  \\\n",
       "0       0.205060      ...         0   0   0   0   0   0    0    0    0   \n",
       "1       0.275278      ...         0   0   0   0   0   0    0    0    0   \n",
       "2       0.207926      ...         0   0   0   0   0   0    0    0    0   \n",
       "\n",
       "   shop_item_cnt  \n",
       "0            0.0  \n",
       "1            0.0  \n",
       "2            0.0  \n",
       "\n",
       "[3 rows x 51 columns]"
      ]
     },
     "execution_count": 5,
     "metadata": {},
     "output_type": "execute_result"
    }
   ],
   "source": [
    "monthly_sales_all = pd.read_hdf(r'../data2/lm_feat_ex_1st_12_month.h5','monthly_sales_all')\n",
    "print(monthly_sales_all.shape)\n",
    "monthly_sales_all[:3]"
   ]
  },
  {
   "cell_type": "code",
   "execution_count": 6,
   "metadata": {},
   "outputs": [
    {
     "name": "stdout",
     "output_type": "stream",
     "text": [
      "(13082400,)\n"
     ]
    },
    {
     "data": {
      "text/plain": [
       "12    0.0\n",
       "13    0.0\n",
       "14    0.0\n",
       "Name: shop_item_cnt, dtype: float32"
      ]
     },
     "execution_count": 6,
     "metadata": {},
     "output_type": "execute_result"
    }
   ],
   "source": [
    "y_test_all = monthly_sales_all.loc[monthly_sales_all.date_block_num>=val_month[0],'shop_item_cnt']\n",
    "print(y_test_all.shape)\n",
    "y_test_all[:3]"
   ]
  },
  {
   "cell_type": "code",
   "execution_count": 7,
   "metadata": {},
   "outputs": [
    {
     "data": {
      "text/plain": [
       "LinearRegression(copy_X=True, fit_intercept=True, n_jobs=1, normalize=False)"
      ]
     },
     "execution_count": 7,
     "metadata": {},
     "output_type": "execute_result"
    }
   ],
   "source": [
    "lm = LinearRegression()\n",
    "lm"
   ]
  },
  {
   "cell_type": "code",
   "execution_count": 8,
   "metadata": {},
   "outputs": [
    {
     "data": {
      "text/plain": [
       "(13082400,)"
      ]
     },
     "execution_count": 8,
     "metadata": {},
     "output_type": "execute_result"
    }
   ],
   "source": [
    "lm_pred = np.zeros(y_test_all.shape,dtype=np.float32)\n",
    "lm_pred.shape"
   ]
  },
  {
   "cell_type": "code",
   "execution_count": 9,
   "metadata": {
    "scrolled": false
   },
   "outputs": [
    {
     "data": {
      "application/vnd.jupyter.widget-view+json": {
       "model_id": "7d98a520868e4b23a61a94a86635ebc0",
       "version_major": 2,
       "version_minor": 0
      },
      "text/plain": [
       "HBox(children=(IntProgress(value=0, max=10), HTML(value='')))"
      ]
     },
     "metadata": {},
     "output_type": "display_data"
    },
    {
     "name": "stdout",
     "output_type": "stream",
     "text": [
      "\n"
     ]
    }
   ],
   "source": [
    "res_pos=0\n",
    "for m in tqdm_notebook(val_month):\n",
    "    end = m\n",
    "    start = end -12\n",
    "\n",
    "    val = monthly_sales_all.loc[monthly_sales_all.date_block_num == end]\n",
    "\n",
    "    X_train = monthly_sales_all[(monthly_sales_all.date_block_num<end) & (monthly_sales_all.date_block_num>=start)].drop(labels=to_drop,axis=1)\n",
    "    y_train = monthly_sales_all.loc[(monthly_sales_all.date_block_num<end) & (monthly_sales_all.date_block_num>=start),'shop_item_cnt']\n",
    "\n",
    "    gc.collect()\n",
    "\n",
    "    lm.fit(X_train,y_train)\n",
    "\n",
    "    lm_pred[res_pos:(res_pos+len(val))] = lm.predict(val.drop(labels=to_drop,axis=1))\n",
    "    \n",
    "    res_pos += len(val)"
   ]
  },
  {
   "cell_type": "code",
   "execution_count": 10,
   "metadata": {},
   "outputs": [
    {
     "data": {
      "text/plain": [
       "1.7558638558845077"
      ]
     },
     "execution_count": 10,
     "metadata": {},
     "output_type": "execute_result"
    }
   ],
   "source": [
    "rmse_clip(y_test_all,lm_pred)"
   ]
  },
  {
   "cell_type": "code",
   "execution_count": 11,
   "metadata": {},
   "outputs": [],
   "source": [
    "np.save(r'../data2/lm_pred.np5',lm_pred)"
   ]
  },
  {
   "cell_type": "code",
   "execution_count": 13,
   "metadata": {},
   "outputs": [],
   "source": [
    "pickle.dump(lm, open(r'../data2/lm_model.sav',\"wb\"))"
   ]
  },
  {
   "cell_type": "markdown",
   "metadata": {},
   "source": [
    "### LGB"
   ]
  },
  {
   "cell_type": "code",
   "execution_count": 9,
   "metadata": {},
   "outputs": [
    {
     "name": "stdout",
     "output_type": "stream",
     "text": [
      "(30089520, 59)\n"
     ]
    },
    {
     "data": {
      "text/html": [
       "<div>\n",
       "<style scoped>\n",
       "    .dataframe tbody tr th:only-of-type {\n",
       "        vertical-align: middle;\n",
       "    }\n",
       "\n",
       "    .dataframe tbody tr th {\n",
       "        vertical-align: top;\n",
       "    }\n",
       "\n",
       "    .dataframe thead th {\n",
       "        text-align: right;\n",
       "    }\n",
       "</style>\n",
       "<table border=\"1\" class=\"dataframe\">\n",
       "  <thead>\n",
       "    <tr style=\"text-align: right;\">\n",
       "      <th></th>\n",
       "      <th>date_block_num</th>\n",
       "      <th>item_id</th>\n",
       "      <th>shop_id</th>\n",
       "      <th>cat_cnt_lag_1</th>\n",
       "      <th>cat_mix_cnt_lag_1</th>\n",
       "      <th>item_cnt_lag_1</th>\n",
       "      <th>shop_cnt_lag_1</th>\n",
       "      <th>shop_item_cnt_lag_1</th>\n",
       "      <th>sys_cnt_lag_1</th>\n",
       "      <th>cat_cnt_lag_2</th>\n",
       "      <th>...</th>\n",
       "      <th>cat_ma1</th>\n",
       "      <th>cat_ma2</th>\n",
       "      <th>cat_ma3</th>\n",
       "      <th>cat_mix_ma1</th>\n",
       "      <th>cat_mix_ma2</th>\n",
       "      <th>cat_mix_ma3</th>\n",
       "      <th>sys_ma1</th>\n",
       "      <th>sys_ma2</th>\n",
       "      <th>sys_ma3</th>\n",
       "      <th>shop_item_cnt</th>\n",
       "    </tr>\n",
       "  </thead>\n",
       "  <tbody>\n",
       "    <tr>\n",
       "      <th>0</th>\n",
       "      <td>12</td>\n",
       "      <td>22154</td>\n",
       "      <td>59</td>\n",
       "      <td>0.275985</td>\n",
       "      <td>0.029204</td>\n",
       "      <td>0.000137</td>\n",
       "      <td>0.157059</td>\n",
       "      <td>0.0</td>\n",
       "      <td>0.267969</td>\n",
       "      <td>0.205587</td>\n",
       "      <td>...</td>\n",
       "      <td>0.224890</td>\n",
       "      <td>0.203837</td>\n",
       "      <td>0.215818</td>\n",
       "      <td>0.024193</td>\n",
       "      <td>0.030824</td>\n",
       "      <td>0.031341</td>\n",
       "      <td>0.216352</td>\n",
       "      <td>0.192659</td>\n",
       "      <td>0.201874</td>\n",
       "      <td>0.0</td>\n",
       "    </tr>\n",
       "    <tr>\n",
       "      <th>1</th>\n",
       "      <td>13</td>\n",
       "      <td>22154</td>\n",
       "      <td>59</td>\n",
       "      <td>0.208460</td>\n",
       "      <td>0.024852</td>\n",
       "      <td>0.000000</td>\n",
       "      <td>0.098367</td>\n",
       "      <td>0.0</td>\n",
       "      <td>0.198992</td>\n",
       "      <td>0.275985</td>\n",
       "      <td>...</td>\n",
       "      <td>0.230010</td>\n",
       "      <td>0.224890</td>\n",
       "      <td>0.203837</td>\n",
       "      <td>0.024707</td>\n",
       "      <td>0.024193</td>\n",
       "      <td>0.030824</td>\n",
       "      <td>0.221556</td>\n",
       "      <td>0.216352</td>\n",
       "      <td>0.192659</td>\n",
       "      <td>0.0</td>\n",
       "    </tr>\n",
       "    <tr>\n",
       "      <th>2</th>\n",
       "      <td>14</td>\n",
       "      <td>22154</td>\n",
       "      <td>59</td>\n",
       "      <td>0.166989</td>\n",
       "      <td>0.027753</td>\n",
       "      <td>0.000000</td>\n",
       "      <td>0.093580</td>\n",
       "      <td>0.0</td>\n",
       "      <td>0.161772</td>\n",
       "      <td>0.208460</td>\n",
       "      <td>...</td>\n",
       "      <td>0.217145</td>\n",
       "      <td>0.230010</td>\n",
       "      <td>0.224890</td>\n",
       "      <td>0.027270</td>\n",
       "      <td>0.024707</td>\n",
       "      <td>0.024193</td>\n",
       "      <td>0.209577</td>\n",
       "      <td>0.221556</td>\n",
       "      <td>0.216352</td>\n",
       "      <td>0.0</td>\n",
       "    </tr>\n",
       "  </tbody>\n",
       "</table>\n",
       "<p>3 rows × 59 columns</p>\n",
       "</div>"
      ],
      "text/plain": [
       "   date_block_num  item_id  shop_id  cat_cnt_lag_1  cat_mix_cnt_lag_1  \\\n",
       "0              12    22154       59       0.275985           0.029204   \n",
       "1              13    22154       59       0.208460           0.024852   \n",
       "2              14    22154       59       0.166989           0.027753   \n",
       "\n",
       "   item_cnt_lag_1  shop_cnt_lag_1  shop_item_cnt_lag_1  sys_cnt_lag_1  \\\n",
       "0        0.000137        0.157059                  0.0       0.267969   \n",
       "1        0.000000        0.098367                  0.0       0.198992   \n",
       "2        0.000000        0.093580                  0.0       0.161772   \n",
       "\n",
       "   cat_cnt_lag_2      ...         cat_ma1   cat_ma2   cat_ma3  cat_mix_ma1  \\\n",
       "0       0.205587      ...        0.224890  0.203837  0.215818     0.024193   \n",
       "1       0.275985      ...        0.230010  0.224890  0.203837     0.024707   \n",
       "2       0.208460      ...        0.217145  0.230010  0.224890     0.027270   \n",
       "\n",
       "   cat_mix_ma2  cat_mix_ma3   sys_ma1   sys_ma2   sys_ma3  shop_item_cnt  \n",
       "0     0.030824     0.031341  0.216352  0.192659  0.201874            0.0  \n",
       "1     0.024193     0.030824  0.221556  0.216352  0.192659            0.0  \n",
       "2     0.024707     0.024193  0.209577  0.221556  0.216352            0.0  \n",
       "\n",
       "[3 rows x 59 columns]"
      ]
     },
     "execution_count": 9,
     "metadata": {},
     "output_type": "execute_result"
    }
   ],
   "source": [
    "monthly_sales_all = pd.read_hdf(r'../data2/tree_feats_ex_1st_12month.h5','monthly_sales_all')\n",
    "print(monthly_sales_all.shape)\n",
    "monthly_sales_all[:3]"
   ]
  },
  {
   "cell_type": "code",
   "execution_count": 12,
   "metadata": {},
   "outputs": [
    {
     "name": "stdout",
     "output_type": "stream",
     "text": [
      "(7849440,)\n"
     ]
    },
    {
     "data": {
      "text/plain": [
       "16    0.0\n",
       "17    0.0\n",
       "18    0.0\n",
       "Name: shop_item_cnt, dtype: float32"
      ]
     },
     "execution_count": 12,
     "metadata": {},
     "output_type": "execute_result"
    }
   ],
   "source": [
    "y_test_all = monthly_sales_all.loc[(monthly_sales_all.date_block_num>=val_month[0]) & (monthly_sales_all.date_block_num<34),'shop_item_cnt']\n",
    "print(y_test_all.shape)\n",
    "y_test_all[:3]"
   ]
  },
  {
   "cell_type": "code",
   "execution_count": 13,
   "metadata": {},
   "outputs": [
    {
     "name": "stdout",
     "output_type": "stream",
     "text": [
      "Wall time: 0 ns\n"
     ]
    }
   ],
   "source": [
    "%%time\n",
    "lgb_params = {\n",
    "               'feature_fraction': 0.75,\n",
    "               'metric': 'rmse',\n",
    "               'nthread':7, \n",
    "               'min_data_in_leaf': 64, \n",
    "               'bagging_fraction': 0.75, \n",
    "               'learning_rate': 0.03, \n",
    "               'objective': 'mse', \n",
    "               'bagging_seed': 2**7, \n",
    "               'num_leaves': 2**7,\n",
    "               'bagging_freq':1,\n",
    "               'verbose':0 \n",
    "              }"
   ]
  },
  {
   "cell_type": "code",
   "execution_count": 14,
   "metadata": {},
   "outputs": [
    {
     "data": {
      "text/plain": [
       "(7849440,)"
      ]
     },
     "execution_count": 14,
     "metadata": {},
     "output_type": "execute_result"
    }
   ],
   "source": [
    "lgb_pred = np.zeros(y_test_all.shape,dtype=np.float32)\n",
    "lgb_pred.shape"
   ]
  },
  {
   "cell_type": "code",
   "execution_count": 15,
   "metadata": {},
   "outputs": [
    {
     "data": {
      "text/plain": [
       "15"
      ]
     },
     "execution_count": 15,
     "metadata": {},
     "output_type": "execute_result"
    }
   ],
   "source": [
    "gc.collect()"
   ]
  },
  {
   "cell_type": "code",
   "execution_count": 16,
   "metadata": {
    "scrolled": false
   },
   "outputs": [
    {
     "data": {
      "application/vnd.jupyter.widget-view+json": {
       "model_id": "055027ed18044052ac818a3660386a1d",
       "version_major": 2,
       "version_minor": 0
      },
      "text/plain": [
       "HBox(children=(IntProgress(value=0, max=6), HTML(value='')))"
      ]
     },
     "metadata": {},
     "output_type": "display_data"
    },
    {
     "name": "stdout",
     "output_type": "stream",
     "text": [
      "\n"
     ]
    }
   ],
   "source": [
    "res_pos=0\n",
    "for m in tqdm_notebook(val_month):\n",
    "    end = m\n",
    "    start = end -15\n",
    "\n",
    "    val = monthly_sales_all.loc[monthly_sales_all.date_block_num == end]\n",
    "\n",
    "    X_train = monthly_sales_all[(monthly_sales_all.date_block_num<end) & (monthly_sales_all.date_block_num>=start)].drop(labels=to_drop,axis=1)\n",
    "    y_train = monthly_sales_all.loc[(monthly_sales_all.date_block_num<end) & (monthly_sales_all.date_block_num>=start),'shop_item_cnt']\n",
    "\n",
    "    gc.collect()\n",
    "\n",
    "    model = lgb.train(lgb_params, lgb.Dataset(X_train, label=y_train), 100)\n",
    "\n",
    "    lgb_pred[res_pos:(res_pos+len(val))] = model.predict(val.drop(labels=to_drop,axis=1))\n",
    "    \n",
    "    res_pos += len(val)"
   ]
  },
  {
   "cell_type": "code",
   "execution_count": 17,
   "metadata": {},
   "outputs": [],
   "source": [
    "np.save(r'../lgb_result_clip_d10m20_15.np5',lgb_pred)"
   ]
  },
  {
   "cell_type": "code",
   "execution_count": 18,
   "metadata": {},
   "outputs": [
    {
     "data": {
      "text/plain": [
       "<matplotlib.axes._subplots.AxesSubplot at 0x274939b8470>"
      ]
     },
     "execution_count": 18,
     "metadata": {},
     "output_type": "execute_result"
    },
    {
     "data": {
      "image/png": "[encoded data removed]",
      "text/plain": [
       "<Figure size 1440x1440 with 1 Axes>"
      ]
     },
     "metadata": {
      "needs_background": "light"
     },
     "output_type": "display_data"
    }
   ],
   "source": [
    "lgb.plot_importance(model,figsize=(20,20))"
   ]
  },
  {
   "cell_type": "code",
   "execution_count": 19,
   "metadata": {},
   "outputs": [
    {
     "data": {
      "text/plain": [
       "0.5366646607531305"
      ]
     },
     "execution_count": 19,
     "metadata": {},
     "output_type": "execute_result"
    }
   ],
   "source": [
    "rmse_clip(y_test_all,lgb_pred)"
   ]
  },
  {
   "cell_type": "code",
   "execution_count": 20,
   "metadata": {},
   "outputs": [],
   "source": [
    "pickle.dump(model,open('../data2/lgb_model_clip_d10m20_15m.sav','wb'))"
   ]
  },
  {
   "cell_type": "code",
   "execution_count": null,
   "metadata": {},
   "outputs": [],
   "source": []
  },
  {
   "cell_type": "markdown",
   "metadata": {},
   "source": [
    "### Train 2nd level model"
   ]
  },
  {
   "cell_type": "code",
   "execution_count": 34,
   "metadata": {},
   "outputs": [
    {
     "data": {
      "text/plain": [
       "array([-0.02670222,  0.00490824,  0.00501765, ...,  0.01472729,\n",
       "        0.01472729,  0.01472729], dtype=float32)"
      ]
     },
     "execution_count": 34,
     "metadata": {},
     "output_type": "execute_result"
    }
   ],
   "source": [
    "lm_pred = np.load(r'../data2/lm_pred.np5.npy')\n",
    "lm_pred"
   ]
  },
  {
   "cell_type": "code",
   "execution_count": 35,
   "metadata": {},
   "outputs": [
    {
     "data": {
      "text/plain": [
       "array([0.0264474 , 0.01297819, 0.01297819, ..., 0.01061339, 0.01061339,\n",
       "       0.01061339], dtype=float32)"
      ]
     },
     "execution_count": 35,
     "metadata": {},
     "output_type": "execute_result"
    }
   ],
   "source": [
    "lgb_pred = np.load(r'../data2/lgb_result.np5.npy')\n",
    "lgb_pred"
   ]
  },
  {
   "cell_type": "code",
   "execution_count": 36,
   "metadata": {},
   "outputs": [],
   "source": [
    "meta_X = np.vstack((lm_pred,lgb_pred)).T"
   ]
  },
  {
   "cell_type": "code",
   "execution_count": 102,
   "metadata": {},
   "outputs": [
    {
     "data": {
      "text/plain": [
       "<matplotlib.collections.PathCollection at 0x20a8a6020b8>"
      ]
     },
     "execution_count": 102,
     "metadata": {},
     "output_type": "execute_result"
    },
    {
     "data": {
      "image/png": "[encoded data removed]",
      "text/plain": [
       "<Figure size 432x288 with 1 Axes>"
      ]
     },
     "metadata": {
      "needs_background": "light"
     },
     "output_type": "display_data"
    }
   ],
   "source": [
    "plt.scatter(meta_X[:,0],meta_X[:,1])"
   ]
  },
  {
   "cell_type": "code",
   "execution_count": 103,
   "metadata": {},
   "outputs": [],
   "source": [
    "meta_X2 = meta_X[y_test_all>0]"
   ]
  },
  {
   "cell_type": "code",
   "execution_count": 106,
   "metadata": {},
   "outputs": [
    {
     "data": {
      "text/plain": [
       "<matplotlib.collections.PathCollection at 0x20a8a405fd0>"
      ]
     },
     "execution_count": 106,
     "metadata": {},
     "output_type": "execute_result"
    },
    {
     "data": {
      "image/png": "[encoded data removed]",
      "text/plain": [
       "<Figure size 432x288 with 1 Axes>"
      ]
     },
     "metadata": {
      "needs_background": "light"
     },
     "output_type": "display_data"
    }
   ],
   "source": [
    "plt.scatter(meta_X2[:,0].clip(0,20),meta_X2[:,1].clip(0,20))"
   ]
  },
  {
   "cell_type": "code",
   "execution_count": 132,
   "metadata": {},
   "outputs": [
    {
     "data": {
      "text/plain": [
       "RandomForestRegressor(bootstrap=True, criterion='mse', max_depth=None,\n",
       "           max_features='auto', max_leaf_nodes=None,\n",
       "           min_impurity_decrease=0.0, min_impurity_split=None,\n",
       "           min_samples_leaf=1, min_samples_split=2,\n",
       "           min_weight_fraction_leaf=0.0, n_estimators=10, n_jobs=1,\n",
       "           oob_score=False, random_state=None, verbose=0, warm_start=False)"
      ]
     },
     "execution_count": 132,
     "metadata": {},
     "output_type": "execute_result"
    }
   ],
   "source": [
    "lm_2nd = RandomForestRegressor()\n",
    "lm_2nd"
   ]
  },
  {
   "cell_type": "code",
   "execution_count": null,
   "metadata": {},
   "outputs": [],
   "source": [
    "lm_2nd.fit(meta_X,y_test_all)\n",
    "y_pred = lm_2nd.predict(meta_X)"
   ]
  },
  {
   "cell_type": "code",
   "execution_count": 140,
   "metadata": {},
   "outputs": [
    {
     "data": {
      "text/plain": [
       "9.4691886605645"
      ]
     },
     "execution_count": 140,
     "metadata": {},
     "output_type": "execute_result"
    }
   ],
   "source": [
    "rmse_clip(y_true=y_test_all[y_test_all>0],y_pred=y_pred[y_test_all>0])"
   ]
  },
  {
   "cell_type": "code",
   "execution_count": 141,
   "metadata": {},
   "outputs": [
    {
     "data": {
      "text/plain": [
       "count    353652.000000\n",
       "mean          2.171098\n",
       "std           6.356158\n",
       "min           1.000000\n",
       "25%           1.100000\n",
       "50%           1.500000\n",
       "75%           2.100000\n",
       "max        1127.300000\n",
       "dtype: float64"
      ]
     },
     "execution_count": 141,
     "metadata": {},
     "output_type": "execute_result"
    }
   ],
   "source": [
    "pd.Series(y_pred).describe()"
   ]
  },
  {
   "cell_type": "markdown",
   "metadata": {},
   "source": [
    "### Create a new submission"
   ]
  },
  {
   "cell_type": "code",
   "execution_count": 21,
   "metadata": {},
   "outputs": [],
   "source": [
    "# lm = np.load(r'../data2/lm_model.sav')\n",
    "model = np.load(r'../data2/lgb_model_clip_d10m20_15m.sav')"
   ]
  },
  {
   "cell_type": "markdown",
   "metadata": {},
   "source": [
    "##### Fit 1st level LGB"
   ]
  },
  {
   "cell_type": "code",
   "execution_count": 22,
   "metadata": {},
   "outputs": [
    {
     "name": "stdout",
     "output_type": "stream",
     "text": [
      "Wall time: 51.9 s\n"
     ]
    }
   ],
   "source": [
    "%%time\n",
    "monthly_sales_all = pd.read_hdf(r'../data2/tree_feats_ex_1st_12month.h5','monthly_sales_all')"
   ]
  },
  {
   "cell_type": "code",
   "execution_count": 23,
   "metadata": {},
   "outputs": [
    {
     "data": {
      "text/plain": [
       "34"
      ]
     },
     "execution_count": 23,
     "metadata": {},
     "output_type": "execute_result"
    }
   ],
   "source": [
    "monthly_sales_all.date_block_num.max()"
   ]
  },
  {
   "cell_type": "code",
   "execution_count": 24,
   "metadata": {},
   "outputs": [],
   "source": [
    "monthly_sales_all = monthly_sales_all[monthly_sales_all.date_block_num==34]"
   ]
  },
  {
   "cell_type": "code",
   "execution_count": 25,
   "metadata": {},
   "outputs": [],
   "source": [
    "lgb_test_pred = model.predict(monthly_sales_all.drop(labels=to_drop,axis=1))"
   ]
  },
  {
   "cell_type": "markdown",
   "metadata": {},
   "source": [
    "##### Fit 1st level lm"
   ]
  },
  {
   "cell_type": "code",
   "execution_count": 10,
   "metadata": {},
   "outputs": [
    {
     "name": "stdout",
     "output_type": "stream",
     "text": [
      "Wall time: 42.3 s\n"
     ]
    }
   ],
   "source": [
    "%%time\n",
    "monthly_sales_all = pd.read_hdf(r'../data2/lm_feat_ex_1st_12_month.h5','monthly_sales_all')"
   ]
  },
  {
   "cell_type": "code",
   "execution_count": 11,
   "metadata": {},
   "outputs": [
    {
     "data": {
      "text/plain": [
       "34"
      ]
     },
     "execution_count": 11,
     "metadata": {},
     "output_type": "execute_result"
    }
   ],
   "source": [
    "monthly_sales_all.date_block_num.max()"
   ]
  },
  {
   "cell_type": "code",
   "execution_count": 12,
   "metadata": {},
   "outputs": [],
   "source": [
    "monthly_sales_all = monthly_sales_all[monthly_sales_all.date_block_num==34]"
   ]
  },
  {
   "cell_type": "code",
   "execution_count": 13,
   "metadata": {},
   "outputs": [],
   "source": [
    "lm_test_pred = lm.predict(monthly_sales_all.drop(labels=to_drop,axis=1))"
   ]
  },
  {
   "cell_type": "markdown",
   "metadata": {},
   "source": [
    "##### Fit 2nd level model"
   ]
  },
  {
   "cell_type": "code",
   "execution_count": 26,
   "metadata": {},
   "outputs": [],
   "source": [
    "# pred = lm_2nd.predict(np.vstack((lm_test_pred.clip(0,20), lgb_test_pred.clip(0,20))).T)\n",
    "pred = lgb_test_pred"
   ]
  },
  {
   "cell_type": "code",
   "execution_count": 29,
   "metadata": {},
   "outputs": [],
   "source": [
    "monthly_sales_all['item_cnt_month'] = pred.clip(0,20)"
   ]
  },
  {
   "cell_type": "code",
   "execution_count": 30,
   "metadata": {},
   "outputs": [
    {
     "data": {
      "text/plain": [
       "count    1.308240e+06\n",
       "mean     4.869801e-02\n",
       "std      2.802323e-01\n",
       "min      0.000000e+00\n",
       "25%      9.213137e-03\n",
       "50%      1.222197e-02\n",
       "75%      2.004563e-02\n",
       "max      1.869576e+01\n",
       "Name: item_cnt_month, dtype: float64"
      ]
     },
     "execution_count": 30,
     "metadata": {},
     "output_type": "execute_result"
    }
   ],
   "source": [
    "monthly_sales_all['item_cnt_month'].describe()"
   ]
  },
  {
   "cell_type": "markdown",
   "metadata": {},
   "source": [
    "#### Read in test data and get features"
   ]
  },
  {
   "cell_type": "code",
   "execution_count": 31,
   "metadata": {},
   "outputs": [
    {
     "data": {
      "text/html": [
       "<div>\n",
       "<style scoped>\n",
       "    .dataframe tbody tr th:only-of-type {\n",
       "        vertical-align: middle;\n",
       "    }\n",
       "\n",
       "    .dataframe tbody tr th {\n",
       "        vertical-align: top;\n",
       "    }\n",
       "\n",
       "    .dataframe thead th {\n",
       "        text-align: right;\n",
       "    }\n",
       "</style>\n",
       "<table border=\"1\" class=\"dataframe\">\n",
       "  <thead>\n",
       "    <tr style=\"text-align: right;\">\n",
       "      <th></th>\n",
       "      <th>ID</th>\n",
       "      <th>shop_id</th>\n",
       "      <th>item_id</th>\n",
       "    </tr>\n",
       "  </thead>\n",
       "  <tbody>\n",
       "    <tr>\n",
       "      <th>0</th>\n",
       "      <td>0</td>\n",
       "      <td>5</td>\n",
       "      <td>5037</td>\n",
       "    </tr>\n",
       "    <tr>\n",
       "      <th>1</th>\n",
       "      <td>1</td>\n",
       "      <td>5</td>\n",
       "      <td>5320</td>\n",
       "    </tr>\n",
       "    <tr>\n",
       "      <th>2</th>\n",
       "      <td>2</td>\n",
       "      <td>5</td>\n",
       "      <td>5233</td>\n",
       "    </tr>\n",
       "  </tbody>\n",
       "</table>\n",
       "</div>"
      ],
      "text/plain": [
       "   ID  shop_id  item_id\n",
       "0   0        5     5037\n",
       "1   1        5     5320\n",
       "2   2        5     5233"
      ]
     },
     "execution_count": 31,
     "metadata": {},
     "output_type": "execute_result"
    }
   ],
   "source": [
    "test = pd.read_csv(r'../data/test.csv.gz')\n",
    "test[:3]"
   ]
  },
  {
   "cell_type": "code",
   "execution_count": 32,
   "metadata": {
    "scrolled": true
   },
   "outputs": [
    {
     "name": "stdout",
     "output_type": "stream",
     "text": [
      "(214200, 61)\n"
     ]
    },
    {
     "data": {
      "text/html": [
       "<div>\n",
       "<style scoped>\n",
       "    .dataframe tbody tr th:only-of-type {\n",
       "        vertical-align: middle;\n",
       "    }\n",
       "\n",
       "    .dataframe tbody tr th {\n",
       "        vertical-align: top;\n",
       "    }\n",
       "\n",
       "    .dataframe thead th {\n",
       "        text-align: right;\n",
       "    }\n",
       "</style>\n",
       "<table border=\"1\" class=\"dataframe\">\n",
       "  <thead>\n",
       "    <tr style=\"text-align: right;\">\n",
       "      <th></th>\n",
       "      <th>ID</th>\n",
       "      <th>shop_id</th>\n",
       "      <th>item_id</th>\n",
       "      <th>date_block_num</th>\n",
       "      <th>cat_cnt_lag_1</th>\n",
       "      <th>cat_mix_cnt_lag_1</th>\n",
       "      <th>item_cnt_lag_1</th>\n",
       "      <th>shop_cnt_lag_1</th>\n",
       "      <th>shop_item_cnt_lag_1</th>\n",
       "      <th>sys_cnt_lag_1</th>\n",
       "      <th>...</th>\n",
       "      <th>cat_ma2</th>\n",
       "      <th>cat_ma3</th>\n",
       "      <th>cat_mix_ma1</th>\n",
       "      <th>cat_mix_ma2</th>\n",
       "      <th>cat_mix_ma3</th>\n",
       "      <th>sys_ma1</th>\n",
       "      <th>sys_ma2</th>\n",
       "      <th>sys_ma3</th>\n",
       "      <th>shop_item_cnt</th>\n",
       "      <th>item_cnt_month</th>\n",
       "    </tr>\n",
       "  </thead>\n",
       "  <tbody>\n",
       "    <tr>\n",
       "      <th>0</th>\n",
       "      <td>0</td>\n",
       "      <td>5</td>\n",
       "      <td>5037</td>\n",
       "      <td>34.0</td>\n",
       "      <td>0.067691</td>\n",
       "      <td>0.031578</td>\n",
       "      <td>0.003435</td>\n",
       "      <td>0.069119</td>\n",
       "      <td>0.00</td>\n",
       "      <td>0.05615</td>\n",
       "      <td>...</td>\n",
       "      <td>0.108471</td>\n",
       "      <td>0.104594</td>\n",
       "      <td>0.043338</td>\n",
       "      <td>0.047699</td>\n",
       "      <td>0.051516</td>\n",
       "      <td>0.083794</td>\n",
       "      <td>0.089573</td>\n",
       "      <td>0.086735</td>\n",
       "      <td>0.0</td>\n",
       "      <td>0.486484</td>\n",
       "    </tr>\n",
       "    <tr>\n",
       "      <th>1</th>\n",
       "      <td>1</td>\n",
       "      <td>5</td>\n",
       "      <td>5320</td>\n",
       "      <td>0.0</td>\n",
       "      <td>0.000000</td>\n",
       "      <td>0.000000</td>\n",
       "      <td>0.000000</td>\n",
       "      <td>0.000000</td>\n",
       "      <td>0.00</td>\n",
       "      <td>0.00000</td>\n",
       "      <td>...</td>\n",
       "      <td>0.000000</td>\n",
       "      <td>0.000000</td>\n",
       "      <td>0.000000</td>\n",
       "      <td>0.000000</td>\n",
       "      <td>0.000000</td>\n",
       "      <td>0.000000</td>\n",
       "      <td>0.000000</td>\n",
       "      <td>0.000000</td>\n",
       "      <td>0.0</td>\n",
       "      <td>0.000000</td>\n",
       "    </tr>\n",
       "    <tr>\n",
       "      <th>2</th>\n",
       "      <td>2</td>\n",
       "      <td>5</td>\n",
       "      <td>5233</td>\n",
       "      <td>34.0</td>\n",
       "      <td>0.067691</td>\n",
       "      <td>0.076374</td>\n",
       "      <td>0.005771</td>\n",
       "      <td>0.069119</td>\n",
       "      <td>0.05</td>\n",
       "      <td>0.05615</td>\n",
       "      <td>...</td>\n",
       "      <td>0.108471</td>\n",
       "      <td>0.104594</td>\n",
       "      <td>0.118085</td>\n",
       "      <td>0.122788</td>\n",
       "      <td>0.114342</td>\n",
       "      <td>0.083794</td>\n",
       "      <td>0.089573</td>\n",
       "      <td>0.086735</td>\n",
       "      <td>0.0</td>\n",
       "      <td>0.873224</td>\n",
       "    </tr>\n",
       "  </tbody>\n",
       "</table>\n",
       "<p>3 rows × 61 columns</p>\n",
       "</div>"
      ],
      "text/plain": [
       "   ID  shop_id  item_id  date_block_num  cat_cnt_lag_1  cat_mix_cnt_lag_1  \\\n",
       "0   0        5     5037            34.0       0.067691           0.031578   \n",
       "1   1        5     5320             0.0       0.000000           0.000000   \n",
       "2   2        5     5233            34.0       0.067691           0.076374   \n",
       "\n",
       "   item_cnt_lag_1  shop_cnt_lag_1  shop_item_cnt_lag_1  sys_cnt_lag_1  \\\n",
       "0        0.003435        0.069119                 0.00        0.05615   \n",
       "1        0.000000        0.000000                 0.00        0.00000   \n",
       "2        0.005771        0.069119                 0.05        0.05615   \n",
       "\n",
       "        ...         cat_ma2   cat_ma3  cat_mix_ma1  cat_mix_ma2  cat_mix_ma3  \\\n",
       "0       ...        0.108471  0.104594     0.043338     0.047699     0.051516   \n",
       "1       ...        0.000000  0.000000     0.000000     0.000000     0.000000   \n",
       "2       ...        0.108471  0.104594     0.118085     0.122788     0.114342   \n",
       "\n",
       "    sys_ma1   sys_ma2   sys_ma3  shop_item_cnt  item_cnt_month  \n",
       "0  0.083794  0.089573  0.086735            0.0        0.486484  \n",
       "1  0.000000  0.000000  0.000000            0.0        0.000000  \n",
       "2  0.083794  0.089573  0.086735            0.0        0.873224  \n",
       "\n",
       "[3 rows x 61 columns]"
      ]
     },
     "execution_count": 32,
     "metadata": {},
     "output_type": "execute_result"
    }
   ],
   "source": [
    "test2 = pd.merge(test,monthly_sales_all,on=['shop_id','item_id'],how='left').fillna(0)\n",
    "print(test2.shape)\n",
    "test2[:3]"
   ]
  },
  {
   "cell_type": "code",
   "execution_count": 33,
   "metadata": {},
   "outputs": [],
   "source": [
    "test2[['ID','item_cnt_month']].to_csv(r'../output/23_1023_lgb_15m_clip_y.csv',index=False)"
   ]
  },
  {
   "cell_type": "code",
   "execution_count": null,
   "metadata": {},
   "outputs": [],
   "source": []
  },
  {
   "cell_type": "code",
   "execution_count": null,
   "metadata": {},
   "outputs": [],
   "source": []
  },
  {
   "cell_type": "code",
   "execution_count": null,
   "metadata": {},
   "outputs": [],
   "source": []
  }
 ],
 "metadata": {
  "kernelspec": {
   "display_name": "Python 3",
   "language": "python",
   "name": "python3"
  },
  "language_info": {
   "codemirror_mode": {
    "name": "ipython",
    "version": 3
   },
   "file_extension": ".py",
   "mimetype": "text/x-python",
   "name": "python",
   "nbconvert_exporter": "python",
   "pygments_lexer": "ipython3",
   "version": "3.7.0"
  }
 },
 "nbformat": 4,
 "nbformat_minor": 2
}
